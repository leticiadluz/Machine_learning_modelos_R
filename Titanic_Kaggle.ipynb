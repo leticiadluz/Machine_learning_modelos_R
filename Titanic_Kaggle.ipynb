{
 "cells": [
  {
   "cell_type": "markdown",
   "id": "dfae50aa",
   "metadata": {},
   "source": [
    "### Para este exemplo, usaremos o dataset Titanic do Kaggle. Iremos prever uma classificação - sobreviventes e não sobreviventes"
   ]
  },
  {
   "cell_type": "code",
   "execution_count": 1,
   "id": "ab1ddb33",
   "metadata": {},
   "outputs": [],
   "source": [
    "#Os dados já são divididos em dados de treino e teste\n",
    "treino <- read.csv('datasets/titanic-train.csv')"
   ]
  },
  {
   "cell_type": "code",
   "execution_count": 2,
   "id": "26705ecb",
   "metadata": {},
   "outputs": [
    {
     "data": {
      "text/html": [
       "<table class=\"dataframe\">\n",
       "<caption>A data.frame: 6 × 12</caption>\n",
       "<thead>\n",
       "\t<tr><th></th><th scope=col>PassengerId</th><th scope=col>Survived</th><th scope=col>Pclass</th><th scope=col>Name</th><th scope=col>Sex</th><th scope=col>Age</th><th scope=col>SibSp</th><th scope=col>Parch</th><th scope=col>Ticket</th><th scope=col>Fare</th><th scope=col>Cabin</th><th scope=col>Embarked</th></tr>\n",
       "\t<tr><th></th><th scope=col>&lt;int&gt;</th><th scope=col>&lt;int&gt;</th><th scope=col>&lt;int&gt;</th><th scope=col>&lt;chr&gt;</th><th scope=col>&lt;chr&gt;</th><th scope=col>&lt;dbl&gt;</th><th scope=col>&lt;int&gt;</th><th scope=col>&lt;int&gt;</th><th scope=col>&lt;chr&gt;</th><th scope=col>&lt;dbl&gt;</th><th scope=col>&lt;chr&gt;</th><th scope=col>&lt;chr&gt;</th></tr>\n",
       "</thead>\n",
       "<tbody>\n",
       "\t<tr><th scope=row>1</th><td>1</td><td>0</td><td>3</td><td>Braund, Mr. Owen Harris                            </td><td>male  </td><td>22</td><td>1</td><td>0</td><td>A/5 21171       </td><td> 7.2500</td><td>    </td><td>S</td></tr>\n",
       "\t<tr><th scope=row>2</th><td>2</td><td>1</td><td>1</td><td>Cumings, Mrs. John Bradley (Florence Briggs Thayer)</td><td>female</td><td>38</td><td>1</td><td>0</td><td>PC 17599        </td><td>71.2833</td><td>C85 </td><td>C</td></tr>\n",
       "\t<tr><th scope=row>3</th><td>3</td><td>1</td><td>3</td><td>Heikkinen, Miss. Laina                             </td><td>female</td><td>26</td><td>0</td><td>0</td><td>STON/O2. 3101282</td><td> 7.9250</td><td>    </td><td>S</td></tr>\n",
       "\t<tr><th scope=row>4</th><td>4</td><td>1</td><td>1</td><td>Futrelle, Mrs. Jacques Heath (Lily May Peel)       </td><td>female</td><td>35</td><td>1</td><td>0</td><td>113803          </td><td>53.1000</td><td>C123</td><td>S</td></tr>\n",
       "\t<tr><th scope=row>5</th><td>5</td><td>0</td><td>3</td><td>Allen, Mr. William Henry                           </td><td>male  </td><td>35</td><td>0</td><td>0</td><td>373450          </td><td> 8.0500</td><td>    </td><td>S</td></tr>\n",
       "\t<tr><th scope=row>6</th><td>6</td><td>0</td><td>3</td><td>Moran, Mr. James                                   </td><td>male  </td><td>NA</td><td>0</td><td>0</td><td>330877          </td><td> 8.4583</td><td>    </td><td>Q</td></tr>\n",
       "</tbody>\n",
       "</table>\n"
      ],
      "text/latex": [
       "A data.frame: 6 × 12\n",
       "\\begin{tabular}{r|llllllllllll}\n",
       "  & PassengerId & Survived & Pclass & Name & Sex & Age & SibSp & Parch & Ticket & Fare & Cabin & Embarked\\\\\n",
       "  & <int> & <int> & <int> & <chr> & <chr> & <dbl> & <int> & <int> & <chr> & <dbl> & <chr> & <chr>\\\\\n",
       "\\hline\n",
       "\t1 & 1 & 0 & 3 & Braund, Mr. Owen Harris                             & male   & 22 & 1 & 0 & A/5 21171        &  7.2500 &      & S\\\\\n",
       "\t2 & 2 & 1 & 1 & Cumings, Mrs. John Bradley (Florence Briggs Thayer) & female & 38 & 1 & 0 & PC 17599         & 71.2833 & C85  & C\\\\\n",
       "\t3 & 3 & 1 & 3 & Heikkinen, Miss. Laina                              & female & 26 & 0 & 0 & STON/O2. 3101282 &  7.9250 &      & S\\\\\n",
       "\t4 & 4 & 1 & 1 & Futrelle, Mrs. Jacques Heath (Lily May Peel)        & female & 35 & 1 & 0 & 113803           & 53.1000 & C123 & S\\\\\n",
       "\t5 & 5 & 0 & 3 & Allen, Mr. William Henry                            & male   & 35 & 0 & 0 & 373450           &  8.0500 &      & S\\\\\n",
       "\t6 & 6 & 0 & 3 & Moran, Mr. James                                    & male   & NA & 0 & 0 & 330877           &  8.4583 &      & Q\\\\\n",
       "\\end{tabular}\n"
      ],
      "text/markdown": [
       "\n",
       "A data.frame: 6 × 12\n",
       "\n",
       "| <!--/--> | PassengerId &lt;int&gt; | Survived &lt;int&gt; | Pclass &lt;int&gt; | Name &lt;chr&gt; | Sex &lt;chr&gt; | Age &lt;dbl&gt; | SibSp &lt;int&gt; | Parch &lt;int&gt; | Ticket &lt;chr&gt; | Fare &lt;dbl&gt; | Cabin &lt;chr&gt; | Embarked &lt;chr&gt; |\n",
       "|---|---|---|---|---|---|---|---|---|---|---|---|---|\n",
       "| 1 | 1 | 0 | 3 | Braund, Mr. Owen Harris                             | male   | 22 | 1 | 0 | A/5 21171        |  7.2500 | <!----> | S |\n",
       "| 2 | 2 | 1 | 1 | Cumings, Mrs. John Bradley (Florence Briggs Thayer) | female | 38 | 1 | 0 | PC 17599         | 71.2833 | C85  | C |\n",
       "| 3 | 3 | 1 | 3 | Heikkinen, Miss. Laina                              | female | 26 | 0 | 0 | STON/O2. 3101282 |  7.9250 | <!----> | S |\n",
       "| 4 | 4 | 1 | 1 | Futrelle, Mrs. Jacques Heath (Lily May Peel)        | female | 35 | 1 | 0 | 113803           | 53.1000 | C123 | S |\n",
       "| 5 | 5 | 0 | 3 | Allen, Mr. William Henry                            | male   | 35 | 0 | 0 | 373450           |  8.0500 | <!----> | S |\n",
       "| 6 | 6 | 0 | 3 | Moran, Mr. James                                    | male   | NA | 0 | 0 | 330877           |  8.4583 | <!----> | Q |\n",
       "\n"
      ],
      "text/plain": [
       "  PassengerId Survived Pclass\n",
       "1 1           0        3     \n",
       "2 2           1        1     \n",
       "3 3           1        3     \n",
       "4 4           1        1     \n",
       "5 5           0        3     \n",
       "6 6           0        3     \n",
       "  Name                                                Sex    Age SibSp Parch\n",
       "1 Braund, Mr. Owen Harris                             male   22  1     0    \n",
       "2 Cumings, Mrs. John Bradley (Florence Briggs Thayer) female 38  1     0    \n",
       "3 Heikkinen, Miss. Laina                              female 26  0     0    \n",
       "4 Futrelle, Mrs. Jacques Heath (Lily May Peel)        female 35  1     0    \n",
       "5 Allen, Mr. William Henry                            male   35  0     0    \n",
       "6 Moran, Mr. James                                    male   NA  0     0    \n",
       "  Ticket           Fare    Cabin Embarked\n",
       "1 A/5 21171         7.2500       S       \n",
       "2 PC 17599         71.2833 C85   C       \n",
       "3 STON/O2. 3101282  7.9250       S       \n",
       "4 113803           53.1000 C123  S       \n",
       "5 373450            8.0500       S       \n",
       "6 330877            8.4583       Q       "
      ]
     },
     "metadata": {},
     "output_type": "display_data"
    },
    {
     "data": {
      "text/html": [
       "<style>\n",
       ".list-inline {list-style: none; margin:0; padding: 0}\n",
       ".list-inline>li {display: inline-block}\n",
       ".list-inline>li:not(:last-child)::after {content: \"\\00b7\"; padding: 0 .5ex}\n",
       "</style>\n",
       "<ol class=list-inline><li>891</li><li>12</li></ol>\n"
      ],
      "text/latex": [
       "\\begin{enumerate*}\n",
       "\\item 891\n",
       "\\item 12\n",
       "\\end{enumerate*}\n"
      ],
      "text/markdown": [
       "1. 891\n",
       "2. 12\n",
       "\n",
       "\n"
      ],
      "text/plain": [
       "[1] 891  12"
      ]
     },
     "metadata": {},
     "output_type": "display_data"
    }
   ],
   "source": [
    "head(treino)\n",
    "dim(treino)"
   ]
  },
  {
   "cell_type": "markdown",
   "id": "066807c5",
   "metadata": {},
   "source": [
    "### Sobre as variáveis\n",
    "- PassengerId: Um identificador único atribuído a cada passageiro.\n",
    "- Survived: Indica se o passageiro sobreviveu ou não. Possui valores binários, como 0 para \"não sobreviveu\" e 1 para \"sobreviveu\".\n",
    "- Pclass: Classe do bilhete do passageiro. Pode ter valores como 1, 2 ou 3, indicando a classe do bilhete (primeira, segunda ou terceira classe).\n",
    "- Name: O nome do passageiro.\n",
    "- Sex: O sexo do passageiro.\n",
    "- Age: A idade do passageiro.\n",
    "- SibSp: Número de irmãos/cônjuges a bordo do Titanic.\n",
    "- Parch: Número de pais/filhos a bordo do Titanic.\n",
    "- Ticket: Número do bilhete do passageiro.\n",
    "- Fare: A tarifa paga pelo passageiro.\n",
    "- Cabin: Número da cabine do passageiro. \n",
    "- Embarked: Porto de embarque do passageiro. Pode ter valores como \"C\" (Cherbourg), \"Q\" (Queenstown) ou \"S\" (Southampton)."
   ]
  },
  {
   "cell_type": "code",
   "execution_count": 3,
   "id": "d935cfcd",
   "metadata": {},
   "outputs": [
    {
     "name": "stdout",
     "output_type": "stream",
     "text": [
      "'data.frame':\t891 obs. of  12 variables:\n",
      " $ PassengerId: int  1 2 3 4 5 6 7 8 9 10 ...\n",
      " $ Survived   : int  0 1 1 1 0 0 0 0 1 1 ...\n",
      " $ Pclass     : int  3 1 3 1 3 3 1 3 3 2 ...\n",
      " $ Name       : chr  \"Braund, Mr. Owen Harris\" \"Cumings, Mrs. John Bradley (Florence Briggs Thayer)\" \"Heikkinen, Miss. Laina\" \"Futrelle, Mrs. Jacques Heath (Lily May Peel)\" ...\n",
      " $ Sex        : chr  \"male\" \"female\" \"female\" \"female\" ...\n",
      " $ Age        : num  22 38 26 35 35 NA 54 2 27 14 ...\n",
      " $ SibSp      : int  1 1 0 1 0 0 0 3 0 1 ...\n",
      " $ Parch      : int  0 0 0 0 0 0 0 1 2 0 ...\n",
      " $ Ticket     : chr  \"A/5 21171\" \"PC 17599\" \"STON/O2. 3101282\" \"113803\" ...\n",
      " $ Fare       : num  7.25 71.28 7.92 53.1 8.05 ...\n",
      " $ Cabin      : chr  \"\" \"C85\" \"\" \"C123\" ...\n",
      " $ Embarked   : chr  \"S\" \"C\" \"S\" \"S\" ...\n"
     ]
    }
   ],
   "source": [
    "str(treino)"
   ]
  },
  {
   "cell_type": "code",
   "execution_count": 4,
   "id": "7a4e3542",
   "metadata": {},
   "outputs": [
    {
     "data": {
      "text/html": [
       "<table class=\"dataframe\">\n",
       "<caption>A data.frame: 12 × 1</caption>\n",
       "<thead>\n",
       "\t<tr><th></th><th scope=col>colSums.is.na.treino..</th></tr>\n",
       "\t<tr><th></th><th scope=col>&lt;dbl&gt;</th></tr>\n",
       "</thead>\n",
       "<tbody>\n",
       "\t<tr><th scope=row>PassengerId</th><td>  0</td></tr>\n",
       "\t<tr><th scope=row>Survived</th><td>  0</td></tr>\n",
       "\t<tr><th scope=row>Pclass</th><td>  0</td></tr>\n",
       "\t<tr><th scope=row>Name</th><td>  0</td></tr>\n",
       "\t<tr><th scope=row>Sex</th><td>  0</td></tr>\n",
       "\t<tr><th scope=row>Age</th><td>177</td></tr>\n",
       "\t<tr><th scope=row>SibSp</th><td>  0</td></tr>\n",
       "\t<tr><th scope=row>Parch</th><td>  0</td></tr>\n",
       "\t<tr><th scope=row>Ticket</th><td>  0</td></tr>\n",
       "\t<tr><th scope=row>Fare</th><td>  0</td></tr>\n",
       "\t<tr><th scope=row>Cabin</th><td>  0</td></tr>\n",
       "\t<tr><th scope=row>Embarked</th><td>  0</td></tr>\n",
       "</tbody>\n",
       "</table>\n"
      ],
      "text/latex": [
       "A data.frame: 12 × 1\n",
       "\\begin{tabular}{r|l}\n",
       "  & colSums.is.na.treino..\\\\\n",
       "  & <dbl>\\\\\n",
       "\\hline\n",
       "\tPassengerId &   0\\\\\n",
       "\tSurvived &   0\\\\\n",
       "\tPclass &   0\\\\\n",
       "\tName &   0\\\\\n",
       "\tSex &   0\\\\\n",
       "\tAge & 177\\\\\n",
       "\tSibSp &   0\\\\\n",
       "\tParch &   0\\\\\n",
       "\tTicket &   0\\\\\n",
       "\tFare &   0\\\\\n",
       "\tCabin &   0\\\\\n",
       "\tEmbarked &   0\\\\\n",
       "\\end{tabular}\n"
      ],
      "text/markdown": [
       "\n",
       "A data.frame: 12 × 1\n",
       "\n",
       "| <!--/--> | colSums.is.na.treino.. &lt;dbl&gt; |\n",
       "|---|---|\n",
       "| PassengerId |   0 |\n",
       "| Survived |   0 |\n",
       "| Pclass |   0 |\n",
       "| Name |   0 |\n",
       "| Sex |   0 |\n",
       "| Age | 177 |\n",
       "| SibSp |   0 |\n",
       "| Parch |   0 |\n",
       "| Ticket |   0 |\n",
       "| Fare |   0 |\n",
       "| Cabin |   0 |\n",
       "| Embarked |   0 |\n",
       "\n"
      ],
      "text/plain": [
       "            colSums.is.na.treino..\n",
       "PassengerId   0                   \n",
       "Survived      0                   \n",
       "Pclass        0                   \n",
       "Name          0                   \n",
       "Sex           0                   \n",
       "Age         177                   \n",
       "SibSp         0                   \n",
       "Parch         0                   \n",
       "Ticket        0                   \n",
       "Fare          0                   \n",
       "Cabin         0                   \n",
       "Embarked      0                   "
      ]
     },
     "metadata": {},
     "output_type": "display_data"
    }
   ],
   "source": [
    "data.frame(colSums(is.na(treino)))"
   ]
  },
  {
   "cell_type": "code",
   "execution_count": 5,
   "id": "73edd53a",
   "metadata": {},
   "outputs": [
    {
     "data": {
      "text/plain": [
       "   Min. 1st Qu.  Median    Mean 3rd Qu.    Max.    NA's \n",
       "   0.42   20.12   28.00   29.70   38.00   80.00     177 "
      ]
     },
     "metadata": {},
     "output_type": "display_data"
    }
   ],
   "source": [
    "summary(treino$Age)"
   ]
  },
  {
   "cell_type": "code",
   "execution_count": 6,
   "id": "f1571ba8",
   "metadata": {},
   "outputs": [
    {
     "data": {
      "image/png": "[encoded data removed]",
      "text/plain": [
       "Plot with title \"Distribuição da Idade por Classe\""
      ]
     },
     "metadata": {
      "image/png": {
       "height": 420,
       "width": 420
      }
     },
     "output_type": "display_data"
    }
   ],
   "source": [
    "# Criar um boxplot para verificar a idade por classe\n",
    "boxplot(Age ~ Pclass, data = treino, \n",
    "        main = \"Distribuição da Idade por Classe\",\n",
    "        xlab = \"Classe\",\n",
    "        ylab = \"Idade\")"
   ]
  },
  {
   "cell_type": "code",
   "execution_count": 7,
   "id": "d968b4e6",
   "metadata": {},
   "outputs": [
    {
     "name": "stderr",
     "output_type": "stream",
     "text": [
      "Warning message:\n",
      "\"package 'dplyr' was built under R version 4.2.3\"\n",
      "\n",
      "Attaching package: 'dplyr'\n",
      "\n",
      "\n",
      "The following objects are masked from 'package:stats':\n",
      "\n",
      "    filter, lag\n",
      "\n",
      "\n",
      "The following objects are masked from 'package:base':\n",
      "\n",
      "    intersect, setdiff, setequal, union\n",
      "\n",
      "\n"
     ]
    }
   ],
   "source": [
    "library(dplyr)"
   ]
  },
  {
   "cell_type": "code",
   "execution_count": 8,
   "id": "13a192ae",
   "metadata": {},
   "outputs": [
    {
     "data": {
      "text/html": [
       "<table class=\"dataframe\">\n",
       "<caption>A tibble: 3 × 3</caption>\n",
       "<thead>\n",
       "\t<tr><th scope=col>Pclass</th><th scope=col>media_idade</th><th scope=col>mediana_idade</th></tr>\n",
       "\t<tr><th scope=col>&lt;int&gt;</th><th scope=col>&lt;dbl&gt;</th><th scope=col>&lt;dbl&gt;</th></tr>\n",
       "</thead>\n",
       "<tbody>\n",
       "\t<tr><td>1</td><td>38.23344</td><td>37</td></tr>\n",
       "\t<tr><td>2</td><td>29.87763</td><td>29</td></tr>\n",
       "\t<tr><td>3</td><td>25.14062</td><td>24</td></tr>\n",
       "</tbody>\n",
       "</table>\n"
      ],
      "text/latex": [
       "A tibble: 3 × 3\n",
       "\\begin{tabular}{lll}\n",
       " Pclass & media\\_idade & mediana\\_idade\\\\\n",
       " <int> & <dbl> & <dbl>\\\\\n",
       "\\hline\n",
       "\t 1 & 38.23344 & 37\\\\\n",
       "\t 2 & 29.87763 & 29\\\\\n",
       "\t 3 & 25.14062 & 24\\\\\n",
       "\\end{tabular}\n"
      ],
      "text/markdown": [
       "\n",
       "A tibble: 3 × 3\n",
       "\n",
       "| Pclass &lt;int&gt; | media_idade &lt;dbl&gt; | mediana_idade &lt;dbl&gt; |\n",
       "|---|---|---|\n",
       "| 1 | 38.23344 | 37 |\n",
       "| 2 | 29.87763 | 29 |\n",
       "| 3 | 25.14062 | 24 |\n",
       "\n"
      ],
      "text/plain": [
       "  Pclass media_idade mediana_idade\n",
       "1 1      38.23344    37           \n",
       "2 2      29.87763    29           \n",
       "3 3      25.14062    24           "
      ]
     },
     "metadata": {},
     "output_type": "display_data"
    }
   ],
   "source": [
    "# Calculando a média e a mediana da idade por classe\n",
    "resultados <- treino %>%\n",
    "  group_by(Pclass) %>%\n",
    "  summarise(\n",
    "    media_idade = mean(Age, na.rm = TRUE),\n",
    "    mediana_idade = median(Age, na.rm = TRUE)\n",
    "  )\n",
    "(resultados)"
   ]
  },
  {
   "cell_type": "code",
   "execution_count": 9,
   "id": "25ebf648",
   "metadata": {},
   "outputs": [
    {
     "name": "stderr",
     "output_type": "stream",
     "text": [
      "Warning message:\n",
      "\"package 'ggplot2' was built under R version 4.2.3\"\n"
     ]
    }
   ],
   "source": [
    "library(ggplot2)"
   ]
  },
  {
   "cell_type": "code",
   "execution_count": 10,
   "id": "c151db07",
   "metadata": {},
   "outputs": [
    {
     "name": "stderr",
     "output_type": "stream",
     "text": [
      "Warning message:\n",
      "\"\u001b[1m\u001b[22mRemoved 177 rows containing non-finite values (`stat_boxplot()`).\"\n"
     ]
    },
    {
     "data": {
      "image/png": "[encoded data removed]",
      "text/plain": [
       "plot without title"
      ]
     },
     "metadata": {
      "image/png": {
       "height": 420,
       "width": 420
      }
     },
     "output_type": "display_data"
    }
   ],
   "source": [
    "#Gráfico com uma estética melhor\n",
    "pl <- ggplot(treino, aes(Pclass,Age)) + geom_boxplot(aes(group = Pclass, fill = factor(Pclass), alpha = 0.4)) \n",
    "pl + scale_y_continuous(breaks = seq(min(0), max(80), by = 5))"
   ]
  },
  {
   "cell_type": "code",
   "execution_count": 11,
   "id": "7d7e368f",
   "metadata": {},
   "outputs": [],
   "source": [
    "# Vimos que os passageiros mais ricos, nas classes mais altas, tendem a ser mais velhos. \n",
    "#Vamos mapear os valores ausentes por classe e substitui-los pela média da idade de cada classe\n",
    "\n",
    "Corrigir_idade <- function(x) {\n",
    "  treino$Age <- ifelse(is.na(treino$Age), \n",
    "                       ifelse(treino$Pclass == 1, 38,\n",
    "                              ifelse(treino$Pclass == 2, 30, 24)), \n",
    "                       treino$Age)\n",
    "  return(treino)\n",
    "}"
   ]
  },
  {
   "cell_type": "code",
   "execution_count": 12,
   "id": "283d044c",
   "metadata": {},
   "outputs": [],
   "source": [
    "treino_corrigido <- Corrigir_idade(treino)"
   ]
  },
  {
   "cell_type": "code",
   "execution_count": 13,
   "id": "94ac445a",
   "metadata": {},
   "outputs": [
    {
     "data": {
      "text/html": [
       "<style>\n",
       ".dl-inline {width: auto; margin:0; padding: 0}\n",
       ".dl-inline>dt, .dl-inline>dd {float: none; width: auto; display: inline-block}\n",
       ".dl-inline>dt::after {content: \":\\0020\"; padding-right: .5ex}\n",
       ".dl-inline>dt:not(:first-of-type) {padding-left: .5ex}\n",
       "</style><dl class=dl-inline><dt>PassengerId</dt><dd>0</dd><dt>Survived</dt><dd>0</dd><dt>Pclass</dt><dd>0</dd><dt>Name</dt><dd>0</dd><dt>Sex</dt><dd>0</dd><dt>Age</dt><dd>0</dd><dt>SibSp</dt><dd>0</dd><dt>Parch</dt><dd>0</dd><dt>Ticket</dt><dd>0</dd><dt>Fare</dt><dd>0</dd><dt>Cabin</dt><dd>0</dd><dt>Embarked</dt><dd>0</dd></dl>\n"
      ],
      "text/latex": [
       "\\begin{description*}\n",
       "\\item[PassengerId] 0\n",
       "\\item[Survived] 0\n",
       "\\item[Pclass] 0\n",
       "\\item[Name] 0\n",
       "\\item[Sex] 0\n",
       "\\item[Age] 0\n",
       "\\item[SibSp] 0\n",
       "\\item[Parch] 0\n",
       "\\item[Ticket] 0\n",
       "\\item[Fare] 0\n",
       "\\item[Cabin] 0\n",
       "\\item[Embarked] 0\n",
       "\\end{description*}\n"
      ],
      "text/markdown": [
       "PassengerId\n",
       ":   0Survived\n",
       ":   0Pclass\n",
       ":   0Name\n",
       ":   0Sex\n",
       ":   0Age\n",
       ":   0SibSp\n",
       ":   0Parch\n",
       ":   0Ticket\n",
       ":   0Fare\n",
       ":   0Cabin\n",
       ":   0Embarked\n",
       ":   0\n",
       "\n"
      ],
      "text/plain": [
       "PassengerId    Survived      Pclass        Name         Sex         Age \n",
       "          0           0           0           0           0           0 \n",
       "      SibSp       Parch      Ticket        Fare       Cabin    Embarked \n",
       "          0           0           0           0           0           0 "
      ]
     },
     "metadata": {},
     "output_type": "display_data"
    }
   ],
   "source": [
    "colSums(is.na(treino_corrigido))"
   ]
  },
  {
   "cell_type": "code",
   "execution_count": 14,
   "id": "c2747be5",
   "metadata": {},
   "outputs": [
    {
     "data": {
      "text/html": [
       "<table class=\"dataframe\">\n",
       "<caption>A data.frame: 6 × 12</caption>\n",
       "<thead>\n",
       "\t<tr><th></th><th scope=col>PassengerId</th><th scope=col>Survived</th><th scope=col>Pclass</th><th scope=col>Name</th><th scope=col>Sex</th><th scope=col>Age</th><th scope=col>SibSp</th><th scope=col>Parch</th><th scope=col>Ticket</th><th scope=col>Fare</th><th scope=col>Cabin</th><th scope=col>Embarked</th></tr>\n",
       "\t<tr><th></th><th scope=col>&lt;int&gt;</th><th scope=col>&lt;int&gt;</th><th scope=col>&lt;int&gt;</th><th scope=col>&lt;chr&gt;</th><th scope=col>&lt;chr&gt;</th><th scope=col>&lt;dbl&gt;</th><th scope=col>&lt;int&gt;</th><th scope=col>&lt;int&gt;</th><th scope=col>&lt;chr&gt;</th><th scope=col>&lt;dbl&gt;</th><th scope=col>&lt;chr&gt;</th><th scope=col>&lt;chr&gt;</th></tr>\n",
       "</thead>\n",
       "<tbody>\n",
       "\t<tr><th scope=row>1</th><td>1</td><td>0</td><td>3</td><td>Braund, Mr. Owen Harris                            </td><td>male  </td><td>22</td><td>1</td><td>0</td><td>A/5 21171       </td><td> 7.2500</td><td>    </td><td>S</td></tr>\n",
       "\t<tr><th scope=row>2</th><td>2</td><td>1</td><td>1</td><td>Cumings, Mrs. John Bradley (Florence Briggs Thayer)</td><td>female</td><td>38</td><td>1</td><td>0</td><td>PC 17599        </td><td>71.2833</td><td>C85 </td><td>C</td></tr>\n",
       "\t<tr><th scope=row>3</th><td>3</td><td>1</td><td>3</td><td>Heikkinen, Miss. Laina                             </td><td>female</td><td>26</td><td>0</td><td>0</td><td>STON/O2. 3101282</td><td> 7.9250</td><td>    </td><td>S</td></tr>\n",
       "\t<tr><th scope=row>4</th><td>4</td><td>1</td><td>1</td><td>Futrelle, Mrs. Jacques Heath (Lily May Peel)       </td><td>female</td><td>35</td><td>1</td><td>0</td><td>113803          </td><td>53.1000</td><td>C123</td><td>S</td></tr>\n",
       "\t<tr><th scope=row>5</th><td>5</td><td>0</td><td>3</td><td>Allen, Mr. William Henry                           </td><td>male  </td><td>35</td><td>0</td><td>0</td><td>373450          </td><td> 8.0500</td><td>    </td><td>S</td></tr>\n",
       "\t<tr><th scope=row>6</th><td>6</td><td>0</td><td>3</td><td>Moran, Mr. James                                   </td><td>male  </td><td>24</td><td>0</td><td>0</td><td>330877          </td><td> 8.4583</td><td>    </td><td>Q</td></tr>\n",
       "</tbody>\n",
       "</table>\n"
      ],
      "text/latex": [
       "A data.frame: 6 × 12\n",
       "\\begin{tabular}{r|llllllllllll}\n",
       "  & PassengerId & Survived & Pclass & Name & Sex & Age & SibSp & Parch & Ticket & Fare & Cabin & Embarked\\\\\n",
       "  & <int> & <int> & <int> & <chr> & <chr> & <dbl> & <int> & <int> & <chr> & <dbl> & <chr> & <chr>\\\\\n",
       "\\hline\n",
       "\t1 & 1 & 0 & 3 & Braund, Mr. Owen Harris                             & male   & 22 & 1 & 0 & A/5 21171        &  7.2500 &      & S\\\\\n",
       "\t2 & 2 & 1 & 1 & Cumings, Mrs. John Bradley (Florence Briggs Thayer) & female & 38 & 1 & 0 & PC 17599         & 71.2833 & C85  & C\\\\\n",
       "\t3 & 3 & 1 & 3 & Heikkinen, Miss. Laina                              & female & 26 & 0 & 0 & STON/O2. 3101282 &  7.9250 &      & S\\\\\n",
       "\t4 & 4 & 1 & 1 & Futrelle, Mrs. Jacques Heath (Lily May Peel)        & female & 35 & 1 & 0 & 113803           & 53.1000 & C123 & S\\\\\n",
       "\t5 & 5 & 0 & 3 & Allen, Mr. William Henry                            & male   & 35 & 0 & 0 & 373450           &  8.0500 &      & S\\\\\n",
       "\t6 & 6 & 0 & 3 & Moran, Mr. James                                    & male   & 24 & 0 & 0 & 330877           &  8.4583 &      & Q\\\\\n",
       "\\end{tabular}\n"
      ],
      "text/markdown": [
       "\n",
       "A data.frame: 6 × 12\n",
       "\n",
       "| <!--/--> | PassengerId &lt;int&gt; | Survived &lt;int&gt; | Pclass &lt;int&gt; | Name &lt;chr&gt; | Sex &lt;chr&gt; | Age &lt;dbl&gt; | SibSp &lt;int&gt; | Parch &lt;int&gt; | Ticket &lt;chr&gt; | Fare &lt;dbl&gt; | Cabin &lt;chr&gt; | Embarked &lt;chr&gt; |\n",
       "|---|---|---|---|---|---|---|---|---|---|---|---|---|\n",
       "| 1 | 1 | 0 | 3 | Braund, Mr. Owen Harris                             | male   | 22 | 1 | 0 | A/5 21171        |  7.2500 | <!----> | S |\n",
       "| 2 | 2 | 1 | 1 | Cumings, Mrs. John Bradley (Florence Briggs Thayer) | female | 38 | 1 | 0 | PC 17599         | 71.2833 | C85  | C |\n",
       "| 3 | 3 | 1 | 3 | Heikkinen, Miss. Laina                              | female | 26 | 0 | 0 | STON/O2. 3101282 |  7.9250 | <!----> | S |\n",
       "| 4 | 4 | 1 | 1 | Futrelle, Mrs. Jacques Heath (Lily May Peel)        | female | 35 | 1 | 0 | 113803           | 53.1000 | C123 | S |\n",
       "| 5 | 5 | 0 | 3 | Allen, Mr. William Henry                            | male   | 35 | 0 | 0 | 373450           |  8.0500 | <!----> | S |\n",
       "| 6 | 6 | 0 | 3 | Moran, Mr. James                                    | male   | 24 | 0 | 0 | 330877           |  8.4583 | <!----> | Q |\n",
       "\n"
      ],
      "text/plain": [
       "  PassengerId Survived Pclass\n",
       "1 1           0        3     \n",
       "2 2           1        1     \n",
       "3 3           1        3     \n",
       "4 4           1        1     \n",
       "5 5           0        3     \n",
       "6 6           0        3     \n",
       "  Name                                                Sex    Age SibSp Parch\n",
       "1 Braund, Mr. Owen Harris                             male   22  1     0    \n",
       "2 Cumings, Mrs. John Bradley (Florence Briggs Thayer) female 38  1     0    \n",
       "3 Heikkinen, Miss. Laina                              female 26  0     0    \n",
       "4 Futrelle, Mrs. Jacques Heath (Lily May Peel)        female 35  1     0    \n",
       "5 Allen, Mr. William Henry                            male   35  0     0    \n",
       "6 Moran, Mr. James                                    male   24  0     0    \n",
       "  Ticket           Fare    Cabin Embarked\n",
       "1 A/5 21171         7.2500       S       \n",
       "2 PC 17599         71.2833 C85   C       \n",
       "3 STON/O2. 3101282  7.9250       S       \n",
       "4 113803           53.1000 C123  S       \n",
       "5 373450            8.0500       S       \n",
       "6 330877            8.4583       Q       "
      ]
     },
     "metadata": {},
     "output_type": "display_data"
    },
    {
     "data": {
      "text/html": [
       "<style>\n",
       ".list-inline {list-style: none; margin:0; padding: 0}\n",
       ".list-inline>li {display: inline-block}\n",
       ".list-inline>li:not(:last-child)::after {content: \"\\00b7\"; padding: 0 .5ex}\n",
       "</style>\n",
       "<ol class=list-inline><li>891</li><li>12</li></ol>\n"
      ],
      "text/latex": [
       "\\begin{enumerate*}\n",
       "\\item 891\n",
       "\\item 12\n",
       "\\end{enumerate*}\n"
      ],
      "text/markdown": [
       "1. 891\n",
       "2. 12\n",
       "\n",
       "\n"
      ],
      "text/plain": [
       "[1] 891  12"
      ]
     },
     "metadata": {},
     "output_type": "display_data"
    }
   ],
   "source": [
    "head(treino_corrigido)\n",
    "dim(treino_corrigido)"
   ]
  },
  {
   "cell_type": "code",
   "execution_count": 15,
   "id": "6bd6528b",
   "metadata": {},
   "outputs": [],
   "source": [
    "#Numero de pessoas por classe\n",
    "Pessoas_classe <-data.frame(table(treino_corrigido$Pclass))\n",
    "colnames(Pessoas_classe ) <- c('Classe', 'Contagem_Classe')"
   ]
  },
  {
   "cell_type": "code",
   "execution_count": 16,
   "id": "e995e693",
   "metadata": {},
   "outputs": [
    {
     "data": {
      "text/html": [
       "<table class=\"dataframe\">\n",
       "<caption>A data.frame: 3 × 2</caption>\n",
       "<thead>\n",
       "\t<tr><th scope=col>Classe</th><th scope=col>Contagem_Classe</th></tr>\n",
       "\t<tr><th scope=col>&lt;fct&gt;</th><th scope=col>&lt;int&gt;</th></tr>\n",
       "</thead>\n",
       "<tbody>\n",
       "\t<tr><td>1</td><td>216</td></tr>\n",
       "\t<tr><td>2</td><td>184</td></tr>\n",
       "\t<tr><td>3</td><td>491</td></tr>\n",
       "</tbody>\n",
       "</table>\n"
      ],
      "text/latex": [
       "A data.frame: 3 × 2\n",
       "\\begin{tabular}{ll}\n",
       " Classe & Contagem\\_Classe\\\\\n",
       " <fct> & <int>\\\\\n",
       "\\hline\n",
       "\t 1 & 216\\\\\n",
       "\t 2 & 184\\\\\n",
       "\t 3 & 491\\\\\n",
       "\\end{tabular}\n"
      ],
      "text/markdown": [
       "\n",
       "A data.frame: 3 × 2\n",
       "\n",
       "| Classe &lt;fct&gt; | Contagem_Classe &lt;int&gt; |\n",
       "|---|---|\n",
       "| 1 | 216 |\n",
       "| 2 | 184 |\n",
       "| 3 | 491 |\n",
       "\n"
      ],
      "text/plain": [
       "  Classe Contagem_Classe\n",
       "1 1      216            \n",
       "2 2      184            \n",
       "3 3      491            "
      ]
     },
     "metadata": {},
     "output_type": "display_data"
    }
   ],
   "source": [
    "Pessoas_classe"
   ]
  },
  {
   "cell_type": "code",
   "execution_count": 17,
   "id": "06ce59d8",
   "metadata": {
    "scrolled": true
   },
   "outputs": [
    {
     "data": {
      "text/plain": [
       "\n",
       "  0   1 \n",
       "549 342 "
      ]
     },
     "metadata": {},
     "output_type": "display_data"
    }
   ],
   "source": [
    "#Numero de sobreviventes\n",
    "(table(treino_corrigido$Survived))"
   ]
  },
  {
   "cell_type": "code",
   "execution_count": 18,
   "id": "60021849",
   "metadata": {},
   "outputs": [
    {
     "data": {
      "text/html": [
       "<table class=\"dataframe\">\n",
       "<caption>A data.frame: 3 × 1</caption>\n",
       "<thead>\n",
       "\t<tr><th></th><th scope=col>tapply.treino_corrigido.Survived..treino_corrigido.Pclass..sum.</th></tr>\n",
       "\t<tr><th></th><th scope=col>&lt;int&gt;</th></tr>\n",
       "</thead>\n",
       "<tbody>\n",
       "\t<tr><th scope=row>1</th><td>136</td></tr>\n",
       "\t<tr><th scope=row>2</th><td> 87</td></tr>\n",
       "\t<tr><th scope=row>3</th><td>119</td></tr>\n",
       "</tbody>\n",
       "</table>\n"
      ],
      "text/latex": [
       "A data.frame: 3 × 1\n",
       "\\begin{tabular}{r|l}\n",
       "  & tapply.treino\\_corrigido.Survived..treino\\_corrigido.Pclass..sum.\\\\\n",
       "  & <int>\\\\\n",
       "\\hline\n",
       "\t1 & 136\\\\\n",
       "\t2 &  87\\\\\n",
       "\t3 & 119\\\\\n",
       "\\end{tabular}\n"
      ],
      "text/markdown": [
       "\n",
       "A data.frame: 3 × 1\n",
       "\n",
       "| <!--/--> | tapply.treino_corrigido.Survived..treino_corrigido.Pclass..sum. &lt;int&gt; |\n",
       "|---|---|\n",
       "| 1 | 136 |\n",
       "| 2 |  87 |\n",
       "| 3 | 119 |\n",
       "\n"
      ],
      "text/plain": [
       "  tapply.treino_corrigido.Survived..treino_corrigido.Pclass..sum.\n",
       "1 136                                                            \n",
       "2  87                                                            \n",
       "3 119                                                            "
      ]
     },
     "metadata": {},
     "output_type": "display_data"
    }
   ],
   "source": [
    "# Calculando o número de sobreviventes por classe\n",
    "sobreviventes_por_classe <- data.frame(tapply(treino_corrigido$Survived, treino_corrigido$Pclass, sum))\n",
    "sobreviventes_por_classe"
   ]
  },
  {
   "cell_type": "code",
   "execution_count": 19,
   "id": "f5408de6",
   "metadata": {},
   "outputs": [
    {
     "data": {
      "text/html": [
       "<table class=\"dataframe\">\n",
       "<caption>A data.frame: 3 × 2</caption>\n",
       "<thead>\n",
       "\t<tr><th></th><th scope=col>Contagem_Sobreviventes</th><th scope=col>Classe</th></tr>\n",
       "\t<tr><th></th><th scope=col>&lt;int&gt;</th><th scope=col>&lt;dbl&gt;</th></tr>\n",
       "</thead>\n",
       "<tbody>\n",
       "\t<tr><th scope=row>1</th><td>136</td><td>1</td></tr>\n",
       "\t<tr><th scope=row>2</th><td> 87</td><td>2</td></tr>\n",
       "\t<tr><th scope=row>3</th><td>119</td><td>3</td></tr>\n",
       "</tbody>\n",
       "</table>\n"
      ],
      "text/latex": [
       "A data.frame: 3 × 2\n",
       "\\begin{tabular}{r|ll}\n",
       "  & Contagem\\_Sobreviventes & Classe\\\\\n",
       "  & <int> & <dbl>\\\\\n",
       "\\hline\n",
       "\t1 & 136 & 1\\\\\n",
       "\t2 &  87 & 2\\\\\n",
       "\t3 & 119 & 3\\\\\n",
       "\\end{tabular}\n"
      ],
      "text/markdown": [
       "\n",
       "A data.frame: 3 × 2\n",
       "\n",
       "| <!--/--> | Contagem_Sobreviventes &lt;int&gt; | Classe &lt;dbl&gt; |\n",
       "|---|---|---|\n",
       "| 1 | 136 | 1 |\n",
       "| 2 |  87 | 2 |\n",
       "| 3 | 119 | 3 |\n",
       "\n"
      ],
      "text/plain": [
       "  Contagem_Sobreviventes Classe\n",
       "1 136                    1     \n",
       "2  87                    2     \n",
       "3 119                    3     "
      ]
     },
     "metadata": {},
     "output_type": "display_data"
    }
   ],
   "source": [
    "#Adicionando coluna para Classe 1,2,3\n",
    "sobreviventes_por_classe$Classe <- c(1,2,3)\n",
    "#Renomeando colunas\n",
    "colnames(sobreviventes_por_classe)[1] <- 'Contagem_Sobreviventes'\n",
    "sobreviventes_por_classe"
   ]
  },
  {
   "cell_type": "code",
   "execution_count": 20,
   "id": "fd2478ad",
   "metadata": {},
   "outputs": [
    {
     "data": {
      "text/html": [
       "<table class=\"dataframe\">\n",
       "<caption>A data.frame: 3 × 3</caption>\n",
       "<thead>\n",
       "\t<tr><th scope=col>Classe</th><th scope=col>Contagem_Classe</th><th scope=col>Contagem_Sobreviventes</th></tr>\n",
       "\t<tr><th scope=col>&lt;fct&gt;</th><th scope=col>&lt;int&gt;</th><th scope=col>&lt;int&gt;</th></tr>\n",
       "</thead>\n",
       "<tbody>\n",
       "\t<tr><td>1</td><td>216</td><td>136</td></tr>\n",
       "\t<tr><td>2</td><td>184</td><td> 87</td></tr>\n",
       "\t<tr><td>3</td><td>491</td><td>119</td></tr>\n",
       "</tbody>\n",
       "</table>\n"
      ],
      "text/latex": [
       "A data.frame: 3 × 3\n",
       "\\begin{tabular}{lll}\n",
       " Classe & Contagem\\_Classe & Contagem\\_Sobreviventes\\\\\n",
       " <fct> & <int> & <int>\\\\\n",
       "\\hline\n",
       "\t 1 & 216 & 136\\\\\n",
       "\t 2 & 184 &  87\\\\\n",
       "\t 3 & 491 & 119\\\\\n",
       "\\end{tabular}\n"
      ],
      "text/markdown": [
       "\n",
       "A data.frame: 3 × 3\n",
       "\n",
       "| Classe &lt;fct&gt; | Contagem_Classe &lt;int&gt; | Contagem_Sobreviventes &lt;int&gt; |\n",
       "|---|---|---|\n",
       "| 1 | 216 | 136 |\n",
       "| 2 | 184 |  87 |\n",
       "| 3 | 491 | 119 |\n",
       "\n"
      ],
      "text/plain": [
       "  Classe Contagem_Classe Contagem_Sobreviventes\n",
       "1 1      216             136                   \n",
       "2 2      184              87                   \n",
       "3 3      491             119                   "
      ]
     },
     "metadata": {},
     "output_type": "display_data"
    }
   ],
   "source": [
    "#Combinando os Df por classe \n",
    "sobreviventes <-merge(Pessoas_classe, sobreviventes_por_classe, by = 'Classe')\n",
    "sobreviventes"
   ]
  },
  {
   "cell_type": "code",
   "execution_count": 21,
   "id": "5fb207b1",
   "metadata": {},
   "outputs": [
    {
     "data": {
      "text/html": [
       "<table class=\"dataframe\">\n",
       "<caption>A data.frame: 3 × 3</caption>\n",
       "<thead>\n",
       "\t<tr><th scope=col>Classe</th><th scope=col>Contagem_Classe</th><th scope=col>Contagem_Sobreviventes</th></tr>\n",
       "\t<tr><th scope=col>&lt;chr&gt;</th><th scope=col>&lt;int&gt;</th><th scope=col>&lt;int&gt;</th></tr>\n",
       "</thead>\n",
       "<tbody>\n",
       "\t<tr><td>1</td><td>216</td><td>136</td></tr>\n",
       "\t<tr><td>2</td><td>184</td><td> 87</td></tr>\n",
       "\t<tr><td>3</td><td>491</td><td>119</td></tr>\n",
       "</tbody>\n",
       "</table>\n"
      ],
      "text/latex": [
       "A data.frame: 3 × 3\n",
       "\\begin{tabular}{lll}\n",
       " Classe & Contagem\\_Classe & Contagem\\_Sobreviventes\\\\\n",
       " <chr> & <int> & <int>\\\\\n",
       "\\hline\n",
       "\t 1 & 216 & 136\\\\\n",
       "\t 2 & 184 &  87\\\\\n",
       "\t 3 & 491 & 119\\\\\n",
       "\\end{tabular}\n"
      ],
      "text/markdown": [
       "\n",
       "A data.frame: 3 × 3\n",
       "\n",
       "| Classe &lt;chr&gt; | Contagem_Classe &lt;int&gt; | Contagem_Sobreviventes &lt;int&gt; |\n",
       "|---|---|---|\n",
       "| 1 | 216 | 136 |\n",
       "| 2 | 184 |  87 |\n",
       "| 3 | 491 | 119 |\n",
       "\n"
      ],
      "text/plain": [
       "  Classe Contagem_Classe Contagem_Sobreviventes\n",
       "1 1      216             136                   \n",
       "2 2      184              87                   \n",
       "3 3      491             119                   "
      ]
     },
     "metadata": {},
     "output_type": "display_data"
    }
   ],
   "source": [
    "#Alterando a primeira coluna para caracter para fazer atualizações\n",
    "sobreviventes$Classe <- as.character(sobreviventes$Classe)\n",
    "sobreviventes"
   ]
  },
  {
   "cell_type": "code",
   "execution_count": 22,
   "id": "e3eeee3c",
   "metadata": {
    "scrolled": true
   },
   "outputs": [
    {
     "data": {
      "text/html": [
       "<style>\n",
       ".list-inline {list-style: none; margin:0; padding: 0}\n",
       ".list-inline>li {display: inline-block}\n",
       ".list-inline>li:not(:last-child)::after {content: \"\\00b7\"; padding: 0 .5ex}\n",
       "</style>\n",
       "<ol class=list-inline><li>'Total_coluna'</li><li>'891'</li><li>'342'</li></ol>\n"
      ],
      "text/latex": [
       "\\begin{enumerate*}\n",
       "\\item 'Total\\_coluna'\n",
       "\\item '891'\n",
       "\\item '342'\n",
       "\\end{enumerate*}\n"
      ],
      "text/markdown": [
       "1. 'Total_coluna'\n",
       "2. '891'\n",
       "3. '342'\n",
       "\n",
       "\n"
      ],
      "text/plain": [
       "[1] \"Total_coluna\" \"891\"          \"342\"         "
      ]
     },
     "metadata": {},
     "output_type": "display_data"
    }
   ],
   "source": [
    "#Somando o número total de passageiros\n",
    "total_contagem_classe <- sum(sobreviventes$Contagem_Classe)\n",
    "total_contagem_sobreviventes <- sum(sobreviventes$Contagem_Sobreviventes)\n",
    "#Criando uma linha para ser adicionado ao final do DF\n",
    "nova_linha <- c('Total_coluna', total_contagem_classe, total_contagem_sobreviventes)\n",
    "nova_linha"
   ]
  },
  {
   "cell_type": "code",
   "execution_count": 23,
   "id": "34deaeb3",
   "metadata": {},
   "outputs": [],
   "source": [
    "#Combinando\n",
    "sobreviventes <- rbind(sobreviventes,nova_linha)"
   ]
  },
  {
   "cell_type": "code",
   "execution_count": 24,
   "id": "ed4ab5b5",
   "metadata": {},
   "outputs": [
    {
     "data": {
      "text/html": [
       "<table class=\"dataframe\">\n",
       "<caption>A data.frame: 4 × 3</caption>\n",
       "<thead>\n",
       "\t<tr><th scope=col>Classe</th><th scope=col>Contagem_Classe</th><th scope=col>Contagem_Sobreviventes</th></tr>\n",
       "\t<tr><th scope=col>&lt;chr&gt;</th><th scope=col>&lt;dbl&gt;</th><th scope=col>&lt;dbl&gt;</th></tr>\n",
       "</thead>\n",
       "<tbody>\n",
       "\t<tr><td>1           </td><td>216</td><td>136</td></tr>\n",
       "\t<tr><td>2           </td><td>184</td><td> 87</td></tr>\n",
       "\t<tr><td>3           </td><td>491</td><td>119</td></tr>\n",
       "\t<tr><td>Total_coluna</td><td>891</td><td>342</td></tr>\n",
       "</tbody>\n",
       "</table>\n"
      ],
      "text/latex": [
       "A data.frame: 4 × 3\n",
       "\\begin{tabular}{lll}\n",
       " Classe & Contagem\\_Classe & Contagem\\_Sobreviventes\\\\\n",
       " <chr> & <dbl> & <dbl>\\\\\n",
       "\\hline\n",
       "\t 1            & 216 & 136\\\\\n",
       "\t 2            & 184 &  87\\\\\n",
       "\t 3            & 491 & 119\\\\\n",
       "\t Total\\_coluna & 891 & 342\\\\\n",
       "\\end{tabular}\n"
      ],
      "text/markdown": [
       "\n",
       "A data.frame: 4 × 3\n",
       "\n",
       "| Classe &lt;chr&gt; | Contagem_Classe &lt;dbl&gt; | Contagem_Sobreviventes &lt;dbl&gt; |\n",
       "|---|---|---|\n",
       "| 1            | 216 | 136 |\n",
       "| 2            | 184 |  87 |\n",
       "| 3            | 491 | 119 |\n",
       "| Total_coluna | 891 | 342 |\n",
       "\n"
      ],
      "text/plain": [
       "  Classe       Contagem_Classe Contagem_Sobreviventes\n",
       "1 1            216             136                   \n",
       "2 2            184              87                   \n",
       "3 3            491             119                   \n",
       "4 Total_coluna 891             342                   "
      ]
     },
     "metadata": {},
     "output_type": "display_data"
    }
   ],
   "source": [
    "sobreviventes$Contagem_Classe <- as.numeric(sobreviventes$Contagem_Classe)\n",
    "sobreviventes$Contagem_Sobreviventes <- as.numeric(sobreviventes$Contagem_Sobreviventes)\n",
    "sobreviventes"
   ]
  },
  {
   "cell_type": "code",
   "execution_count": 25,
   "id": "76447f87",
   "metadata": {},
   "outputs": [],
   "source": [
    "# Loop para realizar as divisões \n",
    "Percentual_por_classe <- length(sobreviventes$Contagem_Classe)\n",
    "for (i in 1:(length(sobreviventes$Contagem_Classe) - 1)) {\n",
    "  Percentual_por_classe[i] <- round((sobreviventes$Contagem_Classe[i] / 891) * 100, 2)}"
   ]
  },
  {
   "cell_type": "code",
   "execution_count": 26,
   "id": "61dd31dc",
   "metadata": {},
   "outputs": [
    {
     "data": {
      "text/html": [
       "<table class=\"dataframe\">\n",
       "<caption>A data.frame: 3 × 1</caption>\n",
       "<thead>\n",
       "\t<tr><th scope=col>Percentual_por_classe</th></tr>\n",
       "\t<tr><th scope=col>&lt;dbl&gt;</th></tr>\n",
       "</thead>\n",
       "<tbody>\n",
       "\t<tr><td>24.24</td></tr>\n",
       "\t<tr><td>20.65</td></tr>\n",
       "\t<tr><td>55.11</td></tr>\n",
       "</tbody>\n",
       "</table>\n"
      ],
      "text/latex": [
       "A data.frame: 3 × 1\n",
       "\\begin{tabular}{l}\n",
       " Percentual\\_por\\_classe\\\\\n",
       " <dbl>\\\\\n",
       "\\hline\n",
       "\t 24.24\\\\\n",
       "\t 20.65\\\\\n",
       "\t 55.11\\\\\n",
       "\\end{tabular}\n"
      ],
      "text/markdown": [
       "\n",
       "A data.frame: 3 × 1\n",
       "\n",
       "| Percentual_por_classe &lt;dbl&gt; |\n",
       "|---|\n",
       "| 24.24 |\n",
       "| 20.65 |\n",
       "| 55.11 |\n",
       "\n"
      ],
      "text/plain": [
       "  Percentual_por_classe\n",
       "1 24.24                \n",
       "2 20.65                \n",
       "3 55.11                "
      ]
     },
     "metadata": {},
     "output_type": "display_data"
    }
   ],
   "source": [
    "Percentual_por_classe <- data.frame(Percentual_por_classe)\n",
    "Percentual_por_classe"
   ]
  },
  {
   "cell_type": "code",
   "execution_count": 27,
   "id": "3775bf31",
   "metadata": {},
   "outputs": [],
   "source": [
    "# Loop para realizar as divisões \n",
    "Percentual_sobreviventes_sobreviventes <- length(sobreviventes$Contagem_Sobreviventes)\n",
    "for (i in 1:(length(sobreviventes$Contagem_Sobreviventes) - 1)) {\n",
    "  Percentual_sobreviventes_sobreviventes[i] <- round((sobreviventes$Contagem_Sobreviventes[i] / 342) * 100, 2)}"
   ]
  },
  {
   "cell_type": "code",
   "execution_count": 28,
   "id": "26ee315e",
   "metadata": {},
   "outputs": [
    {
     "data": {
      "text/html": [
       "<table class=\"dataframe\">\n",
       "<caption>A data.frame: 3 × 1</caption>\n",
       "<thead>\n",
       "\t<tr><th scope=col>Percentual_sobreviventes_sobreviventes</th></tr>\n",
       "\t<tr><th scope=col>&lt;dbl&gt;</th></tr>\n",
       "</thead>\n",
       "<tbody>\n",
       "\t<tr><td>39.77</td></tr>\n",
       "\t<tr><td>25.44</td></tr>\n",
       "\t<tr><td>34.80</td></tr>\n",
       "</tbody>\n",
       "</table>\n"
      ],
      "text/latex": [
       "A data.frame: 3 × 1\n",
       "\\begin{tabular}{l}\n",
       " Percentual\\_sobreviventes\\_sobreviventes\\\\\n",
       " <dbl>\\\\\n",
       "\\hline\n",
       "\t 39.77\\\\\n",
       "\t 25.44\\\\\n",
       "\t 34.80\\\\\n",
       "\\end{tabular}\n"
      ],
      "text/markdown": [
       "\n",
       "A data.frame: 3 × 1\n",
       "\n",
       "| Percentual_sobreviventes_sobreviventes &lt;dbl&gt; |\n",
       "|---|\n",
       "| 39.77 |\n",
       "| 25.44 |\n",
       "| 34.80 |\n",
       "\n"
      ],
      "text/plain": [
       "  Percentual_sobreviventes_sobreviventes\n",
       "1 39.77                                 \n",
       "2 25.44                                 \n",
       "3 34.80                                 "
      ]
     },
     "metadata": {},
     "output_type": "display_data"
    }
   ],
   "source": [
    "Percentual_sobreviventes_sobreviventes <-data.frame(Percentual_sobreviventes_sobreviventes)\n",
    "Percentual_sobreviventes_sobreviventes"
   ]
  },
  {
   "cell_type": "code",
   "execution_count": 29,
   "id": "62bfd357",
   "metadata": {},
   "outputs": [],
   "source": [
    "Percentual_sobreviventes_classe <- length(sobreviventes$Contagem_Sobreviventes)\n",
    "for (i in 1:(length(sobreviventes$Contagem_Sobreviventes) - 1)) {\n",
    "  Percentual_sobreviventes_classe[i] <- round((sobreviventes$Contagem_Sobreviventes[i] / sobreviventes$Contagem_Classe[i]) * \n",
    "                                              100, 2)}"
   ]
  },
  {
   "cell_type": "code",
   "execution_count": 30,
   "id": "fb18bbe3",
   "metadata": {},
   "outputs": [
    {
     "data": {
      "text/html": [
       "<table class=\"dataframe\">\n",
       "<caption>A data.frame: 3 × 1</caption>\n",
       "<thead>\n",
       "\t<tr><th scope=col>Percentual_sobreviventes_classe</th></tr>\n",
       "\t<tr><th scope=col>&lt;dbl&gt;</th></tr>\n",
       "</thead>\n",
       "<tbody>\n",
       "\t<tr><td>62.96</td></tr>\n",
       "\t<tr><td>47.28</td></tr>\n",
       "\t<tr><td>24.24</td></tr>\n",
       "</tbody>\n",
       "</table>\n"
      ],
      "text/latex": [
       "A data.frame: 3 × 1\n",
       "\\begin{tabular}{l}\n",
       " Percentual\\_sobreviventes\\_classe\\\\\n",
       " <dbl>\\\\\n",
       "\\hline\n",
       "\t 62.96\\\\\n",
       "\t 47.28\\\\\n",
       "\t 24.24\\\\\n",
       "\\end{tabular}\n"
      ],
      "text/markdown": [
       "\n",
       "A data.frame: 3 × 1\n",
       "\n",
       "| Percentual_sobreviventes_classe &lt;dbl&gt; |\n",
       "|---|\n",
       "| 62.96 |\n",
       "| 47.28 |\n",
       "| 24.24 |\n",
       "\n"
      ],
      "text/plain": [
       "  Percentual_sobreviventes_classe\n",
       "1 62.96                          \n",
       "2 47.28                          \n",
       "3 24.24                          "
      ]
     },
     "metadata": {},
     "output_type": "display_data"
    }
   ],
   "source": [
    "Percentual_sobreviventes_classe <-data.frame(Percentual_sobreviventes_classe )\n",
    "Percentual_sobreviventes_classe"
   ]
  },
  {
   "cell_type": "code",
   "execution_count": 31,
   "id": "ea1ca766",
   "metadata": {
    "scrolled": true
   },
   "outputs": [
    {
     "data": {
      "text/html": [
       "<table class=\"dataframe\">\n",
       "<caption>A data.frame: 3 × 3</caption>\n",
       "<thead>\n",
       "\t<tr><th scope=col>Percentual_por_classe</th><th scope=col>Percentual_sobreviventes_sobreviventes</th><th scope=col>Percentual_sobreviventes_classe</th></tr>\n",
       "\t<tr><th scope=col>&lt;dbl&gt;</th><th scope=col>&lt;dbl&gt;</th><th scope=col>&lt;dbl&gt;</th></tr>\n",
       "</thead>\n",
       "<tbody>\n",
       "\t<tr><td>24.24</td><td>39.77</td><td>62.96</td></tr>\n",
       "\t<tr><td>20.65</td><td>25.44</td><td>47.28</td></tr>\n",
       "\t<tr><td>55.11</td><td>34.80</td><td>24.24</td></tr>\n",
       "</tbody>\n",
       "</table>\n"
      ],
      "text/latex": [
       "A data.frame: 3 × 3\n",
       "\\begin{tabular}{lll}\n",
       " Percentual\\_por\\_classe & Percentual\\_sobreviventes\\_sobreviventes & Percentual\\_sobreviventes\\_classe\\\\\n",
       " <dbl> & <dbl> & <dbl>\\\\\n",
       "\\hline\n",
       "\t 24.24 & 39.77 & 62.96\\\\\n",
       "\t 20.65 & 25.44 & 47.28\\\\\n",
       "\t 55.11 & 34.80 & 24.24\\\\\n",
       "\\end{tabular}\n"
      ],
      "text/markdown": [
       "\n",
       "A data.frame: 3 × 3\n",
       "\n",
       "| Percentual_por_classe &lt;dbl&gt; | Percentual_sobreviventes_sobreviventes &lt;dbl&gt; | Percentual_sobreviventes_classe &lt;dbl&gt; |\n",
       "|---|---|---|\n",
       "| 24.24 | 39.77 | 62.96 |\n",
       "| 20.65 | 25.44 | 47.28 |\n",
       "| 55.11 | 34.80 | 24.24 |\n",
       "\n"
      ],
      "text/plain": [
       "  Percentual_por_classe Percentual_sobreviventes_sobreviventes\n",
       "1 24.24                 39.77                                 \n",
       "2 20.65                 25.44                                 \n",
       "3 55.11                 34.80                                 \n",
       "  Percentual_sobreviventes_classe\n",
       "1 62.96                          \n",
       "2 47.28                          \n",
       "3 24.24                          "
      ]
     },
     "metadata": {},
     "output_type": "display_data"
    }
   ],
   "source": [
    "Percentual_geral <-cbind(Percentual_por_classe,Percentual_sobreviventes_sobreviventes,Percentual_sobreviventes_classe)\n",
    "Percentual_geral "
   ]
  },
  {
   "cell_type": "code",
   "execution_count": 32,
   "id": "ad6bc02a",
   "metadata": {},
   "outputs": [],
   "source": [
    "#Criando uma linha para legenda e adequação para combinar os dados pelo cbind.\n",
    "linha <- c('% classe pelo n° total', '% sobreviventes pelo nº de sobrev.', '% sobrev. pelo nº de p. em cada classe')"
   ]
  },
  {
   "cell_type": "code",
   "execution_count": 33,
   "id": "6ab79c6c",
   "metadata": {},
   "outputs": [
    {
     "data": {
      "text/html": [
       "<table class=\"dataframe\">\n",
       "<caption>A data.frame: 4 × 3</caption>\n",
       "<thead>\n",
       "\t<tr><th scope=col>Percentual_por_classe</th><th scope=col>Percentual_sobreviventes_sobreviventes</th><th scope=col>Percentual_sobreviventes_classe</th></tr>\n",
       "\t<tr><th scope=col>&lt;chr&gt;</th><th scope=col>&lt;chr&gt;</th><th scope=col>&lt;chr&gt;</th></tr>\n",
       "</thead>\n",
       "<tbody>\n",
       "\t<tr><td>24.24                 </td><td>39.77                             </td><td>62.96                                 </td></tr>\n",
       "\t<tr><td>20.65                 </td><td>25.44                             </td><td>47.28                                 </td></tr>\n",
       "\t<tr><td>55.11                 </td><td>34.8                              </td><td>24.24                                 </td></tr>\n",
       "\t<tr><td>% classe pelo n° total</td><td>% sobreviventes pelo nº de sobrev.</td><td>% sobrev. pelo nº de p. em cada classe</td></tr>\n",
       "</tbody>\n",
       "</table>\n"
      ],
      "text/latex": [
       "A data.frame: 4 × 3\n",
       "\\begin{tabular}{lll}\n",
       " Percentual\\_por\\_classe & Percentual\\_sobreviventes\\_sobreviventes & Percentual\\_sobreviventes\\_classe\\\\\n",
       " <chr> & <chr> & <chr>\\\\\n",
       "\\hline\n",
       "\t 24.24                  & 39.77                              & 62.96                                 \\\\\n",
       "\t 20.65                  & 25.44                              & 47.28                                 \\\\\n",
       "\t 55.11                  & 34.8                               & 24.24                                 \\\\\n",
       "\t \\% classe pelo n° total & \\% sobreviventes pelo nº de sobrev. & \\% sobrev. pelo nº de p. em cada classe\\\\\n",
       "\\end{tabular}\n"
      ],
      "text/markdown": [
       "\n",
       "A data.frame: 4 × 3\n",
       "\n",
       "| Percentual_por_classe &lt;chr&gt; | Percentual_sobreviventes_sobreviventes &lt;chr&gt; | Percentual_sobreviventes_classe &lt;chr&gt; |\n",
       "|---|---|---|\n",
       "| 24.24                  | 39.77                              | 62.96                                  |\n",
       "| 20.65                  | 25.44                              | 47.28                                  |\n",
       "| 55.11                  | 34.8                               | 24.24                                  |\n",
       "| % classe pelo n° total | % sobreviventes pelo nº de sobrev. | % sobrev. pelo nº de p. em cada classe |\n",
       "\n"
      ],
      "text/plain": [
       "  Percentual_por_classe  Percentual_sobreviventes_sobreviventes\n",
       "1 24.24                  39.77                                 \n",
       "2 20.65                  25.44                                 \n",
       "3 55.11                  34.8                                  \n",
       "4 % classe pelo n° total % sobreviventes pelo nº de sobrev.    \n",
       "  Percentual_sobreviventes_classe       \n",
       "1 62.96                                 \n",
       "2 47.28                                 \n",
       "3 24.24                                 \n",
       "4 % sobrev. pelo nº de p. em cada classe"
      ]
     },
     "metadata": {},
     "output_type": "display_data"
    }
   ],
   "source": [
    "Percentual_geral <-rbind(Percentual_geral,linha)\n",
    "Percentual_geral"
   ]
  },
  {
   "cell_type": "code",
   "execution_count": 34,
   "id": "8e03a97a",
   "metadata": {},
   "outputs": [
    {
     "data": {
      "text/html": [
       "<table class=\"dataframe\">\n",
       "<caption>A data.frame: 4 × 6</caption>\n",
       "<thead>\n",
       "\t<tr><th scope=col>Classe</th><th scope=col>Contagem_Classe</th><th scope=col>Contagem_Sobreviventes</th><th scope=col>Percentual_por_classe</th><th scope=col>Percentual_sobreviventes_sobreviventes</th><th scope=col>Percentual_sobreviventes_classe</th></tr>\n",
       "\t<tr><th scope=col>&lt;chr&gt;</th><th scope=col>&lt;dbl&gt;</th><th scope=col>&lt;dbl&gt;</th><th scope=col>&lt;chr&gt;</th><th scope=col>&lt;chr&gt;</th><th scope=col>&lt;chr&gt;</th></tr>\n",
       "</thead>\n",
       "<tbody>\n",
       "\t<tr><td>1           </td><td>216</td><td>136</td><td>24.24                 </td><td>39.77                             </td><td>62.96                                 </td></tr>\n",
       "\t<tr><td>2           </td><td>184</td><td> 87</td><td>20.65                 </td><td>25.44                             </td><td>47.28                                 </td></tr>\n",
       "\t<tr><td>3           </td><td>491</td><td>119</td><td>55.11                 </td><td>34.8                              </td><td>24.24                                 </td></tr>\n",
       "\t<tr><td>Total_coluna</td><td>891</td><td>342</td><td>% classe pelo n° total</td><td>% sobreviventes pelo nº de sobrev.</td><td>% sobrev. pelo nº de p. em cada classe</td></tr>\n",
       "</tbody>\n",
       "</table>\n"
      ],
      "text/latex": [
       "A data.frame: 4 × 6\n",
       "\\begin{tabular}{llllll}\n",
       " Classe & Contagem\\_Classe & Contagem\\_Sobreviventes & Percentual\\_por\\_classe & Percentual\\_sobreviventes\\_sobreviventes & Percentual\\_sobreviventes\\_classe\\\\\n",
       " <chr> & <dbl> & <dbl> & <chr> & <chr> & <chr>\\\\\n",
       "\\hline\n",
       "\t 1            & 216 & 136 & 24.24                  & 39.77                              & 62.96                                 \\\\\n",
       "\t 2            & 184 &  87 & 20.65                  & 25.44                              & 47.28                                 \\\\\n",
       "\t 3            & 491 & 119 & 55.11                  & 34.8                               & 24.24                                 \\\\\n",
       "\t Total\\_coluna & 891 & 342 & \\% classe pelo n° total & \\% sobreviventes pelo nº de sobrev. & \\% sobrev. pelo nº de p. em cada classe\\\\\n",
       "\\end{tabular}\n"
      ],
      "text/markdown": [
       "\n",
       "A data.frame: 4 × 6\n",
       "\n",
       "| Classe &lt;chr&gt; | Contagem_Classe &lt;dbl&gt; | Contagem_Sobreviventes &lt;dbl&gt; | Percentual_por_classe &lt;chr&gt; | Percentual_sobreviventes_sobreviventes &lt;chr&gt; | Percentual_sobreviventes_classe &lt;chr&gt; |\n",
       "|---|---|---|---|---|---|\n",
       "| 1            | 216 | 136 | 24.24                  | 39.77                              | 62.96                                  |\n",
       "| 2            | 184 |  87 | 20.65                  | 25.44                              | 47.28                                  |\n",
       "| 3            | 491 | 119 | 55.11                  | 34.8                               | 24.24                                  |\n",
       "| Total_coluna | 891 | 342 | % classe pelo n° total | % sobreviventes pelo nº de sobrev. | % sobrev. pelo nº de p. em cada classe |\n",
       "\n"
      ],
      "text/plain": [
       "  Classe       Contagem_Classe Contagem_Sobreviventes Percentual_por_classe \n",
       "1 1            216             136                    24.24                 \n",
       "2 2            184              87                    20.65                 \n",
       "3 3            491             119                    55.11                 \n",
       "4 Total_coluna 891             342                    % classe pelo n° total\n",
       "  Percentual_sobreviventes_sobreviventes Percentual_sobreviventes_classe       \n",
       "1 39.77                                  62.96                                 \n",
       "2 25.44                                  47.28                                 \n",
       "3 34.8                                   24.24                                 \n",
       "4 % sobreviventes pelo nº de sobrev.     % sobrev. pelo nº de p. em cada classe"
      ]
     },
     "metadata": {},
     "output_type": "display_data"
    }
   ],
   "source": [
    "#Combinando os dados\n",
    "dados_gerais <-cbind(sobreviventes,Percentual_geral)\n",
    "dados_gerais"
   ]
  },
  {
   "cell_type": "markdown",
   "id": "987554b9",
   "metadata": {},
   "source": [
    "### Analisando os dados, inicialmente pode-se perceber uma homogeneidade nas porcentagens de sobreviventes em relação ao total de sobreviventes entre as classes. No entanto, ao calcular a porcentagem de sobreviventes em relação ao número total de passageiros por classe, torna-se nitidamente aparente que a maioria dos sobreviventes pertencia à primeira classe. Esse resultado sugere uma disparidade significativa nas taxas de sobrevivência entre as diferentes classes, destacando a possibilidade de que medidas de priorização ou outras influências tenham desempenhado um papel crucial durante o naufrágio do Titanic."
   ]
  },
  {
   "cell_type": "code",
   "execution_count": 35,
   "id": "bcda1bfb",
   "metadata": {},
   "outputs": [
    {
     "data": {
      "text/html": [
       "<table class=\"dataframe\">\n",
       "<caption>A data.frame: 2 × 1</caption>\n",
       "<thead>\n",
       "\t<tr><th></th><th scope=col>Sobreviventes_por_sexo</th></tr>\n",
       "\t<tr><th></th><th scope=col>&lt;int&gt;</th></tr>\n",
       "</thead>\n",
       "<tbody>\n",
       "\t<tr><th scope=row>female</th><td>233</td></tr>\n",
       "\t<tr><th scope=row>male</th><td>109</td></tr>\n",
       "</tbody>\n",
       "</table>\n"
      ],
      "text/latex": [
       "A data.frame: 2 × 1\n",
       "\\begin{tabular}{r|l}\n",
       "  & Sobreviventes\\_por\\_sexo\\\\\n",
       "  & <int>\\\\\n",
       "\\hline\n",
       "\tfemale & 233\\\\\n",
       "\tmale & 109\\\\\n",
       "\\end{tabular}\n"
      ],
      "text/markdown": [
       "\n",
       "A data.frame: 2 × 1\n",
       "\n",
       "| <!--/--> | Sobreviventes_por_sexo &lt;int&gt; |\n",
       "|---|---|\n",
       "| female | 233 |\n",
       "| male | 109 |\n",
       "\n"
      ],
      "text/plain": [
       "       Sobreviventes_por_sexo\n",
       "female 233                   \n",
       "male   109                   "
      ]
     },
     "metadata": {},
     "output_type": "display_data"
    }
   ],
   "source": [
    "# Calculando o número de sobreviventes por sexo\n",
    "sobreviventes_por_sexo <- data.frame(tapply(treino_corrigido$Survived, treino_corrigido$Sex, sum))\n",
    "colnames(sobreviventes_por_sexo)[1] <- 'Sobreviventes_por_sexo'\n",
    "sobreviventes_por_sexo"
   ]
  },
  {
   "cell_type": "markdown",
   "id": "8d354005",
   "metadata": {},
   "source": [
    "### Também podemos observar que a maioria dos sobreviventes era do sexo feminino.  Essa observação pode indicar a presença de uma preferência ou política de priorização para colocar mulheres nos botes salva-vidas durante a evacuação do navio."
   ]
  },
  {
   "cell_type": "markdown",
   "id": "6ee7044c",
   "metadata": {},
   "source": [
    "## Construindo o Modelo"
   ]
  },
  {
   "cell_type": "code",
   "execution_count": 36,
   "id": "a78b0ebf",
   "metadata": {},
   "outputs": [
    {
     "data": {
      "text/html": [
       "<table class=\"dataframe\">\n",
       "<caption>A data.frame: 6 × 12</caption>\n",
       "<thead>\n",
       "\t<tr><th></th><th scope=col>PassengerId</th><th scope=col>Survived</th><th scope=col>Pclass</th><th scope=col>Name</th><th scope=col>Sex</th><th scope=col>Age</th><th scope=col>SibSp</th><th scope=col>Parch</th><th scope=col>Ticket</th><th scope=col>Fare</th><th scope=col>Cabin</th><th scope=col>Embarked</th></tr>\n",
       "\t<tr><th></th><th scope=col>&lt;int&gt;</th><th scope=col>&lt;int&gt;</th><th scope=col>&lt;int&gt;</th><th scope=col>&lt;chr&gt;</th><th scope=col>&lt;chr&gt;</th><th scope=col>&lt;dbl&gt;</th><th scope=col>&lt;int&gt;</th><th scope=col>&lt;int&gt;</th><th scope=col>&lt;chr&gt;</th><th scope=col>&lt;dbl&gt;</th><th scope=col>&lt;chr&gt;</th><th scope=col>&lt;chr&gt;</th></tr>\n",
       "</thead>\n",
       "<tbody>\n",
       "\t<tr><th scope=row>1</th><td>1</td><td>0</td><td>3</td><td>Braund, Mr. Owen Harris                            </td><td>male  </td><td>22</td><td>1</td><td>0</td><td>A/5 21171       </td><td> 7.2500</td><td>    </td><td>S</td></tr>\n",
       "\t<tr><th scope=row>2</th><td>2</td><td>1</td><td>1</td><td>Cumings, Mrs. John Bradley (Florence Briggs Thayer)</td><td>female</td><td>38</td><td>1</td><td>0</td><td>PC 17599        </td><td>71.2833</td><td>C85 </td><td>C</td></tr>\n",
       "\t<tr><th scope=row>3</th><td>3</td><td>1</td><td>3</td><td>Heikkinen, Miss. Laina                             </td><td>female</td><td>26</td><td>0</td><td>0</td><td>STON/O2. 3101282</td><td> 7.9250</td><td>    </td><td>S</td></tr>\n",
       "\t<tr><th scope=row>4</th><td>4</td><td>1</td><td>1</td><td>Futrelle, Mrs. Jacques Heath (Lily May Peel)       </td><td>female</td><td>35</td><td>1</td><td>0</td><td>113803          </td><td>53.1000</td><td>C123</td><td>S</td></tr>\n",
       "\t<tr><th scope=row>5</th><td>5</td><td>0</td><td>3</td><td>Allen, Mr. William Henry                           </td><td>male  </td><td>35</td><td>0</td><td>0</td><td>373450          </td><td> 8.0500</td><td>    </td><td>S</td></tr>\n",
       "\t<tr><th scope=row>6</th><td>6</td><td>0</td><td>3</td><td>Moran, Mr. James                                   </td><td>male  </td><td>24</td><td>0</td><td>0</td><td>330877          </td><td> 8.4583</td><td>    </td><td>Q</td></tr>\n",
       "</tbody>\n",
       "</table>\n"
      ],
      "text/latex": [
       "A data.frame: 6 × 12\n",
       "\\begin{tabular}{r|llllllllllll}\n",
       "  & PassengerId & Survived & Pclass & Name & Sex & Age & SibSp & Parch & Ticket & Fare & Cabin & Embarked\\\\\n",
       "  & <int> & <int> & <int> & <chr> & <chr> & <dbl> & <int> & <int> & <chr> & <dbl> & <chr> & <chr>\\\\\n",
       "\\hline\n",
       "\t1 & 1 & 0 & 3 & Braund, Mr. Owen Harris                             & male   & 22 & 1 & 0 & A/5 21171        &  7.2500 &      & S\\\\\n",
       "\t2 & 2 & 1 & 1 & Cumings, Mrs. John Bradley (Florence Briggs Thayer) & female & 38 & 1 & 0 & PC 17599         & 71.2833 & C85  & C\\\\\n",
       "\t3 & 3 & 1 & 3 & Heikkinen, Miss. Laina                              & female & 26 & 0 & 0 & STON/O2. 3101282 &  7.9250 &      & S\\\\\n",
       "\t4 & 4 & 1 & 1 & Futrelle, Mrs. Jacques Heath (Lily May Peel)        & female & 35 & 1 & 0 & 113803           & 53.1000 & C123 & S\\\\\n",
       "\t5 & 5 & 0 & 3 & Allen, Mr. William Henry                            & male   & 35 & 0 & 0 & 373450           &  8.0500 &      & S\\\\\n",
       "\t6 & 6 & 0 & 3 & Moran, Mr. James                                    & male   & 24 & 0 & 0 & 330877           &  8.4583 &      & Q\\\\\n",
       "\\end{tabular}\n"
      ],
      "text/markdown": [
       "\n",
       "A data.frame: 6 × 12\n",
       "\n",
       "| <!--/--> | PassengerId &lt;int&gt; | Survived &lt;int&gt; | Pclass &lt;int&gt; | Name &lt;chr&gt; | Sex &lt;chr&gt; | Age &lt;dbl&gt; | SibSp &lt;int&gt; | Parch &lt;int&gt; | Ticket &lt;chr&gt; | Fare &lt;dbl&gt; | Cabin &lt;chr&gt; | Embarked &lt;chr&gt; |\n",
       "|---|---|---|---|---|---|---|---|---|---|---|---|---|\n",
       "| 1 | 1 | 0 | 3 | Braund, Mr. Owen Harris                             | male   | 22 | 1 | 0 | A/5 21171        |  7.2500 | <!----> | S |\n",
       "| 2 | 2 | 1 | 1 | Cumings, Mrs. John Bradley (Florence Briggs Thayer) | female | 38 | 1 | 0 | PC 17599         | 71.2833 | C85  | C |\n",
       "| 3 | 3 | 1 | 3 | Heikkinen, Miss. Laina                              | female | 26 | 0 | 0 | STON/O2. 3101282 |  7.9250 | <!----> | S |\n",
       "| 4 | 4 | 1 | 1 | Futrelle, Mrs. Jacques Heath (Lily May Peel)        | female | 35 | 1 | 0 | 113803           | 53.1000 | C123 | S |\n",
       "| 5 | 5 | 0 | 3 | Allen, Mr. William Henry                            | male   | 35 | 0 | 0 | 373450           |  8.0500 | <!----> | S |\n",
       "| 6 | 6 | 0 | 3 | Moran, Mr. James                                    | male   | 24 | 0 | 0 | 330877           |  8.4583 | <!----> | Q |\n",
       "\n"
      ],
      "text/plain": [
       "  PassengerId Survived Pclass\n",
       "1 1           0        3     \n",
       "2 2           1        1     \n",
       "3 3           1        3     \n",
       "4 4           1        1     \n",
       "5 5           0        3     \n",
       "6 6           0        3     \n",
       "  Name                                                Sex    Age SibSp Parch\n",
       "1 Braund, Mr. Owen Harris                             male   22  1     0    \n",
       "2 Cumings, Mrs. John Bradley (Florence Briggs Thayer) female 38  1     0    \n",
       "3 Heikkinen, Miss. Laina                              female 26  0     0    \n",
       "4 Futrelle, Mrs. Jacques Heath (Lily May Peel)        female 35  1     0    \n",
       "5 Allen, Mr. William Henry                            male   35  0     0    \n",
       "6 Moran, Mr. James                                    male   24  0     0    \n",
       "  Ticket           Fare    Cabin Embarked\n",
       "1 A/5 21171         7.2500       S       \n",
       "2 PC 17599         71.2833 C85   C       \n",
       "3 STON/O2. 3101282  7.9250       S       \n",
       "4 113803           53.1000 C123  S       \n",
       "5 373450            8.0500       S       \n",
       "6 330877            8.4583       Q       "
      ]
     },
     "metadata": {},
     "output_type": "display_data"
    }
   ],
   "source": [
    "head(treino_corrigido)"
   ]
  },
  {
   "cell_type": "code",
   "execution_count": 37,
   "id": "4e0b425f",
   "metadata": {},
   "outputs": [],
   "source": [
    "library(dplyr)"
   ]
  },
  {
   "cell_type": "code",
   "execution_count": 38,
   "id": "40eae1f7",
   "metadata": {},
   "outputs": [],
   "source": [
    "#Removendo variáveis que não serão usadas para treinar o modelo\n",
    "treino_corrigido <-select(treino_corrigido, -PassengerId, -Name, -Ticket, -Cabin)"
   ]
  },
  {
   "cell_type": "code",
   "execution_count": 39,
   "id": "10cf0f72",
   "metadata": {},
   "outputs": [
    {
     "data": {
      "text/html": [
       "<table class=\"dataframe\">\n",
       "<caption>A data.frame: 6 × 8</caption>\n",
       "<thead>\n",
       "\t<tr><th></th><th scope=col>Survived</th><th scope=col>Pclass</th><th scope=col>Sex</th><th scope=col>Age</th><th scope=col>SibSp</th><th scope=col>Parch</th><th scope=col>Fare</th><th scope=col>Embarked</th></tr>\n",
       "\t<tr><th></th><th scope=col>&lt;int&gt;</th><th scope=col>&lt;int&gt;</th><th scope=col>&lt;chr&gt;</th><th scope=col>&lt;dbl&gt;</th><th scope=col>&lt;int&gt;</th><th scope=col>&lt;int&gt;</th><th scope=col>&lt;dbl&gt;</th><th scope=col>&lt;chr&gt;</th></tr>\n",
       "</thead>\n",
       "<tbody>\n",
       "\t<tr><th scope=row>1</th><td>0</td><td>3</td><td>male  </td><td>22</td><td>1</td><td>0</td><td> 7.2500</td><td>S</td></tr>\n",
       "\t<tr><th scope=row>2</th><td>1</td><td>1</td><td>female</td><td>38</td><td>1</td><td>0</td><td>71.2833</td><td>C</td></tr>\n",
       "\t<tr><th scope=row>3</th><td>1</td><td>3</td><td>female</td><td>26</td><td>0</td><td>0</td><td> 7.9250</td><td>S</td></tr>\n",
       "\t<tr><th scope=row>4</th><td>1</td><td>1</td><td>female</td><td>35</td><td>1</td><td>0</td><td>53.1000</td><td>S</td></tr>\n",
       "\t<tr><th scope=row>5</th><td>0</td><td>3</td><td>male  </td><td>35</td><td>0</td><td>0</td><td> 8.0500</td><td>S</td></tr>\n",
       "\t<tr><th scope=row>6</th><td>0</td><td>3</td><td>male  </td><td>24</td><td>0</td><td>0</td><td> 8.4583</td><td>Q</td></tr>\n",
       "</tbody>\n",
       "</table>\n"
      ],
      "text/latex": [
       "A data.frame: 6 × 8\n",
       "\\begin{tabular}{r|llllllll}\n",
       "  & Survived & Pclass & Sex & Age & SibSp & Parch & Fare & Embarked\\\\\n",
       "  & <int> & <int> & <chr> & <dbl> & <int> & <int> & <dbl> & <chr>\\\\\n",
       "\\hline\n",
       "\t1 & 0 & 3 & male   & 22 & 1 & 0 &  7.2500 & S\\\\\n",
       "\t2 & 1 & 1 & female & 38 & 1 & 0 & 71.2833 & C\\\\\n",
       "\t3 & 1 & 3 & female & 26 & 0 & 0 &  7.9250 & S\\\\\n",
       "\t4 & 1 & 1 & female & 35 & 1 & 0 & 53.1000 & S\\\\\n",
       "\t5 & 0 & 3 & male   & 35 & 0 & 0 &  8.0500 & S\\\\\n",
       "\t6 & 0 & 3 & male   & 24 & 0 & 0 &  8.4583 & Q\\\\\n",
       "\\end{tabular}\n"
      ],
      "text/markdown": [
       "\n",
       "A data.frame: 6 × 8\n",
       "\n",
       "| <!--/--> | Survived &lt;int&gt; | Pclass &lt;int&gt; | Sex &lt;chr&gt; | Age &lt;dbl&gt; | SibSp &lt;int&gt; | Parch &lt;int&gt; | Fare &lt;dbl&gt; | Embarked &lt;chr&gt; |\n",
       "|---|---|---|---|---|---|---|---|---|\n",
       "| 1 | 0 | 3 | male   | 22 | 1 | 0 |  7.2500 | S |\n",
       "| 2 | 1 | 1 | female | 38 | 1 | 0 | 71.2833 | C |\n",
       "| 3 | 1 | 3 | female | 26 | 0 | 0 |  7.9250 | S |\n",
       "| 4 | 1 | 1 | female | 35 | 1 | 0 | 53.1000 | S |\n",
       "| 5 | 0 | 3 | male   | 35 | 0 | 0 |  8.0500 | S |\n",
       "| 6 | 0 | 3 | male   | 24 | 0 | 0 |  8.4583 | Q |\n",
       "\n"
      ],
      "text/plain": [
       "  Survived Pclass Sex    Age SibSp Parch Fare    Embarked\n",
       "1 0        3      male   22  1     0      7.2500 S       \n",
       "2 1        1      female 38  1     0     71.2833 C       \n",
       "3 1        3      female 26  0     0      7.9250 S       \n",
       "4 1        1      female 35  1     0     53.1000 S       \n",
       "5 0        3      male   35  0     0      8.0500 S       \n",
       "6 0        3      male   24  0     0      8.4583 Q       "
      ]
     },
     "metadata": {},
     "output_type": "display_data"
    }
   ],
   "source": [
    "head(treino_corrigido)"
   ]
  },
  {
   "cell_type": "code",
   "execution_count": 40,
   "id": "c8cc8445",
   "metadata": {},
   "outputs": [],
   "source": [
    "# Treinando o modelo e depois faça as previsões\n",
    "modelo1 <- glm(Survived ~ . , family = binomial(link = 'logit'), data = treino_corrigido)"
   ]
  },
  {
   "cell_type": "markdown",
   "id": "aeba87c4",
   "metadata": {},
   "source": [
    "**family:** Este argumento especifica a distribuição da família a ser usada no modelo. Em um modelo de regressão logística, você está lidando com uma variável de resposta binária (duas categorias), então a distribuição binomial é apropriada.  \n",
    "**binomial:** Este é o tipo de distribuição usado para modelar variáveis binárias.  \n",
    "**link:** Este argumento especifica a função de ligação utilizada para relacionar a média da distribuição à combinação linear das variáveis independentes. A função de ligação logística ('logit') é comumente usada em regressão logística. A função logística transforma valores lineares em uma escala entre 0 e 1, o que é crucial para interpretar os resultados como probabilidades."
   ]
  },
  {
   "cell_type": "code",
   "execution_count": 41,
   "id": "4073a499",
   "metadata": {},
   "outputs": [
    {
     "data": {
      "text/plain": [
       "\n",
       "Call:\n",
       "glm(formula = Survived ~ ., family = binomial(link = \"logit\"), \n",
       "    data = treino_corrigido)\n",
       "\n",
       "Deviance Residuals: \n",
       "    Min       1Q   Median       3Q      Max  \n",
       "-2.7092  -0.5836  -0.4083   0.6165   2.4879  \n",
       "\n",
       "Coefficients:\n",
       "              Estimate Std. Error z value Pr(>|z|)    \n",
       "(Intercept)  17.859543 608.330947   0.029  0.97658    \n",
       "Pclass       -1.186613   0.149950  -7.913 2.50e-15 ***\n",
       "Sexmale      -2.726567   0.201742 -13.515  < 2e-16 ***\n",
       "Age          -0.043327   0.008200  -5.284 1.26e-07 ***\n",
       "SibSp        -0.340934   0.110035  -3.098  0.00195 ** \n",
       "Parch        -0.087899   0.119681  -0.734  0.46268    \n",
       "Fare          0.001718   0.002370   0.725  0.46853    \n",
       "EmbarkedC   -12.295404 608.330727  -0.020  0.98387    \n",
       "EmbarkedQ   -12.413431 608.330782  -0.020  0.98372    \n",
       "EmbarkedS   -12.685786 608.330710  -0.021  0.98336    \n",
       "---\n",
       "Signif. codes:  0 '***' 0.001 '**' 0.01 '*' 0.05 '.' 0.1 ' ' 1\n",
       "\n",
       "(Dispersion parameter for binomial family taken to be 1)\n",
       "\n",
       "    Null deviance: 1186.66  on 890  degrees of freedom\n",
       "Residual deviance:  781.41  on 881  degrees of freedom\n",
       "AIC: 801.41\n",
       "\n",
       "Number of Fisher Scoring iterations: 13\n"
      ]
     },
     "metadata": {},
     "output_type": "display_data"
    }
   ],
   "source": [
    "summary(modelo1)"
   ]
  },
  {
   "cell_type": "markdown",
   "id": "9861031e",
   "metadata": {},
   "source": [
    "### Com base nos valores de p, podemos inferir que as variáveis Pclass, Sex e Age são estatisticamente significativas no modelo, e isso sugere que essas variáveis são mais relevantes para explicar a variabilidade na variável dependente em comparação com variáveis que não são estatisticamente significativas. Portanto, neste caso:\n",
    "\n",
    "- A variável Pclass, com um valor de p muito pequeno (2.50e-15), é estatisticamente significativa.\n",
    "- A variável Sex, com um valor de p ainda menor (< 2e-16), é estatisticamente significativa.\n",
    "- A variável Age, com um valor de p de 1.26e-07, também é estatisticamente significativa."
   ]
  },
  {
   "cell_type": "code",
   "execution_count": 42,
   "id": "80abd49e",
   "metadata": {},
   "outputs": [
    {
     "data": {
      "text/html": [
       "<table class=\"dataframe\">\n",
       "<caption>A data.frame: 6 × 11</caption>\n",
       "<thead>\n",
       "\t<tr><th></th><th scope=col>PassengerId</th><th scope=col>Pclass</th><th scope=col>Name</th><th scope=col>Sex</th><th scope=col>Age</th><th scope=col>SibSp</th><th scope=col>Parch</th><th scope=col>Ticket</th><th scope=col>Fare</th><th scope=col>Cabin</th><th scope=col>Embarked</th></tr>\n",
       "\t<tr><th></th><th scope=col>&lt;int&gt;</th><th scope=col>&lt;int&gt;</th><th scope=col>&lt;chr&gt;</th><th scope=col>&lt;chr&gt;</th><th scope=col>&lt;dbl&gt;</th><th scope=col>&lt;int&gt;</th><th scope=col>&lt;int&gt;</th><th scope=col>&lt;chr&gt;</th><th scope=col>&lt;dbl&gt;</th><th scope=col>&lt;chr&gt;</th><th scope=col>&lt;chr&gt;</th></tr>\n",
       "</thead>\n",
       "<tbody>\n",
       "\t<tr><th scope=row>1</th><td>892</td><td>3</td><td>Kelly, Mr. James                            </td><td>male  </td><td>34.5</td><td>0</td><td>0</td><td>330911 </td><td> 7.8292</td><td></td><td>Q</td></tr>\n",
       "\t<tr><th scope=row>2</th><td>893</td><td>3</td><td>Wilkes, Mrs. James (Ellen Needs)            </td><td>female</td><td>47.0</td><td>1</td><td>0</td><td>363272 </td><td> 7.0000</td><td></td><td>S</td></tr>\n",
       "\t<tr><th scope=row>3</th><td>894</td><td>2</td><td>Myles, Mr. Thomas Francis                   </td><td>male  </td><td>62.0</td><td>0</td><td>0</td><td>240276 </td><td> 9.6875</td><td></td><td>Q</td></tr>\n",
       "\t<tr><th scope=row>4</th><td>895</td><td>3</td><td>Wirz, Mr. Albert                            </td><td>male  </td><td>27.0</td><td>0</td><td>0</td><td>315154 </td><td> 8.6625</td><td></td><td>S</td></tr>\n",
       "\t<tr><th scope=row>5</th><td>896</td><td>3</td><td>Hirvonen, Mrs. Alexander (Helga E Lindqvist)</td><td>female</td><td>22.0</td><td>1</td><td>1</td><td>3101298</td><td>12.2875</td><td></td><td>S</td></tr>\n",
       "\t<tr><th scope=row>6</th><td>897</td><td>3</td><td>Svensson, Mr. Johan Cervin                  </td><td>male  </td><td>14.0</td><td>0</td><td>0</td><td>7538   </td><td> 9.2250</td><td></td><td>S</td></tr>\n",
       "</tbody>\n",
       "</table>\n"
      ],
      "text/latex": [
       "A data.frame: 6 × 11\n",
       "\\begin{tabular}{r|lllllllllll}\n",
       "  & PassengerId & Pclass & Name & Sex & Age & SibSp & Parch & Ticket & Fare & Cabin & Embarked\\\\\n",
       "  & <int> & <int> & <chr> & <chr> & <dbl> & <int> & <int> & <chr> & <dbl> & <chr> & <chr>\\\\\n",
       "\\hline\n",
       "\t1 & 892 & 3 & Kelly, Mr. James                             & male   & 34.5 & 0 & 0 & 330911  &  7.8292 &  & Q\\\\\n",
       "\t2 & 893 & 3 & Wilkes, Mrs. James (Ellen Needs)             & female & 47.0 & 1 & 0 & 363272  &  7.0000 &  & S\\\\\n",
       "\t3 & 894 & 2 & Myles, Mr. Thomas Francis                    & male   & 62.0 & 0 & 0 & 240276  &  9.6875 &  & Q\\\\\n",
       "\t4 & 895 & 3 & Wirz, Mr. Albert                             & male   & 27.0 & 0 & 0 & 315154  &  8.6625 &  & S\\\\\n",
       "\t5 & 896 & 3 & Hirvonen, Mrs. Alexander (Helga E Lindqvist) & female & 22.0 & 1 & 1 & 3101298 & 12.2875 &  & S\\\\\n",
       "\t6 & 897 & 3 & Svensson, Mr. Johan Cervin                   & male   & 14.0 & 0 & 0 & 7538    &  9.2250 &  & S\\\\\n",
       "\\end{tabular}\n"
      ],
      "text/markdown": [
       "\n",
       "A data.frame: 6 × 11\n",
       "\n",
       "| <!--/--> | PassengerId &lt;int&gt; | Pclass &lt;int&gt; | Name &lt;chr&gt; | Sex &lt;chr&gt; | Age &lt;dbl&gt; | SibSp &lt;int&gt; | Parch &lt;int&gt; | Ticket &lt;chr&gt; | Fare &lt;dbl&gt; | Cabin &lt;chr&gt; | Embarked &lt;chr&gt; |\n",
       "|---|---|---|---|---|---|---|---|---|---|---|---|\n",
       "| 1 | 892 | 3 | Kelly, Mr. James                             | male   | 34.5 | 0 | 0 | 330911  |  7.8292 | <!----> | Q |\n",
       "| 2 | 893 | 3 | Wilkes, Mrs. James (Ellen Needs)             | female | 47.0 | 1 | 0 | 363272  |  7.0000 | <!----> | S |\n",
       "| 3 | 894 | 2 | Myles, Mr. Thomas Francis                    | male   | 62.0 | 0 | 0 | 240276  |  9.6875 | <!----> | Q |\n",
       "| 4 | 895 | 3 | Wirz, Mr. Albert                             | male   | 27.0 | 0 | 0 | 315154  |  8.6625 | <!----> | S |\n",
       "| 5 | 896 | 3 | Hirvonen, Mrs. Alexander (Helga E Lindqvist) | female | 22.0 | 1 | 1 | 3101298 | 12.2875 | <!----> | S |\n",
       "| 6 | 897 | 3 | Svensson, Mr. Johan Cervin                   | male   | 14.0 | 0 | 0 | 7538    |  9.2250 | <!----> | S |\n",
       "\n"
      ],
      "text/plain": [
       "  PassengerId Pclass Name                                         Sex    Age \n",
       "1 892         3      Kelly, Mr. James                             male   34.5\n",
       "2 893         3      Wilkes, Mrs. James (Ellen Needs)             female 47.0\n",
       "3 894         2      Myles, Mr. Thomas Francis                    male   62.0\n",
       "4 895         3      Wirz, Mr. Albert                             male   27.0\n",
       "5 896         3      Hirvonen, Mrs. Alexander (Helga E Lindqvist) female 22.0\n",
       "6 897         3      Svensson, Mr. Johan Cervin                   male   14.0\n",
       "  SibSp Parch Ticket  Fare    Cabin Embarked\n",
       "1 0     0     330911   7.8292       Q       \n",
       "2 1     0     363272   7.0000       S       \n",
       "3 0     0     240276   9.6875       Q       \n",
       "4 0     0     315154   8.6625       S       \n",
       "5 1     1     3101298 12.2875       S       \n",
       "6 0     0     7538     9.2250       S       "
      ]
     },
     "metadata": {},
     "output_type": "display_data"
    },
    {
     "data": {
      "text/html": [
       "<style>\n",
       ".list-inline {list-style: none; margin:0; padding: 0}\n",
       ".list-inline>li {display: inline-block}\n",
       ".list-inline>li:not(:last-child)::after {content: \"\\00b7\"; padding: 0 .5ex}\n",
       "</style>\n",
       "<ol class=list-inline><li>418</li><li>11</li></ol>\n"
      ],
      "text/latex": [
       "\\begin{enumerate*}\n",
       "\\item 418\n",
       "\\item 11\n",
       "\\end{enumerate*}\n"
      ],
      "text/markdown": [
       "1. 418\n",
       "2. 11\n",
       "\n",
       "\n"
      ],
      "text/plain": [
       "[1] 418  11"
      ]
     },
     "metadata": {},
     "output_type": "display_data"
    }
   ],
   "source": [
    "#Carregando o dataset dados testes\n",
    "#O dataset não apresenta a coluna survived, justamente para previsão\n",
    "dados_testes <- read.csv('datasets/titanic-test.csv')\n",
    "head(dados_testes)\n",
    "dim(dados_testes)"
   ]
  },
  {
   "cell_type": "code",
   "execution_count": 43,
   "id": "441e6e3d",
   "metadata": {},
   "outputs": [],
   "source": [
    "#Toda e qualquer transformação aplicada aos dados de treino deve ser aplicada aos dados de teste e novos dados!\n",
    "#Removendo as mesmas colunas\n",
    "dados_testes <-select(dados_testes, -PassengerId, -Name, -Ticket, -Cabin)"
   ]
  },
  {
   "cell_type": "code",
   "execution_count": 44,
   "id": "b2c723fd",
   "metadata": {},
   "outputs": [
    {
     "data": {
      "text/html": [
       "<style>\n",
       ".dl-inline {width: auto; margin:0; padding: 0}\n",
       ".dl-inline>dt, .dl-inline>dd {float: none; width: auto; display: inline-block}\n",
       ".dl-inline>dt::after {content: \":\\0020\"; padding-right: .5ex}\n",
       ".dl-inline>dt:not(:first-of-type) {padding-left: .5ex}\n",
       "</style><dl class=dl-inline><dt>Pclass</dt><dd>0</dd><dt>Sex</dt><dd>0</dd><dt>Age</dt><dd>86</dd><dt>SibSp</dt><dd>0</dd><dt>Parch</dt><dd>0</dd><dt>Fare</dt><dd>1</dd><dt>Embarked</dt><dd>0</dd></dl>\n"
      ],
      "text/latex": [
       "\\begin{description*}\n",
       "\\item[Pclass] 0\n",
       "\\item[Sex] 0\n",
       "\\item[Age] 86\n",
       "\\item[SibSp] 0\n",
       "\\item[Parch] 0\n",
       "\\item[Fare] 1\n",
       "\\item[Embarked] 0\n",
       "\\end{description*}\n"
      ],
      "text/markdown": [
       "Pclass\n",
       ":   0Sex\n",
       ":   0Age\n",
       ":   86SibSp\n",
       ":   0Parch\n",
       ":   0Fare\n",
       ":   1Embarked\n",
       ":   0\n",
       "\n"
      ],
      "text/plain": [
       "  Pclass      Sex      Age    SibSp    Parch     Fare Embarked \n",
       "       0        0       86        0        0        1        0 "
      ]
     },
     "metadata": {},
     "output_type": "display_data"
    }
   ],
   "source": [
    "#Verificando dados ausentes\n",
    "colSums(is.na(dados_testes))"
   ]
  },
  {
   "cell_type": "code",
   "execution_count": 45,
   "id": "98d1ac4f",
   "metadata": {},
   "outputs": [
    {
     "data": {
      "image/png": "[encoded data removed]",
      "text/plain": [
       "Plot with title \"Distribuição da Idade por Classe\""
      ]
     },
     "metadata": {
      "image/png": {
       "height": 420,
       "width": 420
      }
     },
     "output_type": "display_data"
    }
   ],
   "source": [
    "# Criar um boxplot para verificar a idade por classe\n",
    "boxplot(Age ~ Pclass, data = dados_testes, \n",
    "        main = \"Distribuição da Idade por Classe\",\n",
    "        xlab = \"Classe\",\n",
    "        ylab = \"Idade\")"
   ]
  },
  {
   "cell_type": "code",
   "execution_count": 46,
   "id": "30af8997",
   "metadata": {},
   "outputs": [
    {
     "data": {
      "text/html": [
       "<table class=\"dataframe\">\n",
       "<caption>A tibble: 3 × 3</caption>\n",
       "<thead>\n",
       "\t<tr><th scope=col>Pclass</th><th scope=col>media_idade</th><th scope=col>mediana_idade</th></tr>\n",
       "\t<tr><th scope=col>&lt;int&gt;</th><th scope=col>&lt;dbl&gt;</th><th scope=col>&lt;dbl&gt;</th></tr>\n",
       "</thead>\n",
       "<tbody>\n",
       "\t<tr><td>1</td><td>40.91837</td><td>42.0</td></tr>\n",
       "\t<tr><td>2</td><td>28.77750</td><td>26.5</td></tr>\n",
       "\t<tr><td>3</td><td>24.02795</td><td>24.0</td></tr>\n",
       "</tbody>\n",
       "</table>\n"
      ],
      "text/latex": [
       "A tibble: 3 × 3\n",
       "\\begin{tabular}{lll}\n",
       " Pclass & media\\_idade & mediana\\_idade\\\\\n",
       " <int> & <dbl> & <dbl>\\\\\n",
       "\\hline\n",
       "\t 1 & 40.91837 & 42.0\\\\\n",
       "\t 2 & 28.77750 & 26.5\\\\\n",
       "\t 3 & 24.02795 & 24.0\\\\\n",
       "\\end{tabular}\n"
      ],
      "text/markdown": [
       "\n",
       "A tibble: 3 × 3\n",
       "\n",
       "| Pclass &lt;int&gt; | media_idade &lt;dbl&gt; | mediana_idade &lt;dbl&gt; |\n",
       "|---|---|---|\n",
       "| 1 | 40.91837 | 42.0 |\n",
       "| 2 | 28.77750 | 26.5 |\n",
       "| 3 | 24.02795 | 24.0 |\n",
       "\n"
      ],
      "text/plain": [
       "  Pclass media_idade mediana_idade\n",
       "1 1      40.91837    42.0         \n",
       "2 2      28.77750    26.5         \n",
       "3 3      24.02795    24.0         "
      ]
     },
     "metadata": {},
     "output_type": "display_data"
    }
   ],
   "source": [
    "# Calculando a média e a mediana da idade por classe\n",
    "resultados <- dados_testes %>%\n",
    "  group_by(Pclass) %>%\n",
    "  summarise(\n",
    "    media_idade = mean(Age, na.rm = TRUE),\n",
    "    mediana_idade = median(Age, na.rm = TRUE)\n",
    "  )\n",
    "(resultados)"
   ]
  },
  {
   "cell_type": "code",
   "execution_count": 47,
   "id": "02948a96",
   "metadata": {},
   "outputs": [],
   "source": [
    "# Novamente percebemos que os passageiros da primeira classe tendem a ser mais velhos. \n",
    "#Vamos mapear os valores ausentes por classe e substitui-los pela média da idade de cada classe\n",
    "\n",
    "Corrigir_idade_a <- function(x) {\n",
    "  dados_testes$Age <- ifelse(is.na(dados_testes$Age), \n",
    "                       ifelse(dados_testes$Pclass == 1, 41,\n",
    "                              ifelse(dados_testes$Pclass == 2, 29, 24)), \n",
    "                       dados_testes$Age)\n",
    "  return(dados_testes)\n",
    "}"
   ]
  },
  {
   "cell_type": "code",
   "execution_count": 48,
   "id": "c7accd0a",
   "metadata": {},
   "outputs": [],
   "source": [
    "dados_testes_corrigido <-Corrigir_idade_a(dados_testes)"
   ]
  },
  {
   "cell_type": "code",
   "execution_count": 49,
   "id": "06157640",
   "metadata": {},
   "outputs": [
    {
     "data": {
      "text/html": [
       "<style>\n",
       ".dl-inline {width: auto; margin:0; padding: 0}\n",
       ".dl-inline>dt, .dl-inline>dd {float: none; width: auto; display: inline-block}\n",
       ".dl-inline>dt::after {content: \":\\0020\"; padding-right: .5ex}\n",
       ".dl-inline>dt:not(:first-of-type) {padding-left: .5ex}\n",
       "</style><dl class=dl-inline><dt>Pclass</dt><dd>0</dd><dt>Sex</dt><dd>0</dd><dt>Age</dt><dd>0</dd><dt>SibSp</dt><dd>0</dd><dt>Parch</dt><dd>0</dd><dt>Fare</dt><dd>1</dd><dt>Embarked</dt><dd>0</dd></dl>\n"
      ],
      "text/latex": [
       "\\begin{description*}\n",
       "\\item[Pclass] 0\n",
       "\\item[Sex] 0\n",
       "\\item[Age] 0\n",
       "\\item[SibSp] 0\n",
       "\\item[Parch] 0\n",
       "\\item[Fare] 1\n",
       "\\item[Embarked] 0\n",
       "\\end{description*}\n"
      ],
      "text/markdown": [
       "Pclass\n",
       ":   0Sex\n",
       ":   0Age\n",
       ":   0SibSp\n",
       ":   0Parch\n",
       ":   0Fare\n",
       ":   1Embarked\n",
       ":   0\n",
       "\n"
      ],
      "text/plain": [
       "  Pclass      Sex      Age    SibSp    Parch     Fare Embarked \n",
       "       0        0        0        0        0        1        0 "
      ]
     },
     "metadata": {},
     "output_type": "display_data"
    }
   ],
   "source": [
    "colSums(is.na(dados_testes_corrigido))"
   ]
  },
  {
   "cell_type": "code",
   "execution_count": 50,
   "id": "d5757ac2",
   "metadata": {},
   "outputs": [
    {
     "data": {
      "text/html": [
       "<table class=\"dataframe\">\n",
       "<caption>A data.frame: 10 × 7</caption>\n",
       "<thead>\n",
       "\t<tr><th></th><th scope=col>Pclass</th><th scope=col>Sex</th><th scope=col>Age</th><th scope=col>SibSp</th><th scope=col>Parch</th><th scope=col>Fare</th><th scope=col>Embarked</th></tr>\n",
       "\t<tr><th></th><th scope=col>&lt;int&gt;</th><th scope=col>&lt;chr&gt;</th><th scope=col>&lt;dbl&gt;</th><th scope=col>&lt;int&gt;</th><th scope=col>&lt;int&gt;</th><th scope=col>&lt;dbl&gt;</th><th scope=col>&lt;chr&gt;</th></tr>\n",
       "</thead>\n",
       "<tbody>\n",
       "\t<tr><th scope=row>1</th><td>3</td><td>male  </td><td>34.5</td><td>0</td><td>0</td><td> 7.8292</td><td>Q</td></tr>\n",
       "\t<tr><th scope=row>2</th><td>3</td><td>female</td><td>47.0</td><td>1</td><td>0</td><td> 7.0000</td><td>S</td></tr>\n",
       "\t<tr><th scope=row>3</th><td>2</td><td>male  </td><td>62.0</td><td>0</td><td>0</td><td> 9.6875</td><td>Q</td></tr>\n",
       "\t<tr><th scope=row>4</th><td>3</td><td>male  </td><td>27.0</td><td>0</td><td>0</td><td> 8.6625</td><td>S</td></tr>\n",
       "\t<tr><th scope=row>5</th><td>3</td><td>female</td><td>22.0</td><td>1</td><td>1</td><td>12.2875</td><td>S</td></tr>\n",
       "\t<tr><th scope=row>6</th><td>3</td><td>male  </td><td>14.0</td><td>0</td><td>0</td><td> 9.2250</td><td>S</td></tr>\n",
       "\t<tr><th scope=row>7</th><td>3</td><td>female</td><td>30.0</td><td>0</td><td>0</td><td> 7.6292</td><td>Q</td></tr>\n",
       "\t<tr><th scope=row>8</th><td>2</td><td>male  </td><td>26.0</td><td>1</td><td>1</td><td>29.0000</td><td>S</td></tr>\n",
       "\t<tr><th scope=row>9</th><td>3</td><td>female</td><td>18.0</td><td>0</td><td>0</td><td> 7.2292</td><td>C</td></tr>\n",
       "\t<tr><th scope=row>10</th><td>3</td><td>male  </td><td>21.0</td><td>2</td><td>0</td><td>24.1500</td><td>S</td></tr>\n",
       "</tbody>\n",
       "</table>\n"
      ],
      "text/latex": [
       "A data.frame: 10 × 7\n",
       "\\begin{tabular}{r|lllllll}\n",
       "  & Pclass & Sex & Age & SibSp & Parch & Fare & Embarked\\\\\n",
       "  & <int> & <chr> & <dbl> & <int> & <int> & <dbl> & <chr>\\\\\n",
       "\\hline\n",
       "\t1 & 3 & male   & 34.5 & 0 & 0 &  7.8292 & Q\\\\\n",
       "\t2 & 3 & female & 47.0 & 1 & 0 &  7.0000 & S\\\\\n",
       "\t3 & 2 & male   & 62.0 & 0 & 0 &  9.6875 & Q\\\\\n",
       "\t4 & 3 & male   & 27.0 & 0 & 0 &  8.6625 & S\\\\\n",
       "\t5 & 3 & female & 22.0 & 1 & 1 & 12.2875 & S\\\\\n",
       "\t6 & 3 & male   & 14.0 & 0 & 0 &  9.2250 & S\\\\\n",
       "\t7 & 3 & female & 30.0 & 0 & 0 &  7.6292 & Q\\\\\n",
       "\t8 & 2 & male   & 26.0 & 1 & 1 & 29.0000 & S\\\\\n",
       "\t9 & 3 & female & 18.0 & 0 & 0 &  7.2292 & C\\\\\n",
       "\t10 & 3 & male   & 21.0 & 2 & 0 & 24.1500 & S\\\\\n",
       "\\end{tabular}\n"
      ],
      "text/markdown": [
       "\n",
       "A data.frame: 10 × 7\n",
       "\n",
       "| <!--/--> | Pclass &lt;int&gt; | Sex &lt;chr&gt; | Age &lt;dbl&gt; | SibSp &lt;int&gt; | Parch &lt;int&gt; | Fare &lt;dbl&gt; | Embarked &lt;chr&gt; |\n",
       "|---|---|---|---|---|---|---|---|\n",
       "| 1 | 3 | male   | 34.5 | 0 | 0 |  7.8292 | Q |\n",
       "| 2 | 3 | female | 47.0 | 1 | 0 |  7.0000 | S |\n",
       "| 3 | 2 | male   | 62.0 | 0 | 0 |  9.6875 | Q |\n",
       "| 4 | 3 | male   | 27.0 | 0 | 0 |  8.6625 | S |\n",
       "| 5 | 3 | female | 22.0 | 1 | 1 | 12.2875 | S |\n",
       "| 6 | 3 | male   | 14.0 | 0 | 0 |  9.2250 | S |\n",
       "| 7 | 3 | female | 30.0 | 0 | 0 |  7.6292 | Q |\n",
       "| 8 | 2 | male   | 26.0 | 1 | 1 | 29.0000 | S |\n",
       "| 9 | 3 | female | 18.0 | 0 | 0 |  7.2292 | C |\n",
       "| 10 | 3 | male   | 21.0 | 2 | 0 | 24.1500 | S |\n",
       "\n"
      ],
      "text/plain": [
       "   Pclass Sex    Age  SibSp Parch Fare    Embarked\n",
       "1  3      male   34.5 0     0      7.8292 Q       \n",
       "2  3      female 47.0 1     0      7.0000 S       \n",
       "3  2      male   62.0 0     0      9.6875 Q       \n",
       "4  3      male   27.0 0     0      8.6625 S       \n",
       "5  3      female 22.0 1     1     12.2875 S       \n",
       "6  3      male   14.0 0     0      9.2250 S       \n",
       "7  3      female 30.0 0     0      7.6292 Q       \n",
       "8  2      male   26.0 1     1     29.0000 S       \n",
       "9  3      female 18.0 0     0      7.2292 C       \n",
       "10 3      male   21.0 2     0     24.1500 S       "
      ]
     },
     "metadata": {},
     "output_type": "display_data"
    }
   ],
   "source": [
    "head(dados_testes_corrigido,10)"
   ]
  },
  {
   "cell_type": "code",
   "execution_count": 51,
   "id": "76c8b1ad",
   "metadata": {},
   "outputs": [],
   "source": [
    "# Fazendo previsões no conjunto de teste\n",
    "previsoes <- predict(modelo1, newdata = dados_testes_corrigido, type = 'response')"
   ]
  },
  {
   "cell_type": "markdown",
   "id": "56a20491",
   "metadata": {},
   "source": [
    "**type = 'response':** Este argumento especifica o tipo de previsões desejado. No contexto de uma regressão logística, 'response' significa que você está interessado nas probabilidades previstas."
   ]
  },
  {
   "cell_type": "code",
   "execution_count": 52,
   "id": "a936e2e6",
   "metadata": {},
   "outputs": [
    {
     "data": {
      "text/html": [
       "<style>\n",
       ".dl-inline {width: auto; margin:0; padding: 0}\n",
       ".dl-inline>dt, .dl-inline>dd {float: none; width: auto; display: inline-block}\n",
       ".dl-inline>dt::after {content: \":\\0020\"; padding-right: .5ex}\n",
       ".dl-inline>dt:not(:first-of-type) {padding-left: .5ex}\n",
       "</style><dl class=dl-inline><dt>1</dt><dd>'não'</dd><dt>2</dt><dd>'não'</dd><dt>3</dt><dd>'não'</dd><dt>4</dt><dd>'não'</dd><dt>5</dt><dd>'sim'</dd><dt>6</dt><dd>'não'</dd><dt>7</dt><dd>'sim'</dd><dt>8</dt><dd>'não'</dd><dt>9</dt><dd>'sim'</dd><dt>10</dt><dd>'não'</dd><dt>11</dt><dd>'não'</dd><dt>12</dt><dd>'não'</dd><dt>13</dt><dd>'sim'</dd><dt>14</dt><dd>'não'</dd><dt>15</dt><dd>'sim'</dd><dt>16</dt><dd>'sim'</dd><dt>17</dt><dd>'não'</dd><dt>18</dt><dd>'não'</dd><dt>19</dt><dd>'sim'</dd><dt>20</dt><dd>'sim'</dd></dl>\n"
      ],
      "text/latex": [
       "\\begin{description*}\n",
       "\\item[1] 'não'\n",
       "\\item[2] 'não'\n",
       "\\item[3] 'não'\n",
       "\\item[4] 'não'\n",
       "\\item[5] 'sim'\n",
       "\\item[6] 'não'\n",
       "\\item[7] 'sim'\n",
       "\\item[8] 'não'\n",
       "\\item[9] 'sim'\n",
       "\\item[10] 'não'\n",
       "\\item[11] 'não'\n",
       "\\item[12] 'não'\n",
       "\\item[13] 'sim'\n",
       "\\item[14] 'não'\n",
       "\\item[15] 'sim'\n",
       "\\item[16] 'sim'\n",
       "\\item[17] 'não'\n",
       "\\item[18] 'não'\n",
       "\\item[19] 'sim'\n",
       "\\item[20] 'sim'\n",
       "\\end{description*}\n"
      ],
      "text/markdown": [
       "1\n",
       ":   'não'2\n",
       ":   'não'3\n",
       ":   'não'4\n",
       ":   'não'5\n",
       ":   'sim'6\n",
       ":   'não'7\n",
       ":   'sim'8\n",
       ":   'não'9\n",
       ":   'sim'10\n",
       ":   'não'11\n",
       ":   'não'12\n",
       ":   'não'13\n",
       ":   'sim'14\n",
       ":   'não'15\n",
       ":   'sim'16\n",
       ":   'sim'17\n",
       ":   'não'18\n",
       ":   'não'19\n",
       ":   'sim'20\n",
       ":   'sim'\n",
       "\n"
      ],
      "text/plain": [
       "    1     2     3     4     5     6     7     8     9    10    11    12    13 \n",
       "\"não\" \"não\" \"não\" \"não\" \"sim\" \"não\" \"sim\" \"não\" \"sim\" \"não\" \"não\" \"não\" \"sim\" \n",
       "   14    15    16    17    18    19    20 \n",
       "\"não\" \"sim\" \"sim\" \"não\" \"não\" \"sim\" \"sim\" "
      ]
     },
     "metadata": {},
     "output_type": "display_data"
    }
   ],
   "source": [
    "previsoes_sobreviventes <- ifelse(previsoes > 0.5, 'sim', 'não') #cutoff\n",
    "head(previsoes_sobreviventes,20)\n",
    "#Se a probabilidade for maior que 0.5, passageiro sobreviveu"
   ]
  },
  {
   "cell_type": "markdown",
   "id": "4caa9801",
   "metadata": {},
   "source": [
    "### Fazendo outro modelo para testar acurácia no dados de treino."
   ]
  },
  {
   "cell_type": "code",
   "execution_count": 53,
   "id": "0c803a1f",
   "metadata": {},
   "outputs": [
    {
     "name": "stderr",
     "output_type": "stream",
     "text": [
      "Warning message:\n",
      "\"package 'caTools' was built under R version 4.2.3\"\n"
     ]
    }
   ],
   "source": [
    "# Fazendo as previsoes nos dados de treino\n",
    "library(caTools)\n",
    "set.seed(101)"
   ]
  },
  {
   "cell_type": "code",
   "execution_count": 54,
   "id": "f0d32c8f",
   "metadata": {},
   "outputs": [],
   "source": [
    "# Split dos dados\n",
    "split = sample.split(treino_corrigido$Survived, SplitRatio = 0.70)"
   ]
  },
  {
   "cell_type": "code",
   "execution_count": 55,
   "id": "d29028ab",
   "metadata": {},
   "outputs": [],
   "source": [
    "# Datasets de treino e de teste\n",
    "dados_treino_final = subset(treino_corrigido, split == TRUE)\n",
    "dados_teste_final = subset(treino_corrigido, split == FALSE)"
   ]
  },
  {
   "cell_type": "code",
   "execution_count": 56,
   "id": "4a198f69",
   "metadata": {},
   "outputs": [
    {
     "data": {
      "text/html": [
       "<style>\n",
       ".list-inline {list-style: none; margin:0; padding: 0}\n",
       ".list-inline>li {display: inline-block}\n",
       ".list-inline>li:not(:last-child)::after {content: \"\\00b7\"; padding: 0 .5ex}\n",
       "</style>\n",
       "<ol class=list-inline><li>623</li><li>8</li></ol>\n"
      ],
      "text/latex": [
       "\\begin{enumerate*}\n",
       "\\item 623\n",
       "\\item 8\n",
       "\\end{enumerate*}\n"
      ],
      "text/markdown": [
       "1. 623\n",
       "2. 8\n",
       "\n",
       "\n"
      ],
      "text/plain": [
       "[1] 623   8"
      ]
     },
     "metadata": {},
     "output_type": "display_data"
    },
    {
     "data": {
      "text/html": [
       "<style>\n",
       ".list-inline {list-style: none; margin:0; padding: 0}\n",
       ".list-inline>li {display: inline-block}\n",
       ".list-inline>li:not(:last-child)::after {content: \"\\00b7\"; padding: 0 .5ex}\n",
       "</style>\n",
       "<ol class=list-inline><li>268</li><li>8</li></ol>\n"
      ],
      "text/latex": [
       "\\begin{enumerate*}\n",
       "\\item 268\n",
       "\\item 8\n",
       "\\end{enumerate*}\n"
      ],
      "text/markdown": [
       "1. 268\n",
       "2. 8\n",
       "\n",
       "\n"
      ],
      "text/plain": [
       "[1] 268   8"
      ]
     },
     "metadata": {},
     "output_type": "display_data"
    }
   ],
   "source": [
    "dim(dados_treino_final)\n",
    "dim(dados_teste_final)"
   ]
  },
  {
   "cell_type": "code",
   "execution_count": 57,
   "id": "14ae9ebc",
   "metadata": {},
   "outputs": [],
   "source": [
    "# Treinando o novo modelo\n",
    "modelo2 <- glm(Survived ~ . , family = binomial(link = 'logit'), data = dados_treino_final)"
   ]
  },
  {
   "cell_type": "code",
   "execution_count": 58,
   "id": "b4123e79",
   "metadata": {},
   "outputs": [
    {
     "data": {
      "text/plain": [
       "\n",
       "Call:\n",
       "glm(formula = Survived ~ ., family = binomial(link = \"logit\"), \n",
       "    data = dados_treino_final)\n",
       "\n",
       "Deviance Residuals: \n",
       "    Min       1Q   Median       3Q      Max  \n",
       "-2.7816  -0.5770  -0.4062   0.6509   2.4956  \n",
       "\n",
       "Coefficients:\n",
       "              Estimate Std. Error z value Pr(>|z|)    \n",
       "(Intercept)  16.064635 535.411466   0.030  0.97606    \n",
       "Pclass       -1.133155   0.180074  -6.293 3.12e-10 ***\n",
       "Sexmale      -2.698701   0.239872 -11.251  < 2e-16 ***\n",
       "Age          -0.041406   0.009575  -4.325 1.53e-05 ***\n",
       "SibSp        -0.334935   0.128546  -2.606  0.00917 ** \n",
       "Parch         0.066127   0.146064   0.453  0.65075    \n",
       "Fare          0.002600   0.002833   0.918  0.35881    \n",
       "EmbarkedC   -10.719197 535.411280  -0.020  0.98403    \n",
       "EmbarkedQ   -10.721043 535.411368  -0.020  0.98402    \n",
       "EmbarkedS   -11.192632 535.411256  -0.021  0.98332    \n",
       "---\n",
       "Signif. codes:  0 '***' 0.001 '**' 0.01 '*' 0.05 '.' 0.1 ' ' 1\n",
       "\n",
       "(Dispersion parameter for binomial family taken to be 1)\n",
       "\n",
       "    Null deviance: 829.6  on 622  degrees of freedom\n",
       "Residual deviance: 544.5  on 613  degrees of freedom\n",
       "AIC: 564.5\n",
       "\n",
       "Number of Fisher Scoring iterations: 12\n"
      ]
     },
     "metadata": {},
     "output_type": "display_data"
    }
   ],
   "source": [
    "summary(modelo2)"
   ]
  },
  {
   "cell_type": "code",
   "execution_count": 59,
   "id": "d9ca7aba",
   "metadata": {},
   "outputs": [],
   "source": [
    "# Fazendo previsões no conjunto de teste\n",
    "previsoes <- predict(modelo1, newdata = dados_teste_final, type = 'response')"
   ]
  },
  {
   "cell_type": "code",
   "execution_count": 60,
   "id": "9d2efa69",
   "metadata": {},
   "outputs": [
    {
     "data": {
      "text/html": [
       "<style>\n",
       ".dl-inline {width: auto; margin:0; padding: 0}\n",
       ".dl-inline>dt, .dl-inline>dd {float: none; width: auto; display: inline-block}\n",
       ".dl-inline>dt::after {content: \":\\0020\"; padding-right: .5ex}\n",
       ".dl-inline>dt:not(:first-of-type) {padding-left: .5ex}\n",
       "</style><dl class=dl-inline><dt>4</dt><dd>0.902120972965393</dd><dt>6</dt><dd>0.13405190134326</dd><dt>12</dt><dd>0.820511968412868</dd><dt>21</dt><dd>0.198166587714048</dd><dt>22</dt><dd>0.201522946212803</dd><dt>24</dt><dd>0.527080744730262</dd></dl>\n"
      ],
      "text/latex": [
       "\\begin{description*}\n",
       "\\item[4] 0.902120972965393\n",
       "\\item[6] 0.13405190134326\n",
       "\\item[12] 0.820511968412868\n",
       "\\item[21] 0.198166587714048\n",
       "\\item[22] 0.201522946212803\n",
       "\\item[24] 0.527080744730262\n",
       "\\end{description*}\n"
      ],
      "text/markdown": [
       "4\n",
       ":   0.9021209729653936\n",
       ":   0.1340519013432612\n",
       ":   0.82051196841286821\n",
       ":   0.19816658771404822\n",
       ":   0.20152294621280324\n",
       ":   0.527080744730262\n",
       "\n"
      ],
      "text/plain": [
       "        4         6        12        21        22        24 \n",
       "0.9021210 0.1340519 0.8205120 0.1981666 0.2015229 0.5270807 "
      ]
     },
     "metadata": {},
     "output_type": "display_data"
    }
   ],
   "source": [
    "head(previsoes)"
   ]
  },
  {
   "cell_type": "code",
   "execution_count": 61,
   "id": "f0b3cd81",
   "metadata": {},
   "outputs": [
    {
     "data": {
      "text/html": [
       "<style>\n",
       ".dl-inline {width: auto; margin:0; padding: 0}\n",
       ".dl-inline>dt, .dl-inline>dd {float: none; width: auto; display: inline-block}\n",
       ".dl-inline>dt::after {content: \":\\0020\"; padding-right: .5ex}\n",
       ".dl-inline>dt:not(:first-of-type) {padding-left: .5ex}\n",
       "</style><dl class=dl-inline><dt>4</dt><dd>1</dd><dt>6</dt><dd>0</dd><dt>12</dt><dd>1</dd><dt>21</dt><dd>0</dd><dt>22</dt><dd>0</dd><dt>24</dt><dd>1</dd></dl>\n"
      ],
      "text/latex": [
       "\\begin{description*}\n",
       "\\item[4] 1\n",
       "\\item[6] 0\n",
       "\\item[12] 1\n",
       "\\item[21] 0\n",
       "\\item[22] 0\n",
       "\\item[24] 1\n",
       "\\end{description*}\n"
      ],
      "text/markdown": [
       "4\n",
       ":   16\n",
       ":   012\n",
       ":   121\n",
       ":   022\n",
       ":   024\n",
       ":   1\n",
       "\n"
      ],
      "text/plain": [
       " 4  6 12 21 22 24 \n",
       " 1  0  1  0  0  1 "
      ]
     },
     "metadata": {},
     "output_type": "display_data"
    }
   ],
   "source": [
    "previsoes_sobreviventes <- ifelse(previsoes > 0.5, 1, 0) #cutoff:1 sobreviveu, 0: não sobreviveu\n",
    "head(previsoes_sobreviventes)"
   ]
  },
  {
   "cell_type": "code",
   "execution_count": 62,
   "id": "55375cf1",
   "metadata": {},
   "outputs": [
    {
     "name": "stdout",
     "output_type": "stream",
     "text": [
      "[1] \"Acuracia 0.794776119402985\"\n"
     ]
    }
   ],
   "source": [
    "# Conseguimos quase 80% de acurácia\n",
    "Acuracia <- mean(previsoes_sobreviventes != dados_teste_final$Survived)\n",
    "print(paste('Acuracia', 1-Acuracia))"
   ]
  },
  {
   "cell_type": "code",
   "execution_count": 63,
   "id": "8f515cb2",
   "metadata": {},
   "outputs": [
    {
     "data": {
      "text/plain": [
       "   previsoes_sobreviventes\n",
       "      0   1\n",
       "  0 141  24\n",
       "  1  31  72"
      ]
     },
     "metadata": {},
     "output_type": "display_data"
    }
   ],
   "source": [
    "# Criando a confusion matrix\n",
    "table(dados_teste_final$Survived, previsoes_sobreviventes)"
   ]
  },
  {
   "cell_type": "markdown",
   "id": "3a0708e0",
   "metadata": {},
   "source": [
    "### Na matriz de confusão devemos olhar para diagonal principal, desta forma:\n",
    "- Isso significa que o modelo corretamente previu 72 instâncias como positivas, e essas instâncias realmente pertenciam à classe positiva (1). 72 passageiros realmente sobreviveram;\n",
    "- O modelo corretamente previu 141 instâncias como negativas, e essas instâncias realmente pertenciam à classe negativa (0). 141 passageiros não sobreviveram;\n",
    "- O modelo erroneamente previu 31 instâncias como negativas, mas essas instâncias realmente pertenciam à classe positiva (1).\n",
    "- O modelo erroneamente previu 24 instâncias como positivas, mas essas instâncias realmente pertenciam à classe negativa (0)."
   ]
  },
  {
   "cell_type": "code",
   "execution_count": 64,
   "id": "ab7c697d",
   "metadata": {},
   "outputs": [
    {
     "name": "stderr",
     "output_type": "stream",
     "text": [
      "Warning message:\n",
      "\"package 'caret' was built under R version 4.2.3\"\n",
      "Carregando pacotes exigidos: lattice\n",
      "\n",
      "Warning message:\n",
      "\"package 'lattice' was built under R version 4.2.3\"\n"
     ]
    }
   ],
   "source": [
    "#Também  podemos avaliar o modelo preditivo com o pacote caret: matriz de confusão e acurácia.\n",
    "library(caret)"
   ]
  },
  {
   "cell_type": "code",
   "execution_count": 65,
   "id": "26725ec7",
   "metadata": {
    "scrolled": true
   },
   "outputs": [
    {
     "name": "stdout",
     "output_type": "stream",
     "text": [
      "Confusion Matrix and Statistics\n",
      "\n",
      "          Reference\n",
      "Prediction   0   1\n",
      "         0 141  31\n",
      "         1  24  72\n",
      "                                          \n",
      "               Accuracy : 0.7948          \n",
      "                 95% CI : (0.7414, 0.8415)\n",
      "    No Information Rate : 0.6157          \n",
      "    P-Value [Acc > NIR] : 2.35e-10        \n",
      "                                          \n",
      "                  Kappa : 0.5607          \n",
      "                                          \n",
      " Mcnemar's Test P-Value : 0.4185          \n",
      "                                          \n",
      "            Sensitivity : 0.8545          \n",
      "            Specificity : 0.6990          \n",
      "         Pos Pred Value : 0.8198          \n",
      "         Neg Pred Value : 0.7500          \n",
      "             Prevalence : 0.6157          \n",
      "         Detection Rate : 0.5261          \n",
      "   Detection Prevalence : 0.6418          \n",
      "      Balanced Accuracy : 0.7768          \n",
      "                                          \n",
      "       'Positive' Class : 0               \n",
      "                                          \n"
     ]
    }
   ],
   "source": [
    "# Matriz de confusão\n",
    "matriz_confusao <- confusionMatrix(as.factor(previsoes_sobreviventes), as.factor(dados_teste_final$Survived))\n",
    "print(matriz_confusao)"
   ]
  }
 ],
 "metadata": {
  "kernelspec": {
   "display_name": "R",
   "language": "R",
   "name": "ir"
  },
  "language_info": {
   "codemirror_mode": "r",
   "file_extension": ".r",
   "mimetype": "text/x-r-source",
   "name": "R",
   "pygments_lexer": "r",
   "version": "4.2.2"
  }
 },
 "nbformat": 4,
 "nbformat_minor": 5
}
