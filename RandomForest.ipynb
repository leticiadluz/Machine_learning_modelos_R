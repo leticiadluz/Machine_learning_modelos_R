{
 "cells": [
  {
   "cell_type": "markdown",
   "id": "7ccc4f52",
   "metadata": {},
   "source": [
    "### Feature Selection\n",
    "\n",
    "**A seleção de características, ou feature selection** em inglês, refere-se ao processo de escolher um subconjunto relevante de características (variáveis, atributos) de um conjunto de dados mais amplo. Em muitos problemas de análise de dados e aprendizado de máquina, os conjuntos de dados podem conter uma grande quantidade de características, algumas das quais podem ser redundantes, irrelevantes ou até mesmo prejudiciais para o desempenho do modelo."
   ]
  },
  {
   "cell_type": "code",
   "execution_count": 1,
   "id": "e85cb9a2",
   "metadata": {},
   "outputs": [
    {
     "name": "stderr",
     "output_type": "stream",
     "text": [
      "Warning message:\n",
      "\"package 'readr' was built under R version 4.2.3\"\n"
     ]
    }
   ],
   "source": [
    "library(readr)"
   ]
  },
  {
   "cell_type": "code",
   "execution_count": 2,
   "id": "dffa7bef",
   "metadata": {},
   "outputs": [
    {
     "name": "stderr",
     "output_type": "stream",
     "text": [
      "\u001b[1mRows: \u001b[22m\u001b[34m500\u001b[39m \u001b[1mColumns: \u001b[22m\u001b[34m4\u001b[39m\n",
      "\u001b[36m──\u001b[39m \u001b[1mColumn specification\u001b[22m \u001b[36m────────────────────────────────────────────────────────────────────────────────────────────────\u001b[39m\n",
      "\u001b[1mDelimiter:\u001b[22m \",\"\n",
      "\u001b[32mdbl\u001b[39m (4): valor_gasto_campanha, numero_visualizacoes, numero_cliques, usuario...\n",
      "\n",
      "\u001b[36mℹ\u001b[39m Use `spec()` to retrieve the full column specification for this data.\n",
      "\u001b[36mℹ\u001b[39m Specify the column types or set `show_col_types = FALSE` to quiet this message.\n"
     ]
    },
    {
     "data": {
      "text/html": [
       "<table class=\"dataframe\">\n",
       "<caption>A tibble: 6 × 4</caption>\n",
       "<thead>\n",
       "\t<tr><th scope=col>valor_gasto_campanha</th><th scope=col>numero_visualizacoes</th><th scope=col>numero_cliques</th><th scope=col>usuarios_convertidos</th></tr>\n",
       "\t<tr><th scope=col>&lt;dbl&gt;</th><th scope=col>&lt;dbl&gt;</th><th scope=col>&lt;dbl&gt;</th><th scope=col>&lt;dbl&gt;</th></tr>\n",
       "</thead>\n",
       "<tbody>\n",
       "\t<tr><td> 875</td><td>4390</td><td>54</td><td>30</td></tr>\n",
       "\t<tr><td>1451</td><td>7120</td><td>90</td><td>72</td></tr>\n",
       "\t<tr><td>1232</td><td>6198</td><td>67</td><td>47</td></tr>\n",
       "\t<tr><td>1099</td><td>5554</td><td>70</td><td>63</td></tr>\n",
       "\t<tr><td> 656</td><td>3336</td><td>41</td><td>34</td></tr>\n",
       "\t<tr><td> 656</td><td>3388</td><td>34</td><td>18</td></tr>\n",
       "</tbody>\n",
       "</table>\n"
      ],
      "text/latex": [
       "A tibble: 6 × 4\n",
       "\\begin{tabular}{llll}\n",
       " valor\\_gasto\\_campanha & numero\\_visualizacoes & numero\\_cliques & usuarios\\_convertidos\\\\\n",
       " <dbl> & <dbl> & <dbl> & <dbl>\\\\\n",
       "\\hline\n",
       "\t  875 & 4390 & 54 & 30\\\\\n",
       "\t 1451 & 7120 & 90 & 72\\\\\n",
       "\t 1232 & 6198 & 67 & 47\\\\\n",
       "\t 1099 & 5554 & 70 & 63\\\\\n",
       "\t  656 & 3336 & 41 & 34\\\\\n",
       "\t  656 & 3388 & 34 & 18\\\\\n",
       "\\end{tabular}\n"
      ],
      "text/markdown": [
       "\n",
       "A tibble: 6 × 4\n",
       "\n",
       "| valor_gasto_campanha &lt;dbl&gt; | numero_visualizacoes &lt;dbl&gt; | numero_cliques &lt;dbl&gt; | usuarios_convertidos &lt;dbl&gt; |\n",
       "|---|---|---|---|\n",
       "|  875 | 4390 | 54 | 30 |\n",
       "| 1451 | 7120 | 90 | 72 |\n",
       "| 1232 | 6198 | 67 | 47 |\n",
       "| 1099 | 5554 | 70 | 63 |\n",
       "|  656 | 3336 | 41 | 34 |\n",
       "|  656 | 3388 | 34 | 18 |\n",
       "\n"
      ],
      "text/plain": [
       "  valor_gasto_campanha numero_visualizacoes numero_cliques usuarios_convertidos\n",
       "1  875                 4390                 54             30                  \n",
       "2 1451                 7120                 90             72                  \n",
       "3 1232                 6198                 67             47                  \n",
       "4 1099                 5554                 70             63                  \n",
       "5  656                 3336                 41             34                  \n",
       "6  656                 3388                 34             18                  "
      ]
     },
     "metadata": {},
     "output_type": "display_data"
    },
    {
     "data": {
      "text/html": [
       "<style>\n",
       ".list-inline {list-style: none; margin:0; padding: 0}\n",
       ".list-inline>li {display: inline-block}\n",
       ".list-inline>li:not(:last-child)::after {content: \"\\00b7\"; padding: 0 .5ex}\n",
       "</style>\n",
       "<ol class=list-inline><li>500</li><li>4</li></ol>\n"
      ],
      "text/latex": [
       "\\begin{enumerate*}\n",
       "\\item 500\n",
       "\\item 4\n",
       "\\end{enumerate*}\n"
      ],
      "text/markdown": [
       "1. 500\n",
       "2. 4\n",
       "\n",
       "\n"
      ],
      "text/plain": [
       "[1] 500   4"
      ]
     },
     "metadata": {},
     "output_type": "display_data"
    }
   ],
   "source": [
    "#Usaremos o mesmo Dataset usado para prever o numero de usuários convertidos- Marketing Digital;\n",
    "df_md <- read_csv('dataset.csv')\n",
    "head(df_md)\n",
    "dim(df_md)"
   ]
  },
  {
   "cell_type": "code",
   "execution_count": 3,
   "id": "4532ded0",
   "metadata": {},
   "outputs": [
    {
     "name": "stderr",
     "output_type": "stream",
     "text": [
      "Warning message:\n",
      "\"package 'randomForest' was built under R version 4.2.3\"\n",
      "randomForest 4.7-1.1\n",
      "\n",
      "Type rfNews() to see new features/changes/bug fixes.\n",
      "\n"
     ]
    }
   ],
   "source": [
    "library(randomForest)"
   ]
  },
  {
   "cell_type": "markdown",
   "id": "81ce8758",
   "metadata": {},
   "source": [
    "### A ideia principal por trás do RandomForest é criar várias árvores de decisão durante o treinamento e, em seguida, combinar suas previsões para obter uma previsão mais robusta e geral. Cada árvore de decisão é treinada em uma amostra aleatória do conjunto de dados e faz previsões independentes."
   ]
  },
  {
   "cell_type": "code",
   "execution_count": 4,
   "id": "9196b03d",
   "metadata": {},
   "outputs": [],
   "source": [
    "# Avalidando a importância de todas as variaveis\n",
    "modelo1 <- randomForest(usuarios_convertidos ~ . , \n",
    "                       data = df_md, \n",
    "                       ntree = 100, \n",
    "                       nodesize = 10,\n",
    "                       importance = TRUE)"
   ]
  },
  {
   "cell_type": "code",
   "execution_count": 5,
   "id": "bd9d7dcf",
   "metadata": {},
   "outputs": [
    {
     "data": {
      "image/png": "[encoded data removed]",
      "text/plain": [
       "plot without title"
      ]
     },
     "metadata": {
      "image/png": {
       "height": 420,
       "width": 420
      }
     },
     "output_type": "display_data"
    }
   ],
   "source": [
    "# Plotando as variáveis por grau de importância\n",
    "varImpPlot(modelo1)"
   ]
  },
  {
   "cell_type": "markdown",
   "id": "31d21e6a",
   "metadata": {},
   "source": [
    "#### Ao utilizar o algoritmo de floresta aleatória, a importância das características pode ser avaliada através da métrica denominada \"incMSE\" (Incremento na Soma dos Quadrados dos Erros) ou \"incNodePurity\" (Incremento na Pureza do Nó), dependendo da biblioteca ou implementação específica. Essa métrica é usada para avaliar a contribuição relativa de cada característica no processo de tomada de decisão da floresta aleatória. Quanto maior o valor de incMSE ou incNodePurity para uma determinada característica, mais importante ela é considerada para o modelo.\n",
    "### Na representação gráfica, normalmente, quanto mais à direita uma característica estiver nessa tabela ou gráfico, mais importante ela é."
   ]
  },
  {
   "cell_type": "code",
   "execution_count": 6,
   "id": "ec90ef60",
   "metadata": {},
   "outputs": [],
   "source": [
    "# Avalidando a importância de todas as variaveis\n",
    "modelo2 <- randomForest(usuarios_convertidos ~ numero_cliques + valor_gasto_campanha , \n",
    "                       data = df_md, \n",
    "                       ntree = 100, \n",
    "                       nodesize = 10,\n",
    "                       importance = TRUE)"
   ]
  },
  {
   "cell_type": "code",
   "execution_count": 7,
   "id": "909941c2",
   "metadata": {},
   "outputs": [
    {
     "data": {
      "image/png": "[encoded data removed]",
      "text/plain": [
       "plot without title"
      ]
     },
     "metadata": {
      "image/png": {
       "height": 420,
       "width": 420
      }
     },
     "output_type": "display_data"
    }
   ],
   "source": [
    "varImpPlot(modelo2)"
   ]
  }
 ],
 "metadata": {
  "kernelspec": {
   "display_name": "R",
   "language": "R",
   "name": "ir"
  },
  "language_info": {
   "codemirror_mode": "r",
   "file_extension": ".r",
   "mimetype": "text/x-r-source",
   "name": "R",
   "pygments_lexer": "r",
   "version": "4.2.2"
  }
 },
 "nbformat": 4,
 "nbformat_minor": 5
}
