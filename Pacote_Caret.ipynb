{
 "cells": [
  {
   "cell_type": "markdown",
   "id": "7e24137c",
   "metadata": {},
   "source": [
    "### Usando o Pacote Caret Para Criar Modelos de Machine Learning em R"
   ]
  },
  {
   "cell_type": "code",
   "execution_count": 1,
   "id": "3629b0bb",
   "metadata": {},
   "outputs": [
    {
     "name": "stderr",
     "output_type": "stream",
     "text": [
      "Warning message:\n",
      "\"package 'caret' was built under R version 4.2.3\"\n",
      "Carregando pacotes exigidos: ggplot2\n",
      "\n",
      "Warning message:\n",
      "\"package 'ggplot2' was built under R version 4.2.3\"\n",
      "Carregando pacotes exigidos: lattice\n",
      "\n",
      "Warning message:\n",
      "\"package 'lattice' was built under R version 4.2.3\"\n",
      "Warning message:\n",
      "\"package 'randomForest' was built under R version 4.2.3\"\n",
      "randomForest 4.7-1.1\n",
      "\n",
      "Type rfNews() to see new features/changes/bug fixes.\n",
      "\n",
      "\n",
      "Attaching package: 'randomForest'\n",
      "\n",
      "\n",
      "The following object is masked from 'package:ggplot2':\n",
      "\n",
      "    margin\n",
      "\n",
      "\n"
     ]
    }
   ],
   "source": [
    "library(caret)\n",
    "library(randomForest)\n",
    "library(datasets)"
   ]
  },
  {
   "cell_type": "code",
   "execution_count": 2,
   "id": "24091cb5",
   "metadata": {},
   "outputs": [
    {
     "data": {
      "text/html": [
       "<table class=\"dataframe\">\n",
       "<caption>A data.frame: 10 × 11</caption>\n",
       "<thead>\n",
       "\t<tr><th></th><th scope=col>mpg</th><th scope=col>cyl</th><th scope=col>disp</th><th scope=col>hp</th><th scope=col>drat</th><th scope=col>wt</th><th scope=col>qsec</th><th scope=col>vs</th><th scope=col>am</th><th scope=col>gear</th><th scope=col>carb</th></tr>\n",
       "\t<tr><th></th><th scope=col>&lt;dbl&gt;</th><th scope=col>&lt;dbl&gt;</th><th scope=col>&lt;dbl&gt;</th><th scope=col>&lt;dbl&gt;</th><th scope=col>&lt;dbl&gt;</th><th scope=col>&lt;dbl&gt;</th><th scope=col>&lt;dbl&gt;</th><th scope=col>&lt;dbl&gt;</th><th scope=col>&lt;dbl&gt;</th><th scope=col>&lt;dbl&gt;</th><th scope=col>&lt;dbl&gt;</th></tr>\n",
       "</thead>\n",
       "<tbody>\n",
       "\t<tr><th scope=row>Mazda RX4</th><td>21.0</td><td>6</td><td>160.0</td><td>110</td><td>3.90</td><td>2.620</td><td>16.46</td><td>0</td><td>1</td><td>4</td><td>4</td></tr>\n",
       "\t<tr><th scope=row>Mazda RX4 Wag</th><td>21.0</td><td>6</td><td>160.0</td><td>110</td><td>3.90</td><td>2.875</td><td>17.02</td><td>0</td><td>1</td><td>4</td><td>4</td></tr>\n",
       "\t<tr><th scope=row>Datsun 710</th><td>22.8</td><td>4</td><td>108.0</td><td> 93</td><td>3.85</td><td>2.320</td><td>18.61</td><td>1</td><td>1</td><td>4</td><td>1</td></tr>\n",
       "\t<tr><th scope=row>Hornet 4 Drive</th><td>21.4</td><td>6</td><td>258.0</td><td>110</td><td>3.08</td><td>3.215</td><td>19.44</td><td>1</td><td>0</td><td>3</td><td>1</td></tr>\n",
       "\t<tr><th scope=row>Hornet Sportabout</th><td>18.7</td><td>8</td><td>360.0</td><td>175</td><td>3.15</td><td>3.440</td><td>17.02</td><td>0</td><td>0</td><td>3</td><td>2</td></tr>\n",
       "\t<tr><th scope=row>Valiant</th><td>18.1</td><td>6</td><td>225.0</td><td>105</td><td>2.76</td><td>3.460</td><td>20.22</td><td>1</td><td>0</td><td>3</td><td>1</td></tr>\n",
       "\t<tr><th scope=row>Duster 360</th><td>14.3</td><td>8</td><td>360.0</td><td>245</td><td>3.21</td><td>3.570</td><td>15.84</td><td>0</td><td>0</td><td>3</td><td>4</td></tr>\n",
       "\t<tr><th scope=row>Merc 240D</th><td>24.4</td><td>4</td><td>146.7</td><td> 62</td><td>3.69</td><td>3.190</td><td>20.00</td><td>1</td><td>0</td><td>4</td><td>2</td></tr>\n",
       "\t<tr><th scope=row>Merc 230</th><td>22.8</td><td>4</td><td>140.8</td><td> 95</td><td>3.92</td><td>3.150</td><td>22.90</td><td>1</td><td>0</td><td>4</td><td>2</td></tr>\n",
       "\t<tr><th scope=row>Merc 280</th><td>19.2</td><td>6</td><td>167.6</td><td>123</td><td>3.92</td><td>3.440</td><td>18.30</td><td>1</td><td>0</td><td>4</td><td>4</td></tr>\n",
       "</tbody>\n",
       "</table>\n"
      ],
      "text/latex": [
       "A data.frame: 10 × 11\n",
       "\\begin{tabular}{r|lllllllllll}\n",
       "  & mpg & cyl & disp & hp & drat & wt & qsec & vs & am & gear & carb\\\\\n",
       "  & <dbl> & <dbl> & <dbl> & <dbl> & <dbl> & <dbl> & <dbl> & <dbl> & <dbl> & <dbl> & <dbl>\\\\\n",
       "\\hline\n",
       "\tMazda RX4 & 21.0 & 6 & 160.0 & 110 & 3.90 & 2.620 & 16.46 & 0 & 1 & 4 & 4\\\\\n",
       "\tMazda RX4 Wag & 21.0 & 6 & 160.0 & 110 & 3.90 & 2.875 & 17.02 & 0 & 1 & 4 & 4\\\\\n",
       "\tDatsun 710 & 22.8 & 4 & 108.0 &  93 & 3.85 & 2.320 & 18.61 & 1 & 1 & 4 & 1\\\\\n",
       "\tHornet 4 Drive & 21.4 & 6 & 258.0 & 110 & 3.08 & 3.215 & 19.44 & 1 & 0 & 3 & 1\\\\\n",
       "\tHornet Sportabout & 18.7 & 8 & 360.0 & 175 & 3.15 & 3.440 & 17.02 & 0 & 0 & 3 & 2\\\\\n",
       "\tValiant & 18.1 & 6 & 225.0 & 105 & 2.76 & 3.460 & 20.22 & 1 & 0 & 3 & 1\\\\\n",
       "\tDuster 360 & 14.3 & 8 & 360.0 & 245 & 3.21 & 3.570 & 15.84 & 0 & 0 & 3 & 4\\\\\n",
       "\tMerc 240D & 24.4 & 4 & 146.7 &  62 & 3.69 & 3.190 & 20.00 & 1 & 0 & 4 & 2\\\\\n",
       "\tMerc 230 & 22.8 & 4 & 140.8 &  95 & 3.92 & 3.150 & 22.90 & 1 & 0 & 4 & 2\\\\\n",
       "\tMerc 280 & 19.2 & 6 & 167.6 & 123 & 3.92 & 3.440 & 18.30 & 1 & 0 & 4 & 4\\\\\n",
       "\\end{tabular}\n"
      ],
      "text/markdown": [
       "\n",
       "A data.frame: 10 × 11\n",
       "\n",
       "| <!--/--> | mpg &lt;dbl&gt; | cyl &lt;dbl&gt; | disp &lt;dbl&gt; | hp &lt;dbl&gt; | drat &lt;dbl&gt; | wt &lt;dbl&gt; | qsec &lt;dbl&gt; | vs &lt;dbl&gt; | am &lt;dbl&gt; | gear &lt;dbl&gt; | carb &lt;dbl&gt; |\n",
       "|---|---|---|---|---|---|---|---|---|---|---|---|\n",
       "| Mazda RX4 | 21.0 | 6 | 160.0 | 110 | 3.90 | 2.620 | 16.46 | 0 | 1 | 4 | 4 |\n",
       "| Mazda RX4 Wag | 21.0 | 6 | 160.0 | 110 | 3.90 | 2.875 | 17.02 | 0 | 1 | 4 | 4 |\n",
       "| Datsun 710 | 22.8 | 4 | 108.0 |  93 | 3.85 | 2.320 | 18.61 | 1 | 1 | 4 | 1 |\n",
       "| Hornet 4 Drive | 21.4 | 6 | 258.0 | 110 | 3.08 | 3.215 | 19.44 | 1 | 0 | 3 | 1 |\n",
       "| Hornet Sportabout | 18.7 | 8 | 360.0 | 175 | 3.15 | 3.440 | 17.02 | 0 | 0 | 3 | 2 |\n",
       "| Valiant | 18.1 | 6 | 225.0 | 105 | 2.76 | 3.460 | 20.22 | 1 | 0 | 3 | 1 |\n",
       "| Duster 360 | 14.3 | 8 | 360.0 | 245 | 3.21 | 3.570 | 15.84 | 0 | 0 | 3 | 4 |\n",
       "| Merc 240D | 24.4 | 4 | 146.7 |  62 | 3.69 | 3.190 | 20.00 | 1 | 0 | 4 | 2 |\n",
       "| Merc 230 | 22.8 | 4 | 140.8 |  95 | 3.92 | 3.150 | 22.90 | 1 | 0 | 4 | 2 |\n",
       "| Merc 280 | 19.2 | 6 | 167.6 | 123 | 3.92 | 3.440 | 18.30 | 1 | 0 | 4 | 4 |\n",
       "\n"
      ],
      "text/plain": [
       "                  mpg  cyl disp  hp  drat wt    qsec  vs am gear carb\n",
       "Mazda RX4         21.0 6   160.0 110 3.90 2.620 16.46 0  1  4    4   \n",
       "Mazda RX4 Wag     21.0 6   160.0 110 3.90 2.875 17.02 0  1  4    4   \n",
       "Datsun 710        22.8 4   108.0  93 3.85 2.320 18.61 1  1  4    1   \n",
       "Hornet 4 Drive    21.4 6   258.0 110 3.08 3.215 19.44 1  0  3    1   \n",
       "Hornet Sportabout 18.7 8   360.0 175 3.15 3.440 17.02 0  0  3    2   \n",
       "Valiant           18.1 6   225.0 105 2.76 3.460 20.22 1  0  3    1   \n",
       "Duster 360        14.3 8   360.0 245 3.21 3.570 15.84 0  0  3    4   \n",
       "Merc 240D         24.4 4   146.7  62 3.69 3.190 20.00 1  0  4    2   \n",
       "Merc 230          22.8 4   140.8  95 3.92 3.150 22.90 1  0  4    2   \n",
       "Merc 280          19.2 6   167.6 123 3.92 3.440 18.30 1  0  4    4   "
      ]
     },
     "metadata": {},
     "output_type": "display_data"
    },
    {
     "data": {
      "text/html": [
       "<style>\n",
       ".list-inline {list-style: none; margin:0; padding: 0}\n",
       ".list-inline>li {display: inline-block}\n",
       ".list-inline>li:not(:last-child)::after {content: \"\\00b7\"; padding: 0 .5ex}\n",
       "</style>\n",
       "<ol class=list-inline><li>32</li><li>11</li></ol>\n"
      ],
      "text/latex": [
       "\\begin{enumerate*}\n",
       "\\item 32\n",
       "\\item 11\n",
       "\\end{enumerate*}\n"
      ],
      "text/markdown": [
       "1. 32\n",
       "2. 11\n",
       "\n",
       "\n"
      ],
      "text/plain": [
       "[1] 32 11"
      ]
     },
     "metadata": {},
     "output_type": "display_data"
    }
   ],
   "source": [
    "#Usando o dataset mtcars\n",
    "head(mtcars,10)\n",
    "dim(mtcars)"
   ]
  },
  {
   "cell_type": "code",
   "execution_count": 3,
   "id": "15e82eaa",
   "metadata": {},
   "outputs": [],
   "source": [
    "set.seed(50)  # para reprodutibilidade\n",
    "#Usando o pacote Caret para dividir os dados, 70% dos dados para treino\n",
    "split <- createDataPartition(y= mtcars$mpg, p =0.7, list=FALSE)"
   ]
  },
  {
   "cell_type": "code",
   "execution_count": 4,
   "id": "0b5b8b88",
   "metadata": {},
   "outputs": [
    {
     "data": {
      "text/html": [
       "<table class=\"dataframe\">\n",
       "<caption>A data.frame: 6 × 11</caption>\n",
       "<thead>\n",
       "\t<tr><th></th><th scope=col>mpg</th><th scope=col>cyl</th><th scope=col>disp</th><th scope=col>hp</th><th scope=col>drat</th><th scope=col>wt</th><th scope=col>qsec</th><th scope=col>vs</th><th scope=col>am</th><th scope=col>gear</th><th scope=col>carb</th></tr>\n",
       "\t<tr><th></th><th scope=col>&lt;dbl&gt;</th><th scope=col>&lt;dbl&gt;</th><th scope=col>&lt;dbl&gt;</th><th scope=col>&lt;dbl&gt;</th><th scope=col>&lt;dbl&gt;</th><th scope=col>&lt;dbl&gt;</th><th scope=col>&lt;dbl&gt;</th><th scope=col>&lt;dbl&gt;</th><th scope=col>&lt;dbl&gt;</th><th scope=col>&lt;dbl&gt;</th><th scope=col>&lt;dbl&gt;</th></tr>\n",
       "</thead>\n",
       "<tbody>\n",
       "\t<tr><th scope=row>Mazda RX4 Wag</th><td>21.0</td><td>6</td><td>160.0</td><td>110</td><td>3.90</td><td>2.875</td><td>17.02</td><td>0</td><td>1</td><td>4</td><td>4</td></tr>\n",
       "\t<tr><th scope=row>Datsun 710</th><td>22.8</td><td>4</td><td>108.0</td><td> 93</td><td>3.85</td><td>2.320</td><td>18.61</td><td>1</td><td>1</td><td>4</td><td>1</td></tr>\n",
       "\t<tr><th scope=row>Hornet 4 Drive</th><td>21.4</td><td>6</td><td>258.0</td><td>110</td><td>3.08</td><td>3.215</td><td>19.44</td><td>1</td><td>0</td><td>3</td><td>1</td></tr>\n",
       "\t<tr><th scope=row>Hornet Sportabout</th><td>18.7</td><td>8</td><td>360.0</td><td>175</td><td>3.15</td><td>3.440</td><td>17.02</td><td>0</td><td>0</td><td>3</td><td>2</td></tr>\n",
       "\t<tr><th scope=row>Valiant</th><td>18.1</td><td>6</td><td>225.0</td><td>105</td><td>2.76</td><td>3.460</td><td>20.22</td><td>1</td><td>0</td><td>3</td><td>1</td></tr>\n",
       "\t<tr><th scope=row>Merc 240D</th><td>24.4</td><td>4</td><td>146.7</td><td> 62</td><td>3.69</td><td>3.190</td><td>20.00</td><td>1</td><td>0</td><td>4</td><td>2</td></tr>\n",
       "</tbody>\n",
       "</table>\n"
      ],
      "text/latex": [
       "A data.frame: 6 × 11\n",
       "\\begin{tabular}{r|lllllllllll}\n",
       "  & mpg & cyl & disp & hp & drat & wt & qsec & vs & am & gear & carb\\\\\n",
       "  & <dbl> & <dbl> & <dbl> & <dbl> & <dbl> & <dbl> & <dbl> & <dbl> & <dbl> & <dbl> & <dbl>\\\\\n",
       "\\hline\n",
       "\tMazda RX4 Wag & 21.0 & 6 & 160.0 & 110 & 3.90 & 2.875 & 17.02 & 0 & 1 & 4 & 4\\\\\n",
       "\tDatsun 710 & 22.8 & 4 & 108.0 &  93 & 3.85 & 2.320 & 18.61 & 1 & 1 & 4 & 1\\\\\n",
       "\tHornet 4 Drive & 21.4 & 6 & 258.0 & 110 & 3.08 & 3.215 & 19.44 & 1 & 0 & 3 & 1\\\\\n",
       "\tHornet Sportabout & 18.7 & 8 & 360.0 & 175 & 3.15 & 3.440 & 17.02 & 0 & 0 & 3 & 2\\\\\n",
       "\tValiant & 18.1 & 6 & 225.0 & 105 & 2.76 & 3.460 & 20.22 & 1 & 0 & 3 & 1\\\\\n",
       "\tMerc 240D & 24.4 & 4 & 146.7 &  62 & 3.69 & 3.190 & 20.00 & 1 & 0 & 4 & 2\\\\\n",
       "\\end{tabular}\n"
      ],
      "text/markdown": [
       "\n",
       "A data.frame: 6 × 11\n",
       "\n",
       "| <!--/--> | mpg &lt;dbl&gt; | cyl &lt;dbl&gt; | disp &lt;dbl&gt; | hp &lt;dbl&gt; | drat &lt;dbl&gt; | wt &lt;dbl&gt; | qsec &lt;dbl&gt; | vs &lt;dbl&gt; | am &lt;dbl&gt; | gear &lt;dbl&gt; | carb &lt;dbl&gt; |\n",
       "|---|---|---|---|---|---|---|---|---|---|---|---|\n",
       "| Mazda RX4 Wag | 21.0 | 6 | 160.0 | 110 | 3.90 | 2.875 | 17.02 | 0 | 1 | 4 | 4 |\n",
       "| Datsun 710 | 22.8 | 4 | 108.0 |  93 | 3.85 | 2.320 | 18.61 | 1 | 1 | 4 | 1 |\n",
       "| Hornet 4 Drive | 21.4 | 6 | 258.0 | 110 | 3.08 | 3.215 | 19.44 | 1 | 0 | 3 | 1 |\n",
       "| Hornet Sportabout | 18.7 | 8 | 360.0 | 175 | 3.15 | 3.440 | 17.02 | 0 | 0 | 3 | 2 |\n",
       "| Valiant | 18.1 | 6 | 225.0 | 105 | 2.76 | 3.460 | 20.22 | 1 | 0 | 3 | 1 |\n",
       "| Merc 240D | 24.4 | 4 | 146.7 |  62 | 3.69 | 3.190 | 20.00 | 1 | 0 | 4 | 2 |\n",
       "\n"
      ],
      "text/plain": [
       "                  mpg  cyl disp  hp  drat wt    qsec  vs am gear carb\n",
       "Mazda RX4 Wag     21.0 6   160.0 110 3.90 2.875 17.02 0  1  4    4   \n",
       "Datsun 710        22.8 4   108.0  93 3.85 2.320 18.61 1  1  4    1   \n",
       "Hornet 4 Drive    21.4 6   258.0 110 3.08 3.215 19.44 1  0  3    1   \n",
       "Hornet Sportabout 18.7 8   360.0 175 3.15 3.440 17.02 0  0  3    2   \n",
       "Valiant           18.1 6   225.0 105 2.76 3.460 20.22 1  0  3    1   \n",
       "Merc 240D         24.4 4   146.7  62 3.69 3.190 20.00 1  0  4    2   "
      ]
     },
     "metadata": {},
     "output_type": "display_data"
    },
    {
     "data": {
      "text/html": [
       "<style>\n",
       ".list-inline {list-style: none; margin:0; padding: 0}\n",
       ".list-inline>li {display: inline-block}\n",
       ".list-inline>li:not(:last-child)::after {content: \"\\00b7\"; padding: 0 .5ex}\n",
       "</style>\n",
       "<ol class=list-inline><li>24</li><li>11</li></ol>\n"
      ],
      "text/latex": [
       "\\begin{enumerate*}\n",
       "\\item 24\n",
       "\\item 11\n",
       "\\end{enumerate*}\n"
      ],
      "text/markdown": [
       "1. 24\n",
       "2. 11\n",
       "\n",
       "\n"
      ],
      "text/plain": [
       "[1] 24 11"
      ]
     },
     "metadata": {},
     "output_type": "display_data"
    }
   ],
   "source": [
    "dados_treino <- mtcars[split,]\n",
    "head(dados_treino)\n",
    "dim(dados_treino)"
   ]
  },
  {
   "cell_type": "code",
   "execution_count": 5,
   "id": "783e559a",
   "metadata": {},
   "outputs": [
    {
     "data": {
      "text/html": [
       "<table class=\"dataframe\">\n",
       "<caption>A data.frame: 6 × 11</caption>\n",
       "<thead>\n",
       "\t<tr><th></th><th scope=col>mpg</th><th scope=col>cyl</th><th scope=col>disp</th><th scope=col>hp</th><th scope=col>drat</th><th scope=col>wt</th><th scope=col>qsec</th><th scope=col>vs</th><th scope=col>am</th><th scope=col>gear</th><th scope=col>carb</th></tr>\n",
       "\t<tr><th></th><th scope=col>&lt;dbl&gt;</th><th scope=col>&lt;dbl&gt;</th><th scope=col>&lt;dbl&gt;</th><th scope=col>&lt;dbl&gt;</th><th scope=col>&lt;dbl&gt;</th><th scope=col>&lt;dbl&gt;</th><th scope=col>&lt;dbl&gt;</th><th scope=col>&lt;dbl&gt;</th><th scope=col>&lt;dbl&gt;</th><th scope=col>&lt;dbl&gt;</th><th scope=col>&lt;dbl&gt;</th></tr>\n",
       "</thead>\n",
       "<tbody>\n",
       "\t<tr><th scope=row>Mazda RX4</th><td>21.0</td><td>6</td><td>160.0</td><td>110</td><td>3.90</td><td>2.620</td><td>16.46</td><td>0</td><td>1</td><td>4</td><td>4</td></tr>\n",
       "\t<tr><th scope=row>Duster 360</th><td>14.3</td><td>8</td><td>360.0</td><td>245</td><td>3.21</td><td>3.570</td><td>15.84</td><td>0</td><td>0</td><td>3</td><td>4</td></tr>\n",
       "\t<tr><th scope=row>Merc 450SE</th><td>16.4</td><td>8</td><td>275.8</td><td>180</td><td>3.07</td><td>4.070</td><td>17.40</td><td>0</td><td>0</td><td>3</td><td>3</td></tr>\n",
       "\t<tr><th scope=row>Merc 450SL</th><td>17.3</td><td>8</td><td>275.8</td><td>180</td><td>3.07</td><td>3.730</td><td>17.60</td><td>0</td><td>0</td><td>3</td><td>3</td></tr>\n",
       "\t<tr><th scope=row>Honda Civic</th><td>30.4</td><td>4</td><td> 75.7</td><td> 52</td><td>4.93</td><td>1.615</td><td>18.52</td><td>1</td><td>1</td><td>4</td><td>2</td></tr>\n",
       "\t<tr><th scope=row>AMC Javelin</th><td>15.2</td><td>8</td><td>304.0</td><td>150</td><td>3.15</td><td>3.435</td><td>17.30</td><td>0</td><td>0</td><td>3</td><td>2</td></tr>\n",
       "</tbody>\n",
       "</table>\n"
      ],
      "text/latex": [
       "A data.frame: 6 × 11\n",
       "\\begin{tabular}{r|lllllllllll}\n",
       "  & mpg & cyl & disp & hp & drat & wt & qsec & vs & am & gear & carb\\\\\n",
       "  & <dbl> & <dbl> & <dbl> & <dbl> & <dbl> & <dbl> & <dbl> & <dbl> & <dbl> & <dbl> & <dbl>\\\\\n",
       "\\hline\n",
       "\tMazda RX4 & 21.0 & 6 & 160.0 & 110 & 3.90 & 2.620 & 16.46 & 0 & 1 & 4 & 4\\\\\n",
       "\tDuster 360 & 14.3 & 8 & 360.0 & 245 & 3.21 & 3.570 & 15.84 & 0 & 0 & 3 & 4\\\\\n",
       "\tMerc 450SE & 16.4 & 8 & 275.8 & 180 & 3.07 & 4.070 & 17.40 & 0 & 0 & 3 & 3\\\\\n",
       "\tMerc 450SL & 17.3 & 8 & 275.8 & 180 & 3.07 & 3.730 & 17.60 & 0 & 0 & 3 & 3\\\\\n",
       "\tHonda Civic & 30.4 & 4 &  75.7 &  52 & 4.93 & 1.615 & 18.52 & 1 & 1 & 4 & 2\\\\\n",
       "\tAMC Javelin & 15.2 & 8 & 304.0 & 150 & 3.15 & 3.435 & 17.30 & 0 & 0 & 3 & 2\\\\\n",
       "\\end{tabular}\n"
      ],
      "text/markdown": [
       "\n",
       "A data.frame: 6 × 11\n",
       "\n",
       "| <!--/--> | mpg &lt;dbl&gt; | cyl &lt;dbl&gt; | disp &lt;dbl&gt; | hp &lt;dbl&gt; | drat &lt;dbl&gt; | wt &lt;dbl&gt; | qsec &lt;dbl&gt; | vs &lt;dbl&gt; | am &lt;dbl&gt; | gear &lt;dbl&gt; | carb &lt;dbl&gt; |\n",
       "|---|---|---|---|---|---|---|---|---|---|---|---|\n",
       "| Mazda RX4 | 21.0 | 6 | 160.0 | 110 | 3.90 | 2.620 | 16.46 | 0 | 1 | 4 | 4 |\n",
       "| Duster 360 | 14.3 | 8 | 360.0 | 245 | 3.21 | 3.570 | 15.84 | 0 | 0 | 3 | 4 |\n",
       "| Merc 450SE | 16.4 | 8 | 275.8 | 180 | 3.07 | 4.070 | 17.40 | 0 | 0 | 3 | 3 |\n",
       "| Merc 450SL | 17.3 | 8 | 275.8 | 180 | 3.07 | 3.730 | 17.60 | 0 | 0 | 3 | 3 |\n",
       "| Honda Civic | 30.4 | 4 |  75.7 |  52 | 4.93 | 1.615 | 18.52 | 1 | 1 | 4 | 2 |\n",
       "| AMC Javelin | 15.2 | 8 | 304.0 | 150 | 3.15 | 3.435 | 17.30 | 0 | 0 | 3 | 2 |\n",
       "\n"
      ],
      "text/plain": [
       "            mpg  cyl disp  hp  drat wt    qsec  vs am gear carb\n",
       "Mazda RX4   21.0 6   160.0 110 3.90 2.620 16.46 0  1  4    4   \n",
       "Duster 360  14.3 8   360.0 245 3.21 3.570 15.84 0  0  3    4   \n",
       "Merc 450SE  16.4 8   275.8 180 3.07 4.070 17.40 0  0  3    3   \n",
       "Merc 450SL  17.3 8   275.8 180 3.07 3.730 17.60 0  0  3    3   \n",
       "Honda Civic 30.4 4    75.7  52 4.93 1.615 18.52 1  1  4    2   \n",
       "AMC Javelin 15.2 8   304.0 150 3.15 3.435 17.30 0  0  3    2   "
      ]
     },
     "metadata": {},
     "output_type": "display_data"
    },
    {
     "data": {
      "text/html": [
       "<style>\n",
       ".list-inline {list-style: none; margin:0; padding: 0}\n",
       ".list-inline>li {display: inline-block}\n",
       ".list-inline>li:not(:last-child)::after {content: \"\\00b7\"; padding: 0 .5ex}\n",
       "</style>\n",
       "<ol class=list-inline><li>8</li><li>11</li></ol>\n"
      ],
      "text/latex": [
       "\\begin{enumerate*}\n",
       "\\item 8\n",
       "\\item 11\n",
       "\\end{enumerate*}\n"
      ],
      "text/markdown": [
       "1. 8\n",
       "2. 11\n",
       "\n",
       "\n"
      ],
      "text/plain": [
       "[1]  8 11"
      ]
     },
     "metadata": {},
     "output_type": "display_data"
    }
   ],
   "source": [
    "dados_teste <- mtcars[-split,]\n",
    "head(dados_teste)\n",
    "dim(dados_teste)"
   ]
  },
  {
   "cell_type": "code",
   "execution_count": 6,
   "id": "735709d2",
   "metadata": {},
   "outputs": [
    {
     "name": "stderr",
     "output_type": "stream",
     "text": [
      "Warning message:\n",
      "\"package 'corrplot' was built under R version 4.2.3\"\n",
      "corrplot 0.92 loaded\n",
      "\n"
     ]
    }
   ],
   "source": [
    "library(corrplot)"
   ]
  },
  {
   "cell_type": "code",
   "execution_count": 7,
   "id": "58483654",
   "metadata": {},
   "outputs": [],
   "source": [
    "matriz_cor <- cor(dados_treino)"
   ]
  },
  {
   "cell_type": "code",
   "execution_count": 8,
   "id": "3c8f3426",
   "metadata": {},
   "outputs": [
    {
     "data": {
      "image/png": "[encoded data removed]",
      "text/plain": [
       "Plot with title \"\""
      ]
     },
     "metadata": {
      "image/png": {
       "height": 420,
       "width": 420
      }
     },
     "output_type": "display_data"
    }
   ],
   "source": [
    "corrplot(matriz_cor, \n",
    "         method = 'color', #método de representação gráfica da matriz de correlação. \n",
    "         type = 'upper', # plotar apenas a metade superior da matriz de correlação.\n",
    "         addCoef.col = 'springgreen2', #define a cor dos coeficientes de correlação\n",
    "         tl.col = \"black\", #define a cor do texto dos rótulos \n",
    "         tl.srt = 45) #define a inclinação (ângulo) dos rótulos"
   ]
  },
  {
   "cell_type": "code",
   "execution_count": 9,
   "id": "e16756cd",
   "metadata": {},
   "outputs": [
    {
     "data": {
      "text/plain": [
       "lm variable importance\n",
       "\n",
       "     Overall\n",
       "wt   100.000\n",
       "hp    75.101\n",
       "disp  63.875\n",
       "qsec  56.165\n",
       "am    52.945\n",
       "carb  28.011\n",
       "drat  24.354\n",
       "cyl   17.846\n",
       "vs     6.286\n",
       "gear   0.000"
      ]
     },
     "metadata": {},
     "output_type": "display_data"
    }
   ],
   "source": [
    "# Utilzando a função varImp para mostrar a importância das variáveis para a criação do modelo\n",
    "modelo_1 <- train(mpg ~ ., data = dados_treino, method = 'lm')\n",
    "varImp(modelo_1)"
   ]
  },
  {
   "cell_type": "code",
   "execution_count": 10,
   "id": "a6f4c9de",
   "metadata": {
    "scrolled": true
   },
   "outputs": [],
   "source": [
    "#Agora vamos criar um modelo apenas com as variáveis mais relevantes:\n",
    "# wt: Peso do carro e qsec: Tempo que leva para o carro percorrer o quarto de milha a partir de uma parada.\n",
    "#Variaveis relevantes que não apresentam colinearidade perfeita\n",
    "modelo_2 <- train(mpg ~ wt + qsec, data=dados_teste, method = 'lm')"
   ]
  },
  {
   "cell_type": "code",
   "execution_count": 11,
   "id": "7131a049",
   "metadata": {},
   "outputs": [
    {
     "data": {
      "text/plain": [
       "\n",
       "Call:\n",
       "lm(formula = .outcome ~ ., data = dat)\n",
       "\n",
       "Residuals:\n",
       "    Mazda.RX4    Duster.360    Merc.450SE    Merc.450SL   Honda.Civic \n",
       "      -0.5354       -0.7277        1.9302        0.5344       -0.1542 \n",
       "  AMC.Javelin Porsche.914.2  Ferrari.Dino \n",
       "      -2.8378        1.2879        0.5026 \n",
       "\n",
       "Coefficients:\n",
       "            Estimate Std. Error t value Pr(>|t|)    \n",
       "(Intercept)  11.8641    11.9080   0.996 0.364843    \n",
       "wt           -5.8582     0.7768  -7.541 0.000649 ***\n",
       "qsec          1.5200     0.6673   2.278 0.071716 .  \n",
       "---\n",
       "Signif. codes:  0 '***' 0.001 '**' 0.01 '*' 0.05 '.' 0.1 ' ' 1\n",
       "\n",
       "Residual standard error: 1.721 on 5 degrees of freedom\n",
       "Multiple R-squared:  0.933,\tAdjusted R-squared:  0.9062 \n",
       "F-statistic:  34.8 on 2 and 5 DF,  p-value: 0.001163\n"
      ]
     },
     "metadata": {},
     "output_type": "display_data"
    }
   ],
   "source": [
    "summary(modelo_2)"
   ]
  },
  {
   "cell_type": "code",
   "execution_count": 12,
   "id": "d52276d8",
   "metadata": {},
   "outputs": [
    {
     "name": "stdout",
     "output_type": "stream",
     "text": [
      "note: only 1 unique complexity parameters in default grid. Truncating the grid to 1 .\n",
      "\n"
     ]
    },
    {
     "name": "stderr",
     "output_type": "stream",
     "text": [
      "Warning message in randomForest.default(x, y, mtry = param$mtry, ...):\n",
      "\"The response has five or fewer unique values.  Are you sure you want to do regression?\"\n",
      "Warning message in randomForest.default(x, y, mtry = param$mtry, ...):\n",
      "\"The response has five or fewer unique values.  Are you sure you want to do regression?\"\n",
      "Warning message in randomForest.default(x, y, mtry = param$mtry, ...):\n",
      "\"The response has five or fewer unique values.  Are you sure you want to do regression?\"\n",
      "Warning message in randomForest.default(x, y, mtry = param$mtry, ...):\n",
      "\"The response has five or fewer unique values.  Are you sure you want to do regression?\"\n",
      "Warning message in randomForest.default(x, y, mtry = param$mtry, ...):\n",
      "\"The response has five or fewer unique values.  Are you sure you want to do regression?\"\n",
      "Warning message in randomForest.default(x, y, mtry = param$mtry, ...):\n",
      "\"The response has five or fewer unique values.  Are you sure you want to do regression?\"\n",
      "Warning message in randomForest.default(x, y, mtry = param$mtry, ...):\n",
      "\"The response has five or fewer unique values.  Are you sure you want to do regression?\"\n",
      "Warning message in randomForest.default(x, y, mtry = param$mtry, ...):\n",
      "\"The response has five or fewer unique values.  Are you sure you want to do regression?\"\n",
      "Warning message in randomForest.default(x, y, mtry = param$mtry, ...):\n",
      "\"The response has five or fewer unique values.  Are you sure you want to do regression?\"\n",
      "Warning message in randomForest.default(x, y, mtry = param$mtry, ...):\n",
      "\"The response has five or fewer unique values.  Are you sure you want to do regression?\"\n",
      "Warning message in randomForest.default(x, y, mtry = param$mtry, ...):\n",
      "\"The response has five or fewer unique values.  Are you sure you want to do regression?\"\n",
      "Warning message in randomForest.default(x, y, mtry = param$mtry, ...):\n",
      "\"The response has five or fewer unique values.  Are you sure you want to do regression?\"\n",
      "Warning message:\n",
      "\"predictions failed for Resample22: mtry=2 Error in predict.randomForest(modelFit, newdata) : newdata has 0 rows\n",
      "\"\n",
      "Warning message in randomForest.default(x, y, mtry = param$mtry, ...):\n",
      "\"The response has five or fewer unique values.  Are you sure you want to do regression?\"\n",
      "Warning message in randomForest.default(x, y, mtry = param$mtry, ...):\n",
      "\"The response has five or fewer unique values.  Are you sure you want to do regression?\"\n",
      "Warning message in nominalTrainWorkflow(x = x, y = y, wts = weights, info = trainInfo, :\n",
      "\"There were missing values in resampled performance measures.\"\n"
     ]
    },
    {
     "data": {
      "text/plain": [
       "                Length Class      Mode     \n",
       "call              4    -none-     call     \n",
       "type              1    -none-     character\n",
       "predicted         8    -none-     numeric  \n",
       "mse             500    -none-     numeric  \n",
       "rsq             500    -none-     numeric  \n",
       "oob.times         8    -none-     numeric  \n",
       "importance        2    -none-     numeric  \n",
       "importanceSD      0    -none-     NULL     \n",
       "localImportance   0    -none-     NULL     \n",
       "proximity         0    -none-     NULL     \n",
       "ntree             1    -none-     numeric  \n",
       "mtry              1    -none-     numeric  \n",
       "forest           11    -none-     list     \n",
       "coefs             0    -none-     NULL     \n",
       "y                 8    -none-     numeric  \n",
       "test              0    -none-     NULL     \n",
       "inbag             0    -none-     NULL     \n",
       "xNames            2    -none-     character\n",
       "problemType       1    -none-     character\n",
       "tuneValue         1    data.frame list     \n",
       "obsLevels         1    -none-     logical  \n",
       "param             0    -none-     list     "
      ]
     },
     "metadata": {},
     "output_type": "display_data"
    }
   ],
   "source": [
    "#Usando Random forest\n",
    "modelo_3 <- train(mpg ~ wt + qsec, data=dados_teste, method = 'rf')\n",
    "summary(modelo_3)"
   ]
  },
  {
   "cell_type": "code",
   "execution_count": 13,
   "id": "42891c6d",
   "metadata": {},
   "outputs": [],
   "source": [
    "# Ajustando o modelo\n",
    "controle1 <- trainControl(method = \"cv\", number = 10)"
   ]
  },
  {
   "cell_type": "markdown",
   "id": "9d6f1f82",
   "metadata": {},
   "source": [
    "**trainControl:** Essa função do pacote caret é usada para configurar os parâmetros de controle durante o treinamento do modelo.    \n",
    "**method = \"cv\":** Define o método de validação cruzada. Neste caso, \"cv\" refere-se à validação cruzada. A validação cruzada é uma técnica comum para avaliar o desempenho do modelo, onde o conjunto de dados é dividido em várias partes (chamadas de folds), e o modelo é treinado e testado repetidamente em diferentes combinações de folds.  \n",
    "**number = 10:** Especifica o número de folds na validação cruzada. Neste exemplo, o modelo será treinado e testado 10 vezes, usando 10 folds. Isso é conhecido como 10-fold cross-validation. **Cada fold é usado uma vez como um conjunto de teste**, enquanto os outros folds são usados como conjunto de treinamento. Isso ajuda a estimar o desempenho médio do modelo em diferentes conjuntos de dados.    \n",
    "Isso significa que, em cada iteração da validação cruzada, 9 partes do seu conjunto de dados são usadas para treinar o modelo, e 1 parte é usada para testar o modelo. Esse processo é repetido 10 vezes, de modo que cada parte é usada exatamente uma vez como conjunto de teste.    \n",
    "- A validação cruzada é uma técnica importante para avaliar a capacidade de generalização do modelo e reduzir o impacto da aleatoriedade na divisão do conjunto de dados em treinamento e teste."
   ]
  },
  {
   "cell_type": "code",
   "execution_count": 14,
   "id": "87a1f046",
   "metadata": {
    "scrolled": true
   },
   "outputs": [
    {
     "data": {
      "text/plain": [
       "\n",
       "Call:\n",
       "lm(formula = .outcome ~ ., data = dat)\n",
       "\n",
       "Residuals:\n",
       "    Min      1Q  Median      3Q     Max \n",
       "-4.2488 -2.0770 -0.2441  1.3620  5.8060 \n",
       "\n",
       "Coefficients:\n",
       "            Estimate Std. Error t value Pr(>|t|)    \n",
       "(Intercept)  20.8767     6.6627   3.133  0.00502 ** \n",
       "wt           -4.9211     0.6003  -8.198 5.55e-08 ***\n",
       "qsec          0.8497     0.3238   2.625  0.01584 *  \n",
       "---\n",
       "Signif. codes:  0 '***' 0.001 '**' 0.01 '*' 0.05 '.' 0.1 ' ' 1\n",
       "\n",
       "Residual standard error: 2.861 on 21 degrees of freedom\n",
       "Multiple R-squared:  0.8101,\tAdjusted R-squared:  0.792 \n",
       "F-statistic:  44.8 on 2 and 21 DF,  p-value: 2.655e-08\n"
      ]
     },
     "metadata": {},
     "output_type": "display_data"
    }
   ],
   "source": [
    "modelo_4 <- train(mpg ~ wt + qsec, \n",
    "                    data = dados_treino, \n",
    "                    method = 'lm', \n",
    "                    trControl = controle1, \n",
    "                    metric = 'Rsquared')\n",
    "summary(modelo_4)"
   ]
  },
  {
   "cell_type": "code",
   "execution_count": 16,
   "id": "37cc9738",
   "metadata": {},
   "outputs": [
    {
     "data": {
      "text/html": [
       "<table class=\"dataframe\">\n",
       "<caption>A data.frame: 24 × 1</caption>\n",
       "<thead>\n",
       "\t<tr><th></th><th scope=col>residuals</th></tr>\n",
       "\t<tr><th></th><th scope=col>&lt;dbl&gt;</th></tr>\n",
       "</thead>\n",
       "<tbody>\n",
       "\t<tr><th scope=row>Mazda.RX4.Wag</th><td>-2.1787736</td></tr>\n",
       "\t<tr><th scope=row>Datsun.710</th><td>-2.9487153</td></tr>\n",
       "\t<tr><th scope=row>Hornet.4.Drive</th><td>-0.1653321</td></tr>\n",
       "\t<tr><th scope=row>Hornet.Sportabout</th><td> 0.4254127</td></tr>\n",
       "\t<tr><th scope=row>Valiant</th><td>-1.3719402</td></tr>\n",
       "\t<tr><th scope=row>Merc.240D</th><td> 1.6621591</td></tr>\n",
       "\t<tr><th scope=row>Merc.230</th><td>-1.4048157</td></tr>\n",
       "\t<tr><th scope=row>Merc.280</th><td> 0.6598078</td></tr>\n",
       "\t<tr><th scope=row>Merc.280C</th><td>-1.3013091</td></tr>\n",
       "\t<tr><th scope=row>Merc.450SLC</th><td> 0.7289783</td></tr>\n",
       "\t<tr><th scope=row>Cadillac.Fleetwood</th><td>-2.4576765</td></tr>\n",
       "\t<tr><th scope=row>Lincoln.Continental</th><td>-0.4497388</td></tr>\n",
       "\t<tr><th scope=row>Chrysler.Imperial</th><td> 4.9579885</td></tr>\n",
       "\t<tr><th scope=row>Fiat.128</th><td> 4.7774548</td></tr>\n",
       "\t<tr><th scope=row>Toyota.Corolla</th><td> 3.8270104</td></tr>\n",
       "\t<tr><th scope=row>Toyota.Corona</th><td>-2.0257498</td></tr>\n",
       "\t<tr><th scope=row>Dodge.Challenger</th><td>-1.2704912</td></tr>\n",
       "\t<tr><th scope=row>Camaro.Z28</th><td> 0.1950735</td></tr>\n",
       "\t<tr><th scope=row>Pontiac.Firebird</th><td> 1.8176335</td></tr>\n",
       "\t<tr><th scope=row>Fiat.X1.9</th><td>-1.3538507</td></tr>\n",
       "\t<tr><th scope=row>Lotus.Europa</th><td> 2.1525642</td></tr>\n",
       "\t<tr><th scope=row>Ford.Pantera.L</th><td>-2.9423984</td></tr>\n",
       "\t<tr><th scope=row>Maserati.Bora</th><td> 1.1739920</td></tr>\n",
       "\t<tr><th scope=row>Volvo.142E</th><td>-2.5072835</td></tr>\n",
       "</tbody>\n",
       "</table>\n"
      ],
      "text/latex": [
       "A data.frame: 24 × 1\n",
       "\\begin{tabular}{r|l}\n",
       "  & residuals\\\\\n",
       "  & <dbl>\\\\\n",
       "\\hline\n",
       "\tMazda.RX4.Wag & -2.1787736\\\\\n",
       "\tDatsun.710 & -2.9487153\\\\\n",
       "\tHornet.4.Drive & -0.1653321\\\\\n",
       "\tHornet.Sportabout &  0.4254127\\\\\n",
       "\tValiant & -1.3719402\\\\\n",
       "\tMerc.240D &  1.6621591\\\\\n",
       "\tMerc.230 & -1.4048157\\\\\n",
       "\tMerc.280 &  0.6598078\\\\\n",
       "\tMerc.280C & -1.3013091\\\\\n",
       "\tMerc.450SLC &  0.7289783\\\\\n",
       "\tCadillac.Fleetwood & -2.4576765\\\\\n",
       "\tLincoln.Continental & -0.4497388\\\\\n",
       "\tChrysler.Imperial &  4.9579885\\\\\n",
       "\tFiat.128 &  4.7774548\\\\\n",
       "\tToyota.Corolla &  3.8270104\\\\\n",
       "\tToyota.Corona & -2.0257498\\\\\n",
       "\tDodge.Challenger & -1.2704912\\\\\n",
       "\tCamaro.Z28 &  0.1950735\\\\\n",
       "\tPontiac.Firebird &  1.8176335\\\\\n",
       "\tFiat.X1.9 & -1.3538507\\\\\n",
       "\tLotus.Europa &  2.1525642\\\\\n",
       "\tFord.Pantera.L & -2.9423984\\\\\n",
       "\tMaserati.Bora &  1.1739920\\\\\n",
       "\tVolvo.142E & -2.5072835\\\\\n",
       "\\end{tabular}\n"
      ],
      "text/markdown": [
       "\n",
       "A data.frame: 24 × 1\n",
       "\n",
       "| <!--/--> | residuals &lt;dbl&gt; |\n",
       "|---|---|\n",
       "| Mazda.RX4.Wag | -2.1787736 |\n",
       "| Datsun.710 | -2.9487153 |\n",
       "| Hornet.4.Drive | -0.1653321 |\n",
       "| Hornet.Sportabout |  0.4254127 |\n",
       "| Valiant | -1.3719402 |\n",
       "| Merc.240D |  1.6621591 |\n",
       "| Merc.230 | -1.4048157 |\n",
       "| Merc.280 |  0.6598078 |\n",
       "| Merc.280C | -1.3013091 |\n",
       "| Merc.450SLC |  0.7289783 |\n",
       "| Cadillac.Fleetwood | -2.4576765 |\n",
       "| Lincoln.Continental | -0.4497388 |\n",
       "| Chrysler.Imperial |  4.9579885 |\n",
       "| Fiat.128 |  4.7774548 |\n",
       "| Toyota.Corolla |  3.8270104 |\n",
       "| Toyota.Corona | -2.0257498 |\n",
       "| Dodge.Challenger | -1.2704912 |\n",
       "| Camaro.Z28 |  0.1950735 |\n",
       "| Pontiac.Firebird |  1.8176335 |\n",
       "| Fiat.X1.9 | -1.3538507 |\n",
       "| Lotus.Europa |  2.1525642 |\n",
       "| Ford.Pantera.L | -2.9423984 |\n",
       "| Maserati.Bora |  1.1739920 |\n",
       "| Volvo.142E | -2.5072835 |\n",
       "\n"
      ],
      "text/plain": [
       "                    residuals \n",
       "Mazda.RX4.Wag       -2.1787736\n",
       "Datsun.710          -2.9487153\n",
       "Hornet.4.Drive      -0.1653321\n",
       "Hornet.Sportabout    0.4254127\n",
       "Valiant             -1.3719402\n",
       "Merc.240D            1.6621591\n",
       "Merc.230            -1.4048157\n",
       "Merc.280             0.6598078\n",
       "Merc.280C           -1.3013091\n",
       "Merc.450SLC          0.7289783\n",
       "Cadillac.Fleetwood  -2.4576765\n",
       "Lincoln.Continental -0.4497388\n",
       "Chrysler.Imperial    4.9579885\n",
       "Fiat.128             4.7774548\n",
       "Toyota.Corolla       3.8270104\n",
       "Toyota.Corona       -2.0257498\n",
       "Dodge.Challenger    -1.2704912\n",
       "Camaro.Z28           0.1950735\n",
       "Pontiac.Firebird     1.8176335\n",
       "Fiat.X1.9           -1.3538507\n",
       "Lotus.Europa         2.1525642\n",
       "Ford.Pantera.L      -2.9423984\n",
       "Maserati.Bora        1.1739920\n",
       "Volvo.142E          -2.5072835"
      ]
     },
     "metadata": {},
     "output_type": "display_data"
    }
   ],
   "source": [
    "# Coletando os residuos\n",
    "residuals <- resid(modelo_1)\n",
    "data.frame(residuals)"
   ]
  },
  {
   "cell_type": "code",
   "execution_count": 18,
   "id": "3bbdc5ca",
   "metadata": {},
   "outputs": [
    {
     "data": {
      "text/html": [
       "<table class=\"dataframe\">\n",
       "<caption>A data.frame: 8 × 1</caption>\n",
       "<thead>\n",
       "\t<tr><th></th><th scope=col>predictedValues</th></tr>\n",
       "\t<tr><th></th><th scope=col>&lt;dbl&gt;</th></tr>\n",
       "</thead>\n",
       "<tbody>\n",
       "\t<tr><th scope=row>Mazda RX4</th><td>24.14935</td></tr>\n",
       "\t<tr><th scope=row>Duster 360</th><td>14.89800</td></tr>\n",
       "\t<tr><th scope=row>Merc 450SE</th><td>12.21052</td></tr>\n",
       "\t<tr><th scope=row>Merc 450SL</th><td>14.38994</td></tr>\n",
       "\t<tr><th scope=row>Honda Civic</th><td>32.43517</td></tr>\n",
       "\t<tr><th scope=row>AMC Javelin</th><td>17.56549</td></tr>\n",
       "\t<tr><th scope=row>Porsche 914-2</th><td>26.58428</td></tr>\n",
       "\t<tr><th scope=row>Ferrari Dino</th><td>20.19487</td></tr>\n",
       "</tbody>\n",
       "</table>\n"
      ],
      "text/latex": [
       "A data.frame: 8 × 1\n",
       "\\begin{tabular}{r|l}\n",
       "  & predictedValues\\\\\n",
       "  & <dbl>\\\\\n",
       "\\hline\n",
       "\tMazda RX4 & 24.14935\\\\\n",
       "\tDuster 360 & 14.89800\\\\\n",
       "\tMerc 450SE & 12.21052\\\\\n",
       "\tMerc 450SL & 14.38994\\\\\n",
       "\tHonda Civic & 32.43517\\\\\n",
       "\tAMC Javelin & 17.56549\\\\\n",
       "\tPorsche 914-2 & 26.58428\\\\\n",
       "\tFerrari Dino & 20.19487\\\\\n",
       "\\end{tabular}\n"
      ],
      "text/markdown": [
       "\n",
       "A data.frame: 8 × 1\n",
       "\n",
       "| <!--/--> | predictedValues &lt;dbl&gt; |\n",
       "|---|---|\n",
       "| Mazda RX4 | 24.14935 |\n",
       "| Duster 360 | 14.89800 |\n",
       "| Merc 450SE | 12.21052 |\n",
       "| Merc 450SL | 14.38994 |\n",
       "| Honda Civic | 32.43517 |\n",
       "| AMC Javelin | 17.56549 |\n",
       "| Porsche 914-2 | 26.58428 |\n",
       "| Ferrari Dino | 20.19487 |\n",
       "\n"
      ],
      "text/plain": [
       "              predictedValues\n",
       "Mazda RX4     24.14935       \n",
       "Duster 360    14.89800       \n",
       "Merc 450SE    12.21052       \n",
       "Merc 450SL    14.38994       \n",
       "Honda Civic   32.43517       \n",
       "AMC Javelin   17.56549       \n",
       "Porsche 914-2 26.58428       \n",
       "Ferrari Dino  20.19487       "
      ]
     },
     "metadata": {},
     "output_type": "display_data"
    },
    {
     "data": {
      "image/png": "[encoded data removed]",
      "text/plain": [
       "plot without title"
      ]
     },
     "metadata": {
      "image/png": {
       "height": 420,
       "width": 420
      }
     },
     "output_type": "display_data"
    }
   ],
   "source": [
    "# Previsoes\n",
    "predictedValues <- predict(modelo_1, dados_teste)\n",
    "data.frame(predictedValues)\n",
    "plot(dados_teste$mpg, predictedValues)"
   ]
  },
  {
   "cell_type": "code",
   "execution_count": 19,
   "id": "618bcad9",
   "metadata": {},
   "outputs": [
    {
     "data": {
      "image/png": "[encoded data removed]",
      "text/plain": [
       "plot without title"
      ]
     },
     "metadata": {
      "image/png": {
       "height": 420,
       "width": 420
      }
     },
     "output_type": "display_data"
    }
   ],
   "source": [
    "# Plot das variáveis mais relevantes no modelo\n",
    "plot(varImp(modelo_1))"
   ]
  }
 ],
 "metadata": {
  "kernelspec": {
   "display_name": "R",
   "language": "R",
   "name": "ir"
  },
  "language_info": {
   "codemirror_mode": "r",
   "file_extension": ".r",
   "mimetype": "text/x-r-source",
   "name": "R",
   "pygments_lexer": "r",
   "version": "4.2.2"
  }
 },
 "nbformat": 4,
 "nbformat_minor": 5
}
