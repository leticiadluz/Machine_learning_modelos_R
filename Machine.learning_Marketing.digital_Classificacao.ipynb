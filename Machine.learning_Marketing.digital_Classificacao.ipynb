{
 "cells": [
  {
   "cell_type": "markdown",
   "id": "8115e54c",
   "metadata": {},
   "source": [
    "### O objetivo deste mini-projeto é aplicar técnicas de Machine Learning em Marketing Digital para prever a propabilidade de um lead ser convertido, ou seja, qual a probabilidade de um potencial cliente se tornar cliente e comprar o produto.\n",
    "\n",
    "### Pergunta de negócio: Um lead será convertido? Sim ou Não? Qual probabilidade?"
   ]
  },
  {
   "cell_type": "code",
   "execution_count": 1,
   "id": "0872ae25",
   "metadata": {},
   "outputs": [
    {
     "name": "stderr",
     "output_type": "stream",
     "text": [
      "Carregando pacotes exigidos: ggplot2\n",
      "\n",
      "Carregando pacotes exigidos: lattice\n",
      "\n",
      "\n",
      "Attaching package: 'dplyr'\n",
      "\n",
      "\n",
      "The following objects are masked from 'package:stats':\n",
      "\n",
      "    filter, lag\n",
      "\n",
      "\n",
      "The following objects are masked from 'package:base':\n",
      "\n",
      "    intersect, setdiff, setequal, union\n",
      "\n",
      "\n"
     ]
    }
   ],
   "source": [
    "options(warn = -1)\n",
    "# Carregando os pacotes necessários\n",
    "library(caret) #auxilia no treinamento e avaliação de modelos de aprendizado de máquina\n",
    "library(dplyr)\n",
    "library(ggplot2)\n",
    "library(readr)"
   ]
  },
  {
   "cell_type": "code",
   "execution_count": 2,
   "id": "1308956c",
   "metadata": {},
   "outputs": [
    {
     "name": "stderr",
     "output_type": "stream",
     "text": [
      "\u001b[1mRows: \u001b[22m\u001b[34m1000\u001b[39m \u001b[1mColumns: \u001b[22m\u001b[34m7\u001b[39m\n",
      "\u001b[36m──\u001b[39m \u001b[1mColumn specification\u001b[22m \u001b[36m────────────────────────────────────────────────────────────────────────────────────────────────\u001b[39m\n",
      "\u001b[1mDelimiter:\u001b[22m \",\"\n",
      "\u001b[31mchr\u001b[39m (5): faixa_etaria, cidade, cor_da_pele, navegador_web, converteu\n",
      "\u001b[32mdbl\u001b[39m (2): numero_acessos, numero_cliques\n",
      "\n",
      "\u001b[36mℹ\u001b[39m Use `spec()` to retrieve the full column specification for this data.\n",
      "\u001b[36mℹ\u001b[39m Specify the column types or set `show_col_types = FALSE` to quiet this message.\n"
     ]
    },
    {
     "data": {
      "text/html": [
       "<table class=\"dataframe\">\n",
       "<caption>A tibble: 6 × 7</caption>\n",
       "<thead>\n",
       "\t<tr><th scope=col>numero_acessos</th><th scope=col>numero_cliques</th><th scope=col>faixa_etaria</th><th scope=col>cidade</th><th scope=col>cor_da_pele</th><th scope=col>navegador_web</th><th scope=col>converteu</th></tr>\n",
       "\t<tr><th scope=col>&lt;dbl&gt;</th><th scope=col>&lt;dbl&gt;</th><th scope=col>&lt;chr&gt;</th><th scope=col>&lt;chr&gt;</th><th scope=col>&lt;chr&gt;</th><th scope=col>&lt;chr&gt;</th><th scope=col>&lt;chr&gt;</th></tr>\n",
       "</thead>\n",
       "<tbody>\n",
       "\t<tr><td>65</td><td>57</td><td>18-24</td><td>Curitiba </td><td>negro </td><td>Edge  </td><td>sim</td></tr>\n",
       "\t<tr><td>99</td><td>38</td><td>55-64</td><td>Fortaleza</td><td>negro </td><td>Safari</td><td>sim</td></tr>\n",
       "\t<tr><td>24</td><td>23</td><td>25-34</td><td>Curitiba </td><td>pardo </td><td>Chrome</td><td>sim</td></tr>\n",
       "\t<tr><td>49</td><td> 1</td><td>35-44</td><td>Curitiba </td><td>pardo </td><td>Edge  </td><td>não</td></tr>\n",
       "\t<tr><td>25</td><td>12</td><td>55-64</td><td>Natal    </td><td>branco</td><td>Safari</td><td>não</td></tr>\n",
       "\t<tr><td> 1</td><td> 1</td><td>45-54</td><td>Curitiba </td><td>negro </td><td>Safari</td><td>não</td></tr>\n",
       "</tbody>\n",
       "</table>\n"
      ],
      "text/latex": [
       "A tibble: 6 × 7\n",
       "\\begin{tabular}{lllllll}\n",
       " numero\\_acessos & numero\\_cliques & faixa\\_etaria & cidade & cor\\_da\\_pele & navegador\\_web & converteu\\\\\n",
       " <dbl> & <dbl> & <chr> & <chr> & <chr> & <chr> & <chr>\\\\\n",
       "\\hline\n",
       "\t 65 & 57 & 18-24 & Curitiba  & negro  & Edge   & sim\\\\\n",
       "\t 99 & 38 & 55-64 & Fortaleza & negro  & Safari & sim\\\\\n",
       "\t 24 & 23 & 25-34 & Curitiba  & pardo  & Chrome & sim\\\\\n",
       "\t 49 &  1 & 35-44 & Curitiba  & pardo  & Edge   & não\\\\\n",
       "\t 25 & 12 & 55-64 & Natal     & branco & Safari & não\\\\\n",
       "\t  1 &  1 & 45-54 & Curitiba  & negro  & Safari & não\\\\\n",
       "\\end{tabular}\n"
      ],
      "text/markdown": [
       "\n",
       "A tibble: 6 × 7\n",
       "\n",
       "| numero_acessos &lt;dbl&gt; | numero_cliques &lt;dbl&gt; | faixa_etaria &lt;chr&gt; | cidade &lt;chr&gt; | cor_da_pele &lt;chr&gt; | navegador_web &lt;chr&gt; | converteu &lt;chr&gt; |\n",
       "|---|---|---|---|---|---|---|\n",
       "| 65 | 57 | 18-24 | Curitiba  | negro  | Edge   | sim |\n",
       "| 99 | 38 | 55-64 | Fortaleza | negro  | Safari | sim |\n",
       "| 24 | 23 | 25-34 | Curitiba  | pardo  | Chrome | sim |\n",
       "| 49 |  1 | 35-44 | Curitiba  | pardo  | Edge   | não |\n",
       "| 25 | 12 | 55-64 | Natal     | branco | Safari | não |\n",
       "|  1 |  1 | 45-54 | Curitiba  | negro  | Safari | não |\n",
       "\n"
      ],
      "text/plain": [
       "  numero_acessos numero_cliques faixa_etaria cidade    cor_da_pele\n",
       "1 65             57             18-24        Curitiba  negro      \n",
       "2 99             38             55-64        Fortaleza negro      \n",
       "3 24             23             25-34        Curitiba  pardo      \n",
       "4 49              1             35-44        Curitiba  pardo      \n",
       "5 25             12             55-64        Natal     branco     \n",
       "6  1              1             45-54        Curitiba  negro      \n",
       "  navegador_web converteu\n",
       "1 Edge          sim      \n",
       "2 Safari        sim      \n",
       "3 Chrome        sim      \n",
       "4 Edge          não      \n",
       "5 Safari        não      \n",
       "6 Safari        não      "
      ]
     },
     "metadata": {},
     "output_type": "display_data"
    }
   ],
   "source": [
    "df_md <- read_csv('dataset.csv')\n",
    "head(df_md)"
   ]
  },
  {
   "cell_type": "code",
   "execution_count": 3,
   "id": "25b5244b",
   "metadata": {},
   "outputs": [
    {
     "name": "stdout",
     "output_type": "stream",
     "text": [
      "Rows: 1,000\n",
      "Columns: 7\n",
      "$ numero_acessos \u001b[3m\u001b[90m<dbl>\u001b[39m\u001b[23m 65, 99, 24, 49, 25, 1, 52, 81, 62, 2, 62, 73, 91, 32, 4…\n",
      "$ numero_cliques \u001b[3m\u001b[90m<dbl>\u001b[39m\u001b[23m 57, 38, 23, 1, 12, 1, 42, 5, 57, 2, 60, 69, 42, 2, 37, …\n",
      "$ faixa_etaria   \u001b[3m\u001b[90m<chr>\u001b[39m\u001b[23m \"18-24\", \"55-64\", \"25-34\", \"35-44\", \"55-64\", \"45-54\", \"…\n",
      "$ cidade         \u001b[3m\u001b[90m<chr>\u001b[39m\u001b[23m \"Curitiba\", \"Fortaleza\", \"Curitiba\", \"Curitiba\", \"Natal…\n",
      "$ cor_da_pele    \u001b[3m\u001b[90m<chr>\u001b[39m\u001b[23m \"negro\", \"negro\", \"pardo\", \"pardo\", \"branco\", \"negro\", …\n",
      "$ navegador_web  \u001b[3m\u001b[90m<chr>\u001b[39m\u001b[23m \"Edge\", \"Safari\", \"Chrome\", \"Edge\", \"Safari\", \"Safari\",…\n",
      "$ converteu      \u001b[3m\u001b[90m<chr>\u001b[39m\u001b[23m \"sim\", \"sim\", \"sim\", \"não\", \"não\", \"não\", \"sim\", \"não\",…\n"
     ]
    }
   ],
   "source": [
    "glimpse(df_md)"
   ]
  },
  {
   "cell_type": "markdown",
   "id": "ac77535d",
   "metadata": {},
   "source": [
    "No contexto dos dados fornecidos, a cor da pele está sendo usada como uma variável categórica para descrever os clientes. No entanto, é fundamental lembrar que usar a cor da pele como um fator para prever a efetividade de um cliente pode ser eticamente questionável, discriminatória e, em muitos casos, é ilegal. **A inclusão de características discriminatórias pode levar a resultados enviesados e injustos, e pode reforçar estereótipos prejudiciais.**\n",
    "- **Em muitas situações, é aconselhável remover variáveis que são diretamente relacionadas a características protegidas, como raça ou cor, para garantir que o modelo seja justo e não promova discriminação.**\n",
    "- **A Lei Geral de Proteção de Dados Pessoais (LGPD)** também deixa claro que as atividades de tratamento de dados pessoais devem ser pautadas no princípio da  não discriminação.\n",
    "\n",
    "A idade  também pode ser considerada uma variável sensível e potencialmente discriminatória em certos contextos, especialmente se for usada de maneira inadequada ou injusta. **A utilização de faixas etárias em vez de idades específicas é uma abordagem comum para mitigar preocupações sobre discriminação etária.**\n",
    "- **Assim, é altamente recomendável converter a variável 'idade' em faixas etárias.**"
   ]
  },
  {
   "cell_type": "code",
   "execution_count": 4,
   "id": "b0040b85",
   "metadata": {},
   "outputs": [],
   "source": [
    "# Remove a variável\n",
    "df_md$cor_da_pele <- NULL"
   ]
  },
  {
   "cell_type": "code",
   "execution_count": 5,
   "id": "b20f514c",
   "metadata": {},
   "outputs": [
    {
     "data": {
      "text/html": [
       "<table class=\"dataframe\">\n",
       "<caption>A tibble: 6 × 6</caption>\n",
       "<thead>\n",
       "\t<tr><th scope=col>numero_acessos</th><th scope=col>numero_cliques</th><th scope=col>faixa_etaria</th><th scope=col>cidade</th><th scope=col>navegador_web</th><th scope=col>converteu</th></tr>\n",
       "\t<tr><th scope=col>&lt;dbl&gt;</th><th scope=col>&lt;dbl&gt;</th><th scope=col>&lt;chr&gt;</th><th scope=col>&lt;chr&gt;</th><th scope=col>&lt;chr&gt;</th><th scope=col>&lt;chr&gt;</th></tr>\n",
       "</thead>\n",
       "<tbody>\n",
       "\t<tr><td>65</td><td>57</td><td>18-24</td><td>Curitiba </td><td>Edge  </td><td>sim</td></tr>\n",
       "\t<tr><td>99</td><td>38</td><td>55-64</td><td>Fortaleza</td><td>Safari</td><td>sim</td></tr>\n",
       "\t<tr><td>24</td><td>23</td><td>25-34</td><td>Curitiba </td><td>Chrome</td><td>sim</td></tr>\n",
       "\t<tr><td>49</td><td> 1</td><td>35-44</td><td>Curitiba </td><td>Edge  </td><td>não</td></tr>\n",
       "\t<tr><td>25</td><td>12</td><td>55-64</td><td>Natal    </td><td>Safari</td><td>não</td></tr>\n",
       "\t<tr><td> 1</td><td> 1</td><td>45-54</td><td>Curitiba </td><td>Safari</td><td>não</td></tr>\n",
       "</tbody>\n",
       "</table>\n"
      ],
      "text/latex": [
       "A tibble: 6 × 6\n",
       "\\begin{tabular}{llllll}\n",
       " numero\\_acessos & numero\\_cliques & faixa\\_etaria & cidade & navegador\\_web & converteu\\\\\n",
       " <dbl> & <dbl> & <chr> & <chr> & <chr> & <chr>\\\\\n",
       "\\hline\n",
       "\t 65 & 57 & 18-24 & Curitiba  & Edge   & sim\\\\\n",
       "\t 99 & 38 & 55-64 & Fortaleza & Safari & sim\\\\\n",
       "\t 24 & 23 & 25-34 & Curitiba  & Chrome & sim\\\\\n",
       "\t 49 &  1 & 35-44 & Curitiba  & Edge   & não\\\\\n",
       "\t 25 & 12 & 55-64 & Natal     & Safari & não\\\\\n",
       "\t  1 &  1 & 45-54 & Curitiba  & Safari & não\\\\\n",
       "\\end{tabular}\n"
      ],
      "text/markdown": [
       "\n",
       "A tibble: 6 × 6\n",
       "\n",
       "| numero_acessos &lt;dbl&gt; | numero_cliques &lt;dbl&gt; | faixa_etaria &lt;chr&gt; | cidade &lt;chr&gt; | navegador_web &lt;chr&gt; | converteu &lt;chr&gt; |\n",
       "|---|---|---|---|---|---|\n",
       "| 65 | 57 | 18-24 | Curitiba  | Edge   | sim |\n",
       "| 99 | 38 | 55-64 | Fortaleza | Safari | sim |\n",
       "| 24 | 23 | 25-34 | Curitiba  | Chrome | sim |\n",
       "| 49 |  1 | 35-44 | Curitiba  | Edge   | não |\n",
       "| 25 | 12 | 55-64 | Natal     | Safari | não |\n",
       "|  1 |  1 | 45-54 | Curitiba  | Safari | não |\n",
       "\n"
      ],
      "text/plain": [
       "  numero_acessos numero_cliques faixa_etaria cidade    navegador_web converteu\n",
       "1 65             57             18-24        Curitiba  Edge          sim      \n",
       "2 99             38             55-64        Fortaleza Safari        sim      \n",
       "3 24             23             25-34        Curitiba  Chrome        sim      \n",
       "4 49              1             35-44        Curitiba  Edge          não      \n",
       "5 25             12             55-64        Natal     Safari        não      \n",
       "6  1              1             45-54        Curitiba  Safari        não      "
      ]
     },
     "metadata": {},
     "output_type": "display_data"
    }
   ],
   "source": [
    "head(df_md)"
   ]
  },
  {
   "cell_type": "markdown",
   "id": "24e0f10f",
   "metadata": {},
   "source": [
    "## Análise Exploratória "
   ]
  },
  {
   "cell_type": "code",
   "execution_count": 6,
   "id": "e6416c7e",
   "metadata": {},
   "outputs": [
    {
     "data": {
      "image/png": "[encoded data removed]",
      "text/plain": [
       "plot without title"
      ]
     },
     "metadata": {
      "image/png": {
       "height": 420,
       "width": 420
      }
     },
     "output_type": "display_data"
    }
   ],
   "source": [
    "ggplot(df_md, aes(x=converteu)) + \n",
    "  geom_bar(aes(fill=converteu), alpha=0.7) +\n",
    "  ggtitle('Distribuição da Variável Converteu') +\n",
    "  xlab(\"Converteu\") +\n",
    "  ylab(\"Contagem\")"
   ]
  },
  {
   "cell_type": "code",
   "execution_count": 7,
   "id": "3189a234",
   "metadata": {},
   "outputs": [
    {
     "data": {
      "image/png": "[encoded data removed]",
      "text/plain": [
       "plot without title"
      ]
     },
     "metadata": {
      "image/png": {
       "height": 420,
       "width": 420
      }
     },
     "output_type": "display_data"
    }
   ],
   "source": [
    "# Boxplot\n",
    "ggplot(df_md, aes(x=converteu, y=numero_cliques, fill=converteu)) + \n",
    "  geom_boxplot() +\n",
    "  ggtitle(\"Boxplot - Número de Cliques por Conversão\") + \n",
    "  xlab(\"Converteu\") + \n",
    "  ylab(\"Número de Cliques\")"
   ]
  },
  {
   "cell_type": "markdown",
   "id": "5290e65d",
   "metadata": {},
   "source": [
    "Pelo **diagrama de caixa** é possível perceber que a mediana do número de cliques dos clientes que converteram e não converteram segue um padrão esperado. Clientes que tiveram menos cliques (uma mediana menor) foram os que menos converteram. Já os clientes que tiveram uma mediana maior para o número de cliques foram os que mais converteram. "
   ]
  },
  {
   "cell_type": "code",
   "execution_count": 8,
   "id": "fd8ca921",
   "metadata": {},
   "outputs": [
    {
     "data": {
      "image/png": "[encoded data removed]",
      "text/plain": [
       "plot without title"
      ]
     },
     "metadata": {
      "image/png": {
       "height": 420,
       "width": 420
      }
     },
     "output_type": "display_data"
    }
   ],
   "source": [
    "# Gráfico de barras\n",
    "ggplot(df_md, aes(x=faixa_etaria)) + \n",
    "  geom_bar(fill=\"orangered3\", alpha=0.7) +\n",
    "  ggtitle(\"Distribuição de Faixa Etária\") + \n",
    "  xlab(\"Faixa Etária\") + \n",
    "  ylab(\"Contagem\")"
   ]
  },
  {
   "cell_type": "code",
   "execution_count": 9,
   "id": "f5fe609f",
   "metadata": {},
   "outputs": [
    {
     "name": "stderr",
     "output_type": "stream",
     "text": [
      "\u001b[1m\u001b[22m`geom_smooth()` using formula = 'y ~ x'\n"
     ]
    },
    {
     "data": {
      "image/png": "[encoded data removed]",
      "text/plain": [
       "plot without title"
      ]
     },
     "metadata": {
      "image/png": {
       "height": 420,
       "width": 420
      }
     },
     "output_type": "display_data"
    }
   ],
   "source": [
    "# Gráfico de dispersão\n",
    "ggplot(df_md, aes(x=numero_acessos, y=numero_cliques)) + \n",
    "  geom_point(aes(color=converteu), alpha=0.6) + \n",
    "  geom_smooth(method='lm') + #Cria linha de regressão\n",
    "  ggtitle(\"Relação entre Número de Acessos e Número de Cliques\") +\n",
    "  xlab(\"Número de Acessos\") + \n",
    "  ylab(\"Número de Cliques\")"
   ]
  },
  {
   "cell_type": "markdown",
   "id": "73600c49",
   "metadata": {},
   "source": [
    "Conforme verificado no gráfico de dispersão, o número de acessos e o número de cliques está relacionado com o número de clientes que converteu."
   ]
  },
  {
   "cell_type": "code",
   "execution_count": 10,
   "id": "547d3a27",
   "metadata": {},
   "outputs": [
    {
     "data": {
      "text/html": [
       "<table class=\"dataframe\">\n",
       "<caption>A data.frame: 5 × 2</caption>\n",
       "<thead>\n",
       "\t<tr><th scope=col>cidade</th><th scope=col>numero_acessos</th></tr>\n",
       "\t<tr><th scope=col>&lt;chr&gt;</th><th scope=col>&lt;dbl&gt;</th></tr>\n",
       "</thead>\n",
       "<tbody>\n",
       "\t<tr><td>Blumenau </td><td>51.36082</td></tr>\n",
       "\t<tr><td>Curitiba </td><td>49.68246</td></tr>\n",
       "\t<tr><td>Fortaleza</td><td>51.89091</td></tr>\n",
       "\t<tr><td>Natal    </td><td>53.04737</td></tr>\n",
       "\t<tr><td>Salvador </td><td>48.87568</td></tr>\n",
       "</tbody>\n",
       "</table>\n"
      ],
      "text/latex": [
       "A data.frame: 5 × 2\n",
       "\\begin{tabular}{ll}\n",
       " cidade & numero\\_acessos\\\\\n",
       " <chr> & <dbl>\\\\\n",
       "\\hline\n",
       "\t Blumenau  & 51.36082\\\\\n",
       "\t Curitiba  & 49.68246\\\\\n",
       "\t Fortaleza & 51.89091\\\\\n",
       "\t Natal     & 53.04737\\\\\n",
       "\t Salvador  & 48.87568\\\\\n",
       "\\end{tabular}\n"
      ],
      "text/markdown": [
       "\n",
       "A data.frame: 5 × 2\n",
       "\n",
       "| cidade &lt;chr&gt; | numero_acessos &lt;dbl&gt; |\n",
       "|---|---|\n",
       "| Blumenau  | 51.36082 |\n",
       "| Curitiba  | 49.68246 |\n",
       "| Fortaleza | 51.89091 |\n",
       "| Natal     | 53.04737 |\n",
       "| Salvador  | 48.87568 |\n",
       "\n"
      ],
      "text/plain": [
       "  cidade    numero_acessos\n",
       "1 Blumenau  51.36082      \n",
       "2 Curitiba  49.68246      \n",
       "3 Fortaleza 51.89091      \n",
       "4 Natal     53.04737      \n",
       "5 Salvador  48.87568      "
      ]
     },
     "metadata": {},
     "output_type": "display_data"
    }
   ],
   "source": [
    "# Sumarizar dados para obter a média do número de acessos por cidade\n",
    "dados_sumarizados <- aggregate(numero_acessos ~ cidade, data = df_md, FUN = mean)\n",
    "dados_sumarizados"
   ]
  },
  {
   "cell_type": "code",
   "execution_count": 11,
   "id": "6492a59a",
   "metadata": {},
   "outputs": [
    {
     "data": {
      "image/png": "[encoded data removed]",
      "text/plain": [
       "plot without title"
      ]
     },
     "metadata": {
      "image/png": {
       "height": 420,
       "width": 420
      }
     },
     "output_type": "display_data"
    }
   ],
   "source": [
    "# Gráfico de barras\n",
    "ggplot(dados_sumarizados, aes(x=reorder(cidade, -numero_acessos), y=numero_acessos)) +\n",
    "  geom_bar(stat=\"identity\", aes(fill=cidade), alpha=0.7) +\n",
    "  ggtitle(\"Gráfico de Barras - Média do Número de Acessos por Cidade\") +\n",
    "  xlab(\"Cidade\") +\n",
    "  ylab(\"Média do Número de Acessos\") +\n",
    "  theme(axis.text.x = element_text(angle=45, hjust=1))"
   ]
  },
  {
   "cell_type": "markdown",
   "id": "1b98eeab",
   "metadata": {},
   "source": [
    "### Encoding de variáveis categóricas\n",
    "\n",
    "Algoritmos de machine learning são projetados para lidar com dados numéricos, frequentemente dependem de operações matemáticas, e trabalham melhor com dados numéricos do que com dados categóricos. Desta forma, há a necessidade de fazer encoding em variáveis categóricas.\n",
    "\n",
    "O **encoding de variáveis categóricas** é o processo de converter variáveis categóricas, que representam diferentes categorias ou grupos, em um formato numérico para que possam ser facilmente utilizadas em algoritmos de aprendizado de máquina ou análises estatísticas"
   ]
  },
  {
   "cell_type": "code",
   "execution_count": 12,
   "id": "73e7413f",
   "metadata": {},
   "outputs": [],
   "source": [
    "# Dividindo os dados em treino e teste\n",
    "set.seed(42)  # para reprodutibilidade\n",
    "\n",
    "#funçãocreateDataPartition é usada para dividir O conjunto de dados em partições para treinamento e teste\n",
    "indices <- createDataPartition(df_md$converteu, p = 0.75, list = FALSE)\n",
    "#ndica que 75% dos dados serão alocados para o conjunto de treinamento, e o restante (25%) será para o conjunto de teste.\n",
    "treino <- df_md[indices,] #treino\n",
    "teste <- df_md[-indices,] # operador -  exclui as observações correspondentes ao treino"
   ]
  },
  {
   "cell_type": "code",
   "execution_count": 13,
   "id": "75584d34",
   "metadata": {},
   "outputs": [
    {
     "data": {
      "text/html": [
       "<table class=\"dataframe\">\n",
       "<caption>A tibble: 6 × 6</caption>\n",
       "<thead>\n",
       "\t<tr><th scope=col>numero_acessos</th><th scope=col>numero_cliques</th><th scope=col>faixa_etaria</th><th scope=col>cidade</th><th scope=col>navegador_web</th><th scope=col>converteu</th></tr>\n",
       "\t<tr><th scope=col>&lt;dbl&gt;</th><th scope=col>&lt;dbl&gt;</th><th scope=col>&lt;chr&gt;</th><th scope=col>&lt;chr&gt;</th><th scope=col>&lt;chr&gt;</th><th scope=col>&lt;chr&gt;</th></tr>\n",
       "</thead>\n",
       "<tbody>\n",
       "\t<tr><td>65</td><td>57</td><td>18-24</td><td>Curitiba </td><td>Edge  </td><td>sim</td></tr>\n",
       "\t<tr><td>24</td><td>23</td><td>25-34</td><td>Curitiba </td><td>Chrome</td><td>sim</td></tr>\n",
       "\t<tr><td>49</td><td> 1</td><td>35-44</td><td>Curitiba </td><td>Edge  </td><td>não</td></tr>\n",
       "\t<tr><td>25</td><td>12</td><td>55-64</td><td>Natal    </td><td>Safari</td><td>não</td></tr>\n",
       "\t<tr><td> 1</td><td> 1</td><td>45-54</td><td>Curitiba </td><td>Safari</td><td>não</td></tr>\n",
       "\t<tr><td>52</td><td>42</td><td>45-54</td><td>Fortaleza</td><td>Safari</td><td>sim</td></tr>\n",
       "</tbody>\n",
       "</table>\n"
      ],
      "text/latex": [
       "A tibble: 6 × 6\n",
       "\\begin{tabular}{llllll}\n",
       " numero\\_acessos & numero\\_cliques & faixa\\_etaria & cidade & navegador\\_web & converteu\\\\\n",
       " <dbl> & <dbl> & <chr> & <chr> & <chr> & <chr>\\\\\n",
       "\\hline\n",
       "\t 65 & 57 & 18-24 & Curitiba  & Edge   & sim\\\\\n",
       "\t 24 & 23 & 25-34 & Curitiba  & Chrome & sim\\\\\n",
       "\t 49 &  1 & 35-44 & Curitiba  & Edge   & não\\\\\n",
       "\t 25 & 12 & 55-64 & Natal     & Safari & não\\\\\n",
       "\t  1 &  1 & 45-54 & Curitiba  & Safari & não\\\\\n",
       "\t 52 & 42 & 45-54 & Fortaleza & Safari & sim\\\\\n",
       "\\end{tabular}\n"
      ],
      "text/markdown": [
       "\n",
       "A tibble: 6 × 6\n",
       "\n",
       "| numero_acessos &lt;dbl&gt; | numero_cliques &lt;dbl&gt; | faixa_etaria &lt;chr&gt; | cidade &lt;chr&gt; | navegador_web &lt;chr&gt; | converteu &lt;chr&gt; |\n",
       "|---|---|---|---|---|---|\n",
       "| 65 | 57 | 18-24 | Curitiba  | Edge   | sim |\n",
       "| 24 | 23 | 25-34 | Curitiba  | Chrome | sim |\n",
       "| 49 |  1 | 35-44 | Curitiba  | Edge   | não |\n",
       "| 25 | 12 | 55-64 | Natal     | Safari | não |\n",
       "|  1 |  1 | 45-54 | Curitiba  | Safari | não |\n",
       "| 52 | 42 | 45-54 | Fortaleza | Safari | sim |\n",
       "\n"
      ],
      "text/plain": [
       "  numero_acessos numero_cliques faixa_etaria cidade    navegador_web converteu\n",
       "1 65             57             18-24        Curitiba  Edge          sim      \n",
       "2 24             23             25-34        Curitiba  Chrome        sim      \n",
       "3 49              1             35-44        Curitiba  Edge          não      \n",
       "4 25             12             55-64        Natal     Safari        não      \n",
       "5  1              1             45-54        Curitiba  Safari        não      \n",
       "6 52             42             45-54        Fortaleza Safari        sim      "
      ]
     },
     "metadata": {},
     "output_type": "display_data"
    }
   ],
   "source": [
    "head(treino)"
   ]
  },
  {
   "cell_type": "code",
   "execution_count": 14,
   "id": "8671c32f",
   "metadata": {},
   "outputs": [
    {
     "name": "stdout",
     "output_type": "stream",
     "text": [
      "Rows: 751\n",
      "Columns: 6\n",
      "$ numero_acessos \u001b[3m\u001b[90m<dbl>\u001b[39m\u001b[23m 65, 24, 49, 25, 1, 52, 81, 2, 73, 91, 32, 94, 61, 100, …\n",
      "$ numero_cliques \u001b[3m\u001b[90m<dbl>\u001b[39m\u001b[23m 57, 23, 1, 12, 1, 42, 5, 2, 69, 42, 2, 21, 52, 18, 32, …\n",
      "$ faixa_etaria   \u001b[3m\u001b[90m<chr>\u001b[39m\u001b[23m \"18-24\", \"25-34\", \"35-44\", \"55-64\", \"45-54\", \"45-54\", \"…\n",
      "$ cidade         \u001b[3m\u001b[90m<chr>\u001b[39m\u001b[23m \"Curitiba\", \"Curitiba\", \"Curitiba\", \"Natal\", \"Curitiba\"…\n",
      "$ navegador_web  \u001b[3m\u001b[90m<chr>\u001b[39m\u001b[23m \"Edge\", \"Chrome\", \"Edge\", \"Safari\", \"Safari\", \"Safari\",…\n",
      "$ converteu      \u001b[3m\u001b[90m<chr>\u001b[39m\u001b[23m \"sim\", \"sim\", \"não\", \"não\", \"não\", \"sim\", \"não\", \"não\",…\n",
      "Rows: 249\n",
      "Columns: 6\n",
      "$ numero_acessos \u001b[3m\u001b[90m<dbl>\u001b[39m\u001b[23m 99, 62, 62, 44, 4, 68, 66, 10, 81, 29, 28, 38, 70, 55, …\n",
      "$ numero_cliques \u001b[3m\u001b[90m<dbl>\u001b[39m\u001b[23m 38, 57, 60, 37, 4, 43, 4, 3, 4, 19, 0, 28, 60, 3, 51, 8…\n",
      "$ faixa_etaria   \u001b[3m\u001b[90m<chr>\u001b[39m\u001b[23m \"55-64\", \"35-44\", \"25-34\", \"18-24\", \"45-54\", \"55-64\", \"…\n",
      "$ cidade         \u001b[3m\u001b[90m<chr>\u001b[39m\u001b[23m \"Fortaleza\", \"Natal\", \"Blumenau\", \"Blumenau\", \"Curitiba…\n",
      "$ navegador_web  \u001b[3m\u001b[90m<chr>\u001b[39m\u001b[23m \"Safari\", \"Edge\", \"Edge\", \"Edge\", \"Chrome\", \"Edge\", \"Sa…\n",
      "$ converteu      \u001b[3m\u001b[90m<chr>\u001b[39m\u001b[23m \"sim\", \"sim\", \"sim\", \"não\", \"não\", \"sim\", \"não\", \"não\",…\n"
     ]
    }
   ],
   "source": [
    "glimpse(treino)\n",
    "glimpse(teste)"
   ]
  },
  {
   "cell_type": "code",
   "execution_count": 15,
   "id": "78c5526b",
   "metadata": {},
   "outputs": [],
   "source": [
    "# Aplicando label encoding à variável alvo\n",
    "treino$converteu <- as.factor(treino$converteu)\n",
    "teste$converteu <- as.factor(teste$converteu)"
   ]
  },
  {
   "cell_type": "code",
   "execution_count": 16,
   "id": "a43d5bfc",
   "metadata": {},
   "outputs": [
    {
     "name": "stdout",
     "output_type": "stream",
     "text": [
      "tibble [751 × 6] (S3: tbl_df/tbl/data.frame)\n",
      " $ numero_acessos: num [1:751] 65 24 49 25 1 52 81 2 73 91 ...\n",
      " $ numero_cliques: num [1:751] 57 23 1 12 1 42 5 2 69 42 ...\n",
      " $ faixa_etaria  : chr [1:751] \"18-24\" \"25-34\" \"35-44\" \"55-64\" ...\n",
      " $ cidade        : chr [1:751] \"Curitiba\" \"Curitiba\" \"Curitiba\" \"Natal\" ...\n",
      " $ navegador_web : chr [1:751] \"Edge\" \"Chrome\" \"Edge\" \"Safari\" ...\n",
      " $ converteu     : Factor w/ 2 levels \"não\",\"sim\": 2 2 1 1 1 2 1 1 2 2 ...\n",
      "tibble [249 × 6] (S3: tbl_df/tbl/data.frame)\n",
      " $ numero_acessos: num [1:249] 99 62 62 44 4 68 66 10 81 29 ...\n",
      " $ numero_cliques: num [1:249] 38 57 60 37 4 43 4 3 4 19 ...\n",
      " $ faixa_etaria  : chr [1:249] \"55-64\" \"35-44\" \"25-34\" \"18-24\" ...\n",
      " $ cidade        : chr [1:249] \"Fortaleza\" \"Natal\" \"Blumenau\" \"Blumenau\" ...\n",
      " $ navegador_web : chr [1:249] \"Safari\" \"Edge\" \"Edge\" \"Edge\" ...\n",
      " $ converteu     : Factor w/ 2 levels \"não\",\"sim\": 2 2 2 1 1 2 1 1 1 1 ...\n"
     ]
    }
   ],
   "source": [
    "#Variável convertida para o tipo fator\n",
    "str(treino)\n",
    "str(teste)"
   ]
  },
  {
   "cell_type": "code",
   "execution_count": 17,
   "id": "eef777dd",
   "metadata": {},
   "outputs": [],
   "source": [
    "# Aplicando label encoding às variáveis categóricas\n",
    "treino$faixa_etaria <- as.factor(treino$faixa_etaria)\n",
    "treino$cidade <- as.factor(treino$cidade)\n",
    "treino$navegador_web <- as.factor(treino$navegador_web)"
   ]
  },
  {
   "cell_type": "code",
   "execution_count": 18,
   "id": "886d9af6",
   "metadata": {},
   "outputs": [
    {
     "data": {
      "text/html": [
       "<table class=\"dataframe\">\n",
       "<caption>A tibble: 6 × 6</caption>\n",
       "<thead>\n",
       "\t<tr><th scope=col>numero_acessos</th><th scope=col>numero_cliques</th><th scope=col>faixa_etaria</th><th scope=col>cidade</th><th scope=col>navegador_web</th><th scope=col>converteu</th></tr>\n",
       "\t<tr><th scope=col>&lt;dbl&gt;</th><th scope=col>&lt;dbl&gt;</th><th scope=col>&lt;fct&gt;</th><th scope=col>&lt;fct&gt;</th><th scope=col>&lt;fct&gt;</th><th scope=col>&lt;fct&gt;</th></tr>\n",
       "</thead>\n",
       "<tbody>\n",
       "\t<tr><td>65</td><td>57</td><td>18-24</td><td>Curitiba </td><td>Edge  </td><td>sim</td></tr>\n",
       "\t<tr><td>24</td><td>23</td><td>25-34</td><td>Curitiba </td><td>Chrome</td><td>sim</td></tr>\n",
       "\t<tr><td>49</td><td> 1</td><td>35-44</td><td>Curitiba </td><td>Edge  </td><td>não</td></tr>\n",
       "\t<tr><td>25</td><td>12</td><td>55-64</td><td>Natal    </td><td>Safari</td><td>não</td></tr>\n",
       "\t<tr><td> 1</td><td> 1</td><td>45-54</td><td>Curitiba </td><td>Safari</td><td>não</td></tr>\n",
       "\t<tr><td>52</td><td>42</td><td>45-54</td><td>Fortaleza</td><td>Safari</td><td>sim</td></tr>\n",
       "</tbody>\n",
       "</table>\n"
      ],
      "text/latex": [
       "A tibble: 6 × 6\n",
       "\\begin{tabular}{llllll}\n",
       " numero\\_acessos & numero\\_cliques & faixa\\_etaria & cidade & navegador\\_web & converteu\\\\\n",
       " <dbl> & <dbl> & <fct> & <fct> & <fct> & <fct>\\\\\n",
       "\\hline\n",
       "\t 65 & 57 & 18-24 & Curitiba  & Edge   & sim\\\\\n",
       "\t 24 & 23 & 25-34 & Curitiba  & Chrome & sim\\\\\n",
       "\t 49 &  1 & 35-44 & Curitiba  & Edge   & não\\\\\n",
       "\t 25 & 12 & 55-64 & Natal     & Safari & não\\\\\n",
       "\t  1 &  1 & 45-54 & Curitiba  & Safari & não\\\\\n",
       "\t 52 & 42 & 45-54 & Fortaleza & Safari & sim\\\\\n",
       "\\end{tabular}\n"
      ],
      "text/markdown": [
       "\n",
       "A tibble: 6 × 6\n",
       "\n",
       "| numero_acessos &lt;dbl&gt; | numero_cliques &lt;dbl&gt; | faixa_etaria &lt;fct&gt; | cidade &lt;fct&gt; | navegador_web &lt;fct&gt; | converteu &lt;fct&gt; |\n",
       "|---|---|---|---|---|---|\n",
       "| 65 | 57 | 18-24 | Curitiba  | Edge   | sim |\n",
       "| 24 | 23 | 25-34 | Curitiba  | Chrome | sim |\n",
       "| 49 |  1 | 35-44 | Curitiba  | Edge   | não |\n",
       "| 25 | 12 | 55-64 | Natal     | Safari | não |\n",
       "|  1 |  1 | 45-54 | Curitiba  | Safari | não |\n",
       "| 52 | 42 | 45-54 | Fortaleza | Safari | sim |\n",
       "\n"
      ],
      "text/plain": [
       "  numero_acessos numero_cliques faixa_etaria cidade    navegador_web converteu\n",
       "1 65             57             18-24        Curitiba  Edge          sim      \n",
       "2 24             23             25-34        Curitiba  Chrome        sim      \n",
       "3 49              1             35-44        Curitiba  Edge          não      \n",
       "4 25             12             55-64        Natal     Safari        não      \n",
       "5  1              1             45-54        Curitiba  Safari        não      \n",
       "6 52             42             45-54        Fortaleza Safari        sim      "
      ]
     },
     "metadata": {},
     "output_type": "display_data"
    }
   ],
   "source": [
    "head(treino)"
   ]
  },
  {
   "cell_type": "code",
   "execution_count": 19,
   "id": "f819be75",
   "metadata": {},
   "outputs": [],
   "source": [
    "teste$faixa_etaria <- as.factor(teste$faixa_etaria)\n",
    "teste$cidade <- as.factor(teste$cidade)\n",
    "teste$navegador_web <- as.factor(teste$navegador_web)"
   ]
  },
  {
   "cell_type": "code",
   "execution_count": 20,
   "id": "f57cfa73",
   "metadata": {},
   "outputs": [
    {
     "data": {
      "text/html": [
       "<table class=\"dataframe\">\n",
       "<caption>A tibble: 6 × 6</caption>\n",
       "<thead>\n",
       "\t<tr><th scope=col>numero_acessos</th><th scope=col>numero_cliques</th><th scope=col>faixa_etaria</th><th scope=col>cidade</th><th scope=col>navegador_web</th><th scope=col>converteu</th></tr>\n",
       "\t<tr><th scope=col>&lt;dbl&gt;</th><th scope=col>&lt;dbl&gt;</th><th scope=col>&lt;fct&gt;</th><th scope=col>&lt;fct&gt;</th><th scope=col>&lt;fct&gt;</th><th scope=col>&lt;fct&gt;</th></tr>\n",
       "</thead>\n",
       "<tbody>\n",
       "\t<tr><td>99</td><td>38</td><td>55-64</td><td>Fortaleza</td><td>Safari</td><td>sim</td></tr>\n",
       "\t<tr><td>62</td><td>57</td><td>35-44</td><td>Natal    </td><td>Edge  </td><td>sim</td></tr>\n",
       "\t<tr><td>62</td><td>60</td><td>25-34</td><td>Blumenau </td><td>Edge  </td><td>sim</td></tr>\n",
       "\t<tr><td>44</td><td>37</td><td>18-24</td><td>Blumenau </td><td>Edge  </td><td>não</td></tr>\n",
       "\t<tr><td> 4</td><td> 4</td><td>45-54</td><td>Curitiba </td><td>Chrome</td><td>não</td></tr>\n",
       "\t<tr><td>68</td><td>43</td><td>55-64</td><td>Natal    </td><td>Edge  </td><td>sim</td></tr>\n",
       "</tbody>\n",
       "</table>\n"
      ],
      "text/latex": [
       "A tibble: 6 × 6\n",
       "\\begin{tabular}{llllll}\n",
       " numero\\_acessos & numero\\_cliques & faixa\\_etaria & cidade & navegador\\_web & converteu\\\\\n",
       " <dbl> & <dbl> & <fct> & <fct> & <fct> & <fct>\\\\\n",
       "\\hline\n",
       "\t 99 & 38 & 55-64 & Fortaleza & Safari & sim\\\\\n",
       "\t 62 & 57 & 35-44 & Natal     & Edge   & sim\\\\\n",
       "\t 62 & 60 & 25-34 & Blumenau  & Edge   & sim\\\\\n",
       "\t 44 & 37 & 18-24 & Blumenau  & Edge   & não\\\\\n",
       "\t  4 &  4 & 45-54 & Curitiba  & Chrome & não\\\\\n",
       "\t 68 & 43 & 55-64 & Natal     & Edge   & sim\\\\\n",
       "\\end{tabular}\n"
      ],
      "text/markdown": [
       "\n",
       "A tibble: 6 × 6\n",
       "\n",
       "| numero_acessos &lt;dbl&gt; | numero_cliques &lt;dbl&gt; | faixa_etaria &lt;fct&gt; | cidade &lt;fct&gt; | navegador_web &lt;fct&gt; | converteu &lt;fct&gt; |\n",
       "|---|---|---|---|---|---|\n",
       "| 99 | 38 | 55-64 | Fortaleza | Safari | sim |\n",
       "| 62 | 57 | 35-44 | Natal     | Edge   | sim |\n",
       "| 62 | 60 | 25-34 | Blumenau  | Edge   | sim |\n",
       "| 44 | 37 | 18-24 | Blumenau  | Edge   | não |\n",
       "|  4 |  4 | 45-54 | Curitiba  | Chrome | não |\n",
       "| 68 | 43 | 55-64 | Natal     | Edge   | sim |\n",
       "\n"
      ],
      "text/plain": [
       "  numero_acessos numero_cliques faixa_etaria cidade    navegador_web converteu\n",
       "1 99             38             55-64        Fortaleza Safari        sim      \n",
       "2 62             57             35-44        Natal     Edge          sim      \n",
       "3 62             60             25-34        Blumenau  Edge          sim      \n",
       "4 44             37             18-24        Blumenau  Edge          não      \n",
       "5  4              4             45-54        Curitiba  Chrome        não      \n",
       "6 68             43             55-64        Natal     Edge          sim      "
      ]
     },
     "metadata": {},
     "output_type": "display_data"
    }
   ],
   "source": [
    "head(teste)"
   ]
  },
  {
   "cell_type": "markdown",
   "id": "334bd653",
   "metadata": {},
   "source": [
    "## Modelagem Preditiva\n",
    "### Treinando o modelo de regressão logística\n",
    "\n",
    " - A regressão logística é um método estatístico utilizado para modelar a probabilidade de ocorrência de um evento binário. Este método é comumente utilizado em problemas nos quais a variável dependente é binária, ou seja, tem apenas dois possíveis resultados, como sim/não, sucesso/fracasso, 1/0, etc.\n",
    " - Ao contrário da regressão linear, que é usada para prever valores contínuos, a regressão logística usa a função logística para transformar a combinação linear das variáveis independentes em uma probabilidade entre 0 e 1. Ela é particularmente útil quando a variável dependente é categórica e binária, e o objetivo é entender a relação entre as variáveis independentes e a probabilidade de o evento ocorrer."
   ]
  },
  {
   "cell_type": "code",
   "execution_count": 21,
   "id": "a252ace5",
   "metadata": {},
   "outputs": [],
   "source": [
    "# Versão 1 do modelo\n",
    "# . sinaliza que estou usando todas as variáveis preditoras: numero_acessos, numero_cliques, faixa_etaria, cidade e navegador.\n",
    "modelo_v1 <- glm(converteu ~ ., family = binomial(link = 'logit'), data = treino)"
   ]
  },
  {
   "cell_type": "markdown",
   "id": "50dfb447",
   "metadata": {},
   "source": [
    "**family:** Este argumento especifica a distribuição da família a ser usada no modelo. Em um modelo de regressão logística, você está lidando com uma variável de resposta binária (duas categorias), então a distribuição binomial é apropriada.  \n",
    "**binomial:** Este é o tipo de distribuição usado para modelar variáveis binárias.  \n",
    "**link:** Este argumento especifica a função de ligação utilizada para relacionar a média da distribuição à combinação linear das variáveis independentes.\n",
    "**A função de ligação logística ('logit')** é comumente usada em regressão logística. A função logística transforma valores lineares em uma escala entre 0 e 1, o que é crucial para interpretar os resultados como probabilidades."
   ]
  },
  {
   "cell_type": "code",
   "execution_count": 22,
   "id": "40550a5c",
   "metadata": {},
   "outputs": [
    {
     "data": {
      "text/plain": [
       "\n",
       "Call:\n",
       "glm(formula = converteu ~ ., family = binomial(link = \"logit\"), \n",
       "    data = treino)\n",
       "\n",
       "Deviance Residuals: \n",
       "     Min        1Q    Median        3Q       Max  \n",
       "-2.74429  -0.24418   0.00572   0.20703   2.26234  \n",
       "\n",
       "Coefficients:\n",
       "                     Estimate Std. Error z value Pr(>|z|)    \n",
       "(Intercept)          -8.15188    0.86818  -9.390  < 2e-16 ***\n",
       "numero_acessos        0.06397    0.00720   8.884  < 2e-16 ***\n",
       "numero_cliques        0.16320    0.01645   9.918  < 2e-16 ***\n",
       "faixa_etaria25-34     4.95394    0.61002   8.121 4.62e-16 ***\n",
       "faixa_etaria35-44     5.26812    0.64366   8.185 2.73e-16 ***\n",
       "faixa_etaria45-54     0.62731    0.48849   1.284    0.199    \n",
       "faixa_etaria55-64    -0.09947    0.46198  -0.215    0.830    \n",
       "cidadeCuritiba       -0.51948    0.46393  -1.120    0.263    \n",
       "cidadeFortaleza      -0.35657    0.42570  -0.838    0.402    \n",
       "cidadeNatal          -0.01710    0.44780  -0.038    0.970    \n",
       "cidadeSalvador        0.53860    0.43424   1.240    0.215    \n",
       "navegador_webEdge     0.59578    0.38128   1.563    0.118    \n",
       "navegador_webFirefox  0.28220    0.39775   0.709    0.478    \n",
       "navegador_webSafari   0.62325    0.39910   1.562    0.118    \n",
       "---\n",
       "Signif. codes:  0 '***' 0.001 '**' 0.01 '*' 0.05 '.' 0.1 ' ' 1\n",
       "\n",
       "(Dispersion parameter for binomial family taken to be 1)\n",
       "\n",
       "    Null deviance: 1028.02  on 750  degrees of freedom\n",
       "Residual deviance:  340.81  on 737  degrees of freedom\n",
       "AIC: 368.81\n",
       "\n",
       "Number of Fisher Scoring iterations: 7\n"
      ]
     },
     "metadata": {},
     "output_type": "display_data"
    }
   ],
   "source": [
    "summary(modelo_v1)"
   ]
  },
  {
   "cell_type": "code",
   "execution_count": 23,
   "id": "30933158",
   "metadata": {},
   "outputs": [
    {
     "name": "stdout",
     "output_type": "stream",
     "text": [
      "           1            2            3            4            5            6 \n",
      "0.9895393840 0.9999826743 0.9999857085 0.7853065793 0.0007957925 0.9757474649 \n",
      "           7            8            9           10           11           12 \n",
      "0.0646953770 0.0013811082 0.1425759663 0.0680292200 0.1463562774 0.4777275031 \n",
      "          13           14           15           16           17           18 \n",
      "0.9968627742 0.6920638333 0.9975083419 0.5120543953 0.0926312783 0.9922344307 \n",
      "          19           20           21           22           23           24 \n",
      "0.1452754751 0.3621397488 0.9883419381 0.1515762525 0.0031659049 0.9755170272 \n",
      "          25           26           27           28           29           30 \n",
      "0.0010412410 0.6720705559 0.6104905363 0.9999129809 0.0024151949 0.0042519272 \n",
      "          31           32           33           34           35           36 \n",
      "0.2110585452 0.0104558576 0.0026513553 0.8735032796 0.9898400670 0.9999982194 \n",
      "          37           38           39           40           41           42 \n",
      "0.0009626986 0.9988729683 0.2570924442 0.7562450064 0.0838233371 0.0201528947 \n",
      "          43           44           45           46           47           48 \n",
      "0.9602287799 0.9994438183 0.5315406252 0.2639170739 0.0125068562 0.9655610124 \n",
      "          49           50           51           52           53           54 \n",
      "0.9882488875 0.9964366246 0.9361625787 0.3337577957 0.9999981796 0.9974434018 \n",
      "          55           56           57           58           59           60 \n",
      "0.2834523730 0.0013448326 0.9997010701 0.9958986354 0.9999686534 0.0140025095 \n",
      "          61           62           63           64           65           66 \n",
      "0.2949284852 0.0009053616 0.4025327144 0.9999993443 0.2121780395 0.9498777378 \n",
      "          67           68           69           70           71           72 \n",
      "0.0439608243 0.7826103385 0.5900553576 0.0014921867 0.3075431566 0.1233271627 \n",
      "          73           74           75           76           77           78 \n",
      "0.9961387756 0.9999365694 0.9999886177 0.1843660673 0.7666550329 0.9999892643 \n",
      "          79           80           81           82           83           84 \n",
      "0.9927436152 0.1479119160 0.0144551179 0.9999879827 0.4496011523 0.9995373727 \n",
      "          85           86           87           88           89           90 \n",
      "0.8572977587 0.9994823525 0.1680257835 0.1592714150 0.9962564551 0.9964814108 \n",
      "          91           92           93           94           95           96 \n",
      "0.0487587631 0.3354284466 0.0123130347 0.9942568594 0.7688493441 0.1357529969 \n",
      "          97           98           99          100          101          102 \n",
      "0.1638170412 0.1065285142 0.9976487935 0.0009084573 0.1871015281 0.9999547357 \n",
      "         103          104          105          106          107          108 \n",
      "0.9999998690 0.9999871723 0.9913278151 0.9999934535 0.2707685471 0.9836758129 \n",
      "         109          110          111          112          113          114 \n",
      "0.7365240016 0.9916654976 0.0016922872 0.0805180906 0.9997019682 0.0649165307 \n",
      "         115          116          117          118          119          120 \n",
      "0.9851028445 0.9999565393 0.3691518169 0.9999986972 0.9996440462 0.2398289708 \n",
      "         121          122          123          124          125          126 \n",
      "0.7807085178 0.1305446757 0.9991612288 0.9596854815 0.9999980255 0.0116295682 \n",
      "         127          128          129          130          131          132 \n",
      "0.0262531575 0.9999739849 0.9999985206 0.3624379634 0.9995450066 0.2171287178 \n",
      "         133          134          135          136          137          138 \n",
      "0.0811087002 0.9999705250 0.9999981496 0.0192583609 0.1657204919 0.0008640547 \n",
      "         139          140          141          142          143          144 \n",
      "0.0489743594 0.8605983353 0.7693014597 0.0198923498 0.9917579878 0.0126819906 \n",
      "         145          146          147          148          149          150 \n",
      "0.9765987020 0.1477294418 0.9469629823 0.9998733702 0.0020140024 0.9999995021 \n",
      "         151          152          153          154          155          156 \n",
      "0.0897038336 0.3531890522 0.9994204659 0.9509793216 0.9987322416 0.0056445058 \n",
      "         157          158          159          160          161          162 \n",
      "0.7506849750 0.0819109952 0.1335507404 0.0006322359 0.5755795622 0.7919930967 \n",
      "         163          164          165          166          167          168 \n",
      "0.8356542833 0.0804683531 0.5297326093 0.0404659973 0.9164557556 0.9999681680 \n",
      "         169          170          171          172          173          174 \n",
      "0.9985930143 0.8608703538 0.9745719037 0.0289551639 0.1983660589 0.9999994092 \n",
      "         175          176          177          178          179          180 \n",
      "0.0063770806 0.0003767003 0.0955280702 0.5406360872 0.9445338894 0.9999988269 \n",
      "         181          182          183          184          185          186 \n",
      "0.9999996626 0.9425585841 0.0023286136 0.4190410541 0.9360932483 0.9114113853 \n",
      "         187          188          189          190          191          192 \n",
      "0.6140395384 0.2778958767 0.7598791988 0.9967505159 0.0889549397 0.9999972498 \n",
      "         193          194          195          196          197          198 \n",
      "0.4780205188 0.0555635728 0.1948154587 0.9177570201 0.5420001145 0.0003930352 \n",
      "         199          200          201          202          203          204 \n",
      "0.9999770147 0.9999994383 0.0079908283 0.9945991777 0.0099746197 0.9999996326 \n",
      "         205          206          207          208          209          210 \n",
      "0.9997147836 0.9833780313 0.0020644287 0.5483643352 0.8518628915 0.0015051123 \n",
      "         211          212          213          214          215          216 \n",
      "0.9999996389 0.0089503650 0.1680813455 0.6986207414 0.9329493584 0.9999999721 \n",
      "         217          218          219          220          221          222 \n",
      "0.9999545137 0.7763037933 0.0144211957 0.0861778678 0.9995796800 0.9999983103 \n",
      "         223          224          225          226          227          228 \n",
      "0.7875471598 0.9999993758 0.8982575247 0.9999940028 0.9057397983 0.9864981713 \n",
      "         229          230          231          232          233          234 \n",
      "0.9999949310 0.9957261140 0.0003615623 0.0214649086 0.9960871994 0.0077603794 \n",
      "         235          236          237          238          239          240 \n",
      "0.9637037508 0.9700413656 0.0160312354 0.9994564349 0.9999263174 0.9572497081 \n",
      "         241          242          243          244          245          246 \n",
      "0.9993714363 0.6042933854 0.9988111576 0.0591424661 0.9951220010 0.9993227946 \n",
      "         247          248          249 \n",
      "0.6086921430 0.8002555261 0.9978919610 \n"
     ]
    }
   ],
   "source": [
    "# Fazendo previsões no conjunto de teste\n",
    "previsoes_prob <- predict(modelo_v1, newdata = teste, type = 'response')\n",
    "print(previsoes_prob)"
   ]
  },
  {
   "cell_type": "markdown",
   "id": "c07303ff",
   "metadata": {},
   "source": [
    "**type = 'response':** Este argumento especifica o tipo de previsões desejado. No contexto de uma regressão logística, 'response' significa que você está interessado nas probabilidades previstas."
   ]
  },
  {
   "cell_type": "code",
   "execution_count": 24,
   "id": "33957274",
   "metadata": {},
   "outputs": [
    {
     "name": "stdout",
     "output_type": "stream",
     "text": [
      "    1     2     3     4     5     6     7     8     9    10    11    12    13 \n",
      "\"sim\" \"sim\" \"sim\" \"sim\" \"não\" \"sim\" \"não\" \"não\" \"não\" \"não\" \"não\" \"não\" \"sim\" \n",
      "   14    15    16    17    18    19    20    21    22    23    24    25    26 \n",
      "\"sim\" \"sim\" \"sim\" \"não\" \"sim\" \"não\" \"não\" \"sim\" \"não\" \"não\" \"sim\" \"não\" \"sim\" \n",
      "   27    28    29    30    31    32    33    34    35    36    37    38    39 \n",
      "\"sim\" \"sim\" \"não\" \"não\" \"não\" \"não\" \"não\" \"sim\" \"sim\" \"sim\" \"não\" \"sim\" \"não\" \n",
      "   40    41    42    43    44    45    46    47    48    49    50    51    52 \n",
      "\"sim\" \"não\" \"não\" \"sim\" \"sim\" \"sim\" \"não\" \"não\" \"sim\" \"sim\" \"sim\" \"sim\" \"não\" \n",
      "   53    54    55    56    57    58    59    60    61    62    63    64    65 \n",
      "\"sim\" \"sim\" \"não\" \"não\" \"sim\" \"sim\" \"sim\" \"não\" \"não\" \"não\" \"não\" \"sim\" \"não\" \n",
      "   66    67    68    69    70    71    72    73    74    75    76    77    78 \n",
      "\"sim\" \"não\" \"sim\" \"sim\" \"não\" \"não\" \"não\" \"sim\" \"sim\" \"sim\" \"não\" \"sim\" \"sim\" \n",
      "   79    80    81    82    83    84    85    86    87    88    89    90    91 \n",
      "\"sim\" \"não\" \"não\" \"sim\" \"não\" \"sim\" \"sim\" \"sim\" \"não\" \"não\" \"sim\" \"sim\" \"não\" \n",
      "   92    93    94    95    96    97    98    99   100   101   102   103   104 \n",
      "\"não\" \"não\" \"sim\" \"sim\" \"não\" \"não\" \"não\" \"sim\" \"não\" \"não\" \"sim\" \"sim\" \"sim\" \n",
      "  105   106   107   108   109   110   111   112   113   114   115   116   117 \n",
      "\"sim\" \"sim\" \"não\" \"sim\" \"sim\" \"sim\" \"não\" \"não\" \"sim\" \"não\" \"sim\" \"sim\" \"não\" \n",
      "  118   119   120   121   122   123   124   125   126   127   128   129   130 \n",
      "\"sim\" \"sim\" \"não\" \"sim\" \"não\" \"sim\" \"sim\" \"sim\" \"não\" \"não\" \"sim\" \"sim\" \"não\" \n",
      "  131   132   133   134   135   136   137   138   139   140   141   142   143 \n",
      "\"sim\" \"não\" \"não\" \"sim\" \"sim\" \"não\" \"não\" \"não\" \"não\" \"sim\" \"sim\" \"não\" \"sim\" \n",
      "  144   145   146   147   148   149   150   151   152   153   154   155   156 \n",
      "\"não\" \"sim\" \"não\" \"sim\" \"sim\" \"não\" \"sim\" \"não\" \"não\" \"sim\" \"sim\" \"sim\" \"não\" \n",
      "  157   158   159   160   161   162   163   164   165   166   167   168   169 \n",
      "\"sim\" \"não\" \"não\" \"não\" \"sim\" \"sim\" \"sim\" \"não\" \"sim\" \"não\" \"sim\" \"sim\" \"sim\" \n",
      "  170   171   172   173   174   175   176   177   178   179   180   181   182 \n",
      "\"sim\" \"sim\" \"não\" \"não\" \"sim\" \"não\" \"não\" \"não\" \"sim\" \"sim\" \"sim\" \"sim\" \"sim\" \n",
      "  183   184   185   186   187   188   189   190   191   192   193   194   195 \n",
      "\"não\" \"não\" \"sim\" \"sim\" \"sim\" \"não\" \"sim\" \"sim\" \"não\" \"sim\" \"não\" \"não\" \"não\" \n",
      "  196   197   198   199   200   201   202   203   204   205   206   207   208 \n",
      "\"sim\" \"sim\" \"não\" \"sim\" \"sim\" \"não\" \"sim\" \"não\" \"sim\" \"sim\" \"sim\" \"não\" \"sim\" \n",
      "  209   210   211   212   213   214   215   216   217   218   219   220   221 \n",
      "\"sim\" \"não\" \"sim\" \"não\" \"não\" \"sim\" \"sim\" \"sim\" \"sim\" \"sim\" \"não\" \"não\" \"sim\" \n",
      "  222   223   224   225   226   227   228   229   230   231   232   233   234 \n",
      "\"sim\" \"sim\" \"sim\" \"sim\" \"sim\" \"sim\" \"sim\" \"sim\" \"sim\" \"não\" \"não\" \"sim\" \"não\" \n",
      "  235   236   237   238   239   240   241   242   243   244   245   246   247 \n",
      "\"sim\" \"sim\" \"não\" \"sim\" \"sim\" \"sim\" \"sim\" \"sim\" \"sim\" \"não\" \"sim\" \"sim\" \"sim\" \n",
      "  248   249 \n",
      "\"sim\" \"sim\" \n"
     ]
    }
   ],
   "source": [
    "previsoes_classe <- ifelse(previsoes_prob > 0.5, 'sim', 'não') #cutoff\n",
    "print(previsoes_classe)\n",
    "#Se a probabilidade for maior que 0.5, a condição é verdadeira."
   ]
  },
  {
   "cell_type": "markdown",
   "id": "60ff7e42",
   "metadata": {},
   "source": [
    "**A matriz de confusão** compara as previsões feitas pelo modelo com os valores reais. "
   ]
  },
  {
   "cell_type": "code",
   "execution_count": 25,
   "id": "9abd5a64",
   "metadata": {},
   "outputs": [
    {
     "name": "stdout",
     "output_type": "stream",
     "text": [
      "Confusion Matrix and Statistics\n",
      "\n",
      "          Reference\n",
      "Prediction não sim\n",
      "       não  93  11\n",
      "       sim  15 130\n",
      "                                          \n",
      "               Accuracy : 0.8956          \n",
      "                 95% CI : (0.8508, 0.9306)\n",
      "    No Information Rate : 0.5663          \n",
      "    P-Value [Acc > NIR] : <2e-16          \n",
      "                                          \n",
      "                  Kappa : 0.7865          \n",
      "                                          \n",
      " Mcnemar's Test P-Value : 0.5563          \n",
      "                                          \n",
      "            Sensitivity : 0.8611          \n",
      "            Specificity : 0.9220          \n",
      "         Pos Pred Value : 0.8942          \n",
      "         Neg Pred Value : 0.8966          \n",
      "             Prevalence : 0.4337          \n",
      "         Detection Rate : 0.3735          \n",
      "   Detection Prevalence : 0.4177          \n",
      "      Balanced Accuracy : 0.8915          \n",
      "                                          \n",
      "       'Positive' Class : não             \n",
      "                                          \n"
     ]
    }
   ],
   "source": [
    "# Matriz de confusão\n",
    "matriz_confusao <- confusionMatrix(as.factor(previsoes_classe), teste$converteu)\n",
    "print(matriz_confusao)"
   ]
  },
  {
   "cell_type": "markdown",
   "id": "9b1b7ab9",
   "metadata": {},
   "source": [
    "No Generalized Linear Model (GLM) para regressão logística em R, a referência da categoria (ou classe \"positiva\") é definida com base nos níveis do fator da variável resposta. A primeira categoria (ou nível) da variável fator é usada como referência por padrão. No entanto, é possível reordenar os níveis do fator para definir qual classe deve ser tratada como a \"positiva\" ou referência.  \n",
    "- treino$converteu <- relevel(treino$converteu, ref = \"sim\")  \n",
    "- teste$converteu <- relevel(teste$converteu, ref = \"sim\")  \n",
    "Essa classe \"positiva\" é apenas referência e não significa coisa boa ou ruim."
   ]
  },
  {
   "cell_type": "code",
   "execution_count": 26,
   "id": "4c9d9685",
   "metadata": {},
   "outputs": [
    {
     "name": "stdout",
     "output_type": "stream",
     "text": [
      "Acurácia: 0.8955823 \n"
     ]
    }
   ],
   "source": [
    "# Métricas de avaliação\n",
    "acuracia <- sum(diag(matriz_confusao$table)) / sum(matriz_confusao$table)\n",
    "cat(\"Acurácia:\", acuracia, \"\\n\")"
   ]
  },
  {
   "cell_type": "markdown",
   "id": "02ee0366",
   "metadata": {},
   "source": [
    "Conforme verificamos anteriormente, **apenas duas faixas etárias apresentam significância estatística**, como não podemos remover somente duas faixas-etárias que não apresentaram bons resultados, pois isto tornaria o modelo tendencioso, optamos por remover completamente a varíavel faixa-etária."
   ]
  },
  {
   "cell_type": "code",
   "execution_count": 27,
   "id": "36f2a856",
   "metadata": {},
   "outputs": [],
   "source": [
    "# Versão 2 do modelo\n",
    "modelo_v2 <- glm(converteu ~ numero_acessos + numero_cliques, family = binomial(link='logit'), data = treino)"
   ]
  },
  {
   "cell_type": "code",
   "execution_count": 28,
   "id": "c57cc411",
   "metadata": {},
   "outputs": [
    {
     "data": {
      "text/plain": [
       "\n",
       "Call:\n",
       "glm(formula = converteu ~ numero_acessos + numero_cliques, family = binomial(link = \"logit\"), \n",
       "    data = treino)\n",
       "\n",
       "Deviance Residuals: \n",
       "     Min        1Q    Median        3Q       Max  \n",
       "-2.34791  -0.62952   0.07993   0.58762   2.13941  \n",
       "\n",
       "Coefficients:\n",
       "                Estimate Std. Error z value Pr(>|z|)    \n",
       "(Intercept)    -3.027801   0.252469 -11.993  < 2e-16 ***\n",
       "numero_acessos  0.030439   0.004280   7.112 1.14e-12 ***\n",
       "numero_cliques  0.095377   0.009233  10.330  < 2e-16 ***\n",
       "---\n",
       "Signif. codes:  0 '***' 0.001 '**' 0.01 '*' 0.05 '.' 0.1 ' ' 1\n",
       "\n",
       "(Dispersion parameter for binomial family taken to be 1)\n",
       "\n",
       "    Null deviance: 1028.02  on 750  degrees of freedom\n",
       "Residual deviance:  597.12  on 748  degrees of freedom\n",
       "AIC: 603.12\n",
       "\n",
       "Number of Fisher Scoring iterations: 6\n"
      ]
     },
     "metadata": {},
     "output_type": "display_data"
    }
   ],
   "source": [
    "# Sumário do modelo\n",
    "summary(modelo_v2)"
   ]
  },
  {
   "cell_type": "code",
   "execution_count": 29,
   "id": "e84ed30f",
   "metadata": {},
   "outputs": [],
   "source": [
    "# Fazendo previsões no conjunto de teste\n",
    "previsoes_prob <- predict(modelo_v2, newdata = teste, type = 'response')\n",
    "previsoes_classe <- ifelse(previsoes_prob > 0.5, 'sim', 'não')"
   ]
  },
  {
   "cell_type": "code",
   "execution_count": 30,
   "id": "f4addbaa",
   "metadata": {},
   "outputs": [
    {
     "data": {
      "text/plain": [
       "Confusion Matrix and Statistics\n",
       "\n",
       "          Reference\n",
       "Prediction não sim\n",
       "       não  84  26\n",
       "       sim  24 115\n",
       "                                         \n",
       "               Accuracy : 0.7992         \n",
       "                 95% CI : (0.744, 0.8471)\n",
       "    No Information Rate : 0.5663         \n",
       "    P-Value [Acc > NIR] : 8.204e-15      \n",
       "                                         \n",
       "                  Kappa : 0.5921         \n",
       "                                         \n",
       " Mcnemar's Test P-Value : 0.8875         \n",
       "                                         \n",
       "            Sensitivity : 0.7778         \n",
       "            Specificity : 0.8156         \n",
       "         Pos Pred Value : 0.7636         \n",
       "         Neg Pred Value : 0.8273         \n",
       "             Prevalence : 0.4337         \n",
       "         Detection Rate : 0.3373         \n",
       "   Detection Prevalence : 0.4418         \n",
       "      Balanced Accuracy : 0.7967         \n",
       "                                         \n",
       "       'Positive' Class : não            \n",
       "                                         "
      ]
     },
     "metadata": {},
     "output_type": "display_data"
    }
   ],
   "source": [
    "# Matriz de confusão\n",
    "matriz_confusao <- confusionMatrix(as.factor(previsoes_classe), teste$converteu)\n",
    "matriz_confusao"
   ]
  },
  {
   "cell_type": "code",
   "execution_count": 31,
   "id": "ab239a2f",
   "metadata": {},
   "outputs": [
    {
     "name": "stdout",
     "output_type": "stream",
     "text": [
      "Acurácia: 0.7991968 \n"
     ]
    }
   ],
   "source": [
    "# Métricas de avaliação\n",
    "acuracia <- sum(diag(matriz_confusao$table)) / sum(matriz_confusao$table)\n",
    "cat(\"Acurácia:\", acuracia, \"\\n\")"
   ]
  },
  {
   "cell_type": "markdown",
   "id": "dc797709",
   "metadata": {},
   "source": [
    "**Neste caso optamos por diminuir a acurácia do modelo para evitar um modelo tendencioso.**"
   ]
  },
  {
   "cell_type": "markdown",
   "id": "f0e5112e",
   "metadata": {},
   "source": [
    "### Deploy"
   ]
  },
  {
   "cell_type": "code",
   "execution_count": 32,
   "id": "95a7c1d7",
   "metadata": {},
   "outputs": [],
   "source": [
    "# Salva o modelo treinado em disco\n",
    "save(modelo_v2, file = \"modelo_v2.RData\")"
   ]
  },
  {
   "cell_type": "code",
   "execution_count": 33,
   "id": "bc2708df",
   "metadata": {},
   "outputs": [],
   "source": [
    "# Carrega o modelo do disco\n",
    "load(\"modelo_v2.RData\")"
   ]
  },
  {
   "cell_type": "code",
   "execution_count": 34,
   "id": "95bd831f",
   "metadata": {},
   "outputs": [
    {
     "data": {
      "text/html": [
       "<table class=\"dataframe\">\n",
       "<caption>A data.frame: 1 × 2</caption>\n",
       "<thead>\n",
       "\t<tr><th scope=col>numero_acessos</th><th scope=col>numero_cliques</th></tr>\n",
       "\t<tr><th scope=col>&lt;dbl&gt;</th><th scope=col>&lt;dbl&gt;</th></tr>\n",
       "</thead>\n",
       "<tbody>\n",
       "\t<tr><td>60</td><td>20</td></tr>\n",
       "</tbody>\n",
       "</table>\n"
      ],
      "text/latex": [
       "A data.frame: 1 × 2\n",
       "\\begin{tabular}{ll}\n",
       " numero\\_acessos & numero\\_cliques\\\\\n",
       " <dbl> & <dbl>\\\\\n",
       "\\hline\n",
       "\t 60 & 20\\\\\n",
       "\\end{tabular}\n"
      ],
      "text/markdown": [
       "\n",
       "A data.frame: 1 × 2\n",
       "\n",
       "| numero_acessos &lt;dbl&gt; | numero_cliques &lt;dbl&gt; |\n",
       "|---|---|\n",
       "| 60 | 20 |\n",
       "\n"
      ],
      "text/plain": [
       "  numero_acessos numero_cliques\n",
       "1 60             20            "
      ]
     },
     "metadata": {},
     "output_type": "display_data"
    }
   ],
   "source": [
    "# Novos dados\n",
    "novos_dados <- data.frame(numero_acessos = c(60), numero_cliques = c(20))\n",
    "novos_dados"
   ]
  },
  {
   "cell_type": "code",
   "execution_count": 35,
   "id": "dcf2e13c",
   "metadata": {},
   "outputs": [],
   "source": [
    "# Previsões com novos dados\n",
    "previsoes_novos_dados_prob <- predict(modelo_v2, newdata = novos_dados, type = 'response')\n",
    "previsoes_novos_dados_classe <- ifelse(previsoes_novos_dados_prob > 0.5, 'sim', 'não')"
   ]
  },
  {
   "cell_type": "code",
   "execution_count": 36,
   "id": "e84abfc5",
   "metadata": {},
   "outputs": [
    {
     "data": {
      "text/html": [
       "<table class=\"dataframe\">\n",
       "<caption>A data.frame: 1 × 4</caption>\n",
       "<thead>\n",
       "\t<tr><th scope=col>numero_acessos</th><th scope=col>numero_cliques</th><th scope=col>Lead_Convertido</th><th scope=col>Probabilidade</th></tr>\n",
       "\t<tr><th scope=col>&lt;dbl&gt;</th><th scope=col>&lt;dbl&gt;</th><th scope=col>&lt;chr&gt;</th><th scope=col>&lt;dbl&gt;</th></tr>\n",
       "</thead>\n",
       "<tbody>\n",
       "\t<tr><td>60</td><td>20</td><td>sim</td><td>66.95277</td></tr>\n",
       "</tbody>\n",
       "</table>\n"
      ],
      "text/latex": [
       "A data.frame: 1 × 4\n",
       "\\begin{tabular}{llll}\n",
       " numero\\_acessos & numero\\_cliques & Lead\\_Convertido & Probabilidade\\\\\n",
       " <dbl> & <dbl> & <chr> & <dbl>\\\\\n",
       "\\hline\n",
       "\t 60 & 20 & sim & 66.95277\\\\\n",
       "\\end{tabular}\n"
      ],
      "text/markdown": [
       "\n",
       "A data.frame: 1 × 4\n",
       "\n",
       "| numero_acessos &lt;dbl&gt; | numero_cliques &lt;dbl&gt; | Lead_Convertido &lt;chr&gt; | Probabilidade &lt;dbl&gt; |\n",
       "|---|---|---|---|\n",
       "| 60 | 20 | sim | 66.95277 |\n",
       "\n"
      ],
      "text/plain": [
       "  numero_acessos numero_cliques Lead_Convertido Probabilidade\n",
       "1 60             20             sim             66.95277     "
      ]
     },
     "metadata": {},
     "output_type": "display_data"
    }
   ],
   "source": [
    "# Mostrando as previsões de classe e probabilidade\n",
    "novos_dados$Lead_Convertido <-previsoes_novos_dados_classe\n",
    "novos_dados$Probabilidade <-previsoes_novos_dados_prob * 100\n",
    "novos_dados"
   ]
  }
 ],
 "metadata": {
  "kernelspec": {
   "display_name": "R",
   "language": "R",
   "name": "ir"
  },
  "language_info": {
   "codemirror_mode": "r",
   "file_extension": ".r",
   "mimetype": "text/x-r-source",
   "name": "R",
   "pygments_lexer": "r",
   "version": "4.2.2"
  }
 },
 "nbformat": 4,
 "nbformat_minor": 5
}
