{
 "cells": [
  {
   "cell_type": "markdown",
   "id": "37d20393",
   "metadata": {},
   "source": [
    "### Vamos utilizar um modelo de Regressão Linear para prever as notas dos alunos com base em diversas métricas.\n",
    "### A nota que queremos prever é o G3\n"
   ]
  },
  {
   "cell_type": "code",
   "execution_count": 1,
   "id": "efc9bb13",
   "metadata": {},
   "outputs": [
    {
     "name": "stderr",
     "output_type": "stream",
     "text": [
      "Warning message:\n",
      "\"package 'readr' was built under R version 4.2.3\"\n"
     ]
    }
   ],
   "source": [
    "library(readr)"
   ]
  },
  {
   "cell_type": "code",
   "execution_count": 2,
   "id": "e0fce1a1",
   "metadata": {},
   "outputs": [
    {
     "name": "stderr",
     "output_type": "stream",
     "text": [
      "\u001b[36mℹ\u001b[39m Using \u001b[34m\u001b[34m\"','\"\u001b[34m\u001b[39m as decimal and \u001b[34m\u001b[34m\"'.'\"\u001b[34m\u001b[39m as grouping mark. Use `read_delim()` for more control.\n",
      "\n",
      "\u001b[1mRows: \u001b[22m\u001b[34m395\u001b[39m \u001b[1mColumns: \u001b[22m\u001b[34m33\u001b[39m\n",
      "\u001b[36m──\u001b[39m \u001b[1mColumn specification\u001b[22m \u001b[36m────────────────────────────────────────────────────────────────────────────────────────────────\u001b[39m\n",
      "\u001b[1mDelimiter:\u001b[22m \";\"\n",
      "\u001b[31mchr\u001b[39m (17): school, sex, address, famsize, Pstatus, Mjob, Fjob, reason, guardi...\n",
      "\u001b[32mdbl\u001b[39m (16): age, Medu, Fedu, traveltime, studytime, failures, famrel, freetime...\n",
      "\n",
      "\u001b[36mℹ\u001b[39m Use `spec()` to retrieve the full column specification for this data.\n",
      "\u001b[36mℹ\u001b[39m Specify the column types or set `show_col_types = FALSE` to quiet this message.\n"
     ]
    }
   ],
   "source": [
    "#Arquivo separado por ; utilizar read_csv2\n",
    "estudantes_df <- read_csv2('estudantes.csv')"
   ]
  },
  {
   "cell_type": "code",
   "execution_count": 3,
   "id": "f1f2d79a",
   "metadata": {},
   "outputs": [
    {
     "data": {
      "text/html": [
       "<table class=\"dataframe\">\n",
       "<caption>A tibble: 6 × 33</caption>\n",
       "<thead>\n",
       "\t<tr><th scope=col>school</th><th scope=col>sex</th><th scope=col>age</th><th scope=col>address</th><th scope=col>famsize</th><th scope=col>Pstatus</th><th scope=col>Medu</th><th scope=col>Fedu</th><th scope=col>Mjob</th><th scope=col>Fjob</th><th scope=col>⋯</th><th scope=col>famrel</th><th scope=col>freetime</th><th scope=col>goout</th><th scope=col>Dalc</th><th scope=col>Walc</th><th scope=col>health</th><th scope=col>absences</th><th scope=col>G1</th><th scope=col>G2</th><th scope=col>G3</th></tr>\n",
       "\t<tr><th scope=col>&lt;chr&gt;</th><th scope=col>&lt;chr&gt;</th><th scope=col>&lt;dbl&gt;</th><th scope=col>&lt;chr&gt;</th><th scope=col>&lt;chr&gt;</th><th scope=col>&lt;chr&gt;</th><th scope=col>&lt;dbl&gt;</th><th scope=col>&lt;dbl&gt;</th><th scope=col>&lt;chr&gt;</th><th scope=col>&lt;chr&gt;</th><th scope=col>⋯</th><th scope=col>&lt;dbl&gt;</th><th scope=col>&lt;dbl&gt;</th><th scope=col>&lt;dbl&gt;</th><th scope=col>&lt;dbl&gt;</th><th scope=col>&lt;dbl&gt;</th><th scope=col>&lt;dbl&gt;</th><th scope=col>&lt;dbl&gt;</th><th scope=col>&lt;dbl&gt;</th><th scope=col>&lt;dbl&gt;</th><th scope=col>&lt;dbl&gt;</th></tr>\n",
       "</thead>\n",
       "<tbody>\n",
       "\t<tr><td>GP</td><td>F</td><td>18</td><td>U</td><td>GT3</td><td>A</td><td>4</td><td>4</td><td>at_home </td><td>teacher </td><td>⋯</td><td>4</td><td>3</td><td>4</td><td>1</td><td>1</td><td>3</td><td> 6</td><td> 5</td><td> 6</td><td> 6</td></tr>\n",
       "\t<tr><td>GP</td><td>F</td><td>17</td><td>U</td><td>GT3</td><td>T</td><td>1</td><td>1</td><td>at_home </td><td>other   </td><td>⋯</td><td>5</td><td>3</td><td>3</td><td>1</td><td>1</td><td>3</td><td> 4</td><td> 5</td><td> 5</td><td> 6</td></tr>\n",
       "\t<tr><td>GP</td><td>F</td><td>15</td><td>U</td><td>LE3</td><td>T</td><td>1</td><td>1</td><td>at_home </td><td>other   </td><td>⋯</td><td>4</td><td>3</td><td>2</td><td>2</td><td>3</td><td>3</td><td>10</td><td> 7</td><td> 8</td><td>10</td></tr>\n",
       "\t<tr><td>GP</td><td>F</td><td>15</td><td>U</td><td>GT3</td><td>T</td><td>4</td><td>2</td><td>health  </td><td>services</td><td>⋯</td><td>3</td><td>2</td><td>2</td><td>1</td><td>1</td><td>5</td><td> 2</td><td>15</td><td>14</td><td>15</td></tr>\n",
       "\t<tr><td>GP</td><td>F</td><td>16</td><td>U</td><td>GT3</td><td>T</td><td>3</td><td>3</td><td>other   </td><td>other   </td><td>⋯</td><td>4</td><td>3</td><td>2</td><td>1</td><td>2</td><td>5</td><td> 4</td><td> 6</td><td>10</td><td>10</td></tr>\n",
       "\t<tr><td>GP</td><td>M</td><td>16</td><td>U</td><td>LE3</td><td>T</td><td>4</td><td>3</td><td>services</td><td>other   </td><td>⋯</td><td>5</td><td>4</td><td>2</td><td>1</td><td>2</td><td>5</td><td>10</td><td>15</td><td>15</td><td>15</td></tr>\n",
       "</tbody>\n",
       "</table>\n"
      ],
      "text/latex": [
       "A tibble: 6 × 33\n",
       "\\begin{tabular}{lllllllllllllllllllll}\n",
       " school & sex & age & address & famsize & Pstatus & Medu & Fedu & Mjob & Fjob & ⋯ & famrel & freetime & goout & Dalc & Walc & health & absences & G1 & G2 & G3\\\\\n",
       " <chr> & <chr> & <dbl> & <chr> & <chr> & <chr> & <dbl> & <dbl> & <chr> & <chr> & ⋯ & <dbl> & <dbl> & <dbl> & <dbl> & <dbl> & <dbl> & <dbl> & <dbl> & <dbl> & <dbl>\\\\\n",
       "\\hline\n",
       "\t GP & F & 18 & U & GT3 & A & 4 & 4 & at\\_home  & teacher  & ⋯ & 4 & 3 & 4 & 1 & 1 & 3 &  6 &  5 &  6 &  6\\\\\n",
       "\t GP & F & 17 & U & GT3 & T & 1 & 1 & at\\_home  & other    & ⋯ & 5 & 3 & 3 & 1 & 1 & 3 &  4 &  5 &  5 &  6\\\\\n",
       "\t GP & F & 15 & U & LE3 & T & 1 & 1 & at\\_home  & other    & ⋯ & 4 & 3 & 2 & 2 & 3 & 3 & 10 &  7 &  8 & 10\\\\\n",
       "\t GP & F & 15 & U & GT3 & T & 4 & 2 & health   & services & ⋯ & 3 & 2 & 2 & 1 & 1 & 5 &  2 & 15 & 14 & 15\\\\\n",
       "\t GP & F & 16 & U & GT3 & T & 3 & 3 & other    & other    & ⋯ & 4 & 3 & 2 & 1 & 2 & 5 &  4 &  6 & 10 & 10\\\\\n",
       "\t GP & M & 16 & U & LE3 & T & 4 & 3 & services & other    & ⋯ & 5 & 4 & 2 & 1 & 2 & 5 & 10 & 15 & 15 & 15\\\\\n",
       "\\end{tabular}\n"
      ],
      "text/markdown": [
       "\n",
       "A tibble: 6 × 33\n",
       "\n",
       "| school &lt;chr&gt; | sex &lt;chr&gt; | age &lt;dbl&gt; | address &lt;chr&gt; | famsize &lt;chr&gt; | Pstatus &lt;chr&gt; | Medu &lt;dbl&gt; | Fedu &lt;dbl&gt; | Mjob &lt;chr&gt; | Fjob &lt;chr&gt; | ⋯ ⋯ | famrel &lt;dbl&gt; | freetime &lt;dbl&gt; | goout &lt;dbl&gt; | Dalc &lt;dbl&gt; | Walc &lt;dbl&gt; | health &lt;dbl&gt; | absences &lt;dbl&gt; | G1 &lt;dbl&gt; | G2 &lt;dbl&gt; | G3 &lt;dbl&gt; |\n",
       "|---|---|---|---|---|---|---|---|---|---|---|---|---|---|---|---|---|---|---|---|---|\n",
       "| GP | F | 18 | U | GT3 | A | 4 | 4 | at_home  | teacher  | ⋯ | 4 | 3 | 4 | 1 | 1 | 3 |  6 |  5 |  6 |  6 |\n",
       "| GP | F | 17 | U | GT3 | T | 1 | 1 | at_home  | other    | ⋯ | 5 | 3 | 3 | 1 | 1 | 3 |  4 |  5 |  5 |  6 |\n",
       "| GP | F | 15 | U | LE3 | T | 1 | 1 | at_home  | other    | ⋯ | 4 | 3 | 2 | 2 | 3 | 3 | 10 |  7 |  8 | 10 |\n",
       "| GP | F | 15 | U | GT3 | T | 4 | 2 | health   | services | ⋯ | 3 | 2 | 2 | 1 | 1 | 5 |  2 | 15 | 14 | 15 |\n",
       "| GP | F | 16 | U | GT3 | T | 3 | 3 | other    | other    | ⋯ | 4 | 3 | 2 | 1 | 2 | 5 |  4 |  6 | 10 | 10 |\n",
       "| GP | M | 16 | U | LE3 | T | 4 | 3 | services | other    | ⋯ | 5 | 4 | 2 | 1 | 2 | 5 | 10 | 15 | 15 | 15 |\n",
       "\n"
      ],
      "text/plain": [
       "  school sex age address famsize Pstatus Medu Fedu Mjob     Fjob     ⋯ famrel\n",
       "1 GP     F   18  U       GT3     A       4    4    at_home  teacher  ⋯ 4     \n",
       "2 GP     F   17  U       GT3     T       1    1    at_home  other    ⋯ 5     \n",
       "3 GP     F   15  U       LE3     T       1    1    at_home  other    ⋯ 4     \n",
       "4 GP     F   15  U       GT3     T       4    2    health   services ⋯ 3     \n",
       "5 GP     F   16  U       GT3     T       3    3    other    other    ⋯ 4     \n",
       "6 GP     M   16  U       LE3     T       4    3    services other    ⋯ 5     \n",
       "  freetime goout Dalc Walc health absences G1 G2 G3\n",
       "1 3        4     1    1    3       6        5  6  6\n",
       "2 3        3     1    1    3       4        5  5  6\n",
       "3 3        2     2    3    3      10        7  8 10\n",
       "4 2        2     1    1    5       2       15 14 15\n",
       "5 3        2     1    2    5       4        6 10 10\n",
       "6 4        2     1    2    5      10       15 15 15"
      ]
     },
     "metadata": {},
     "output_type": "display_data"
    },
    {
     "data": {
      "text/html": [
       "<style>\n",
       ".list-inline {list-style: none; margin:0; padding: 0}\n",
       ".list-inline>li {display: inline-block}\n",
       ".list-inline>li:not(:last-child)::after {content: \"\\00b7\"; padding: 0 .5ex}\n",
       "</style>\n",
       "<ol class=list-inline><li>395</li><li>33</li></ol>\n"
      ],
      "text/latex": [
       "\\begin{enumerate*}\n",
       "\\item 395\n",
       "\\item 33\n",
       "\\end{enumerate*}\n"
      ],
      "text/markdown": [
       "1. 395\n",
       "2. 33\n",
       "\n",
       "\n"
      ],
      "text/plain": [
       "[1] 395  33"
      ]
     },
     "metadata": {},
     "output_type": "display_data"
    }
   ],
   "source": [
    "#Carregando um DF com informações sobre estudantes, relacionadas ao desempenho acadêmico e comportamento.\n",
    "head(estudantes_df)\n",
    "dim(estudantes_df)"
   ]
  },
  {
   "cell_type": "code",
   "execution_count": 4,
   "id": "01065482",
   "metadata": {},
   "outputs": [
    {
     "name": "stdout",
     "output_type": "stream",
     "text": [
      "spc_tbl_ [395 × 33] (S3: spec_tbl_df/tbl_df/tbl/data.frame)\n",
      " $ school    : chr [1:395] \"GP\" \"GP\" \"GP\" \"GP\" ...\n",
      " $ sex       : chr [1:395] \"F\" \"F\" \"F\" \"F\" ...\n",
      " $ age       : num [1:395] 18 17 15 15 16 16 16 17 15 15 ...\n",
      " $ address   : chr [1:395] \"U\" \"U\" \"U\" \"U\" ...\n",
      " $ famsize   : chr [1:395] \"GT3\" \"GT3\" \"LE3\" \"GT3\" ...\n",
      " $ Pstatus   : chr [1:395] \"A\" \"T\" \"T\" \"T\" ...\n",
      " $ Medu      : num [1:395] 4 1 1 4 3 4 2 4 3 3 ...\n",
      " $ Fedu      : num [1:395] 4 1 1 2 3 3 2 4 2 4 ...\n",
      " $ Mjob      : chr [1:395] \"at_home\" \"at_home\" \"at_home\" \"health\" ...\n",
      " $ Fjob      : chr [1:395] \"teacher\" \"other\" \"other\" \"services\" ...\n",
      " $ reason    : chr [1:395] \"course\" \"course\" \"other\" \"home\" ...\n",
      " $ guardian  : chr [1:395] \"mother\" \"father\" \"mother\" \"mother\" ...\n",
      " $ traveltime: num [1:395] 2 1 1 1 1 1 1 2 1 1 ...\n",
      " $ studytime : num [1:395] 2 2 2 3 2 2 2 2 2 2 ...\n",
      " $ failures  : num [1:395] 0 0 3 0 0 0 0 0 0 0 ...\n",
      " $ schoolsup : chr [1:395] \"yes\" \"no\" \"yes\" \"no\" ...\n",
      " $ famsup    : chr [1:395] \"no\" \"yes\" \"no\" \"yes\" ...\n",
      " $ paid      : chr [1:395] \"no\" \"no\" \"yes\" \"yes\" ...\n",
      " $ activities: chr [1:395] \"no\" \"no\" \"no\" \"yes\" ...\n",
      " $ nursery   : chr [1:395] \"yes\" \"no\" \"yes\" \"yes\" ...\n",
      " $ higher    : chr [1:395] \"yes\" \"yes\" \"yes\" \"yes\" ...\n",
      " $ internet  : chr [1:395] \"no\" \"yes\" \"yes\" \"yes\" ...\n",
      " $ romantic  : chr [1:395] \"no\" \"no\" \"no\" \"yes\" ...\n",
      " $ famrel    : num [1:395] 4 5 4 3 4 5 4 4 4 5 ...\n",
      " $ freetime  : num [1:395] 3 3 3 2 3 4 4 1 2 5 ...\n",
      " $ goout     : num [1:395] 4 3 2 2 2 2 4 4 2 1 ...\n",
      " $ Dalc      : num [1:395] 1 1 2 1 1 1 1 1 1 1 ...\n",
      " $ Walc      : num [1:395] 1 1 3 1 2 2 1 1 1 1 ...\n",
      " $ health    : num [1:395] 3 3 3 5 5 5 3 1 1 5 ...\n",
      " $ absences  : num [1:395] 6 4 10 2 4 10 0 6 0 0 ...\n",
      " $ G1        : num [1:395] 5 5 7 15 6 15 12 6 16 14 ...\n",
      " $ G2        : num [1:395] 6 5 8 14 10 15 12 5 18 15 ...\n",
      " $ G3        : num [1:395] 6 6 10 15 10 15 11 6 19 15 ...\n",
      " - attr(*, \"spec\")=\n",
      "  .. cols(\n",
      "  ..   school = \u001b[31mcol_character()\u001b[39m,\n",
      "  ..   sex = \u001b[31mcol_character()\u001b[39m,\n",
      "  ..   age = \u001b[32mcol_double()\u001b[39m,\n",
      "  ..   address = \u001b[31mcol_character()\u001b[39m,\n",
      "  ..   famsize = \u001b[31mcol_character()\u001b[39m,\n",
      "  ..   Pstatus = \u001b[31mcol_character()\u001b[39m,\n",
      "  ..   Medu = \u001b[32mcol_double()\u001b[39m,\n",
      "  ..   Fedu = \u001b[32mcol_double()\u001b[39m,\n",
      "  ..   Mjob = \u001b[31mcol_character()\u001b[39m,\n",
      "  ..   Fjob = \u001b[31mcol_character()\u001b[39m,\n",
      "  ..   reason = \u001b[31mcol_character()\u001b[39m,\n",
      "  ..   guardian = \u001b[31mcol_character()\u001b[39m,\n",
      "  ..   traveltime = \u001b[32mcol_double()\u001b[39m,\n",
      "  ..   studytime = \u001b[32mcol_double()\u001b[39m,\n",
      "  ..   failures = \u001b[32mcol_double()\u001b[39m,\n",
      "  ..   schoolsup = \u001b[31mcol_character()\u001b[39m,\n",
      "  ..   famsup = \u001b[31mcol_character()\u001b[39m,\n",
      "  ..   paid = \u001b[31mcol_character()\u001b[39m,\n",
      "  ..   activities = \u001b[31mcol_character()\u001b[39m,\n",
      "  ..   nursery = \u001b[31mcol_character()\u001b[39m,\n",
      "  ..   higher = \u001b[31mcol_character()\u001b[39m,\n",
      "  ..   internet = \u001b[31mcol_character()\u001b[39m,\n",
      "  ..   romantic = \u001b[31mcol_character()\u001b[39m,\n",
      "  ..   famrel = \u001b[32mcol_double()\u001b[39m,\n",
      "  ..   freetime = \u001b[32mcol_double()\u001b[39m,\n",
      "  ..   goout = \u001b[32mcol_double()\u001b[39m,\n",
      "  ..   Dalc = \u001b[32mcol_double()\u001b[39m,\n",
      "  ..   Walc = \u001b[32mcol_double()\u001b[39m,\n",
      "  ..   health = \u001b[32mcol_double()\u001b[39m,\n",
      "  ..   absences = \u001b[32mcol_double()\u001b[39m,\n",
      "  ..   G1 = \u001b[32mcol_double()\u001b[39m,\n",
      "  ..   G2 = \u001b[32mcol_double()\u001b[39m,\n",
      "  ..   G3 = \u001b[32mcol_double()\u001b[39m\n",
      "  .. )\n",
      " - attr(*, \"problems\")=<externalptr> \n"
     ]
    }
   ],
   "source": [
    "#Estrutura das variáveis\n",
    "str(estudantes_df)"
   ]
  },
  {
   "cell_type": "markdown",
   "id": "7d5d2261",
   "metadata": {},
   "source": [
    "### Informações gerais sobre as variáveis:\n",
    "\n",
    "school: A escola à qual o aluno pertence (provavelmente \"GP\" ou outra).  \n",
    "sex: O gênero do aluno (por exemplo, \"F\" para feminino).  \n",
    "age: A idade do aluno.  \n",
    "address: O tipo de endereço do aluno (por exemplo, \"U\" para urbano).\n",
    "famsize: O tamanho da família do aluno (por exemplo, \"GT3\" para mais de três membros da família).  \n",
    "Pstatus: O status de coabitação dos pais do aluno (por exemplo, \"T\" para morar juntos).  \n",
    "Medu e Fedu: Níveis de educação da mãe e do pai, respectivamente.  \n",
    "Mjob e Fjob: O trabalho da mãe e do pai do aluno.  \n",
    "reason: A razão para escolher a escola.  \n",
    "guardian: O guardião do aluno.  \n",
    "traveltime: Tempo de viagem da casa para a escola.  \n",
    "studytime: Tempo de estudo semanal.  \n",
    "failures: Número de reprovações anteriores.  \n",
    "schoolsup: Suporte educacional extra fornecido pela escola.  \n",
    "famsup: Suporte educacional extra fornecido pela família.  \n",
    "paid: Aulas extras pagas.  \n",
    "activities: Participação em atividades extracurriculares.  \n",
    "nursery: Se frequentou a creche na infância.  \n",
    "higher: Se deseja prosseguir estudos superiores.  \n",
    "internet: Acesso à internet em casa.  \n",
    "romantic: Se está em um relacionamento romântico.  \n",
    "famrel: Qualidade das relações familiares.  \n",
    "freetime: Tempo livre após a escola.  \n",
    "goout: Frequência de saídas com amigos.  \n",
    "Dalc e Walc: Consumo de álcool durante a semana e nos fins de semana, respectivamente.  \n",
    "health: Estado de saúde atual.  \n",
    "absence: Número de faltas na escola.  \n",
    "G1: Primeira nota;  \n",
    "G2: Segunda nota;  \n",
    "G3: Nota final- variável de saída."
   ]
  },
  {
   "cell_type": "code",
   "execution_count": 5,
   "id": "3ece11cf",
   "metadata": {},
   "outputs": [
    {
     "data": {
      "text/plain": [
       "    school              sex                 age         address         \n",
       " Length:395         Length:395         Min.   :15.0   Length:395        \n",
       " Class :character   Class :character   1st Qu.:16.0   Class :character  \n",
       " Mode  :character   Mode  :character   Median :17.0   Mode  :character  \n",
       "                                       Mean   :16.7                     \n",
       "                                       3rd Qu.:18.0                     \n",
       "                                       Max.   :22.0                     \n",
       "   famsize            Pstatus               Medu            Fedu      \n",
       " Length:395         Length:395         Min.   :0.000   Min.   :0.000  \n",
       " Class :character   Class :character   1st Qu.:2.000   1st Qu.:2.000  \n",
       " Mode  :character   Mode  :character   Median :3.000   Median :2.000  \n",
       "                                       Mean   :2.749   Mean   :2.522  \n",
       "                                       3rd Qu.:4.000   3rd Qu.:3.000  \n",
       "                                       Max.   :4.000   Max.   :4.000  \n",
       "     Mjob               Fjob              reason            guardian        \n",
       " Length:395         Length:395         Length:395         Length:395        \n",
       " Class :character   Class :character   Class :character   Class :character  \n",
       " Mode  :character   Mode  :character   Mode  :character   Mode  :character  \n",
       "                                                                            \n",
       "                                                                            \n",
       "                                                                            \n",
       "   traveltime      studytime        failures       schoolsup        \n",
       " Min.   :1.000   Min.   :1.000   Min.   :0.0000   Length:395        \n",
       " 1st Qu.:1.000   1st Qu.:1.000   1st Qu.:0.0000   Class :character  \n",
       " Median :1.000   Median :2.000   Median :0.0000   Mode  :character  \n",
       " Mean   :1.448   Mean   :2.035   Mean   :0.3342                     \n",
       " 3rd Qu.:2.000   3rd Qu.:2.000   3rd Qu.:0.0000                     \n",
       " Max.   :4.000   Max.   :4.000   Max.   :3.0000                     \n",
       "    famsup              paid            activities          nursery         \n",
       " Length:395         Length:395         Length:395         Length:395        \n",
       " Class :character   Class :character   Class :character   Class :character  \n",
       " Mode  :character   Mode  :character   Mode  :character   Mode  :character  \n",
       "                                                                            \n",
       "                                                                            \n",
       "                                                                            \n",
       "    higher            internet           romantic             famrel     \n",
       " Length:395         Length:395         Length:395         Min.   :1.000  \n",
       " Class :character   Class :character   Class :character   1st Qu.:4.000  \n",
       " Mode  :character   Mode  :character   Mode  :character   Median :4.000  \n",
       "                                                          Mean   :3.944  \n",
       "                                                          3rd Qu.:5.000  \n",
       "                                                          Max.   :5.000  \n",
       "    freetime         goout            Dalc            Walc      \n",
       " Min.   :1.000   Min.   :1.000   Min.   :1.000   Min.   :1.000  \n",
       " 1st Qu.:3.000   1st Qu.:2.000   1st Qu.:1.000   1st Qu.:1.000  \n",
       " Median :3.000   Median :3.000   Median :1.000   Median :2.000  \n",
       " Mean   :3.235   Mean   :3.109   Mean   :1.481   Mean   :2.291  \n",
       " 3rd Qu.:4.000   3rd Qu.:4.000   3rd Qu.:2.000   3rd Qu.:3.000  \n",
       " Max.   :5.000   Max.   :5.000   Max.   :5.000   Max.   :5.000  \n",
       "     health         absences            G1              G2       \n",
       " Min.   :1.000   Min.   : 0.000   Min.   : 3.00   Min.   : 0.00  \n",
       " 1st Qu.:3.000   1st Qu.: 0.000   1st Qu.: 8.00   1st Qu.: 9.00  \n",
       " Median :4.000   Median : 4.000   Median :11.00   Median :11.00  \n",
       " Mean   :3.554   Mean   : 5.709   Mean   :10.91   Mean   :10.71  \n",
       " 3rd Qu.:5.000   3rd Qu.: 8.000   3rd Qu.:13.00   3rd Qu.:13.00  \n",
       " Max.   :5.000   Max.   :75.000   Max.   :19.00   Max.   :19.00  \n",
       "       G3       \n",
       " Min.   : 0.00  \n",
       " 1st Qu.: 8.00  \n",
       " Median :11.00  \n",
       " Mean   :10.42  \n",
       " 3rd Qu.:14.00  \n",
       " Max.   :20.00  "
      ]
     },
     "metadata": {},
     "output_type": "display_data"
    }
   ],
   "source": [
    "#Resumo estatístico\n",
    "summary(estudantes_df)"
   ]
  },
  {
   "cell_type": "code",
   "execution_count": 6,
   "id": "03363e01",
   "metadata": {},
   "outputs": [
    {
     "data": {
      "text/html": [
       "<style>\n",
       ".dl-inline {width: auto; margin:0; padding: 0}\n",
       ".dl-inline>dt, .dl-inline>dd {float: none; width: auto; display: inline-block}\n",
       ".dl-inline>dt::after {content: \":\\0020\"; padding-right: .5ex}\n",
       ".dl-inline>dt:not(:first-of-type) {padding-left: .5ex}\n",
       "</style><dl class=dl-inline><dt>school</dt><dd>0</dd><dt>sex</dt><dd>0</dd><dt>age</dt><dd>0</dd><dt>address</dt><dd>0</dd><dt>famsize</dt><dd>0</dd><dt>Pstatus</dt><dd>0</dd><dt>Medu</dt><dd>0</dd><dt>Fedu</dt><dd>0</dd><dt>Mjob</dt><dd>0</dd><dt>Fjob</dt><dd>0</dd><dt>reason</dt><dd>0</dd><dt>guardian</dt><dd>0</dd><dt>traveltime</dt><dd>0</dd><dt>studytime</dt><dd>0</dd><dt>failures</dt><dd>0</dd><dt>schoolsup</dt><dd>0</dd><dt>famsup</dt><dd>0</dd><dt>paid</dt><dd>0</dd><dt>activities</dt><dd>0</dd><dt>nursery</dt><dd>0</dd><dt>higher</dt><dd>0</dd><dt>internet</dt><dd>0</dd><dt>romantic</dt><dd>0</dd><dt>famrel</dt><dd>0</dd><dt>freetime</dt><dd>0</dd><dt>goout</dt><dd>0</dd><dt>Dalc</dt><dd>0</dd><dt>Walc</dt><dd>0</dd><dt>health</dt><dd>0</dd><dt>absences</dt><dd>0</dd><dt>G1</dt><dd>0</dd><dt>G2</dt><dd>0</dd><dt>G3</dt><dd>0</dd></dl>\n"
      ],
      "text/latex": [
       "\\begin{description*}\n",
       "\\item[school] 0\n",
       "\\item[sex] 0\n",
       "\\item[age] 0\n",
       "\\item[address] 0\n",
       "\\item[famsize] 0\n",
       "\\item[Pstatus] 0\n",
       "\\item[Medu] 0\n",
       "\\item[Fedu] 0\n",
       "\\item[Mjob] 0\n",
       "\\item[Fjob] 0\n",
       "\\item[reason] 0\n",
       "\\item[guardian] 0\n",
       "\\item[traveltime] 0\n",
       "\\item[studytime] 0\n",
       "\\item[failures] 0\n",
       "\\item[schoolsup] 0\n",
       "\\item[famsup] 0\n",
       "\\item[paid] 0\n",
       "\\item[activities] 0\n",
       "\\item[nursery] 0\n",
       "\\item[higher] 0\n",
       "\\item[internet] 0\n",
       "\\item[romantic] 0\n",
       "\\item[famrel] 0\n",
       "\\item[freetime] 0\n",
       "\\item[goout] 0\n",
       "\\item[Dalc] 0\n",
       "\\item[Walc] 0\n",
       "\\item[health] 0\n",
       "\\item[absences] 0\n",
       "\\item[G1] 0\n",
       "\\item[G2] 0\n",
       "\\item[G3] 0\n",
       "\\end{description*}\n"
      ],
      "text/markdown": [
       "school\n",
       ":   0sex\n",
       ":   0age\n",
       ":   0address\n",
       ":   0famsize\n",
       ":   0Pstatus\n",
       ":   0Medu\n",
       ":   0Fedu\n",
       ":   0Mjob\n",
       ":   0Fjob\n",
       ":   0reason\n",
       ":   0guardian\n",
       ":   0traveltime\n",
       ":   0studytime\n",
       ":   0failures\n",
       ":   0schoolsup\n",
       ":   0famsup\n",
       ":   0paid\n",
       ":   0activities\n",
       ":   0nursery\n",
       ":   0higher\n",
       ":   0internet\n",
       ":   0romantic\n",
       ":   0famrel\n",
       ":   0freetime\n",
       ":   0goout\n",
       ":   0Dalc\n",
       ":   0Walc\n",
       ":   0health\n",
       ":   0absences\n",
       ":   0G1\n",
       ":   0G2\n",
       ":   0G3\n",
       ":   0\n",
       "\n"
      ],
      "text/plain": [
       "    school        sex        age    address    famsize    Pstatus       Medu \n",
       "         0          0          0          0          0          0          0 \n",
       "      Fedu       Mjob       Fjob     reason   guardian traveltime  studytime \n",
       "         0          0          0          0          0          0          0 \n",
       "  failures  schoolsup     famsup       paid activities    nursery     higher \n",
       "         0          0          0          0          0          0          0 \n",
       "  internet   romantic     famrel   freetime      goout       Dalc       Walc \n",
       "         0          0          0          0          0          0          0 \n",
       "    health   absences         G1         G2         G3 \n",
       "         0          0          0          0          0 "
      ]
     },
     "metadata": {},
     "output_type": "display_data"
    }
   ],
   "source": [
    "#Verificando valores nulos\n",
    "colSums(is.na(estudantes_df))"
   ]
  },
  {
   "cell_type": "code",
   "execution_count": 7,
   "id": "f21e2818",
   "metadata": {},
   "outputs": [
    {
     "name": "stderr",
     "output_type": "stream",
     "text": [
      "Warning message:\n",
      "\"package 'dplyr' was built under R version 4.2.3\"\n",
      "\n",
      "Attaching package: 'dplyr'\n",
      "\n",
      "\n",
      "The following objects are masked from 'package:stats':\n",
      "\n",
      "    filter, lag\n",
      "\n",
      "\n",
      "The following objects are masked from 'package:base':\n",
      "\n",
      "    intersect, setdiff, setequal, union\n",
      "\n",
      "\n"
     ]
    }
   ],
   "source": [
    "library(dplyr)"
   ]
  },
  {
   "cell_type": "code",
   "execution_count": 8,
   "id": "0ee08ce8",
   "metadata": {},
   "outputs": [
    {
     "data": {
      "text/html": [
       "<table class=\"dataframe\">\n",
       "<caption>A tibble: 6 × 16</caption>\n",
       "<thead>\n",
       "\t<tr><th scope=col>age</th><th scope=col>Medu</th><th scope=col>Fedu</th><th scope=col>traveltime</th><th scope=col>studytime</th><th scope=col>failures</th><th scope=col>famrel</th><th scope=col>freetime</th><th scope=col>goout</th><th scope=col>Dalc</th><th scope=col>Walc</th><th scope=col>health</th><th scope=col>absences</th><th scope=col>G1</th><th scope=col>G2</th><th scope=col>G3</th></tr>\n",
       "\t<tr><th scope=col>&lt;dbl&gt;</th><th scope=col>&lt;dbl&gt;</th><th scope=col>&lt;dbl&gt;</th><th scope=col>&lt;dbl&gt;</th><th scope=col>&lt;dbl&gt;</th><th scope=col>&lt;dbl&gt;</th><th scope=col>&lt;dbl&gt;</th><th scope=col>&lt;dbl&gt;</th><th scope=col>&lt;dbl&gt;</th><th scope=col>&lt;dbl&gt;</th><th scope=col>&lt;dbl&gt;</th><th scope=col>&lt;dbl&gt;</th><th scope=col>&lt;dbl&gt;</th><th scope=col>&lt;dbl&gt;</th><th scope=col>&lt;dbl&gt;</th><th scope=col>&lt;dbl&gt;</th></tr>\n",
       "</thead>\n",
       "<tbody>\n",
       "\t<tr><td>18</td><td>4</td><td>4</td><td>2</td><td>2</td><td>0</td><td>4</td><td>3</td><td>4</td><td>1</td><td>1</td><td>3</td><td> 6</td><td> 5</td><td> 6</td><td> 6</td></tr>\n",
       "\t<tr><td>17</td><td>1</td><td>1</td><td>1</td><td>2</td><td>0</td><td>5</td><td>3</td><td>3</td><td>1</td><td>1</td><td>3</td><td> 4</td><td> 5</td><td> 5</td><td> 6</td></tr>\n",
       "\t<tr><td>15</td><td>1</td><td>1</td><td>1</td><td>2</td><td>3</td><td>4</td><td>3</td><td>2</td><td>2</td><td>3</td><td>3</td><td>10</td><td> 7</td><td> 8</td><td>10</td></tr>\n",
       "\t<tr><td>15</td><td>4</td><td>2</td><td>1</td><td>3</td><td>0</td><td>3</td><td>2</td><td>2</td><td>1</td><td>1</td><td>5</td><td> 2</td><td>15</td><td>14</td><td>15</td></tr>\n",
       "\t<tr><td>16</td><td>3</td><td>3</td><td>1</td><td>2</td><td>0</td><td>4</td><td>3</td><td>2</td><td>1</td><td>2</td><td>5</td><td> 4</td><td> 6</td><td>10</td><td>10</td></tr>\n",
       "\t<tr><td>16</td><td>4</td><td>3</td><td>1</td><td>2</td><td>0</td><td>5</td><td>4</td><td>2</td><td>1</td><td>2</td><td>5</td><td>10</td><td>15</td><td>15</td><td>15</td></tr>\n",
       "</tbody>\n",
       "</table>\n"
      ],
      "text/latex": [
       "A tibble: 6 × 16\n",
       "\\begin{tabular}{llllllllllllllll}\n",
       " age & Medu & Fedu & traveltime & studytime & failures & famrel & freetime & goout & Dalc & Walc & health & absences & G1 & G2 & G3\\\\\n",
       " <dbl> & <dbl> & <dbl> & <dbl> & <dbl> & <dbl> & <dbl> & <dbl> & <dbl> & <dbl> & <dbl> & <dbl> & <dbl> & <dbl> & <dbl> & <dbl>\\\\\n",
       "\\hline\n",
       "\t 18 & 4 & 4 & 2 & 2 & 0 & 4 & 3 & 4 & 1 & 1 & 3 &  6 &  5 &  6 &  6\\\\\n",
       "\t 17 & 1 & 1 & 1 & 2 & 0 & 5 & 3 & 3 & 1 & 1 & 3 &  4 &  5 &  5 &  6\\\\\n",
       "\t 15 & 1 & 1 & 1 & 2 & 3 & 4 & 3 & 2 & 2 & 3 & 3 & 10 &  7 &  8 & 10\\\\\n",
       "\t 15 & 4 & 2 & 1 & 3 & 0 & 3 & 2 & 2 & 1 & 1 & 5 &  2 & 15 & 14 & 15\\\\\n",
       "\t 16 & 3 & 3 & 1 & 2 & 0 & 4 & 3 & 2 & 1 & 2 & 5 &  4 &  6 & 10 & 10\\\\\n",
       "\t 16 & 4 & 3 & 1 & 2 & 0 & 5 & 4 & 2 & 1 & 2 & 5 & 10 & 15 & 15 & 15\\\\\n",
       "\\end{tabular}\n"
      ],
      "text/markdown": [
       "\n",
       "A tibble: 6 × 16\n",
       "\n",
       "| age &lt;dbl&gt; | Medu &lt;dbl&gt; | Fedu &lt;dbl&gt; | traveltime &lt;dbl&gt; | studytime &lt;dbl&gt; | failures &lt;dbl&gt; | famrel &lt;dbl&gt; | freetime &lt;dbl&gt; | goout &lt;dbl&gt; | Dalc &lt;dbl&gt; | Walc &lt;dbl&gt; | health &lt;dbl&gt; | absences &lt;dbl&gt; | G1 &lt;dbl&gt; | G2 &lt;dbl&gt; | G3 &lt;dbl&gt; |\n",
       "|---|---|---|---|---|---|---|---|---|---|---|---|---|---|---|---|\n",
       "| 18 | 4 | 4 | 2 | 2 | 0 | 4 | 3 | 4 | 1 | 1 | 3 |  6 |  5 |  6 |  6 |\n",
       "| 17 | 1 | 1 | 1 | 2 | 0 | 5 | 3 | 3 | 1 | 1 | 3 |  4 |  5 |  5 |  6 |\n",
       "| 15 | 1 | 1 | 1 | 2 | 3 | 4 | 3 | 2 | 2 | 3 | 3 | 10 |  7 |  8 | 10 |\n",
       "| 15 | 4 | 2 | 1 | 3 | 0 | 3 | 2 | 2 | 1 | 1 | 5 |  2 | 15 | 14 | 15 |\n",
       "| 16 | 3 | 3 | 1 | 2 | 0 | 4 | 3 | 2 | 1 | 2 | 5 |  4 |  6 | 10 | 10 |\n",
       "| 16 | 4 | 3 | 1 | 2 | 0 | 5 | 4 | 2 | 1 | 2 | 5 | 10 | 15 | 15 | 15 |\n",
       "\n"
      ],
      "text/plain": [
       "  age Medu Fedu traveltime studytime failures famrel freetime goout Dalc Walc\n",
       "1 18  4    4    2          2         0        4      3        4     1    1   \n",
       "2 17  1    1    1          2         0        5      3        3     1    1   \n",
       "3 15  1    1    1          2         3        4      3        2     2    3   \n",
       "4 15  4    2    1          3         0        3      2        2     1    1   \n",
       "5 16  3    3    1          2         0        4      3        2     1    2   \n",
       "6 16  4    3    1          2         0        5      4        2     1    2   \n",
       "  health absences G1 G2 G3\n",
       "1 3       6        5  6  6\n",
       "2 3       4        5  5  6\n",
       "3 3      10        7  8 10\n",
       "4 5       2       15 14 15\n",
       "5 5       4        6 10 10\n",
       "6 5      10       15 15 15"
      ]
     },
     "metadata": {},
     "output_type": "display_data"
    },
    {
     "data": {
      "text/html": [
       "<style>\n",
       ".list-inline {list-style: none; margin:0; padding: 0}\n",
       ".list-inline>li {display: inline-block}\n",
       ".list-inline>li:not(:last-child)::after {content: \"\\00b7\"; padding: 0 .5ex}\n",
       "</style>\n",
       "<ol class=list-inline><li>395</li><li>16</li></ol>\n"
      ],
      "text/latex": [
       "\\begin{enumerate*}\n",
       "\\item 395\n",
       "\\item 16\n",
       "\\end{enumerate*}\n"
      ],
      "text/markdown": [
       "1. 395\n",
       "2. 16\n",
       "\n",
       "\n"
      ],
      "text/plain": [
       "[1] 395  16"
      ]
     },
     "metadata": {},
     "output_type": "display_data"
    }
   ],
   "source": [
    "#Como queremos criar um modelo de regressão linear usaremos apenas as variaveis numéricas:\n",
    "estudantes_df_numericas <- select_if(estudantes_df, is.numeric)\n",
    "head(estudantes_df_numericas)\n",
    "dim(estudantes_df_numericas)"
   ]
  },
  {
   "cell_type": "code",
   "execution_count": 9,
   "id": "0dc8238e",
   "metadata": {},
   "outputs": [
    {
     "name": "stderr",
     "output_type": "stream",
     "text": [
      "Warning message:\n",
      "\"package 'corrplot' was built under R version 4.2.3\"\n",
      "corrplot 0.92 loaded\n",
      "\n"
     ]
    }
   ],
   "source": [
    "library(corrplot)"
   ]
  },
  {
   "cell_type": "code",
   "execution_count": 10,
   "id": "cc1bbf4d",
   "metadata": {},
   "outputs": [
    {
     "data": {
      "text/html": [
       "<table class=\"dataframe\">\n",
       "<caption>A matrix: 16 × 16 of type dbl</caption>\n",
       "<thead>\n",
       "\t<tr><th></th><th scope=col>age</th><th scope=col>Medu</th><th scope=col>Fedu</th><th scope=col>traveltime</th><th scope=col>studytime</th><th scope=col>failures</th><th scope=col>famrel</th><th scope=col>freetime</th><th scope=col>goout</th><th scope=col>Dalc</th><th scope=col>Walc</th><th scope=col>health</th><th scope=col>absences</th><th scope=col>G1</th><th scope=col>G2</th><th scope=col>G3</th></tr>\n",
       "</thead>\n",
       "<tbody>\n",
       "\t<tr><th scope=row>age</th><td> 1.000000000</td><td>-0.163658419</td><td>-0.163438069</td><td> 0.070640721</td><td>-0.004140037</td><td> 0.24366538</td><td> 0.053940096</td><td> 0.01643439</td><td> 0.126963880</td><td> 0.131124605</td><td> 0.11727605</td><td>-0.062187369</td><td> 0.17523008</td><td>-0.06408150</td><td>-0.14347405</td><td>-0.16157944</td></tr>\n",
       "\t<tr><th scope=row>Medu</th><td>-0.163658419</td><td> 1.000000000</td><td> 0.623455112</td><td>-0.171639305</td><td> 0.064944137</td><td>-0.23667996</td><td>-0.003914458</td><td> 0.03089087</td><td> 0.064094438</td><td> 0.019834099</td><td>-0.04712346</td><td>-0.046877829</td><td> 0.10028482</td><td> 0.20534100</td><td> 0.21552717</td><td> 0.21714750</td></tr>\n",
       "\t<tr><th scope=row>Fedu</th><td>-0.163438069</td><td> 0.623455112</td><td> 1.000000000</td><td>-0.158194054</td><td>-0.009174639</td><td>-0.25040844</td><td>-0.001369727</td><td>-0.01284553</td><td> 0.043104668</td><td> 0.002386429</td><td>-0.01263102</td><td> 0.014741537</td><td> 0.02447289</td><td> 0.19026994</td><td> 0.16489339</td><td> 0.15245694</td></tr>\n",
       "\t<tr><th scope=row>traveltime</th><td> 0.070640721</td><td>-0.171639305</td><td>-0.158194054</td><td> 1.000000000</td><td>-0.100909119</td><td> 0.09223875</td><td>-0.016807986</td><td>-0.01702494</td><td> 0.028539674</td><td> 0.138325309</td><td> 0.13411575</td><td> 0.007500606</td><td>-0.01294378</td><td>-0.09303999</td><td>-0.15319796</td><td>-0.11714205</td></tr>\n",
       "\t<tr><th scope=row>studytime</th><td>-0.004140037</td><td> 0.064944137</td><td>-0.009174639</td><td>-0.100909119</td><td> 1.000000000</td><td>-0.17356303</td><td> 0.039730704</td><td>-0.14319841</td><td>-0.063903675</td><td>-0.196019263</td><td>-0.25378473</td><td>-0.075615863</td><td>-0.06270018</td><td> 0.16061192</td><td> 0.13588000</td><td> 0.09781969</td></tr>\n",
       "\t<tr><th scope=row>failures</th><td> 0.243665377</td><td>-0.236679963</td><td>-0.250408444</td><td> 0.092238746</td><td>-0.173563031</td><td> 1.00000000</td><td>-0.044336626</td><td> 0.09198747</td><td> 0.124560922</td><td> 0.136046931</td><td> 0.14196203</td><td> 0.065827282</td><td> 0.06372583</td><td>-0.35471761</td><td>-0.35589563</td><td>-0.36041494</td></tr>\n",
       "\t<tr><th scope=row>famrel</th><td> 0.053940096</td><td>-0.003914458</td><td>-0.001369727</td><td>-0.016807986</td><td> 0.039730704</td><td>-0.04433663</td><td> 1.000000000</td><td> 0.15070144</td><td> 0.064568411</td><td>-0.077594357</td><td>-0.11339731</td><td> 0.094055728</td><td>-0.04435409</td><td> 0.02216832</td><td>-0.01828135</td><td> 0.05136343</td></tr>\n",
       "\t<tr><th scope=row>freetime</th><td> 0.016434389</td><td> 0.030890867</td><td>-0.012845528</td><td>-0.017024944</td><td>-0.143198407</td><td> 0.09198747</td><td> 0.150701444</td><td> 1.00000000</td><td> 0.285018715</td><td> 0.209000848</td><td> 0.14782181</td><td> 0.075733357</td><td>-0.05807792</td><td> 0.01261293</td><td>-0.01377714</td><td> 0.01130724</td></tr>\n",
       "\t<tr><th scope=row>goout</th><td> 0.126963880</td><td> 0.064094438</td><td> 0.043104668</td><td> 0.028539674</td><td>-0.063903675</td><td> 0.12456092</td><td> 0.064568411</td><td> 0.28501871</td><td> 1.000000000</td><td> 0.266993848</td><td> 0.42038575</td><td>-0.009577254</td><td> 0.04430222</td><td>-0.14910397</td><td>-0.16225003</td><td>-0.13279147</td></tr>\n",
       "\t<tr><th scope=row>Dalc</th><td> 0.131124605</td><td> 0.019834099</td><td> 0.002386429</td><td> 0.138325309</td><td>-0.196019263</td><td> 0.13604693</td><td>-0.077594357</td><td> 0.20900085</td><td> 0.266993848</td><td> 1.000000000</td><td> 0.64754423</td><td> 0.077179582</td><td> 0.11190803</td><td>-0.09415879</td><td>-0.06412018</td><td>-0.05466004</td></tr>\n",
       "\t<tr><th scope=row>Walc</th><td> 0.117276052</td><td>-0.047123460</td><td>-0.012631018</td><td> 0.134115752</td><td>-0.253784731</td><td> 0.14196203</td><td>-0.113397308</td><td> 0.14782181</td><td> 0.420385745</td><td> 0.647544230</td><td> 1.00000000</td><td> 0.092476317</td><td> 0.13629110</td><td>-0.12617921</td><td>-0.08492735</td><td>-0.05193932</td></tr>\n",
       "\t<tr><th scope=row>health</th><td>-0.062187369</td><td>-0.046877829</td><td> 0.014741537</td><td> 0.007500606</td><td>-0.075615863</td><td> 0.06582728</td><td> 0.094055728</td><td> 0.07573336</td><td>-0.009577254</td><td> 0.077179582</td><td> 0.09247632</td><td> 1.000000000</td><td>-0.02993671</td><td>-0.07317207</td><td>-0.09771987</td><td>-0.06133460</td></tr>\n",
       "\t<tr><th scope=row>absences</th><td> 0.175230079</td><td> 0.100284818</td><td> 0.024472887</td><td>-0.012943775</td><td>-0.062700175</td><td> 0.06372583</td><td>-0.044354095</td><td>-0.05807792</td><td> 0.044302220</td><td> 0.111908026</td><td> 0.13629110</td><td>-0.029936711</td><td> 1.00000000</td><td>-0.03100290</td><td>-0.03177670</td><td> 0.03424732</td></tr>\n",
       "\t<tr><th scope=row>G1</th><td>-0.064081497</td><td> 0.205340997</td><td> 0.190269936</td><td>-0.093039992</td><td> 0.160611915</td><td>-0.35471761</td><td> 0.022168316</td><td> 0.01261293</td><td>-0.149103967</td><td>-0.094158792</td><td>-0.12617921</td><td>-0.073172073</td><td>-0.03100290</td><td> 1.00000000</td><td> 0.85211807</td><td> 0.80146793</td></tr>\n",
       "\t<tr><th scope=row>G2</th><td>-0.143474049</td><td> 0.215527168</td><td> 0.164893393</td><td>-0.153197963</td><td> 0.135879999</td><td>-0.35589563</td><td>-0.018281347</td><td>-0.01377714</td><td>-0.162250034</td><td>-0.064120183</td><td>-0.08492735</td><td>-0.097719866</td><td>-0.03177670</td><td> 0.85211807</td><td> 1.00000000</td><td> 0.90486799</td></tr>\n",
       "\t<tr><th scope=row>G3</th><td>-0.161579438</td><td> 0.217147496</td><td> 0.152456939</td><td>-0.117142053</td><td> 0.097819690</td><td>-0.36041494</td><td> 0.051363429</td><td> 0.01130724</td><td>-0.132791474</td><td>-0.054660041</td><td>-0.05193932</td><td>-0.061334605</td><td> 0.03424732</td><td> 0.80146793</td><td> 0.90486799</td><td> 1.00000000</td></tr>\n",
       "</tbody>\n",
       "</table>\n"
      ],
      "text/latex": [
       "A matrix: 16 × 16 of type dbl\n",
       "\\begin{tabular}{r|llllllllllllllll}\n",
       "  & age & Medu & Fedu & traveltime & studytime & failures & famrel & freetime & goout & Dalc & Walc & health & absences & G1 & G2 & G3\\\\\n",
       "\\hline\n",
       "\tage &  1.000000000 & -0.163658419 & -0.163438069 &  0.070640721 & -0.004140037 &  0.24366538 &  0.053940096 &  0.01643439 &  0.126963880 &  0.131124605 &  0.11727605 & -0.062187369 &  0.17523008 & -0.06408150 & -0.14347405 & -0.16157944\\\\\n",
       "\tMedu & -0.163658419 &  1.000000000 &  0.623455112 & -0.171639305 &  0.064944137 & -0.23667996 & -0.003914458 &  0.03089087 &  0.064094438 &  0.019834099 & -0.04712346 & -0.046877829 &  0.10028482 &  0.20534100 &  0.21552717 &  0.21714750\\\\\n",
       "\tFedu & -0.163438069 &  0.623455112 &  1.000000000 & -0.158194054 & -0.009174639 & -0.25040844 & -0.001369727 & -0.01284553 &  0.043104668 &  0.002386429 & -0.01263102 &  0.014741537 &  0.02447289 &  0.19026994 &  0.16489339 &  0.15245694\\\\\n",
       "\ttraveltime &  0.070640721 & -0.171639305 & -0.158194054 &  1.000000000 & -0.100909119 &  0.09223875 & -0.016807986 & -0.01702494 &  0.028539674 &  0.138325309 &  0.13411575 &  0.007500606 & -0.01294378 & -0.09303999 & -0.15319796 & -0.11714205\\\\\n",
       "\tstudytime & -0.004140037 &  0.064944137 & -0.009174639 & -0.100909119 &  1.000000000 & -0.17356303 &  0.039730704 & -0.14319841 & -0.063903675 & -0.196019263 & -0.25378473 & -0.075615863 & -0.06270018 &  0.16061192 &  0.13588000 &  0.09781969\\\\\n",
       "\tfailures &  0.243665377 & -0.236679963 & -0.250408444 &  0.092238746 & -0.173563031 &  1.00000000 & -0.044336626 &  0.09198747 &  0.124560922 &  0.136046931 &  0.14196203 &  0.065827282 &  0.06372583 & -0.35471761 & -0.35589563 & -0.36041494\\\\\n",
       "\tfamrel &  0.053940096 & -0.003914458 & -0.001369727 & -0.016807986 &  0.039730704 & -0.04433663 &  1.000000000 &  0.15070144 &  0.064568411 & -0.077594357 & -0.11339731 &  0.094055728 & -0.04435409 &  0.02216832 & -0.01828135 &  0.05136343\\\\\n",
       "\tfreetime &  0.016434389 &  0.030890867 & -0.012845528 & -0.017024944 & -0.143198407 &  0.09198747 &  0.150701444 &  1.00000000 &  0.285018715 &  0.209000848 &  0.14782181 &  0.075733357 & -0.05807792 &  0.01261293 & -0.01377714 &  0.01130724\\\\\n",
       "\tgoout &  0.126963880 &  0.064094438 &  0.043104668 &  0.028539674 & -0.063903675 &  0.12456092 &  0.064568411 &  0.28501871 &  1.000000000 &  0.266993848 &  0.42038575 & -0.009577254 &  0.04430222 & -0.14910397 & -0.16225003 & -0.13279147\\\\\n",
       "\tDalc &  0.131124605 &  0.019834099 &  0.002386429 &  0.138325309 & -0.196019263 &  0.13604693 & -0.077594357 &  0.20900085 &  0.266993848 &  1.000000000 &  0.64754423 &  0.077179582 &  0.11190803 & -0.09415879 & -0.06412018 & -0.05466004\\\\\n",
       "\tWalc &  0.117276052 & -0.047123460 & -0.012631018 &  0.134115752 & -0.253784731 &  0.14196203 & -0.113397308 &  0.14782181 &  0.420385745 &  0.647544230 &  1.00000000 &  0.092476317 &  0.13629110 & -0.12617921 & -0.08492735 & -0.05193932\\\\\n",
       "\thealth & -0.062187369 & -0.046877829 &  0.014741537 &  0.007500606 & -0.075615863 &  0.06582728 &  0.094055728 &  0.07573336 & -0.009577254 &  0.077179582 &  0.09247632 &  1.000000000 & -0.02993671 & -0.07317207 & -0.09771987 & -0.06133460\\\\\n",
       "\tabsences &  0.175230079 &  0.100284818 &  0.024472887 & -0.012943775 & -0.062700175 &  0.06372583 & -0.044354095 & -0.05807792 &  0.044302220 &  0.111908026 &  0.13629110 & -0.029936711 &  1.00000000 & -0.03100290 & -0.03177670 &  0.03424732\\\\\n",
       "\tG1 & -0.064081497 &  0.205340997 &  0.190269936 & -0.093039992 &  0.160611915 & -0.35471761 &  0.022168316 &  0.01261293 & -0.149103967 & -0.094158792 & -0.12617921 & -0.073172073 & -0.03100290 &  1.00000000 &  0.85211807 &  0.80146793\\\\\n",
       "\tG2 & -0.143474049 &  0.215527168 &  0.164893393 & -0.153197963 &  0.135879999 & -0.35589563 & -0.018281347 & -0.01377714 & -0.162250034 & -0.064120183 & -0.08492735 & -0.097719866 & -0.03177670 &  0.85211807 &  1.00000000 &  0.90486799\\\\\n",
       "\tG3 & -0.161579438 &  0.217147496 &  0.152456939 & -0.117142053 &  0.097819690 & -0.36041494 &  0.051363429 &  0.01130724 & -0.132791474 & -0.054660041 & -0.05193932 & -0.061334605 &  0.03424732 &  0.80146793 &  0.90486799 &  1.00000000\\\\\n",
       "\\end{tabular}\n"
      ],
      "text/markdown": [
       "\n",
       "A matrix: 16 × 16 of type dbl\n",
       "\n",
       "| <!--/--> | age | Medu | Fedu | traveltime | studytime | failures | famrel | freetime | goout | Dalc | Walc | health | absences | G1 | G2 | G3 |\n",
       "|---|---|---|---|---|---|---|---|---|---|---|---|---|---|---|---|---|\n",
       "| age |  1.000000000 | -0.163658419 | -0.163438069 |  0.070640721 | -0.004140037 |  0.24366538 |  0.053940096 |  0.01643439 |  0.126963880 |  0.131124605 |  0.11727605 | -0.062187369 |  0.17523008 | -0.06408150 | -0.14347405 | -0.16157944 |\n",
       "| Medu | -0.163658419 |  1.000000000 |  0.623455112 | -0.171639305 |  0.064944137 | -0.23667996 | -0.003914458 |  0.03089087 |  0.064094438 |  0.019834099 | -0.04712346 | -0.046877829 |  0.10028482 |  0.20534100 |  0.21552717 |  0.21714750 |\n",
       "| Fedu | -0.163438069 |  0.623455112 |  1.000000000 | -0.158194054 | -0.009174639 | -0.25040844 | -0.001369727 | -0.01284553 |  0.043104668 |  0.002386429 | -0.01263102 |  0.014741537 |  0.02447289 |  0.19026994 |  0.16489339 |  0.15245694 |\n",
       "| traveltime |  0.070640721 | -0.171639305 | -0.158194054 |  1.000000000 | -0.100909119 |  0.09223875 | -0.016807986 | -0.01702494 |  0.028539674 |  0.138325309 |  0.13411575 |  0.007500606 | -0.01294378 | -0.09303999 | -0.15319796 | -0.11714205 |\n",
       "| studytime | -0.004140037 |  0.064944137 | -0.009174639 | -0.100909119 |  1.000000000 | -0.17356303 |  0.039730704 | -0.14319841 | -0.063903675 | -0.196019263 | -0.25378473 | -0.075615863 | -0.06270018 |  0.16061192 |  0.13588000 |  0.09781969 |\n",
       "| failures |  0.243665377 | -0.236679963 | -0.250408444 |  0.092238746 | -0.173563031 |  1.00000000 | -0.044336626 |  0.09198747 |  0.124560922 |  0.136046931 |  0.14196203 |  0.065827282 |  0.06372583 | -0.35471761 | -0.35589563 | -0.36041494 |\n",
       "| famrel |  0.053940096 | -0.003914458 | -0.001369727 | -0.016807986 |  0.039730704 | -0.04433663 |  1.000000000 |  0.15070144 |  0.064568411 | -0.077594357 | -0.11339731 |  0.094055728 | -0.04435409 |  0.02216832 | -0.01828135 |  0.05136343 |\n",
       "| freetime |  0.016434389 |  0.030890867 | -0.012845528 | -0.017024944 | -0.143198407 |  0.09198747 |  0.150701444 |  1.00000000 |  0.285018715 |  0.209000848 |  0.14782181 |  0.075733357 | -0.05807792 |  0.01261293 | -0.01377714 |  0.01130724 |\n",
       "| goout |  0.126963880 |  0.064094438 |  0.043104668 |  0.028539674 | -0.063903675 |  0.12456092 |  0.064568411 |  0.28501871 |  1.000000000 |  0.266993848 |  0.42038575 | -0.009577254 |  0.04430222 | -0.14910397 | -0.16225003 | -0.13279147 |\n",
       "| Dalc |  0.131124605 |  0.019834099 |  0.002386429 |  0.138325309 | -0.196019263 |  0.13604693 | -0.077594357 |  0.20900085 |  0.266993848 |  1.000000000 |  0.64754423 |  0.077179582 |  0.11190803 | -0.09415879 | -0.06412018 | -0.05466004 |\n",
       "| Walc |  0.117276052 | -0.047123460 | -0.012631018 |  0.134115752 | -0.253784731 |  0.14196203 | -0.113397308 |  0.14782181 |  0.420385745 |  0.647544230 |  1.00000000 |  0.092476317 |  0.13629110 | -0.12617921 | -0.08492735 | -0.05193932 |\n",
       "| health | -0.062187369 | -0.046877829 |  0.014741537 |  0.007500606 | -0.075615863 |  0.06582728 |  0.094055728 |  0.07573336 | -0.009577254 |  0.077179582 |  0.09247632 |  1.000000000 | -0.02993671 | -0.07317207 | -0.09771987 | -0.06133460 |\n",
       "| absences |  0.175230079 |  0.100284818 |  0.024472887 | -0.012943775 | -0.062700175 |  0.06372583 | -0.044354095 | -0.05807792 |  0.044302220 |  0.111908026 |  0.13629110 | -0.029936711 |  1.00000000 | -0.03100290 | -0.03177670 |  0.03424732 |\n",
       "| G1 | -0.064081497 |  0.205340997 |  0.190269936 | -0.093039992 |  0.160611915 | -0.35471761 |  0.022168316 |  0.01261293 | -0.149103967 | -0.094158792 | -0.12617921 | -0.073172073 | -0.03100290 |  1.00000000 |  0.85211807 |  0.80146793 |\n",
       "| G2 | -0.143474049 |  0.215527168 |  0.164893393 | -0.153197963 |  0.135879999 | -0.35589563 | -0.018281347 | -0.01377714 | -0.162250034 | -0.064120183 | -0.08492735 | -0.097719866 | -0.03177670 |  0.85211807 |  1.00000000 |  0.90486799 |\n",
       "| G3 | -0.161579438 |  0.217147496 |  0.152456939 | -0.117142053 |  0.097819690 | -0.36041494 |  0.051363429 |  0.01130724 | -0.132791474 | -0.054660041 | -0.05193932 | -0.061334605 |  0.03424732 |  0.80146793 |  0.90486799 |  1.00000000 |\n",
       "\n"
      ],
      "text/plain": [
       "           age          Medu         Fedu         traveltime   studytime   \n",
       "age         1.000000000 -0.163658419 -0.163438069  0.070640721 -0.004140037\n",
       "Medu       -0.163658419  1.000000000  0.623455112 -0.171639305  0.064944137\n",
       "Fedu       -0.163438069  0.623455112  1.000000000 -0.158194054 -0.009174639\n",
       "traveltime  0.070640721 -0.171639305 -0.158194054  1.000000000 -0.100909119\n",
       "studytime  -0.004140037  0.064944137 -0.009174639 -0.100909119  1.000000000\n",
       "failures    0.243665377 -0.236679963 -0.250408444  0.092238746 -0.173563031\n",
       "famrel      0.053940096 -0.003914458 -0.001369727 -0.016807986  0.039730704\n",
       "freetime    0.016434389  0.030890867 -0.012845528 -0.017024944 -0.143198407\n",
       "goout       0.126963880  0.064094438  0.043104668  0.028539674 -0.063903675\n",
       "Dalc        0.131124605  0.019834099  0.002386429  0.138325309 -0.196019263\n",
       "Walc        0.117276052 -0.047123460 -0.012631018  0.134115752 -0.253784731\n",
       "health     -0.062187369 -0.046877829  0.014741537  0.007500606 -0.075615863\n",
       "absences    0.175230079  0.100284818  0.024472887 -0.012943775 -0.062700175\n",
       "G1         -0.064081497  0.205340997  0.190269936 -0.093039992  0.160611915\n",
       "G2         -0.143474049  0.215527168  0.164893393 -0.153197963  0.135879999\n",
       "G3         -0.161579438  0.217147496  0.152456939 -0.117142053  0.097819690\n",
       "           failures    famrel       freetime    goout        Dalc        \n",
       "age         0.24366538  0.053940096  0.01643439  0.126963880  0.131124605\n",
       "Medu       -0.23667996 -0.003914458  0.03089087  0.064094438  0.019834099\n",
       "Fedu       -0.25040844 -0.001369727 -0.01284553  0.043104668  0.002386429\n",
       "traveltime  0.09223875 -0.016807986 -0.01702494  0.028539674  0.138325309\n",
       "studytime  -0.17356303  0.039730704 -0.14319841 -0.063903675 -0.196019263\n",
       "failures    1.00000000 -0.044336626  0.09198747  0.124560922  0.136046931\n",
       "famrel     -0.04433663  1.000000000  0.15070144  0.064568411 -0.077594357\n",
       "freetime    0.09198747  0.150701444  1.00000000  0.285018715  0.209000848\n",
       "goout       0.12456092  0.064568411  0.28501871  1.000000000  0.266993848\n",
       "Dalc        0.13604693 -0.077594357  0.20900085  0.266993848  1.000000000\n",
       "Walc        0.14196203 -0.113397308  0.14782181  0.420385745  0.647544230\n",
       "health      0.06582728  0.094055728  0.07573336 -0.009577254  0.077179582\n",
       "absences    0.06372583 -0.044354095 -0.05807792  0.044302220  0.111908026\n",
       "G1         -0.35471761  0.022168316  0.01261293 -0.149103967 -0.094158792\n",
       "G2         -0.35589563 -0.018281347 -0.01377714 -0.162250034 -0.064120183\n",
       "G3         -0.36041494  0.051363429  0.01130724 -0.132791474 -0.054660041\n",
       "           Walc        health       absences    G1          G2         \n",
       "age         0.11727605 -0.062187369  0.17523008 -0.06408150 -0.14347405\n",
       "Medu       -0.04712346 -0.046877829  0.10028482  0.20534100  0.21552717\n",
       "Fedu       -0.01263102  0.014741537  0.02447289  0.19026994  0.16489339\n",
       "traveltime  0.13411575  0.007500606 -0.01294378 -0.09303999 -0.15319796\n",
       "studytime  -0.25378473 -0.075615863 -0.06270018  0.16061192  0.13588000\n",
       "failures    0.14196203  0.065827282  0.06372583 -0.35471761 -0.35589563\n",
       "famrel     -0.11339731  0.094055728 -0.04435409  0.02216832 -0.01828135\n",
       "freetime    0.14782181  0.075733357 -0.05807792  0.01261293 -0.01377714\n",
       "goout       0.42038575 -0.009577254  0.04430222 -0.14910397 -0.16225003\n",
       "Dalc        0.64754423  0.077179582  0.11190803 -0.09415879 -0.06412018\n",
       "Walc        1.00000000  0.092476317  0.13629110 -0.12617921 -0.08492735\n",
       "health      0.09247632  1.000000000 -0.02993671 -0.07317207 -0.09771987\n",
       "absences    0.13629110 -0.029936711  1.00000000 -0.03100290 -0.03177670\n",
       "G1         -0.12617921 -0.073172073 -0.03100290  1.00000000  0.85211807\n",
       "G2         -0.08492735 -0.097719866 -0.03177670  0.85211807  1.00000000\n",
       "G3         -0.05193932 -0.061334605  0.03424732  0.80146793  0.90486799\n",
       "           G3         \n",
       "age        -0.16157944\n",
       "Medu        0.21714750\n",
       "Fedu        0.15245694\n",
       "traveltime -0.11714205\n",
       "studytime   0.09781969\n",
       "failures   -0.36041494\n",
       "famrel      0.05136343\n",
       "freetime    0.01130724\n",
       "goout      -0.13279147\n",
       "Dalc       -0.05466004\n",
       "Walc       -0.05193932\n",
       "health     -0.06133460\n",
       "absences    0.03424732\n",
       "G1          0.80146793\n",
       "G2          0.90486799\n",
       "G3          1.00000000"
      ]
     },
     "metadata": {},
     "output_type": "display_data"
    }
   ],
   "source": [
    "#matriz de correlação\n",
    "matriz_cor <-cor(estudantes_df_numericas)\n",
    "matriz_cor"
   ]
  },
  {
   "cell_type": "code",
   "execution_count": 11,
   "id": "4789c687",
   "metadata": {},
   "outputs": [
    {
     "data": {
      "image/png": "[encoded data removed]",
      "text/plain": [
       "Plot with title \"\""
      ]
     },
     "metadata": {
      "image/png": {
       "height": 420,
       "width": 420
      }
     },
     "output_type": "display_data"
    }
   ],
   "source": [
    "corrplot(matriz_cor, method = 'color', type = 'upper', addCoef.col = 'springgreen2', tl.col = \"black\", tl.srt = 45) "
   ]
  },
  {
   "cell_type": "code",
   "execution_count": 12,
   "id": "8ecbc959",
   "metadata": {},
   "outputs": [
    {
     "name": "stderr",
     "output_type": "stream",
     "text": [
      "Warning message:\n",
      "\"package 'corrgram' was built under R version 4.2.3\"\n"
     ]
    }
   ],
   "source": [
    "library('corrgram')"
   ]
  },
  {
   "cell_type": "code",
   "execution_count": 13,
   "id": "385fda77",
   "metadata": {},
   "outputs": [
    {
     "data": {
      "image/png": "[encoded data removed]",
      "text/plain": [
       "plot without title"
      ]
     },
     "metadata": {
      "image/png": {
       "height": 420,
       "width": 420
      }
     },
     "output_type": "display_data"
    }
   ],
   "source": [
    "corrgram(estudantes_df_numericas)"
   ]
  },
  {
   "cell_type": "markdown",
   "id": "e1673ecc",
   "metadata": {},
   "source": [
    "### Treinamento do Modelo"
   ]
  },
  {
   "cell_type": "code",
   "execution_count": 14,
   "id": "66a8f9b3",
   "metadata": {},
   "outputs": [
    {
     "name": "stderr",
     "output_type": "stream",
     "text": [
      "Warning message:\n",
      "\"package 'caTools' was built under R version 4.2.3\"\n"
     ]
    }
   ],
   "source": [
    "#Vamos utilizar a função sample.split do pacote caTools para realizar a divisão do df em dados de treino e dados de teste.\n",
    "library(caTools)"
   ]
  },
  {
   "cell_type": "code",
   "execution_count": 15,
   "id": "61447268",
   "metadata": {},
   "outputs": [],
   "source": [
    "# Dividindo os dados em treino e teste com base na variável age\n",
    "set.seed(101)  # para reprodutibilidade\n",
    "amostra <- sample.split(estudantes_df_numericas$age, SplitRatio = 0.70)  #70% dos dados salvo em amostra"
   ]
  },
  {
   "cell_type": "code",
   "execution_count": 16,
   "id": "211076e2",
   "metadata": {},
   "outputs": [
    {
     "data": {
      "text/html": [
       "<table class=\"dataframe\">\n",
       "<caption>A tibble: 6 × 16</caption>\n",
       "<thead>\n",
       "\t<tr><th scope=col>age</th><th scope=col>Medu</th><th scope=col>Fedu</th><th scope=col>traveltime</th><th scope=col>studytime</th><th scope=col>failures</th><th scope=col>famrel</th><th scope=col>freetime</th><th scope=col>goout</th><th scope=col>Dalc</th><th scope=col>Walc</th><th scope=col>health</th><th scope=col>absences</th><th scope=col>G1</th><th scope=col>G2</th><th scope=col>G3</th></tr>\n",
       "\t<tr><th scope=col>&lt;dbl&gt;</th><th scope=col>&lt;dbl&gt;</th><th scope=col>&lt;dbl&gt;</th><th scope=col>&lt;dbl&gt;</th><th scope=col>&lt;dbl&gt;</th><th scope=col>&lt;dbl&gt;</th><th scope=col>&lt;dbl&gt;</th><th scope=col>&lt;dbl&gt;</th><th scope=col>&lt;dbl&gt;</th><th scope=col>&lt;dbl&gt;</th><th scope=col>&lt;dbl&gt;</th><th scope=col>&lt;dbl&gt;</th><th scope=col>&lt;dbl&gt;</th><th scope=col>&lt;dbl&gt;</th><th scope=col>&lt;dbl&gt;</th><th scope=col>&lt;dbl&gt;</th></tr>\n",
       "</thead>\n",
       "<tbody>\n",
       "\t<tr><td>18</td><td>4</td><td>4</td><td>2</td><td>2</td><td>0</td><td>4</td><td>3</td><td>4</td><td>1</td><td>1</td><td>3</td><td> 6</td><td> 5</td><td> 6</td><td> 6</td></tr>\n",
       "\t<tr><td>16</td><td>3</td><td>3</td><td>1</td><td>2</td><td>0</td><td>4</td><td>3</td><td>2</td><td>1</td><td>2</td><td>5</td><td> 4</td><td> 6</td><td>10</td><td>10</td></tr>\n",
       "\t<tr><td>16</td><td>4</td><td>3</td><td>1</td><td>2</td><td>0</td><td>5</td><td>4</td><td>2</td><td>1</td><td>2</td><td>5</td><td>10</td><td>15</td><td>15</td><td>15</td></tr>\n",
       "\t<tr><td>16</td><td>2</td><td>2</td><td>1</td><td>2</td><td>0</td><td>4</td><td>4</td><td>4</td><td>1</td><td>1</td><td>3</td><td> 0</td><td>12</td><td>12</td><td>11</td></tr>\n",
       "\t<tr><td>15</td><td>3</td><td>2</td><td>1</td><td>2</td><td>0</td><td>4</td><td>2</td><td>2</td><td>1</td><td>1</td><td>1</td><td> 0</td><td>16</td><td>18</td><td>19</td></tr>\n",
       "\t<tr><td>15</td><td>3</td><td>4</td><td>1</td><td>2</td><td>0</td><td>5</td><td>5</td><td>1</td><td>1</td><td>1</td><td>5</td><td> 0</td><td>14</td><td>15</td><td>15</td></tr>\n",
       "</tbody>\n",
       "</table>\n"
      ],
      "text/latex": [
       "A tibble: 6 × 16\n",
       "\\begin{tabular}{llllllllllllllll}\n",
       " age & Medu & Fedu & traveltime & studytime & failures & famrel & freetime & goout & Dalc & Walc & health & absences & G1 & G2 & G3\\\\\n",
       " <dbl> & <dbl> & <dbl> & <dbl> & <dbl> & <dbl> & <dbl> & <dbl> & <dbl> & <dbl> & <dbl> & <dbl> & <dbl> & <dbl> & <dbl> & <dbl>\\\\\n",
       "\\hline\n",
       "\t 18 & 4 & 4 & 2 & 2 & 0 & 4 & 3 & 4 & 1 & 1 & 3 &  6 &  5 &  6 &  6\\\\\n",
       "\t 16 & 3 & 3 & 1 & 2 & 0 & 4 & 3 & 2 & 1 & 2 & 5 &  4 &  6 & 10 & 10\\\\\n",
       "\t 16 & 4 & 3 & 1 & 2 & 0 & 5 & 4 & 2 & 1 & 2 & 5 & 10 & 15 & 15 & 15\\\\\n",
       "\t 16 & 2 & 2 & 1 & 2 & 0 & 4 & 4 & 4 & 1 & 1 & 3 &  0 & 12 & 12 & 11\\\\\n",
       "\t 15 & 3 & 2 & 1 & 2 & 0 & 4 & 2 & 2 & 1 & 1 & 1 &  0 & 16 & 18 & 19\\\\\n",
       "\t 15 & 3 & 4 & 1 & 2 & 0 & 5 & 5 & 1 & 1 & 1 & 5 &  0 & 14 & 15 & 15\\\\\n",
       "\\end{tabular}\n"
      ],
      "text/markdown": [
       "\n",
       "A tibble: 6 × 16\n",
       "\n",
       "| age &lt;dbl&gt; | Medu &lt;dbl&gt; | Fedu &lt;dbl&gt; | traveltime &lt;dbl&gt; | studytime &lt;dbl&gt; | failures &lt;dbl&gt; | famrel &lt;dbl&gt; | freetime &lt;dbl&gt; | goout &lt;dbl&gt; | Dalc &lt;dbl&gt; | Walc &lt;dbl&gt; | health &lt;dbl&gt; | absences &lt;dbl&gt; | G1 &lt;dbl&gt; | G2 &lt;dbl&gt; | G3 &lt;dbl&gt; |\n",
       "|---|---|---|---|---|---|---|---|---|---|---|---|---|---|---|---|\n",
       "| 18 | 4 | 4 | 2 | 2 | 0 | 4 | 3 | 4 | 1 | 1 | 3 |  6 |  5 |  6 |  6 |\n",
       "| 16 | 3 | 3 | 1 | 2 | 0 | 4 | 3 | 2 | 1 | 2 | 5 |  4 |  6 | 10 | 10 |\n",
       "| 16 | 4 | 3 | 1 | 2 | 0 | 5 | 4 | 2 | 1 | 2 | 5 | 10 | 15 | 15 | 15 |\n",
       "| 16 | 2 | 2 | 1 | 2 | 0 | 4 | 4 | 4 | 1 | 1 | 3 |  0 | 12 | 12 | 11 |\n",
       "| 15 | 3 | 2 | 1 | 2 | 0 | 4 | 2 | 2 | 1 | 1 | 1 |  0 | 16 | 18 | 19 |\n",
       "| 15 | 3 | 4 | 1 | 2 | 0 | 5 | 5 | 1 | 1 | 1 | 5 |  0 | 14 | 15 | 15 |\n",
       "\n"
      ],
      "text/plain": [
       "  age Medu Fedu traveltime studytime failures famrel freetime goout Dalc Walc\n",
       "1 18  4    4    2          2         0        4      3        4     1    1   \n",
       "2 16  3    3    1          2         0        4      3        2     1    2   \n",
       "3 16  4    3    1          2         0        5      4        2     1    2   \n",
       "4 16  2    2    1          2         0        4      4        4     1    1   \n",
       "5 15  3    2    1          2         0        4      2        2     1    1   \n",
       "6 15  3    4    1          2         0        5      5        1     1    1   \n",
       "  health absences G1 G2 G3\n",
       "1 3       6        5  6  6\n",
       "2 5       4        6 10 10\n",
       "3 5      10       15 15 15\n",
       "4 3       0       12 12 11\n",
       "5 1       0       16 18 19\n",
       "6 5       0       14 15 15"
      ]
     },
     "metadata": {},
     "output_type": "display_data"
    },
    {
     "data": {
      "text/html": [
       "<style>\n",
       ".list-inline {list-style: none; margin:0; padding: 0}\n",
       ".list-inline>li {display: inline-block}\n",
       ".list-inline>li:not(:last-child)::after {content: \"\\00b7\"; padding: 0 .5ex}\n",
       "</style>\n",
       "<ol class=list-inline><li>277</li><li>16</li></ol>\n"
      ],
      "text/latex": [
       "\\begin{enumerate*}\n",
       "\\item 277\n",
       "\\item 16\n",
       "\\end{enumerate*}\n"
      ],
      "text/markdown": [
       "1. 277\n",
       "2. 16\n",
       "\n",
       "\n"
      ],
      "text/plain": [
       "[1] 277  16"
      ]
     },
     "metadata": {},
     "output_type": "display_data"
    }
   ],
   "source": [
    "#Criando dados de treino (70% dos dados)\n",
    "treino <- subset(estudantes_df_numericas, amostra ==TRUE)\n",
    "head(treino)\n",
    "dim(treino)"
   ]
  },
  {
   "cell_type": "code",
   "execution_count": 17,
   "id": "1e781564",
   "metadata": {},
   "outputs": [
    {
     "data": {
      "text/html": [
       "<table class=\"dataframe\">\n",
       "<caption>A tibble: 6 × 16</caption>\n",
       "<thead>\n",
       "\t<tr><th scope=col>age</th><th scope=col>Medu</th><th scope=col>Fedu</th><th scope=col>traveltime</th><th scope=col>studytime</th><th scope=col>failures</th><th scope=col>famrel</th><th scope=col>freetime</th><th scope=col>goout</th><th scope=col>Dalc</th><th scope=col>Walc</th><th scope=col>health</th><th scope=col>absences</th><th scope=col>G1</th><th scope=col>G2</th><th scope=col>G3</th></tr>\n",
       "\t<tr><th scope=col>&lt;dbl&gt;</th><th scope=col>&lt;dbl&gt;</th><th scope=col>&lt;dbl&gt;</th><th scope=col>&lt;dbl&gt;</th><th scope=col>&lt;dbl&gt;</th><th scope=col>&lt;dbl&gt;</th><th scope=col>&lt;dbl&gt;</th><th scope=col>&lt;dbl&gt;</th><th scope=col>&lt;dbl&gt;</th><th scope=col>&lt;dbl&gt;</th><th scope=col>&lt;dbl&gt;</th><th scope=col>&lt;dbl&gt;</th><th scope=col>&lt;dbl&gt;</th><th scope=col>&lt;dbl&gt;</th><th scope=col>&lt;dbl&gt;</th><th scope=col>&lt;dbl&gt;</th></tr>\n",
       "</thead>\n",
       "<tbody>\n",
       "\t<tr><td>17</td><td>1</td><td>1</td><td>1</td><td>2</td><td>0</td><td>5</td><td>3</td><td>3</td><td>1</td><td>1</td><td>3</td><td> 4</td><td> 5</td><td> 5</td><td> 6</td></tr>\n",
       "\t<tr><td>15</td><td>1</td><td>1</td><td>1</td><td>2</td><td>3</td><td>4</td><td>3</td><td>2</td><td>2</td><td>3</td><td>3</td><td>10</td><td> 7</td><td> 8</td><td>10</td></tr>\n",
       "\t<tr><td>15</td><td>4</td><td>2</td><td>1</td><td>3</td><td>0</td><td>3</td><td>2</td><td>2</td><td>1</td><td>1</td><td>5</td><td> 2</td><td>15</td><td>14</td><td>15</td></tr>\n",
       "\t<tr><td>17</td><td>4</td><td>4</td><td>2</td><td>2</td><td>0</td><td>4</td><td>1</td><td>4</td><td>1</td><td>1</td><td>1</td><td> 6</td><td> 6</td><td> 5</td><td> 6</td></tr>\n",
       "\t<tr><td>15</td><td>2</td><td>2</td><td>1</td><td>3</td><td>0</td><td>4</td><td>5</td><td>2</td><td>1</td><td>1</td><td>3</td><td> 0</td><td>14</td><td>16</td><td>16</td></tr>\n",
       "\t<tr><td>16</td><td>4</td><td>4</td><td>1</td><td>1</td><td>0</td><td>4</td><td>4</td><td>4</td><td>1</td><td>2</td><td>2</td><td> 4</td><td>14</td><td>14</td><td>14</td></tr>\n",
       "</tbody>\n",
       "</table>\n"
      ],
      "text/latex": [
       "A tibble: 6 × 16\n",
       "\\begin{tabular}{llllllllllllllll}\n",
       " age & Medu & Fedu & traveltime & studytime & failures & famrel & freetime & goout & Dalc & Walc & health & absences & G1 & G2 & G3\\\\\n",
       " <dbl> & <dbl> & <dbl> & <dbl> & <dbl> & <dbl> & <dbl> & <dbl> & <dbl> & <dbl> & <dbl> & <dbl> & <dbl> & <dbl> & <dbl> & <dbl>\\\\\n",
       "\\hline\n",
       "\t 17 & 1 & 1 & 1 & 2 & 0 & 5 & 3 & 3 & 1 & 1 & 3 &  4 &  5 &  5 &  6\\\\\n",
       "\t 15 & 1 & 1 & 1 & 2 & 3 & 4 & 3 & 2 & 2 & 3 & 3 & 10 &  7 &  8 & 10\\\\\n",
       "\t 15 & 4 & 2 & 1 & 3 & 0 & 3 & 2 & 2 & 1 & 1 & 5 &  2 & 15 & 14 & 15\\\\\n",
       "\t 17 & 4 & 4 & 2 & 2 & 0 & 4 & 1 & 4 & 1 & 1 & 1 &  6 &  6 &  5 &  6\\\\\n",
       "\t 15 & 2 & 2 & 1 & 3 & 0 & 4 & 5 & 2 & 1 & 1 & 3 &  0 & 14 & 16 & 16\\\\\n",
       "\t 16 & 4 & 4 & 1 & 1 & 0 & 4 & 4 & 4 & 1 & 2 & 2 &  4 & 14 & 14 & 14\\\\\n",
       "\\end{tabular}\n"
      ],
      "text/markdown": [
       "\n",
       "A tibble: 6 × 16\n",
       "\n",
       "| age &lt;dbl&gt; | Medu &lt;dbl&gt; | Fedu &lt;dbl&gt; | traveltime &lt;dbl&gt; | studytime &lt;dbl&gt; | failures &lt;dbl&gt; | famrel &lt;dbl&gt; | freetime &lt;dbl&gt; | goout &lt;dbl&gt; | Dalc &lt;dbl&gt; | Walc &lt;dbl&gt; | health &lt;dbl&gt; | absences &lt;dbl&gt; | G1 &lt;dbl&gt; | G2 &lt;dbl&gt; | G3 &lt;dbl&gt; |\n",
       "|---|---|---|---|---|---|---|---|---|---|---|---|---|---|---|---|\n",
       "| 17 | 1 | 1 | 1 | 2 | 0 | 5 | 3 | 3 | 1 | 1 | 3 |  4 |  5 |  5 |  6 |\n",
       "| 15 | 1 | 1 | 1 | 2 | 3 | 4 | 3 | 2 | 2 | 3 | 3 | 10 |  7 |  8 | 10 |\n",
       "| 15 | 4 | 2 | 1 | 3 | 0 | 3 | 2 | 2 | 1 | 1 | 5 |  2 | 15 | 14 | 15 |\n",
       "| 17 | 4 | 4 | 2 | 2 | 0 | 4 | 1 | 4 | 1 | 1 | 1 |  6 |  6 |  5 |  6 |\n",
       "| 15 | 2 | 2 | 1 | 3 | 0 | 4 | 5 | 2 | 1 | 1 | 3 |  0 | 14 | 16 | 16 |\n",
       "| 16 | 4 | 4 | 1 | 1 | 0 | 4 | 4 | 4 | 1 | 2 | 2 |  4 | 14 | 14 | 14 |\n",
       "\n"
      ],
      "text/plain": [
       "  age Medu Fedu traveltime studytime failures famrel freetime goout Dalc Walc\n",
       "1 17  1    1    1          2         0        5      3        3     1    1   \n",
       "2 15  1    1    1          2         3        4      3        2     2    3   \n",
       "3 15  4    2    1          3         0        3      2        2     1    1   \n",
       "4 17  4    4    2          2         0        4      1        4     1    1   \n",
       "5 15  2    2    1          3         0        4      5        2     1    1   \n",
       "6 16  4    4    1          1         0        4      4        4     1    2   \n",
       "  health absences G1 G2 G3\n",
       "1 3       4        5  5  6\n",
       "2 3      10        7  8 10\n",
       "3 5       2       15 14 15\n",
       "4 1       6        6  5  6\n",
       "5 3       0       14 16 16\n",
       "6 2       4       14 14 14"
      ]
     },
     "metadata": {},
     "output_type": "display_data"
    },
    {
     "data": {
      "text/html": [
       "<style>\n",
       ".list-inline {list-style: none; margin:0; padding: 0}\n",
       ".list-inline>li {display: inline-block}\n",
       ".list-inline>li:not(:last-child)::after {content: \"\\00b7\"; padding: 0 .5ex}\n",
       "</style>\n",
       "<ol class=list-inline><li>118</li><li>16</li></ol>\n"
      ],
      "text/latex": [
       "\\begin{enumerate*}\n",
       "\\item 118\n",
       "\\item 16\n",
       "\\end{enumerate*}\n"
      ],
      "text/markdown": [
       "1. 118\n",
       "2. 16\n",
       "\n",
       "\n"
      ],
      "text/plain": [
       "[1] 118  16"
      ]
     },
     "metadata": {},
     "output_type": "display_data"
    }
   ],
   "source": [
    "teste <-subset(estudantes_df_numericas, amostra == FALSE)\n",
    "head(teste)\n",
    "dim(teste)"
   ]
  },
  {
   "cell_type": "code",
   "execution_count": 18,
   "id": "aa374f9e",
   "metadata": {},
   "outputs": [
    {
     "data": {
      "text/plain": [
       "\n",
       "Call:\n",
       "lm(formula = G3 ~ ., data = treino)\n",
       "\n",
       "Residuals:\n",
       "    Min      1Q  Median      3Q     Max \n",
       "-8.4802 -0.5834  0.3027  1.0286  4.2088 \n",
       "\n",
       "Coefficients:\n",
       "            Estimate Std. Error t value Pr(>|t|)    \n",
       "(Intercept) -0.24502    1.77602  -0.138 0.890378    \n",
       "age         -0.25460    0.09680  -2.630 0.009043 ** \n",
       "Medu         0.24740    0.13652   1.812 0.071119 .  \n",
       "Fedu        -0.17789    0.13378  -1.330 0.184755    \n",
       "traveltime   0.32978    0.17536   1.881 0.061140 .  \n",
       "studytime   -0.12330    0.13982  -0.882 0.378673    \n",
       "failures    -0.28488    0.18630  -1.529 0.127446    \n",
       "famrel       0.46394    0.13137   3.531 0.000489 ***\n",
       "freetime    -0.12338    0.12853  -0.960 0.337996    \n",
       "goout        0.10291    0.12038   0.855 0.393426    \n",
       "Dalc        -0.16858    0.16688  -1.010 0.313338    \n",
       "Walc         0.16531    0.12627   1.309 0.191626    \n",
       "health       0.04367    0.08692   0.502 0.615800    \n",
       "absences     0.05394    0.01630   3.308 0.001071 ** \n",
       "G1           0.11899    0.06906   1.723 0.086072 .  \n",
       "G2           1.01667    0.06143  16.549  < 2e-16 ***\n",
       "---\n",
       "Signif. codes:  0 '***' 0.001 '**' 0.01 '*' 0.05 '.' 0.1 ' ' 1\n",
       "\n",
       "Residual standard error: 1.858 on 261 degrees of freedom\n",
       "Multiple R-squared:  0.8479,\tAdjusted R-squared:  0.8392 \n",
       "F-statistic: 96.99 on 15 and 261 DF,  p-value: < 2.2e-16\n"
      ]
     },
     "metadata": {},
     "output_type": "display_data"
    }
   ],
   "source": [
    "#Gerando o primeiro modelo usando todos os atributos\n",
    "modelo1<-lm(G3 ~., data = treino)\n",
    "summary(modelo1)"
   ]
  },
  {
   "cell_type": "code",
   "execution_count": 19,
   "id": "b061ad2d",
   "metadata": {},
   "outputs": [
    {
     "data": {
      "text/plain": [
       "\n",
       "Call:\n",
       "lm(formula = G3 ~ G1 + G2, data = treino)\n",
       "\n",
       "Residuals:\n",
       "    Min      1Q  Median      3Q     Max \n",
       "-9.5559 -0.4030  0.3143  1.0137  3.4715 \n",
       "\n",
       "Coefficients:\n",
       "            Estimate Std. Error t value Pr(>|t|)    \n",
       "(Intercept) -1.87861    0.40782  -4.606 6.28e-06 ***\n",
       "G1           0.12976    0.07050   1.841   0.0668 .  \n",
       "G2           1.01370    0.06228  16.275  < 2e-16 ***\n",
       "---\n",
       "Signif. codes:  0 '***' 0.001 '**' 0.01 '*' 0.05 '.' 0.1 ' ' 1\n",
       "\n",
       "Residual standard error: 1.967 on 274 degrees of freedom\n",
       "Multiple R-squared:  0.8211,\tAdjusted R-squared:  0.8198 \n",
       "F-statistic: 628.8 on 2 and 274 DF,  p-value: < 2.2e-16\n"
      ]
     },
     "metadata": {},
     "output_type": "display_data"
    }
   ],
   "source": [
    "#Usando as notas G1 e G2\n",
    "modelo2 <- lm(G3 ~ G1 + G2, data = treino)\n",
    "summary(modelo2)"
   ]
  },
  {
   "cell_type": "code",
   "execution_count": 20,
   "id": "620c7902",
   "metadata": {},
   "outputs": [
    {
     "data": {
      "text/plain": [
       "\n",
       "Call:\n",
       "lm(formula = G3 ~ absences, data = treino)\n",
       "\n",
       "Residuals:\n",
       "     Min       1Q   Median       3Q      Max \n",
       "-10.4165  -2.4376   0.5201   3.5095   9.5412 \n",
       "\n",
       "Coefficients:\n",
       "            Estimate Std. Error t value Pr(>|t|)    \n",
       "(Intercept) 10.41648    0.35607  29.254   <2e-16 ***\n",
       "absences     0.01057    0.03897   0.271    0.786    \n",
       "---\n",
       "Signif. codes:  0 '***' 0.001 '**' 0.01 '*' 0.05 '.' 0.1 ' ' 1\n",
       "\n",
       "Residual standard error: 4.641 on 275 degrees of freedom\n",
       "Multiple R-squared:  0.0002675,\tAdjusted R-squared:  -0.003368 \n",
       "F-statistic: 0.07357 on 1 and 275 DF,  p-value: 0.7864\n"
      ]
     },
     "metadata": {},
     "output_type": "display_data"
    }
   ],
   "source": [
    "#Usando as faltas como variável preditora\n",
    "modelo3 <- lm(G3 ~ absences, treino)\n",
    "summary(modelo3)"
   ]
  },
  {
   "cell_type": "code",
   "execution_count": 21,
   "id": "d9b952d7",
   "metadata": {},
   "outputs": [
    {
     "data": {
      "text/plain": [
       "\n",
       "Call:\n",
       "lm(formula = G3 ~ failures, data = treino)\n",
       "\n",
       "Residuals:\n",
       "     Min       1Q   Median       3Q      Max \n",
       "-11.2865  -2.2865  -0.2865   3.1920   8.7135 \n",
       "\n",
       "Coefficients:\n",
       "            Estimate Std. Error t value Pr(>|t|)    \n",
       "(Intercept)  11.2865     0.2830  39.885  < 2e-16 ***\n",
       "failures     -2.4928     0.3612  -6.901 3.55e-11 ***\n",
       "---\n",
       "Signif. codes:  0 '***' 0.001 '**' 0.01 '*' 0.05 '.' 0.1 ' ' 1\n",
       "\n",
       "Residual standard error: 4.285 on 275 degrees of freedom\n",
       "Multiple R-squared:  0.1476,\tAdjusted R-squared:  0.1445 \n",
       "F-statistic: 47.63 on 1 and 275 DF,  p-value: 3.55e-11\n"
      ]
     },
     "metadata": {},
     "output_type": "display_data"
    }
   ],
   "source": [
    "#Usando o número de reprovações anteriores:\n",
    "modelo4 <- lm(G3 ~ failures, treino)\n",
    "summary(modelo4)"
   ]
  },
  {
   "cell_type": "code",
   "execution_count": 22,
   "id": "d016d29d",
   "metadata": {},
   "outputs": [
    {
     "data": {
      "text/plain": [
       "\n",
       "Call:\n",
       "lm(formula = G3 ~ Medu, data = treino)\n",
       "\n",
       "Residuals:\n",
       "    Min      1Q  Median      3Q     Max \n",
       "-11.813  -1.813   0.371   3.187   9.371 \n",
       "\n",
       "Coefficients:\n",
       "            Estimate Std. Error t value Pr(>|t|)    \n",
       "(Intercept)   7.4452     0.7471   9.966  < 2e-16 ***\n",
       "Medu          1.0919     0.2509   4.351 1.91e-05 ***\n",
       "---\n",
       "Signif. codes:  0 '***' 0.001 '**' 0.01 '*' 0.05 '.' 0.1 ' ' 1\n",
       "\n",
       "Residual standard error: 4.49 on 275 degrees of freedom\n",
       "Multiple R-squared:  0.06442,\tAdjusted R-squared:  0.06101 \n",
       "F-statistic: 18.93 on 1 and 275 DF,  p-value: 1.909e-05\n"
      ]
     },
     "metadata": {},
     "output_type": "display_data"
    }
   ],
   "source": [
    "# Usando os níveis de educação da mãe\n",
    "modelo5 <- lm(G3 ~ Medu, treino)\n",
    "summary(modelo5)"
   ]
  },
  {
   "cell_type": "markdown",
   "id": "dd0058e3",
   "metadata": {},
   "source": [
    "### Vamos escolher o modelo 1 que apresentou maior coeficiente de determinação."
   ]
  },
  {
   "cell_type": "code",
   "execution_count": 23,
   "id": "b43a512b",
   "metadata": {},
   "outputs": [],
   "source": [
    "#Verificando os resíduos\n",
    "residuos <- residuals(modelo1)"
   ]
  },
  {
   "cell_type": "code",
   "execution_count": 24,
   "id": "ad2b8ee4",
   "metadata": {},
   "outputs": [
    {
     "data": {
      "text/html": [
       "<table class=\"dataframe\">\n",
       "<caption>A data.frame: 6 × 1</caption>\n",
       "<thead>\n",
       "\t<tr><th></th><th scope=col>residuos</th></tr>\n",
       "\t<tr><th></th><th scope=col>&lt;dbl&gt;</th></tr>\n",
       "</thead>\n",
       "<tbody>\n",
       "\t<tr><th scope=row>1</th><td> 1.0932809</td></tr>\n",
       "\t<tr><th scope=row>2</th><td> 0.8587300</td></tr>\n",
       "\t<tr><th scope=row>3</th><td>-1.2071287</td></tr>\n",
       "\t<tr><th scope=row>4</th><td>-0.4331053</td></tr>\n",
       "\t<tr><th scope=row>5</th><td> 0.5353046</td></tr>\n",
       "\t<tr><th scope=row>6</th><td> 0.0135061</td></tr>\n",
       "</tbody>\n",
       "</table>\n"
      ],
      "text/latex": [
       "A data.frame: 6 × 1\n",
       "\\begin{tabular}{r|l}\n",
       "  & residuos\\\\\n",
       "  & <dbl>\\\\\n",
       "\\hline\n",
       "\t1 &  1.0932809\\\\\n",
       "\t2 &  0.8587300\\\\\n",
       "\t3 & -1.2071287\\\\\n",
       "\t4 & -0.4331053\\\\\n",
       "\t5 &  0.5353046\\\\\n",
       "\t6 &  0.0135061\\\\\n",
       "\\end{tabular}\n"
      ],
      "text/markdown": [
       "\n",
       "A data.frame: 6 × 1\n",
       "\n",
       "| <!--/--> | residuos &lt;dbl&gt; |\n",
       "|---|---|\n",
       "| 1 |  1.0932809 |\n",
       "| 2 |  0.8587300 |\n",
       "| 3 | -1.2071287 |\n",
       "| 4 | -0.4331053 |\n",
       "| 5 |  0.5353046 |\n",
       "| 6 |  0.0135061 |\n",
       "\n"
      ],
      "text/plain": [
       "  residuos  \n",
       "1  1.0932809\n",
       "2  0.8587300\n",
       "3 -1.2071287\n",
       "4 -0.4331053\n",
       "5  0.5353046\n",
       "6  0.0135061"
      ]
     },
     "metadata": {},
     "output_type": "display_data"
    }
   ],
   "source": [
    "#Convertendo para um dataframe\n",
    "residuos <- data.frame(residuos)\n",
    "head(residuos)"
   ]
  },
  {
   "cell_type": "code",
   "execution_count": 25,
   "id": "4211c1c6",
   "metadata": {},
   "outputs": [
    {
     "name": "stderr",
     "output_type": "stream",
     "text": [
      "Warning message:\n",
      "\"package 'ggplot2' was built under R version 4.2.3\"\n"
     ]
    }
   ],
   "source": [
    "library(ggplot2)"
   ]
  },
  {
   "cell_type": "code",
   "execution_count": 26,
   "id": "c71bbddd",
   "metadata": {},
   "outputs": [
    {
     "data": {
      "image/png": "[encoded data removed]",
      "text/plain": [
       "plot without title"
      ]
     },
     "metadata": {
      "image/png": {
       "height": 420,
       "width": 420
      }
     },
     "output_type": "display_data"
    }
   ],
   "source": [
    "ggplot(residuos, aes(residuos)) +\n",
    "geom_histogram(fill= 'blue',\n",
    "              alpha=0.3, #Transparência das barras\n",
    "              binwidth=1) #largura dos bins"
   ]
  },
  {
   "cell_type": "code",
   "execution_count": 27,
   "id": "971f3a2d",
   "metadata": {},
   "outputs": [
    {
     "data": {
      "image/png": "[encoded data removed]",
      "text/plain": [
       "Plot with title \"\""
      ]
     },
     "metadata": {
      "image/png": {
       "height": 420,
       "width": 420
      }
     },
     "output_type": "display_data"
    },
    {
     "data": {
      "image/png": "[encoded data removed]",
      "text/plain": [
       "Plot with title \"\""
      ]
     },
     "metadata": {
      "image/png": {
       "height": 420,
       "width": 420
      }
     },
     "output_type": "display_data"
    },
    {
     "data": {
      "image/png": "[encoded data removed]",
      "text/plain": [
       "Plot with title \"\""
      ]
     },
     "metadata": {
      "image/png": {
       "height": 420,
       "width": 420
      }
     },
     "output_type": "display_data"
    },
    {
     "data": {
      "image/png": "[encoded data removed]",
      "text/plain": [
       "Plot with title \"\""
      ]
     },
     "metadata": {
      "image/png": {
       "height": 420,
       "width": 420
      }
     },
     "output_type": "display_data"
    }
   ],
   "source": [
    "#Plot do modelo\n",
    "plot(modelo1)"
   ]
  },
  {
   "cell_type": "code",
   "execution_count": 28,
   "id": "f2155821",
   "metadata": {},
   "outputs": [],
   "source": [
    "#Fazendo previsões\n",
    "previsao <- predict(modelo1, teste)"
   ]
  },
  {
   "cell_type": "code",
   "execution_count": 29,
   "id": "f2a182a2",
   "metadata": {},
   "outputs": [
    {
     "data": {
      "text/html": [
       "<table class=\"dataframe\">\n",
       "<caption>A matrix: 10 × 2 of type dbl</caption>\n",
       "<thead>\n",
       "\t<tr><th></th><th scope=col>Previsao</th><th scope=col> Real</th></tr>\n",
       "</thead>\n",
       "<tbody>\n",
       "\t<tr><th scope=row>1</th><td> 3.859511</td><td> 6</td></tr>\n",
       "\t<tr><th scope=row>2</th><td> 6.720878</td><td>10</td></tr>\n",
       "\t<tr><th scope=row>3</th><td>14.221737</td><td>15</td></tr>\n",
       "\t<tr><th scope=row>4</th><td> 4.423062</td><td> 6</td></tr>\n",
       "\t<tr><th scope=row>5</th><td>15.539879</td><td>16</td></tr>\n",
       "\t<tr><th scope=row>6</th><td>14.304127</td><td>14</td></tr>\n",
       "\t<tr><th scope=row>7</th><td> 9.800991</td><td>10</td></tr>\n",
       "\t<tr><th scope=row>8</th><td>15.428621</td><td>16</td></tr>\n",
       "\t<tr><th scope=row>9</th><td>10.976549</td><td>11</td></tr>\n",
       "\t<tr><th scope=row>10</th><td>10.957304</td><td>12</td></tr>\n",
       "</tbody>\n",
       "</table>\n"
      ],
      "text/latex": [
       "A matrix: 10 × 2 of type dbl\n",
       "\\begin{tabular}{r|ll}\n",
       "  & Previsao &  Real\\\\\n",
       "\\hline\n",
       "\t1 &  3.859511 &  6\\\\\n",
       "\t2 &  6.720878 & 10\\\\\n",
       "\t3 & 14.221737 & 15\\\\\n",
       "\t4 &  4.423062 &  6\\\\\n",
       "\t5 & 15.539879 & 16\\\\\n",
       "\t6 & 14.304127 & 14\\\\\n",
       "\t7 &  9.800991 & 10\\\\\n",
       "\t8 & 15.428621 & 16\\\\\n",
       "\t9 & 10.976549 & 11\\\\\n",
       "\t10 & 10.957304 & 12\\\\\n",
       "\\end{tabular}\n"
      ],
      "text/markdown": [
       "\n",
       "A matrix: 10 × 2 of type dbl\n",
       "\n",
       "| <!--/--> | Previsao |  Real |\n",
       "|---|---|---|\n",
       "| 1 |  3.859511 |  6 |\n",
       "| 2 |  6.720878 | 10 |\n",
       "| 3 | 14.221737 | 15 |\n",
       "| 4 |  4.423062 |  6 |\n",
       "| 5 | 15.539879 | 16 |\n",
       "| 6 | 14.304127 | 14 |\n",
       "| 7 |  9.800991 | 10 |\n",
       "| 8 | 15.428621 | 16 |\n",
       "| 9 | 10.976549 | 11 |\n",
       "| 10 | 10.957304 | 12 |\n",
       "\n"
      ],
      "text/plain": [
       "   Previsao   Real\n",
       "1   3.859511  6   \n",
       "2   6.720878 10   \n",
       "3  14.221737 15   \n",
       "4   4.423062  6   \n",
       "5  15.539879 16   \n",
       "6  14.304127 14   \n",
       "7   9.800991 10   \n",
       "8  15.428621 16   \n",
       "9  10.976549 11   \n",
       "10 10.957304 12   "
      ]
     },
     "metadata": {},
     "output_type": "display_data"
    }
   ],
   "source": [
    "#Visualizando valores previstos e observados\n",
    "resultados <- cbind(previsao, teste$G3)\n",
    "colnames(resultados) <-c('Previsao', ' Real')\n",
    "head(resultados, 10)"
   ]
  },
  {
   "cell_type": "code",
   "execution_count": 30,
   "id": "7ba095dc",
   "metadata": {},
   "outputs": [
    {
     "data": {
      "text/html": [
       "'data.frame'"
      ],
      "text/latex": [
       "'data.frame'"
      ],
      "text/markdown": [
       "'data.frame'"
      ],
      "text/plain": [
       "[1] \"data.frame\""
      ]
     },
     "metadata": {},
     "output_type": "display_data"
    },
    {
     "data": {
      "text/html": [
       "<table class=\"dataframe\">\n",
       "<caption>A data.frame: 6 × 2</caption>\n",
       "<thead>\n",
       "\t<tr><th></th><th scope=col>Previsao</th><th scope=col>X.Real</th></tr>\n",
       "\t<tr><th></th><th scope=col>&lt;dbl&gt;</th><th scope=col>&lt;dbl&gt;</th></tr>\n",
       "</thead>\n",
       "<tbody>\n",
       "\t<tr><th scope=row>1</th><td> 3.859511</td><td> 6</td></tr>\n",
       "\t<tr><th scope=row>2</th><td> 6.720878</td><td>10</td></tr>\n",
       "\t<tr><th scope=row>3</th><td>14.221737</td><td>15</td></tr>\n",
       "\t<tr><th scope=row>4</th><td> 4.423062</td><td> 6</td></tr>\n",
       "\t<tr><th scope=row>5</th><td>15.539879</td><td>16</td></tr>\n",
       "\t<tr><th scope=row>6</th><td>14.304127</td><td>14</td></tr>\n",
       "</tbody>\n",
       "</table>\n"
      ],
      "text/latex": [
       "A data.frame: 6 × 2\n",
       "\\begin{tabular}{r|ll}\n",
       "  & Previsao & X.Real\\\\\n",
       "  & <dbl> & <dbl>\\\\\n",
       "\\hline\n",
       "\t1 &  3.859511 &  6\\\\\n",
       "\t2 &  6.720878 & 10\\\\\n",
       "\t3 & 14.221737 & 15\\\\\n",
       "\t4 &  4.423062 &  6\\\\\n",
       "\t5 & 15.539879 & 16\\\\\n",
       "\t6 & 14.304127 & 14\\\\\n",
       "\\end{tabular}\n"
      ],
      "text/markdown": [
       "\n",
       "A data.frame: 6 × 2\n",
       "\n",
       "| <!--/--> | Previsao &lt;dbl&gt; | X.Real &lt;dbl&gt; |\n",
       "|---|---|---|\n",
       "| 1 |  3.859511 |  6 |\n",
       "| 2 |  6.720878 | 10 |\n",
       "| 3 | 14.221737 | 15 |\n",
       "| 4 |  4.423062 |  6 |\n",
       "| 5 | 15.539879 | 16 |\n",
       "| 6 | 14.304127 | 14 |\n",
       "\n"
      ],
      "text/plain": [
       "  Previsao  X.Real\n",
       "1  3.859511  6    \n",
       "2  6.720878 10    \n",
       "3 14.221737 15    \n",
       "4  4.423062  6    \n",
       "5 15.539879 16    \n",
       "6 14.304127 14    "
      ]
     },
     "metadata": {},
     "output_type": "display_data"
    },
    {
     "data": {
      "text/html": [
       "<style>\n",
       ".list-inline {list-style: none; margin:0; padding: 0}\n",
       ".list-inline>li {display: inline-block}\n",
       ".list-inline>li:not(:last-child)::after {content: \"\\00b7\"; padding: 0 .5ex}\n",
       "</style>\n",
       "<ol class=list-inline><li>118</li><li>2</li></ol>\n"
      ],
      "text/latex": [
       "\\begin{enumerate*}\n",
       "\\item 118\n",
       "\\item 2\n",
       "\\end{enumerate*}\n"
      ],
      "text/markdown": [
       "1. 118\n",
       "2. 2\n",
       "\n",
       "\n"
      ],
      "text/plain": [
       "[1] 118   2"
      ]
     },
     "metadata": {},
     "output_type": "display_data"
    }
   ],
   "source": [
    "resultados <- data.frame(resultados)\n",
    "class(resultados)\n",
    "head(resultados)\n",
    "dim(resultados)"
   ]
  },
  {
   "cell_type": "code",
   "execution_count": 31,
   "id": "55197d04",
   "metadata": {},
   "outputs": [],
   "source": [
    "#Trando valores negativos, se encontrare valores negativos mudar para zero\n",
    "resultados$Previsao[resultados$Previsao < 0] <-0"
   ]
  },
  {
   "cell_type": "code",
   "execution_count": 32,
   "id": "0c745337",
   "metadata": {},
   "outputs": [
    {
     "data": {
      "text/html": [
       "FALSE"
      ],
      "text/latex": [
       "FALSE"
      ],
      "text/markdown": [
       "FALSE"
      ],
      "text/plain": [
       "[1] FALSE"
      ]
     },
     "metadata": {},
     "output_type": "display_data"
    }
   ],
   "source": [
    "#Checando valores negativos\n",
    "any(resultados$Previsao < 0)"
   ]
  },
  {
   "cell_type": "markdown",
   "id": "6f0e4656",
   "metadata": {},
   "source": [
    "### Calculando os erros do modelo\n",
    "#### Vamos medir o quanto os valores previstos de um modelo diferem dos valores reais e consequentemente avaliar o desempenho de regressão\n",
    "- MSE (Mean Squared Error):O MSE é calculado como a média dos quadrados dos erros entre os valores previstos pelo modelo e os valores reais.\n",
    "\n",
    " "
   ]
  },
  {
   "cell_type": "code",
   "execution_count": 33,
   "id": "601da761",
   "metadata": {},
   "outputs": [
    {
     "data": {
      "text/html": [
       "4.03543715322384"
      ],
      "text/latex": [
       "4.03543715322384"
      ],
      "text/markdown": [
       "4.03543715322384"
      ],
      "text/plain": [
       "[1] 4.035437"
      ]
     },
     "metadata": {},
     "output_type": "display_data"
    }
   ],
   "source": [
    "#Calculando o erro médio:\n",
    "MSE <- mean((resultados$X.Real - resultados$Previsao)^2)\n",
    "MSE"
   ]
  },
  {
   "cell_type": "markdown",
   "id": "dc083c30",
   "metadata": {},
   "source": [
    "- RMSE (Root Mean Squared Error): O RMSE é simplesmente a raiz quadrada do MSE. Ele tem a vantagem de estar na mesma unidade que a variável de interesse, tornando mais fácil a interpretação."
   ]
  },
  {
   "cell_type": "code",
   "execution_count": 34,
   "id": "0eed5dd0",
   "metadata": {},
   "outputs": [
    {
     "data": {
      "text/html": [
       "2.0088397529977"
      ],
      "text/latex": [
       "2.0088397529977"
      ],
      "text/markdown": [
       "2.0088397529977"
      ],
      "text/plain": [
       "[1] 2.00884"
      ]
     },
     "metadata": {},
     "output_type": "display_data"
    }
   ],
   "source": [
    "RMSE <- MSE^0.5\n",
    "RMSE"
   ]
  },
  {
   "cell_type": "markdown",
   "id": "b4dc0d1e",
   "metadata": {},
   "source": [
    "- SST (Sum of Squares Total): SST representa a soma dos quadrados das diferenças entre cada valor observado e a média dos valores observados. Ele mede a variabilidade total nos dados."
   ]
  },
  {
   "cell_type": "code",
   "execution_count": 35,
   "id": "28905a57",
   "metadata": {},
   "outputs": [
    {
     "data": {
      "text/html": [
       "2343.76899855792"
      ],
      "text/latex": [
       "2343.76899855792"
      ],
      "text/markdown": [
       "2343.76899855792"
      ],
      "text/plain": [
       "[1] 2343.769"
      ]
     },
     "metadata": {},
     "output_type": "display_data"
    }
   ],
   "source": [
    "SST <- sum((mean(estudantes_df_numericas$G3) - resultados$X.Real)^2)\n",
    "SST"
   ]
  },
  {
   "cell_type": "markdown",
   "id": "25b20a2b",
   "metadata": {},
   "source": [
    "- SSE (Sum of Squares Error):SSE representa a soma dos quadrados das diferenças entre cada valor observado e o valor previsto pelo modelo. Ele mede a variabilidade que não é explicada pelo modelo."
   ]
  },
  {
   "cell_type": "code",
   "execution_count": 36,
   "id": "477046c6",
   "metadata": {},
   "outputs": [
    {
     "data": {
      "text/html": [
       "476.181584080414"
      ],
      "text/latex": [
       "476.181584080414"
      ],
      "text/markdown": [
       "476.181584080414"
      ],
      "text/plain": [
       "[1] 476.1816"
      ]
     },
     "metadata": {},
     "output_type": "display_data"
    }
   ],
   "source": [
    "SSE <- sum((resultados$Previsao - resultados$X.Real)^2)\n",
    "SSE"
   ]
  },
  {
   "cell_type": "markdown",
   "id": "854ddd2c",
   "metadata": {},
   "source": [
    "- O coeficiente de determinação, frequentemente chamado de R² (R ao quadrado), é uma medida estatística que indica a proporção da variabilidade na variável de resposta que é explicada pelo modelo estatístico. Em outras palavras, o R² avalia o quão bem as previsões do modelo se ajustam aos dados observados. Ele varia de 0 a 1, onde 0 indica que o modelo não explica nenhuma variabilidade e 1 indica que o modelo explica toda a variabilidade."
   ]
  },
  {
   "cell_type": "code",
   "execution_count": 37,
   "id": "5178a33d",
   "metadata": {},
   "outputs": [
    {
     "data": {
      "text/html": [
       "0.796830837692026"
      ],
      "text/latex": [
       "0.796830837692026"
      ],
      "text/markdown": [
       "0.796830837692026"
      ],
      "text/plain": [
       "[1] 0.7968308"
      ]
     },
     "metadata": {},
     "output_type": "display_data"
    }
   ],
   "source": [
    "R2 <- 1-(SSE/SST)\n",
    "R2"
   ]
  },
  {
   "cell_type": "code",
   "execution_count": 38,
   "id": "2a200f97",
   "metadata": {},
   "outputs": [
    {
     "name": "stdout",
     "output_type": "stream",
     "text": [
      "Desta forma, um coeficiente de determinação (R²) de 0.7968308 indica que aproximadamente 79.68308 da variabilidade na \n",
      "variável de resposta é explicada pelo seu modelo de regressão. Em outras palavras, o modelo é capaz de explicar uma proporção \n",
      "significativa da variação nos dados."
     ]
    }
   ],
   "source": [
    "cat('Desta forma, um coeficiente de determinação (R²) de', R2, 'indica que aproximadamente', R2*100, 'da variabilidade na \n",
    "variável de resposta é explicada pelo seu modelo de regressão. Em outras palavras, o modelo é capaz de explicar uma proporção \n",
    "significativa da variação nos dados.')"
   ]
  },
  {
   "cell_type": "code",
   "execution_count": 39,
   "id": "92fade31",
   "metadata": {},
   "outputs": [],
   "source": [
    "#Abrindo arquivo separado por tab com caracter especial\n",
    "dados <- read.delim('cars_train.csv', fileEncoding = 'UTF-16LE')"
   ]
  },
  {
   "cell_type": "code",
   "execution_count": 40,
   "id": "66119bde",
   "metadata": {},
   "outputs": [
    {
     "data": {
      "text/html": [
       "<table class=\"dataframe\">\n",
       "<caption>A data.frame: 6 × 29</caption>\n",
       "<thead>\n",
       "\t<tr><th></th><th scope=col>id</th><th scope=col>num_fotos</th><th scope=col>marca</th><th scope=col>modelo</th><th scope=col>versao</th><th scope=col>ano_de_fabricacao</th><th scope=col>ano_modelo</th><th scope=col>hodometro</th><th scope=col>cambio</th><th scope=col>num_portas</th><th scope=col>⋯</th><th scope=col>elegivel_revisao</th><th scope=col>dono_aceita_troca</th><th scope=col>veiculo_único_dono</th><th scope=col>revisoes_concessionaria</th><th scope=col>ipva_pago</th><th scope=col>veiculo_licenciado</th><th scope=col>garantia_de_fábrica</th><th scope=col>revisoes_dentro_agenda</th><th scope=col>veiculo_alienado</th><th scope=col>preco</th></tr>\n",
       "\t<tr><th></th><th scope=col>&lt;dbl&gt;</th><th scope=col>&lt;dbl&gt;</th><th scope=col>&lt;chr&gt;</th><th scope=col>&lt;chr&gt;</th><th scope=col>&lt;chr&gt;</th><th scope=col>&lt;int&gt;</th><th scope=col>&lt;dbl&gt;</th><th scope=col>&lt;dbl&gt;</th><th scope=col>&lt;chr&gt;</th><th scope=col>&lt;int&gt;</th><th scope=col>⋯</th><th scope=col>&lt;chr&gt;</th><th scope=col>&lt;chr&gt;</th><th scope=col>&lt;chr&gt;</th><th scope=col>&lt;chr&gt;</th><th scope=col>&lt;chr&gt;</th><th scope=col>&lt;chr&gt;</th><th scope=col>&lt;chr&gt;</th><th scope=col>&lt;chr&gt;</th><th scope=col>&lt;lgl&gt;</th><th scope=col>&lt;dbl&gt;</th></tr>\n",
       "</thead>\n",
       "<tbody>\n",
       "\t<tr><th scope=row>1</th><td>3.007162e+38</td><td> 8</td><td>NISSAN    </td><td>KICKS  </td><td>1.6 16V FLEXSTART SL 4P XTRONIC                               </td><td>2017</td><td>2017</td><td>67772</td><td>CVT       </td><td>4</td><td>⋯</td><td>False</td><td>            </td><td></td><td>Todas as revisões feitas pela concessionária</td><td>IPVA pago</td><td>Licenciado</td><td>                   </td><td>                                             </td><td>NA</td><td> 74732.59</td></tr>\n",
       "\t<tr><th scope=row>2</th><td>2.796398e+38</td><td> 8</td><td>JEEP      </td><td>COMPASS</td><td>2.0 16V FLEX LIMITED AUTOMÁTICO                               </td><td>2017</td><td>2017</td><td>62979</td><td>Automática</td><td>4</td><td>⋯</td><td>False</td><td>Aceita troca</td><td></td><td>                                            </td><td>IPVA pago</td><td>          </td><td>                   </td><td>                                             </td><td>NA</td><td> 81965.33</td></tr>\n",
       "\t<tr><th scope=row>3</th><td>5.641446e+37</td><td>16</td><td>KIA       </td><td>SORENTO</td><td>2.4 16V GASOLINA EX 7L AWD AUTOMÁTICO                         </td><td>2018</td><td>2019</td><td>44070</td><td>Automática</td><td>4</td><td>⋯</td><td>False</td><td>Aceita troca</td><td></td><td>                                            </td><td>         </td><td>          </td><td>                   </td><td>                                             </td><td>NA</td><td>162824.81</td></tr>\n",
       "\t<tr><th scope=row>4</th><td>5.686251e+37</td><td>14</td><td>VOLKSWAGEN</td><td>AMAROK </td><td>2.0 HIGHLINE 4X4 CD 16V TURBO INTERCOOLER DIESEL 4P AUTOMÁTICO</td><td>2013</td><td>2015</td><td>85357</td><td>Automática</td><td>4</td><td>⋯</td><td>False</td><td>Aceita troca</td><td></td><td>                                            </td><td>IPVA pago</td><td>Licenciado</td><td>                   </td><td>                                             </td><td>NA</td><td>123681.36</td></tr>\n",
       "\t<tr><th scope=row>5</th><td>3.389810e+38</td><td> 8</td><td>SSANGYONG </td><td>KORANDO</td><td>2.0 GLS 4X4 16V TURBO DIESEL 4P AUTOMÁTICO                    </td><td>2013</td><td>2015</td><td>71491</td><td>Automática</td><td>4</td><td>⋯</td><td>False</td><td>            </td><td></td><td>Todas as revisões feitas pela concessionária</td><td>         </td><td>          </td><td>Garantia de fábrica</td><td>Todas as revisões feitas pela agenda do carro</td><td>NA</td><td> 82419.76</td></tr>\n",
       "\t<tr><th scope=row>6</th><td>3.046132e+38</td><td>13</td><td>HYUNDAI   </td><td>HB20S  </td><td>1.0 COMFORT PLUS 12V FLEX 4P MANUAL                           </td><td>2017</td><td>2018</td><td>85314</td><td>Manual    </td><td>4</td><td>⋯</td><td>False</td><td>Aceita troca</td><td></td><td>                                            </td><td>         </td><td>          </td><td>                   </td><td>                                             </td><td>NA</td><td> 51325.85</td></tr>\n",
       "</tbody>\n",
       "</table>\n"
      ],
      "text/latex": [
       "A data.frame: 6 × 29\n",
       "\\begin{tabular}{r|lllllllllllllllllllll}\n",
       "  & id & num\\_fotos & marca & modelo & versao & ano\\_de\\_fabricacao & ano\\_modelo & hodometro & cambio & num\\_portas & ⋯ & elegivel\\_revisao & dono\\_aceita\\_troca & veiculo\\_único\\_dono & revisoes\\_concessionaria & ipva\\_pago & veiculo\\_licenciado & garantia\\_de\\_fábrica & revisoes\\_dentro\\_agenda & veiculo\\_alienado & preco\\\\\n",
       "  & <dbl> & <dbl> & <chr> & <chr> & <chr> & <int> & <dbl> & <dbl> & <chr> & <int> & ⋯ & <chr> & <chr> & <chr> & <chr> & <chr> & <chr> & <chr> & <chr> & <lgl> & <dbl>\\\\\n",
       "\\hline\n",
       "\t1 & 3.007162e+38 &  8 & NISSAN     & KICKS   & 1.6 16V FLEXSTART SL 4P XTRONIC                                & 2017 & 2017 & 67772 & CVT        & 4 & ⋯ & False &              &  & Todas as revisões feitas pela concessionária & IPVA pago & Licenciado &                     &                                               & NA &  74732.59\\\\\n",
       "\t2 & 2.796398e+38 &  8 & JEEP       & COMPASS & 2.0 16V FLEX LIMITED AUTOMÁTICO                                & 2017 & 2017 & 62979 & Automática & 4 & ⋯ & False & Aceita troca &  &                                              & IPVA pago &            &                     &                                               & NA &  81965.33\\\\\n",
       "\t3 & 5.641446e+37 & 16 & KIA        & SORENTO & 2.4 16V GASOLINA EX 7L AWD AUTOMÁTICO                          & 2018 & 2019 & 44070 & Automática & 4 & ⋯ & False & Aceita troca &  &                                              &           &            &                     &                                               & NA & 162824.81\\\\\n",
       "\t4 & 5.686251e+37 & 14 & VOLKSWAGEN & AMAROK  & 2.0 HIGHLINE 4X4 CD 16V TURBO INTERCOOLER DIESEL 4P AUTOMÁTICO & 2013 & 2015 & 85357 & Automática & 4 & ⋯ & False & Aceita troca &  &                                              & IPVA pago & Licenciado &                     &                                               & NA & 123681.36\\\\\n",
       "\t5 & 3.389810e+38 &  8 & SSANGYONG  & KORANDO & 2.0 GLS 4X4 16V TURBO DIESEL 4P AUTOMÁTICO                     & 2013 & 2015 & 71491 & Automática & 4 & ⋯ & False &              &  & Todas as revisões feitas pela concessionária &           &            & Garantia de fábrica & Todas as revisões feitas pela agenda do carro & NA &  82419.76\\\\\n",
       "\t6 & 3.046132e+38 & 13 & HYUNDAI    & HB20S   & 1.0 COMFORT PLUS 12V FLEX 4P MANUAL                            & 2017 & 2018 & 85314 & Manual     & 4 & ⋯ & False & Aceita troca &  &                                              &           &            &                     &                                               & NA &  51325.85\\\\\n",
       "\\end{tabular}\n"
      ],
      "text/markdown": [
       "\n",
       "A data.frame: 6 × 29\n",
       "\n",
       "| <!--/--> | id &lt;dbl&gt; | num_fotos &lt;dbl&gt; | marca &lt;chr&gt; | modelo &lt;chr&gt; | versao &lt;chr&gt; | ano_de_fabricacao &lt;int&gt; | ano_modelo &lt;dbl&gt; | hodometro &lt;dbl&gt; | cambio &lt;chr&gt; | num_portas &lt;int&gt; | ⋯ ⋯ | elegivel_revisao &lt;chr&gt; | dono_aceita_troca &lt;chr&gt; | veiculo_único_dono &lt;chr&gt; | revisoes_concessionaria &lt;chr&gt; | ipva_pago &lt;chr&gt; | veiculo_licenciado &lt;chr&gt; | garantia_de_fábrica &lt;chr&gt; | revisoes_dentro_agenda &lt;chr&gt; | veiculo_alienado &lt;lgl&gt; | preco &lt;dbl&gt; |\n",
       "|---|---|---|---|---|---|---|---|---|---|---|---|---|---|---|---|---|---|---|---|---|---|\n",
       "| 1 | 3.007162e+38 |  8 | NISSAN     | KICKS   | 1.6 16V FLEXSTART SL 4P XTRONIC                                | 2017 | 2017 | 67772 | CVT        | 4 | ⋯ | False | <!----> | <!----> | Todas as revisões feitas pela concessionária | IPVA pago | Licenciado | <!----> | <!----> | NA |  74732.59 |\n",
       "| 2 | 2.796398e+38 |  8 | JEEP       | COMPASS | 2.0 16V FLEX LIMITED AUTOMÁTICO                                | 2017 | 2017 | 62979 | Automática | 4 | ⋯ | False | Aceita troca | <!----> | <!----> | IPVA pago | <!----> | <!----> | <!----> | NA |  81965.33 |\n",
       "| 3 | 5.641446e+37 | 16 | KIA        | SORENTO | 2.4 16V GASOLINA EX 7L AWD AUTOMÁTICO                          | 2018 | 2019 | 44070 | Automática | 4 | ⋯ | False | Aceita troca | <!----> | <!----> | <!----> | <!----> | <!----> | <!----> | NA | 162824.81 |\n",
       "| 4 | 5.686251e+37 | 14 | VOLKSWAGEN | AMAROK  | 2.0 HIGHLINE 4X4 CD 16V TURBO INTERCOOLER DIESEL 4P AUTOMÁTICO | 2013 | 2015 | 85357 | Automática | 4 | ⋯ | False | Aceita troca | <!----> | <!----> | IPVA pago | Licenciado | <!----> | <!----> | NA | 123681.36 |\n",
       "| 5 | 3.389810e+38 |  8 | SSANGYONG  | KORANDO | 2.0 GLS 4X4 16V TURBO DIESEL 4P AUTOMÁTICO                     | 2013 | 2015 | 71491 | Automática | 4 | ⋯ | False | <!----> | <!----> | Todas as revisões feitas pela concessionária | <!----> | <!----> | Garantia de fábrica | Todas as revisões feitas pela agenda do carro | NA |  82419.76 |\n",
       "| 6 | 3.046132e+38 | 13 | HYUNDAI    | HB20S   | 1.0 COMFORT PLUS 12V FLEX 4P MANUAL                            | 2017 | 2018 | 85314 | Manual     | 4 | ⋯ | False | Aceita troca | <!----> | <!----> | <!----> | <!----> | <!----> | <!----> | NA |  51325.85 |\n",
       "\n"
      ],
      "text/plain": [
       "  id           num_fotos marca      modelo \n",
       "1 3.007162e+38  8        NISSAN     KICKS  \n",
       "2 2.796398e+38  8        JEEP       COMPASS\n",
       "3 5.641446e+37 16        KIA        SORENTO\n",
       "4 5.686251e+37 14        VOLKSWAGEN AMAROK \n",
       "5 3.389810e+38  8        SSANGYONG  KORANDO\n",
       "6 3.046132e+38 13        HYUNDAI    HB20S  \n",
       "  versao                                                        \n",
       "1 1.6 16V FLEXSTART SL 4P XTRONIC                               \n",
       "2 2.0 16V FLEX LIMITED AUTOMÁTICO                               \n",
       "3 2.4 16V GASOLINA EX 7L AWD AUTOMÁTICO                         \n",
       "4 2.0 HIGHLINE 4X4 CD 16V TURBO INTERCOOLER DIESEL 4P AUTOMÁTICO\n",
       "5 2.0 GLS 4X4 16V TURBO DIESEL 4P AUTOMÁTICO                    \n",
       "6 1.0 COMFORT PLUS 12V FLEX 4P MANUAL                           \n",
       "  ano_de_fabricacao ano_modelo hodometro cambio     num_portas ⋯\n",
       "1 2017              2017       67772     CVT        4          ⋯\n",
       "2 2017              2017       62979     Automática 4          ⋯\n",
       "3 2018              2019       44070     Automática 4          ⋯\n",
       "4 2013              2015       85357     Automática 4          ⋯\n",
       "5 2013              2015       71491     Automática 4          ⋯\n",
       "6 2017              2018       85314     Manual     4          ⋯\n",
       "  elegivel_revisao dono_aceita_troca veiculo_único_dono\n",
       "1 False                                                \n",
       "2 False            Aceita troca                        \n",
       "3 False            Aceita troca                        \n",
       "4 False            Aceita troca                        \n",
       "5 False                                                \n",
       "6 False            Aceita troca                        \n",
       "  revisoes_concessionaria                      ipva_pago veiculo_licenciado\n",
       "1 Todas as revisões feitas pela concessionária IPVA pago Licenciado        \n",
       "2                                              IPVA pago                   \n",
       "3                                                                          \n",
       "4                                              IPVA pago Licenciado        \n",
       "5 Todas as revisões feitas pela concessionária                             \n",
       "6                                                                          \n",
       "  garantia_de_fábrica revisoes_dentro_agenda                       \n",
       "1                                                                  \n",
       "2                                                                  \n",
       "3                                                                  \n",
       "4                                                                  \n",
       "5 Garantia de fábrica Todas as revisões feitas pela agenda do carro\n",
       "6                                                                  \n",
       "  veiculo_alienado preco    \n",
       "1 NA                74732.59\n",
       "2 NA                81965.33\n",
       "3 NA               162824.81\n",
       "4 NA               123681.36\n",
       "5 NA                82419.76\n",
       "6 NA                51325.85"
      ]
     },
     "metadata": {},
     "output_type": "display_data"
    }
   ],
   "source": [
    "head(dados)"
   ]
  }
 ],
 "metadata": {
  "kernelspec": {
   "display_name": "R",
   "language": "R",
   "name": "ir"
  },
  "language_info": {
   "codemirror_mode": "r",
   "file_extension": ".r",
   "mimetype": "text/x-r-source",
   "name": "R",
   "pygments_lexer": "r",
   "version": "4.2.2"
  }
 },
 "nbformat": 4,
 "nbformat_minor": 5
}
