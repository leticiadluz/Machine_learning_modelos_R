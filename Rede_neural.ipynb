{
 "cells": [
  {
   "cell_type": "markdown",
   "id": "5d366279",
   "metadata": {},
   "source": [
    "## Definindo o Problema: Analisando dados das casas de Boston, nos EUA e fazendo previsoes.\n",
    "## The Boston Housing Dataset\n",
    "## http://www.cs.toronto.edu/~delve/data/boston/bostonDetail.html\n",
    "\n",
    "### Seu modelo deve prever a MEDV (Valor da Mediana de ocupação das casas). Utilize um modelo de rede neural!"
   ]
  },
  {
   "cell_type": "code",
   "execution_count": 1,
   "id": "8a8e1ad8",
   "metadata": {},
   "outputs": [
    {
     "name": "stderr",
     "output_type": "stream",
     "text": [
      "Warning message:\n",
      "\"package 'MASS' was built under R version 4.2.3\"\n",
      "Warning message:\n",
      "\"package 'neuralnet' was built under R version 4.2.3\"\n"
     ]
    }
   ],
   "source": [
    "library(MASS) #Contém o dataset Boston\n",
    "library(neuralnet)"
   ]
  },
  {
   "cell_type": "code",
   "execution_count": 2,
   "id": "8223796e",
   "metadata": {},
   "outputs": [
    {
     "data": {
      "text/html": [
       "<table class=\"dataframe\">\n",
       "<caption>A data.frame: 6 × 14</caption>\n",
       "<thead>\n",
       "\t<tr><th></th><th scope=col>crim</th><th scope=col>zn</th><th scope=col>indus</th><th scope=col>chas</th><th scope=col>nox</th><th scope=col>rm</th><th scope=col>age</th><th scope=col>dis</th><th scope=col>rad</th><th scope=col>tax</th><th scope=col>ptratio</th><th scope=col>black</th><th scope=col>lstat</th><th scope=col>medv</th></tr>\n",
       "\t<tr><th></th><th scope=col>&lt;dbl&gt;</th><th scope=col>&lt;dbl&gt;</th><th scope=col>&lt;dbl&gt;</th><th scope=col>&lt;int&gt;</th><th scope=col>&lt;dbl&gt;</th><th scope=col>&lt;dbl&gt;</th><th scope=col>&lt;dbl&gt;</th><th scope=col>&lt;dbl&gt;</th><th scope=col>&lt;int&gt;</th><th scope=col>&lt;dbl&gt;</th><th scope=col>&lt;dbl&gt;</th><th scope=col>&lt;dbl&gt;</th><th scope=col>&lt;dbl&gt;</th><th scope=col>&lt;dbl&gt;</th></tr>\n",
       "</thead>\n",
       "<tbody>\n",
       "\t<tr><th scope=row>1</th><td>0.00632</td><td>18</td><td>2.31</td><td>0</td><td>0.538</td><td>6.575</td><td>65.2</td><td>4.0900</td><td>1</td><td>296</td><td>15.3</td><td>396.90</td><td>4.98</td><td>24.0</td></tr>\n",
       "\t<tr><th scope=row>2</th><td>0.02731</td><td> 0</td><td>7.07</td><td>0</td><td>0.469</td><td>6.421</td><td>78.9</td><td>4.9671</td><td>2</td><td>242</td><td>17.8</td><td>396.90</td><td>9.14</td><td>21.6</td></tr>\n",
       "\t<tr><th scope=row>3</th><td>0.02729</td><td> 0</td><td>7.07</td><td>0</td><td>0.469</td><td>7.185</td><td>61.1</td><td>4.9671</td><td>2</td><td>242</td><td>17.8</td><td>392.83</td><td>4.03</td><td>34.7</td></tr>\n",
       "\t<tr><th scope=row>4</th><td>0.03237</td><td> 0</td><td>2.18</td><td>0</td><td>0.458</td><td>6.998</td><td>45.8</td><td>6.0622</td><td>3</td><td>222</td><td>18.7</td><td>394.63</td><td>2.94</td><td>33.4</td></tr>\n",
       "\t<tr><th scope=row>5</th><td>0.06905</td><td> 0</td><td>2.18</td><td>0</td><td>0.458</td><td>7.147</td><td>54.2</td><td>6.0622</td><td>3</td><td>222</td><td>18.7</td><td>396.90</td><td>5.33</td><td>36.2</td></tr>\n",
       "\t<tr><th scope=row>6</th><td>0.02985</td><td> 0</td><td>2.18</td><td>0</td><td>0.458</td><td>6.430</td><td>58.7</td><td>6.0622</td><td>3</td><td>222</td><td>18.7</td><td>394.12</td><td>5.21</td><td>28.7</td></tr>\n",
       "</tbody>\n",
       "</table>\n"
      ],
      "text/latex": [
       "A data.frame: 6 × 14\n",
       "\\begin{tabular}{r|llllllllllllll}\n",
       "  & crim & zn & indus & chas & nox & rm & age & dis & rad & tax & ptratio & black & lstat & medv\\\\\n",
       "  & <dbl> & <dbl> & <dbl> & <int> & <dbl> & <dbl> & <dbl> & <dbl> & <int> & <dbl> & <dbl> & <dbl> & <dbl> & <dbl>\\\\\n",
       "\\hline\n",
       "\t1 & 0.00632 & 18 & 2.31 & 0 & 0.538 & 6.575 & 65.2 & 4.0900 & 1 & 296 & 15.3 & 396.90 & 4.98 & 24.0\\\\\n",
       "\t2 & 0.02731 &  0 & 7.07 & 0 & 0.469 & 6.421 & 78.9 & 4.9671 & 2 & 242 & 17.8 & 396.90 & 9.14 & 21.6\\\\\n",
       "\t3 & 0.02729 &  0 & 7.07 & 0 & 0.469 & 7.185 & 61.1 & 4.9671 & 2 & 242 & 17.8 & 392.83 & 4.03 & 34.7\\\\\n",
       "\t4 & 0.03237 &  0 & 2.18 & 0 & 0.458 & 6.998 & 45.8 & 6.0622 & 3 & 222 & 18.7 & 394.63 & 2.94 & 33.4\\\\\n",
       "\t5 & 0.06905 &  0 & 2.18 & 0 & 0.458 & 7.147 & 54.2 & 6.0622 & 3 & 222 & 18.7 & 396.90 & 5.33 & 36.2\\\\\n",
       "\t6 & 0.02985 &  0 & 2.18 & 0 & 0.458 & 6.430 & 58.7 & 6.0622 & 3 & 222 & 18.7 & 394.12 & 5.21 & 28.7\\\\\n",
       "\\end{tabular}\n"
      ],
      "text/markdown": [
       "\n",
       "A data.frame: 6 × 14\n",
       "\n",
       "| <!--/--> | crim &lt;dbl&gt; | zn &lt;dbl&gt; | indus &lt;dbl&gt; | chas &lt;int&gt; | nox &lt;dbl&gt; | rm &lt;dbl&gt; | age &lt;dbl&gt; | dis &lt;dbl&gt; | rad &lt;int&gt; | tax &lt;dbl&gt; | ptratio &lt;dbl&gt; | black &lt;dbl&gt; | lstat &lt;dbl&gt; | medv &lt;dbl&gt; |\n",
       "|---|---|---|---|---|---|---|---|---|---|---|---|---|---|---|\n",
       "| 1 | 0.00632 | 18 | 2.31 | 0 | 0.538 | 6.575 | 65.2 | 4.0900 | 1 | 296 | 15.3 | 396.90 | 4.98 | 24.0 |\n",
       "| 2 | 0.02731 |  0 | 7.07 | 0 | 0.469 | 6.421 | 78.9 | 4.9671 | 2 | 242 | 17.8 | 396.90 | 9.14 | 21.6 |\n",
       "| 3 | 0.02729 |  0 | 7.07 | 0 | 0.469 | 7.185 | 61.1 | 4.9671 | 2 | 242 | 17.8 | 392.83 | 4.03 | 34.7 |\n",
       "| 4 | 0.03237 |  0 | 2.18 | 0 | 0.458 | 6.998 | 45.8 | 6.0622 | 3 | 222 | 18.7 | 394.63 | 2.94 | 33.4 |\n",
       "| 5 | 0.06905 |  0 | 2.18 | 0 | 0.458 | 7.147 | 54.2 | 6.0622 | 3 | 222 | 18.7 | 396.90 | 5.33 | 36.2 |\n",
       "| 6 | 0.02985 |  0 | 2.18 | 0 | 0.458 | 6.430 | 58.7 | 6.0622 | 3 | 222 | 18.7 | 394.12 | 5.21 | 28.7 |\n",
       "\n"
      ],
      "text/plain": [
       "  crim    zn indus chas nox   rm    age  dis    rad tax ptratio black  lstat\n",
       "1 0.00632 18 2.31  0    0.538 6.575 65.2 4.0900 1   296 15.3    396.90 4.98 \n",
       "2 0.02731  0 7.07  0    0.469 6.421 78.9 4.9671 2   242 17.8    396.90 9.14 \n",
       "3 0.02729  0 7.07  0    0.469 7.185 61.1 4.9671 2   242 17.8    392.83 4.03 \n",
       "4 0.03237  0 2.18  0    0.458 6.998 45.8 6.0622 3   222 18.7    394.63 2.94 \n",
       "5 0.06905  0 2.18  0    0.458 7.147 54.2 6.0622 3   222 18.7    396.90 5.33 \n",
       "6 0.02985  0 2.18  0    0.458 6.430 58.7 6.0622 3   222 18.7    394.12 5.21 \n",
       "  medv\n",
       "1 24.0\n",
       "2 21.6\n",
       "3 34.7\n",
       "4 33.4\n",
       "5 36.2\n",
       "6 28.7"
      ]
     },
     "metadata": {},
     "output_type": "display_data"
    },
    {
     "data": {
      "text/html": [
       "<style>\n",
       ".list-inline {list-style: none; margin:0; padding: 0}\n",
       ".list-inline>li {display: inline-block}\n",
       ".list-inline>li:not(:last-child)::after {content: \"\\00b7\"; padding: 0 .5ex}\n",
       "</style>\n",
       "<ol class=list-inline><li>506</li><li>14</li></ol>\n"
      ],
      "text/latex": [
       "\\begin{enumerate*}\n",
       "\\item 506\n",
       "\\item 14\n",
       "\\end{enumerate*}\n"
      ],
      "text/markdown": [
       "1. 506\n",
       "2. 14\n",
       "\n",
       "\n"
      ],
      "text/plain": [
       "[1] 506  14"
      ]
     },
     "metadata": {},
     "output_type": "display_data"
    }
   ],
   "source": [
    "#Importanto os dados do dataset Boston\n",
    "set.seed(101) #reprodutibilidade\n",
    "dados <- Boston\n",
    "head(dados)\n",
    "dim(dados)"
   ]
  },
  {
   "cell_type": "markdown",
   "id": "bd11e6eb",
   "metadata": {},
   "source": [
    "### Sobre as variáveis:\n",
    "\n",
    "crim:Taxa de criminalidade per capita por cidade.  \n",
    "zn: Proporção de terrenos residenciais zoneados para lotes com mais de 25.000 pés quadrados.  \n",
    "indus:Proporção de acres de negócios não comerciais por cidade.  \n",
    "chas: Variável dummy (binária) indicando se a propriedade está adjacente ao rio Charles (1 se sim, 0 se não).\n",
    "nox: Concentração de óxidos nítricos (em partes por 10 milhões).  \n",
    "rm:Número médio de quartos por habitação.  \n",
    "age:Proporção de unidades ocupadas pelos proprietários construídas antes de 1940.  \n",
    "dis: Distância ponderada até cinco centros de emprego em Boston.  \n",
    "rad: Índice de acessibilidade a rodovias radiais.  \n",
    "tax: Taxa de imposto sobre a propriedade.   \n",
    "ptratio: Razão aluno-professor por cidade.  \n",
    "black:1000(Bk - 0.63)^2, onde Bk é a proporção de afro-americanos por cidade.  \n",
    "lstat: Percentagem da população de status mais baixo da cidade.  \n",
    "medv: Valor médio das residências ocupadas pelos proprietários em milhares de dólares.  "
   ]
  },
  {
   "cell_type": "code",
   "execution_count": 3,
   "id": "62dff1f3",
   "metadata": {},
   "outputs": [
    {
     "name": "stderr",
     "output_type": "stream",
     "text": [
      "Warning message:\n",
      "\"package 'dplyr' was built under R version 4.2.3\"\n",
      "\n",
      "Attaching package: 'dplyr'\n",
      "\n",
      "\n",
      "The following object is masked from 'package:neuralnet':\n",
      "\n",
      "    compute\n",
      "\n",
      "\n",
      "The following object is masked from 'package:MASS':\n",
      "\n",
      "    select\n",
      "\n",
      "\n",
      "The following objects are masked from 'package:stats':\n",
      "\n",
      "    filter, lag\n",
      "\n",
      "\n",
      "The following objects are masked from 'package:base':\n",
      "\n",
      "    intersect, setdiff, setequal, union\n",
      "\n",
      "\n"
     ]
    }
   ],
   "source": [
    "library(dplyr)"
   ]
  },
  {
   "cell_type": "code",
   "execution_count": 4,
   "id": "1b23121f",
   "metadata": {},
   "outputs": [
    {
     "name": "stdout",
     "output_type": "stream",
     "text": [
      "Rows: 506\n",
      "Columns: 14\n",
      "$ crim    \u001b[3m\u001b[90m<dbl>\u001b[39m\u001b[23m 0.00632, 0.02731, 0.02729, 0.03237, 0.06905, 0.02985, 0.08829,…\n",
      "$ zn      \u001b[3m\u001b[90m<dbl>\u001b[39m\u001b[23m 18.0, 0.0, 0.0, 0.0, 0.0, 0.0, 12.5, 12.5, 12.5, 12.5, 12.5, 1…\n",
      "$ indus   \u001b[3m\u001b[90m<dbl>\u001b[39m\u001b[23m 2.31, 7.07, 7.07, 2.18, 2.18, 2.18, 7.87, 7.87, 7.87, 7.87, 7.…\n",
      "$ chas    \u001b[3m\u001b[90m<int>\u001b[39m\u001b[23m 0, 0, 0, 0, 0, 0, 0, 0, 0, 0, 0, 0, 0, 0, 0, 0, 0, 0, 0, 0, 0,…\n",
      "$ nox     \u001b[3m\u001b[90m<dbl>\u001b[39m\u001b[23m 0.538, 0.469, 0.469, 0.458, 0.458, 0.458, 0.524, 0.524, 0.524,…\n",
      "$ rm      \u001b[3m\u001b[90m<dbl>\u001b[39m\u001b[23m 6.575, 6.421, 7.185, 6.998, 7.147, 6.430, 6.012, 6.172, 5.631,…\n",
      "$ age     \u001b[3m\u001b[90m<dbl>\u001b[39m\u001b[23m 65.2, 78.9, 61.1, 45.8, 54.2, 58.7, 66.6, 96.1, 100.0, 85.9, 9…\n",
      "$ dis     \u001b[3m\u001b[90m<dbl>\u001b[39m\u001b[23m 4.0900, 4.9671, 4.9671, 6.0622, 6.0622, 6.0622, 5.5605, 5.9505…\n",
      "$ rad     \u001b[3m\u001b[90m<int>\u001b[39m\u001b[23m 1, 2, 2, 3, 3, 3, 5, 5, 5, 5, 5, 5, 5, 4, 4, 4, 4, 4, 4, 4, 4,…\n",
      "$ tax     \u001b[3m\u001b[90m<dbl>\u001b[39m\u001b[23m 296, 242, 242, 222, 222, 222, 311, 311, 311, 311, 311, 311, 31…\n",
      "$ ptratio \u001b[3m\u001b[90m<dbl>\u001b[39m\u001b[23m 15.3, 17.8, 17.8, 18.7, 18.7, 18.7, 15.2, 15.2, 15.2, 15.2, 15…\n",
      "$ black   \u001b[3m\u001b[90m<dbl>\u001b[39m\u001b[23m 396.90, 396.90, 392.83, 394.63, 396.90, 394.12, 395.60, 396.90…\n",
      "$ lstat   \u001b[3m\u001b[90m<dbl>\u001b[39m\u001b[23m 4.98, 9.14, 4.03, 2.94, 5.33, 5.21, 12.43, 19.15, 29.93, 17.10…\n",
      "$ medv    \u001b[3m\u001b[90m<dbl>\u001b[39m\u001b[23m 24.0, 21.6, 34.7, 33.4, 36.2, 28.7, 22.9, 27.1, 16.5, 18.9, 15…\n"
     ]
    }
   ],
   "source": [
    "glimpse(dados)"
   ]
  },
  {
   "cell_type": "code",
   "execution_count": 5,
   "id": "32fe6f3f",
   "metadata": {},
   "outputs": [
    {
     "data": {
      "text/plain": [
       "      crim                zn             indus            chas        \n",
       " Min.   : 0.00632   Min.   :  0.00   Min.   : 0.46   Min.   :0.00000  \n",
       " 1st Qu.: 0.08205   1st Qu.:  0.00   1st Qu.: 5.19   1st Qu.:0.00000  \n",
       " Median : 0.25651   Median :  0.00   Median : 9.69   Median :0.00000  \n",
       " Mean   : 3.61352   Mean   : 11.36   Mean   :11.14   Mean   :0.06917  \n",
       " 3rd Qu.: 3.67708   3rd Qu.: 12.50   3rd Qu.:18.10   3rd Qu.:0.00000  \n",
       " Max.   :88.97620   Max.   :100.00   Max.   :27.74   Max.   :1.00000  \n",
       "      nox               rm             age              dis        \n",
       " Min.   :0.3850   Min.   :3.561   Min.   :  2.90   Min.   : 1.130  \n",
       " 1st Qu.:0.4490   1st Qu.:5.886   1st Qu.: 45.02   1st Qu.: 2.100  \n",
       " Median :0.5380   Median :6.208   Median : 77.50   Median : 3.207  \n",
       " Mean   :0.5547   Mean   :6.285   Mean   : 68.57   Mean   : 3.795  \n",
       " 3rd Qu.:0.6240   3rd Qu.:6.623   3rd Qu.: 94.08   3rd Qu.: 5.188  \n",
       " Max.   :0.8710   Max.   :8.780   Max.   :100.00   Max.   :12.127  \n",
       "      rad              tax           ptratio          black       \n",
       " Min.   : 1.000   Min.   :187.0   Min.   :12.60   Min.   :  0.32  \n",
       " 1st Qu.: 4.000   1st Qu.:279.0   1st Qu.:17.40   1st Qu.:375.38  \n",
       " Median : 5.000   Median :330.0   Median :19.05   Median :391.44  \n",
       " Mean   : 9.549   Mean   :408.2   Mean   :18.46   Mean   :356.67  \n",
       " 3rd Qu.:24.000   3rd Qu.:666.0   3rd Qu.:20.20   3rd Qu.:396.23  \n",
       " Max.   :24.000   Max.   :711.0   Max.   :22.00   Max.   :396.90  \n",
       "     lstat            medv      \n",
       " Min.   : 1.73   Min.   : 5.00  \n",
       " 1st Qu.: 6.95   1st Qu.:17.02  \n",
       " Median :11.36   Median :21.20  \n",
       " Mean   :12.65   Mean   :22.53  \n",
       " 3rd Qu.:16.95   3rd Qu.:25.00  \n",
       " Max.   :37.97   Max.   :50.00  "
      ]
     },
     "metadata": {},
     "output_type": "display_data"
    }
   ],
   "source": [
    "summary(dados)"
   ]
  },
  {
   "cell_type": "code",
   "execution_count": 6,
   "id": "396ea147",
   "metadata": {},
   "outputs": [
    {
     "data": {
      "text/html": [
       "<style>\n",
       ".dl-inline {width: auto; margin:0; padding: 0}\n",
       ".dl-inline>dt, .dl-inline>dd {float: none; width: auto; display: inline-block}\n",
       ".dl-inline>dt::after {content: \":\\0020\"; padding-right: .5ex}\n",
       ".dl-inline>dt:not(:first-of-type) {padding-left: .5ex}\n",
       "</style><dl class=dl-inline><dt>crim</dt><dd>0</dd><dt>zn</dt><dd>0</dd><dt>indus</dt><dd>0</dd><dt>chas</dt><dd>0</dd><dt>nox</dt><dd>0</dd><dt>rm</dt><dd>0</dd><dt>age</dt><dd>0</dd><dt>dis</dt><dd>0</dd><dt>rad</dt><dd>0</dd><dt>tax</dt><dd>0</dd><dt>ptratio</dt><dd>0</dd><dt>black</dt><dd>0</dd><dt>lstat</dt><dd>0</dd><dt>medv</dt><dd>0</dd></dl>\n"
      ],
      "text/latex": [
       "\\begin{description*}\n",
       "\\item[crim] 0\n",
       "\\item[zn] 0\n",
       "\\item[indus] 0\n",
       "\\item[chas] 0\n",
       "\\item[nox] 0\n",
       "\\item[rm] 0\n",
       "\\item[age] 0\n",
       "\\item[dis] 0\n",
       "\\item[rad] 0\n",
       "\\item[tax] 0\n",
       "\\item[ptratio] 0\n",
       "\\item[black] 0\n",
       "\\item[lstat] 0\n",
       "\\item[medv] 0\n",
       "\\end{description*}\n"
      ],
      "text/markdown": [
       "crim\n",
       ":   0zn\n",
       ":   0indus\n",
       ":   0chas\n",
       ":   0nox\n",
       ":   0rm\n",
       ":   0age\n",
       ":   0dis\n",
       ":   0rad\n",
       ":   0tax\n",
       ":   0ptratio\n",
       ":   0black\n",
       ":   0lstat\n",
       ":   0medv\n",
       ":   0\n",
       "\n"
      ],
      "text/plain": [
       "   crim      zn   indus    chas     nox      rm     age     dis     rad     tax \n",
       "      0       0       0       0       0       0       0       0       0       0 \n",
       "ptratio   black   lstat    medv \n",
       "      0       0       0       0 "
      ]
     },
     "metadata": {},
     "output_type": "display_data"
    }
   ],
   "source": [
    "colSums(is.na(dados))"
   ]
  },
  {
   "cell_type": "markdown",
   "id": "2c70205d",
   "metadata": {},
   "source": [
    "### Normalização \n",
    "\n",
    "Como o primeiro passo, vamos abordar o pré-processamento de dados.\n",
    "É uma boa prática normalizar seus dados antes de treinar uma rede neural.\n",
    "Dependendo do seu conjunto de dados, evitando a normalização pode levar a resultados inuteis ou a processo de treinamento muito dificil(na maioria das vezes o algoritmo não iria convergir antes do numero de iteracoes maximo permitido).\n",
    "Você pode escolher diferentes metodos para dimensionar os dados (normalização-z, escala min-max, etc...)\n",
    "Normalmente a escala nos intervalos [0,1] ou [1,1] tende a dar melhores resultados.\n",
    "Desta forma, o pré-processamento de dados, incluindo a normalização, é um passo crucial ao treinar redes neurais. Normalizar os dados ajuda a garantir que todas as variáveis tenham uma escala semelhante, o que pode melhorar a convergência do modelo durante o treinamento e evitar que algumas variáveis dominem outras. \n",
    "- Normalização-Z (Z-Score Normalization): Cada valor é transformado subtraindo a média e dividindo pelo desvio padrão da variável. Isso coloca os dados em uma escala onde a média é 0 e o desvio padrão é 1.  \n",
    "- Escala Min-Max: Cada valor é transformado para um intervalo específico, como [0,1] ou [-1,1]. A transformação é feita subtraindo o valor mínimo e dividindo pela diferença entre o valor máximo e o valor mínimo."
   ]
  },
  {
   "cell_type": "code",
   "execution_count": 7,
   "id": "594ee198",
   "metadata": {},
   "outputs": [
    {
     "data": {
      "text/html": [
       "<table class=\"dataframe\">\n",
       "<caption>A data.frame: 14 × 1</caption>\n",
       "<thead>\n",
       "\t<tr><th></th><th scope=col>max</th></tr>\n",
       "\t<tr><th></th><th scope=col>&lt;dbl&gt;</th></tr>\n",
       "</thead>\n",
       "<tbody>\n",
       "\t<tr><th scope=row>crim</th><td> 88.9762</td></tr>\n",
       "\t<tr><th scope=row>zn</th><td>100.0000</td></tr>\n",
       "\t<tr><th scope=row>indus</th><td> 27.7400</td></tr>\n",
       "\t<tr><th scope=row>chas</th><td>  1.0000</td></tr>\n",
       "\t<tr><th scope=row>nox</th><td>  0.8710</td></tr>\n",
       "\t<tr><th scope=row>rm</th><td>  8.7800</td></tr>\n",
       "\t<tr><th scope=row>age</th><td>100.0000</td></tr>\n",
       "\t<tr><th scope=row>dis</th><td> 12.1265</td></tr>\n",
       "\t<tr><th scope=row>rad</th><td> 24.0000</td></tr>\n",
       "\t<tr><th scope=row>tax</th><td>711.0000</td></tr>\n",
       "\t<tr><th scope=row>ptratio</th><td> 22.0000</td></tr>\n",
       "\t<tr><th scope=row>black</th><td>396.9000</td></tr>\n",
       "\t<tr><th scope=row>lstat</th><td> 37.9700</td></tr>\n",
       "\t<tr><th scope=row>medv</th><td> 50.0000</td></tr>\n",
       "</tbody>\n",
       "</table>\n"
      ],
      "text/latex": [
       "A data.frame: 14 × 1\n",
       "\\begin{tabular}{r|l}\n",
       "  & max\\\\\n",
       "  & <dbl>\\\\\n",
       "\\hline\n",
       "\tcrim &  88.9762\\\\\n",
       "\tzn & 100.0000\\\\\n",
       "\tindus &  27.7400\\\\\n",
       "\tchas &   1.0000\\\\\n",
       "\tnox &   0.8710\\\\\n",
       "\trm &   8.7800\\\\\n",
       "\tage & 100.0000\\\\\n",
       "\tdis &  12.1265\\\\\n",
       "\trad &  24.0000\\\\\n",
       "\ttax & 711.0000\\\\\n",
       "\tptratio &  22.0000\\\\\n",
       "\tblack & 396.9000\\\\\n",
       "\tlstat &  37.9700\\\\\n",
       "\tmedv &  50.0000\\\\\n",
       "\\end{tabular}\n"
      ],
      "text/markdown": [
       "\n",
       "A data.frame: 14 × 1\n",
       "\n",
       "| <!--/--> | max &lt;dbl&gt; |\n",
       "|---|---|\n",
       "| crim |  88.9762 |\n",
       "| zn | 100.0000 |\n",
       "| indus |  27.7400 |\n",
       "| chas |   1.0000 |\n",
       "| nox |   0.8710 |\n",
       "| rm |   8.7800 |\n",
       "| age | 100.0000 |\n",
       "| dis |  12.1265 |\n",
       "| rad |  24.0000 |\n",
       "| tax | 711.0000 |\n",
       "| ptratio |  22.0000 |\n",
       "| black | 396.9000 |\n",
       "| lstat |  37.9700 |\n",
       "| medv |  50.0000 |\n",
       "\n"
      ],
      "text/plain": [
       "        max     \n",
       "crim     88.9762\n",
       "zn      100.0000\n",
       "indus    27.7400\n",
       "chas      1.0000\n",
       "nox       0.8710\n",
       "rm        8.7800\n",
       "age     100.0000\n",
       "dis      12.1265\n",
       "rad      24.0000\n",
       "tax     711.0000\n",
       "ptratio  22.0000\n",
       "black   396.9000\n",
       "lstat    37.9700\n",
       "medv     50.0000"
      ]
     },
     "metadata": {},
     "output_type": "display_data"
    },
    {
     "data": {
      "text/html": [
       "<table class=\"dataframe\">\n",
       "<caption>A data.frame: 14 × 1</caption>\n",
       "<thead>\n",
       "\t<tr><th></th><th scope=col>min</th></tr>\n",
       "\t<tr><th></th><th scope=col>&lt;dbl&gt;</th></tr>\n",
       "</thead>\n",
       "<tbody>\n",
       "\t<tr><th scope=row>crim</th><td>  0.00632</td></tr>\n",
       "\t<tr><th scope=row>zn</th><td>  0.00000</td></tr>\n",
       "\t<tr><th scope=row>indus</th><td>  0.46000</td></tr>\n",
       "\t<tr><th scope=row>chas</th><td>  0.00000</td></tr>\n",
       "\t<tr><th scope=row>nox</th><td>  0.38500</td></tr>\n",
       "\t<tr><th scope=row>rm</th><td>  3.56100</td></tr>\n",
       "\t<tr><th scope=row>age</th><td>  2.90000</td></tr>\n",
       "\t<tr><th scope=row>dis</th><td>  1.12960</td></tr>\n",
       "\t<tr><th scope=row>rad</th><td>  1.00000</td></tr>\n",
       "\t<tr><th scope=row>tax</th><td>187.00000</td></tr>\n",
       "\t<tr><th scope=row>ptratio</th><td> 12.60000</td></tr>\n",
       "\t<tr><th scope=row>black</th><td>  0.32000</td></tr>\n",
       "\t<tr><th scope=row>lstat</th><td>  1.73000</td></tr>\n",
       "\t<tr><th scope=row>medv</th><td>  5.00000</td></tr>\n",
       "</tbody>\n",
       "</table>\n"
      ],
      "text/latex": [
       "A data.frame: 14 × 1\n",
       "\\begin{tabular}{r|l}\n",
       "  & min\\\\\n",
       "  & <dbl>\\\\\n",
       "\\hline\n",
       "\tcrim &   0.00632\\\\\n",
       "\tzn &   0.00000\\\\\n",
       "\tindus &   0.46000\\\\\n",
       "\tchas &   0.00000\\\\\n",
       "\tnox &   0.38500\\\\\n",
       "\trm &   3.56100\\\\\n",
       "\tage &   2.90000\\\\\n",
       "\tdis &   1.12960\\\\\n",
       "\trad &   1.00000\\\\\n",
       "\ttax & 187.00000\\\\\n",
       "\tptratio &  12.60000\\\\\n",
       "\tblack &   0.32000\\\\\n",
       "\tlstat &   1.73000\\\\\n",
       "\tmedv &   5.00000\\\\\n",
       "\\end{tabular}\n"
      ],
      "text/markdown": [
       "\n",
       "A data.frame: 14 × 1\n",
       "\n",
       "| <!--/--> | min &lt;dbl&gt; |\n",
       "|---|---|\n",
       "| crim |   0.00632 |\n",
       "| zn |   0.00000 |\n",
       "| indus |   0.46000 |\n",
       "| chas |   0.00000 |\n",
       "| nox |   0.38500 |\n",
       "| rm |   3.56100 |\n",
       "| age |   2.90000 |\n",
       "| dis |   1.12960 |\n",
       "| rad |   1.00000 |\n",
       "| tax | 187.00000 |\n",
       "| ptratio |  12.60000 |\n",
       "| black |   0.32000 |\n",
       "| lstat |   1.73000 |\n",
       "| medv |   5.00000 |\n",
       "\n"
      ],
      "text/plain": [
       "        min      \n",
       "crim      0.00632\n",
       "zn        0.00000\n",
       "indus     0.46000\n",
       "chas      0.00000\n",
       "nox       0.38500\n",
       "rm        3.56100\n",
       "age       2.90000\n",
       "dis       1.12960\n",
       "rad       1.00000\n",
       "tax     187.00000\n",
       "ptratio  12.60000\n",
       "black     0.32000\n",
       "lstat     1.73000\n",
       "medv      5.00000"
      ]
     },
     "metadata": {},
     "output_type": "display_data"
    }
   ],
   "source": [
    "#Normalização \n",
    "#Encontrando valores minimo e maximo pela coluna.\n",
    "max <- apply(dados,2, max)\n",
    "min <- apply(dados,2, min)\n",
    "data.frame(max)\n",
    "data.frame(min)"
   ]
  },
  {
   "cell_type": "markdown",
   "id": "cd72849c",
   "metadata": {},
   "source": [
    "**Sobre o código: scale(dados, center = min, scale = max - min):**\n",
    "\n",
    "- dados: O conjunto de dados a ser escalado;\n",
    "- center = min: Isso significa que, para cada coluna, o valor mínimo será subtraído de cada elemento dessa coluna;\n",
    " - scale = max - min:Isso significa que, para cada coluna, cada elemento será dividido pela amplitude daquela coluna (diferença entre o máximo e o mínimo).\n",
    "Obs.:\n",
    "- SE **center** for TRUE, os dados são centrados subtraindo-se a média, se center for FALSE, nenhum centro será aplicado;\n",
    "- Se **scale** for TRUE, os dados são escalados dividindo-os pelo desvio padrão.Se scale for FALSE, nenhum escalonamento será aplicado"
   ]
  },
  {
   "cell_type": "code",
   "execution_count": 8,
   "id": "282d5063",
   "metadata": {},
   "outputs": [
    {
     "data": {
      "text/html": [
       "<table class=\"dataframe\">\n",
       "<caption>A data.frame: 6 × 14</caption>\n",
       "<thead>\n",
       "\t<tr><th></th><th scope=col>crim</th><th scope=col>zn</th><th scope=col>indus</th><th scope=col>chas</th><th scope=col>nox</th><th scope=col>rm</th><th scope=col>age</th><th scope=col>dis</th><th scope=col>rad</th><th scope=col>tax</th><th scope=col>ptratio</th><th scope=col>black</th><th scope=col>lstat</th><th scope=col>medv</th></tr>\n",
       "\t<tr><th></th><th scope=col>&lt;dbl&gt;</th><th scope=col>&lt;dbl&gt;</th><th scope=col>&lt;dbl&gt;</th><th scope=col>&lt;dbl&gt;</th><th scope=col>&lt;dbl&gt;</th><th scope=col>&lt;dbl&gt;</th><th scope=col>&lt;dbl&gt;</th><th scope=col>&lt;dbl&gt;</th><th scope=col>&lt;dbl&gt;</th><th scope=col>&lt;dbl&gt;</th><th scope=col>&lt;dbl&gt;</th><th scope=col>&lt;dbl&gt;</th><th scope=col>&lt;dbl&gt;</th><th scope=col>&lt;dbl&gt;</th></tr>\n",
       "</thead>\n",
       "<tbody>\n",
       "\t<tr><th scope=row>1</th><td>0.0000000000</td><td>0.18</td><td>0.06781525</td><td>0</td><td>0.3148148</td><td>0.5775053</td><td>0.6416066</td><td>0.2692031</td><td>0.00000000</td><td>0.20801527</td><td>0.2872340</td><td>1.0000000</td><td>0.08967991</td><td>0.4222222</td></tr>\n",
       "\t<tr><th scope=row>2</th><td>0.0002359225</td><td>0.00</td><td>0.24230205</td><td>0</td><td>0.1728395</td><td>0.5479977</td><td>0.7826982</td><td>0.3489620</td><td>0.04347826</td><td>0.10496183</td><td>0.5531915</td><td>1.0000000</td><td>0.20447020</td><td>0.3688889</td></tr>\n",
       "\t<tr><th scope=row>3</th><td>0.0002356977</td><td>0.00</td><td>0.24230205</td><td>0</td><td>0.1728395</td><td>0.6943859</td><td>0.5993821</td><td>0.3489620</td><td>0.04347826</td><td>0.10496183</td><td>0.5531915</td><td>0.9897373</td><td>0.06346578</td><td>0.6600000</td></tr>\n",
       "\t<tr><th scope=row>4</th><td>0.0002927957</td><td>0.00</td><td>0.06304985</td><td>0</td><td>0.1502058</td><td>0.6585553</td><td>0.4418126</td><td>0.4485446</td><td>0.08695652</td><td>0.06679389</td><td>0.6489362</td><td>0.9942761</td><td>0.03338852</td><td>0.6311111</td></tr>\n",
       "\t<tr><th scope=row>5</th><td>0.0007050701</td><td>0.00</td><td>0.06304985</td><td>0</td><td>0.1502058</td><td>0.6871048</td><td>0.5283213</td><td>0.4485446</td><td>0.08695652</td><td>0.06679389</td><td>0.6489362</td><td>1.0000000</td><td>0.09933775</td><td>0.6933333</td></tr>\n",
       "\t<tr><th scope=row>6</th><td>0.0002644715</td><td>0.00</td><td>0.06304985</td><td>0</td><td>0.1502058</td><td>0.5497222</td><td>0.5746653</td><td>0.4485446</td><td>0.08695652</td><td>0.06679389</td><td>0.6489362</td><td>0.9929901</td><td>0.09602649</td><td>0.5266667</td></tr>\n",
       "</tbody>\n",
       "</table>\n"
      ],
      "text/latex": [
       "A data.frame: 6 × 14\n",
       "\\begin{tabular}{r|llllllllllllll}\n",
       "  & crim & zn & indus & chas & nox & rm & age & dis & rad & tax & ptratio & black & lstat & medv\\\\\n",
       "  & <dbl> & <dbl> & <dbl> & <dbl> & <dbl> & <dbl> & <dbl> & <dbl> & <dbl> & <dbl> & <dbl> & <dbl> & <dbl> & <dbl>\\\\\n",
       "\\hline\n",
       "\t1 & 0.0000000000 & 0.18 & 0.06781525 & 0 & 0.3148148 & 0.5775053 & 0.6416066 & 0.2692031 & 0.00000000 & 0.20801527 & 0.2872340 & 1.0000000 & 0.08967991 & 0.4222222\\\\\n",
       "\t2 & 0.0002359225 & 0.00 & 0.24230205 & 0 & 0.1728395 & 0.5479977 & 0.7826982 & 0.3489620 & 0.04347826 & 0.10496183 & 0.5531915 & 1.0000000 & 0.20447020 & 0.3688889\\\\\n",
       "\t3 & 0.0002356977 & 0.00 & 0.24230205 & 0 & 0.1728395 & 0.6943859 & 0.5993821 & 0.3489620 & 0.04347826 & 0.10496183 & 0.5531915 & 0.9897373 & 0.06346578 & 0.6600000\\\\\n",
       "\t4 & 0.0002927957 & 0.00 & 0.06304985 & 0 & 0.1502058 & 0.6585553 & 0.4418126 & 0.4485446 & 0.08695652 & 0.06679389 & 0.6489362 & 0.9942761 & 0.03338852 & 0.6311111\\\\\n",
       "\t5 & 0.0007050701 & 0.00 & 0.06304985 & 0 & 0.1502058 & 0.6871048 & 0.5283213 & 0.4485446 & 0.08695652 & 0.06679389 & 0.6489362 & 1.0000000 & 0.09933775 & 0.6933333\\\\\n",
       "\t6 & 0.0002644715 & 0.00 & 0.06304985 & 0 & 0.1502058 & 0.5497222 & 0.5746653 & 0.4485446 & 0.08695652 & 0.06679389 & 0.6489362 & 0.9929901 & 0.09602649 & 0.5266667\\\\\n",
       "\\end{tabular}\n"
      ],
      "text/markdown": [
       "\n",
       "A data.frame: 6 × 14\n",
       "\n",
       "| <!--/--> | crim &lt;dbl&gt; | zn &lt;dbl&gt; | indus &lt;dbl&gt; | chas &lt;dbl&gt; | nox &lt;dbl&gt; | rm &lt;dbl&gt; | age &lt;dbl&gt; | dis &lt;dbl&gt; | rad &lt;dbl&gt; | tax &lt;dbl&gt; | ptratio &lt;dbl&gt; | black &lt;dbl&gt; | lstat &lt;dbl&gt; | medv &lt;dbl&gt; |\n",
       "|---|---|---|---|---|---|---|---|---|---|---|---|---|---|---|\n",
       "| 1 | 0.0000000000 | 0.18 | 0.06781525 | 0 | 0.3148148 | 0.5775053 | 0.6416066 | 0.2692031 | 0.00000000 | 0.20801527 | 0.2872340 | 1.0000000 | 0.08967991 | 0.4222222 |\n",
       "| 2 | 0.0002359225 | 0.00 | 0.24230205 | 0 | 0.1728395 | 0.5479977 | 0.7826982 | 0.3489620 | 0.04347826 | 0.10496183 | 0.5531915 | 1.0000000 | 0.20447020 | 0.3688889 |\n",
       "| 3 | 0.0002356977 | 0.00 | 0.24230205 | 0 | 0.1728395 | 0.6943859 | 0.5993821 | 0.3489620 | 0.04347826 | 0.10496183 | 0.5531915 | 0.9897373 | 0.06346578 | 0.6600000 |\n",
       "| 4 | 0.0002927957 | 0.00 | 0.06304985 | 0 | 0.1502058 | 0.6585553 | 0.4418126 | 0.4485446 | 0.08695652 | 0.06679389 | 0.6489362 | 0.9942761 | 0.03338852 | 0.6311111 |\n",
       "| 5 | 0.0007050701 | 0.00 | 0.06304985 | 0 | 0.1502058 | 0.6871048 | 0.5283213 | 0.4485446 | 0.08695652 | 0.06679389 | 0.6489362 | 1.0000000 | 0.09933775 | 0.6933333 |\n",
       "| 6 | 0.0002644715 | 0.00 | 0.06304985 | 0 | 0.1502058 | 0.5497222 | 0.5746653 | 0.4485446 | 0.08695652 | 0.06679389 | 0.6489362 | 0.9929901 | 0.09602649 | 0.5266667 |\n",
       "\n"
      ],
      "text/plain": [
       "  crim         zn   indus      chas nox       rm        age       dis      \n",
       "1 0.0000000000 0.18 0.06781525 0    0.3148148 0.5775053 0.6416066 0.2692031\n",
       "2 0.0002359225 0.00 0.24230205 0    0.1728395 0.5479977 0.7826982 0.3489620\n",
       "3 0.0002356977 0.00 0.24230205 0    0.1728395 0.6943859 0.5993821 0.3489620\n",
       "4 0.0002927957 0.00 0.06304985 0    0.1502058 0.6585553 0.4418126 0.4485446\n",
       "5 0.0007050701 0.00 0.06304985 0    0.1502058 0.6871048 0.5283213 0.4485446\n",
       "6 0.0002644715 0.00 0.06304985 0    0.1502058 0.5497222 0.5746653 0.4485446\n",
       "  rad        tax        ptratio   black     lstat      medv     \n",
       "1 0.00000000 0.20801527 0.2872340 1.0000000 0.08967991 0.4222222\n",
       "2 0.04347826 0.10496183 0.5531915 1.0000000 0.20447020 0.3688889\n",
       "3 0.04347826 0.10496183 0.5531915 0.9897373 0.06346578 0.6600000\n",
       "4 0.08695652 0.06679389 0.6489362 0.9942761 0.03338852 0.6311111\n",
       "5 0.08695652 0.06679389 0.6489362 1.0000000 0.09933775 0.6933333\n",
       "6 0.08695652 0.06679389 0.6489362 0.9929901 0.09602649 0.5266667"
      ]
     },
     "metadata": {},
     "output_type": "display_data"
    },
    {
     "data": {
      "text/html": [
       "'data.frame'"
      ],
      "text/latex": [
       "'data.frame'"
      ],
      "text/markdown": [
       "'data.frame'"
      ],
      "text/plain": [
       "[1] \"data.frame\""
      ]
     },
     "metadata": {},
     "output_type": "display_data"
    }
   ],
   "source": [
    "dados_normalizados <- data.frame(scale(dados, center = min, scale= max - min))\n",
    "head(dados_normalizados)\n",
    "class(dados_normalizados)"
   ]
  },
  {
   "cell_type": "code",
   "execution_count": 9,
   "id": "85bee244",
   "metadata": {},
   "outputs": [
    {
     "name": "stderr",
     "output_type": "stream",
     "text": [
      "Warning message:\n",
      "\"package 'caTools' was built under R version 4.2.3\"\n"
     ]
    }
   ],
   "source": [
    "library(caTools)"
   ]
  },
  {
   "cell_type": "code",
   "execution_count": 10,
   "id": "a1b9b70d",
   "metadata": {},
   "outputs": [],
   "source": [
    "# Dividindo os dados em treino e teste \n",
    "split <- sample.split(dados_normalizados$medv, SplitRatio = 0.70)  #70% dos dados salvo em amostra"
   ]
  },
  {
   "cell_type": "code",
   "execution_count": 11,
   "id": "4d1a5c97",
   "metadata": {},
   "outputs": [
    {
     "data": {
      "text/html": [
       "<table class=\"dataframe\">\n",
       "<caption>A data.frame: 6 × 14</caption>\n",
       "<thead>\n",
       "\t<tr><th></th><th scope=col>crim</th><th scope=col>zn</th><th scope=col>indus</th><th scope=col>chas</th><th scope=col>nox</th><th scope=col>rm</th><th scope=col>age</th><th scope=col>dis</th><th scope=col>rad</th><th scope=col>tax</th><th scope=col>ptratio</th><th scope=col>black</th><th scope=col>lstat</th><th scope=col>medv</th></tr>\n",
       "\t<tr><th></th><th scope=col>&lt;dbl&gt;</th><th scope=col>&lt;dbl&gt;</th><th scope=col>&lt;dbl&gt;</th><th scope=col>&lt;dbl&gt;</th><th scope=col>&lt;dbl&gt;</th><th scope=col>&lt;dbl&gt;</th><th scope=col>&lt;dbl&gt;</th><th scope=col>&lt;dbl&gt;</th><th scope=col>&lt;dbl&gt;</th><th scope=col>&lt;dbl&gt;</th><th scope=col>&lt;dbl&gt;</th><th scope=col>&lt;dbl&gt;</th><th scope=col>&lt;dbl&gt;</th><th scope=col>&lt;dbl&gt;</th></tr>\n",
       "</thead>\n",
       "<tbody>\n",
       "\t<tr><th scope=row>3</th><td>0.0002356977</td><td>0.000</td><td>0.24230205</td><td>0</td><td>0.1728395</td><td>0.6943859</td><td>0.5993821</td><td>0.3489620</td><td>0.04347826</td><td>0.10496183</td><td>0.5531915</td><td>0.9897373</td><td>0.06346578</td><td>0.6600000</td></tr>\n",
       "\t<tr><th scope=row>4</th><td>0.0002927957</td><td>0.000</td><td>0.06304985</td><td>0</td><td>0.1502058</td><td>0.6585553</td><td>0.4418126</td><td>0.4485446</td><td>0.08695652</td><td>0.06679389</td><td>0.6489362</td><td>0.9942761</td><td>0.03338852</td><td>0.6311111</td></tr>\n",
       "\t<tr><th scope=row>5</th><td>0.0007050701</td><td>0.000</td><td>0.06304985</td><td>0</td><td>0.1502058</td><td>0.6871048</td><td>0.5283213</td><td>0.4485446</td><td>0.08695652</td><td>0.06679389</td><td>0.6489362</td><td>1.0000000</td><td>0.09933775</td><td>0.6933333</td></tr>\n",
       "\t<tr><th scope=row>6</th><td>0.0002644715</td><td>0.000</td><td>0.06304985</td><td>0</td><td>0.1502058</td><td>0.5497222</td><td>0.5746653</td><td>0.4485446</td><td>0.08695652</td><td>0.06679389</td><td>0.6489362</td><td>0.9929901</td><td>0.09602649</td><td>0.5266667</td></tr>\n",
       "\t<tr><th scope=row>7</th><td>0.0009213230</td><td>0.125</td><td>0.27162757</td><td>0</td><td>0.2860082</td><td>0.4696302</td><td>0.6560247</td><td>0.4029226</td><td>0.17391304</td><td>0.23664122</td><td>0.2765957</td><td>0.9967220</td><td>0.29525386</td><td>0.3977778</td></tr>\n",
       "\t<tr><th scope=row>10</th><td>0.0018401733</td><td>0.125</td><td>0.27162757</td><td>0</td><td>0.2860082</td><td>0.4680973</td><td>0.8547889</td><td>0.4967309</td><td>0.17391304</td><td>0.23664122</td><td>0.2765957</td><td>0.9743053</td><td>0.42411700</td><td>0.3088889</td></tr>\n",
       "</tbody>\n",
       "</table>\n"
      ],
      "text/latex": [
       "A data.frame: 6 × 14\n",
       "\\begin{tabular}{r|llllllllllllll}\n",
       "  & crim & zn & indus & chas & nox & rm & age & dis & rad & tax & ptratio & black & lstat & medv\\\\\n",
       "  & <dbl> & <dbl> & <dbl> & <dbl> & <dbl> & <dbl> & <dbl> & <dbl> & <dbl> & <dbl> & <dbl> & <dbl> & <dbl> & <dbl>\\\\\n",
       "\\hline\n",
       "\t3 & 0.0002356977 & 0.000 & 0.24230205 & 0 & 0.1728395 & 0.6943859 & 0.5993821 & 0.3489620 & 0.04347826 & 0.10496183 & 0.5531915 & 0.9897373 & 0.06346578 & 0.6600000\\\\\n",
       "\t4 & 0.0002927957 & 0.000 & 0.06304985 & 0 & 0.1502058 & 0.6585553 & 0.4418126 & 0.4485446 & 0.08695652 & 0.06679389 & 0.6489362 & 0.9942761 & 0.03338852 & 0.6311111\\\\\n",
       "\t5 & 0.0007050701 & 0.000 & 0.06304985 & 0 & 0.1502058 & 0.6871048 & 0.5283213 & 0.4485446 & 0.08695652 & 0.06679389 & 0.6489362 & 1.0000000 & 0.09933775 & 0.6933333\\\\\n",
       "\t6 & 0.0002644715 & 0.000 & 0.06304985 & 0 & 0.1502058 & 0.5497222 & 0.5746653 & 0.4485446 & 0.08695652 & 0.06679389 & 0.6489362 & 0.9929901 & 0.09602649 & 0.5266667\\\\\n",
       "\t7 & 0.0009213230 & 0.125 & 0.27162757 & 0 & 0.2860082 & 0.4696302 & 0.6560247 & 0.4029226 & 0.17391304 & 0.23664122 & 0.2765957 & 0.9967220 & 0.29525386 & 0.3977778\\\\\n",
       "\t10 & 0.0018401733 & 0.125 & 0.27162757 & 0 & 0.2860082 & 0.4680973 & 0.8547889 & 0.4967309 & 0.17391304 & 0.23664122 & 0.2765957 & 0.9743053 & 0.42411700 & 0.3088889\\\\\n",
       "\\end{tabular}\n"
      ],
      "text/markdown": [
       "\n",
       "A data.frame: 6 × 14\n",
       "\n",
       "| <!--/--> | crim &lt;dbl&gt; | zn &lt;dbl&gt; | indus &lt;dbl&gt; | chas &lt;dbl&gt; | nox &lt;dbl&gt; | rm &lt;dbl&gt; | age &lt;dbl&gt; | dis &lt;dbl&gt; | rad &lt;dbl&gt; | tax &lt;dbl&gt; | ptratio &lt;dbl&gt; | black &lt;dbl&gt; | lstat &lt;dbl&gt; | medv &lt;dbl&gt; |\n",
       "|---|---|---|---|---|---|---|---|---|---|---|---|---|---|---|\n",
       "| 3 | 0.0002356977 | 0.000 | 0.24230205 | 0 | 0.1728395 | 0.6943859 | 0.5993821 | 0.3489620 | 0.04347826 | 0.10496183 | 0.5531915 | 0.9897373 | 0.06346578 | 0.6600000 |\n",
       "| 4 | 0.0002927957 | 0.000 | 0.06304985 | 0 | 0.1502058 | 0.6585553 | 0.4418126 | 0.4485446 | 0.08695652 | 0.06679389 | 0.6489362 | 0.9942761 | 0.03338852 | 0.6311111 |\n",
       "| 5 | 0.0007050701 | 0.000 | 0.06304985 | 0 | 0.1502058 | 0.6871048 | 0.5283213 | 0.4485446 | 0.08695652 | 0.06679389 | 0.6489362 | 1.0000000 | 0.09933775 | 0.6933333 |\n",
       "| 6 | 0.0002644715 | 0.000 | 0.06304985 | 0 | 0.1502058 | 0.5497222 | 0.5746653 | 0.4485446 | 0.08695652 | 0.06679389 | 0.6489362 | 0.9929901 | 0.09602649 | 0.5266667 |\n",
       "| 7 | 0.0009213230 | 0.125 | 0.27162757 | 0 | 0.2860082 | 0.4696302 | 0.6560247 | 0.4029226 | 0.17391304 | 0.23664122 | 0.2765957 | 0.9967220 | 0.29525386 | 0.3977778 |\n",
       "| 10 | 0.0018401733 | 0.125 | 0.27162757 | 0 | 0.2860082 | 0.4680973 | 0.8547889 | 0.4967309 | 0.17391304 | 0.23664122 | 0.2765957 | 0.9743053 | 0.42411700 | 0.3088889 |\n",
       "\n"
      ],
      "text/plain": [
       "   crim         zn    indus      chas nox       rm        age       dis      \n",
       "3  0.0002356977 0.000 0.24230205 0    0.1728395 0.6943859 0.5993821 0.3489620\n",
       "4  0.0002927957 0.000 0.06304985 0    0.1502058 0.6585553 0.4418126 0.4485446\n",
       "5  0.0007050701 0.000 0.06304985 0    0.1502058 0.6871048 0.5283213 0.4485446\n",
       "6  0.0002644715 0.000 0.06304985 0    0.1502058 0.5497222 0.5746653 0.4485446\n",
       "7  0.0009213230 0.125 0.27162757 0    0.2860082 0.4696302 0.6560247 0.4029226\n",
       "10 0.0018401733 0.125 0.27162757 0    0.2860082 0.4680973 0.8547889 0.4967309\n",
       "   rad        tax        ptratio   black     lstat      medv     \n",
       "3  0.04347826 0.10496183 0.5531915 0.9897373 0.06346578 0.6600000\n",
       "4  0.08695652 0.06679389 0.6489362 0.9942761 0.03338852 0.6311111\n",
       "5  0.08695652 0.06679389 0.6489362 1.0000000 0.09933775 0.6933333\n",
       "6  0.08695652 0.06679389 0.6489362 0.9929901 0.09602649 0.5266667\n",
       "7  0.17391304 0.23664122 0.2765957 0.9967220 0.29525386 0.3977778\n",
       "10 0.17391304 0.23664122 0.2765957 0.9743053 0.42411700 0.3088889"
      ]
     },
     "metadata": {},
     "output_type": "display_data"
    },
    {
     "data": {
      "text/html": [
       "<style>\n",
       ".list-inline {list-style: none; margin:0; padding: 0}\n",
       ".list-inline>li {display: inline-block}\n",
       ".list-inline>li:not(:last-child)::after {content: \"\\00b7\"; padding: 0 .5ex}\n",
       "</style>\n",
       "<ol class=list-inline><li>367</li><li>14</li></ol>\n"
      ],
      "text/latex": [
       "\\begin{enumerate*}\n",
       "\\item 367\n",
       "\\item 14\n",
       "\\end{enumerate*}\n"
      ],
      "text/markdown": [
       "1. 367\n",
       "2. 14\n",
       "\n",
       "\n"
      ],
      "text/plain": [
       "[1] 367  14"
      ]
     },
     "metadata": {},
     "output_type": "display_data"
    }
   ],
   "source": [
    "#Criando dados de treino (70% dos dados)\n",
    "treino <- subset(dados_normalizados, split ==TRUE)\n",
    "head(treino)\n",
    "dim(treino)"
   ]
  },
  {
   "cell_type": "code",
   "execution_count": 12,
   "id": "a9286b60",
   "metadata": {},
   "outputs": [
    {
     "data": {
      "text/html": [
       "<table class=\"dataframe\">\n",
       "<caption>A data.frame: 6 × 14</caption>\n",
       "<thead>\n",
       "\t<tr><th></th><th scope=col>crim</th><th scope=col>zn</th><th scope=col>indus</th><th scope=col>chas</th><th scope=col>nox</th><th scope=col>rm</th><th scope=col>age</th><th scope=col>dis</th><th scope=col>rad</th><th scope=col>tax</th><th scope=col>ptratio</th><th scope=col>black</th><th scope=col>lstat</th><th scope=col>medv</th></tr>\n",
       "\t<tr><th></th><th scope=col>&lt;dbl&gt;</th><th scope=col>&lt;dbl&gt;</th><th scope=col>&lt;dbl&gt;</th><th scope=col>&lt;dbl&gt;</th><th scope=col>&lt;dbl&gt;</th><th scope=col>&lt;dbl&gt;</th><th scope=col>&lt;dbl&gt;</th><th scope=col>&lt;dbl&gt;</th><th scope=col>&lt;dbl&gt;</th><th scope=col>&lt;dbl&gt;</th><th scope=col>&lt;dbl&gt;</th><th scope=col>&lt;dbl&gt;</th><th scope=col>&lt;dbl&gt;</th><th scope=col>&lt;dbl&gt;</th></tr>\n",
       "</thead>\n",
       "<tbody>\n",
       "\t<tr><th scope=row>1</th><td>0.0000000000</td><td>0.180</td><td>0.06781525</td><td>0</td><td>0.3148148</td><td>0.5775053</td><td>0.6416066</td><td>0.2692031</td><td>0.00000000</td><td>0.2080153</td><td>0.2872340</td><td>1.0000000</td><td>0.08967991</td><td>0.4222222</td></tr>\n",
       "\t<tr><th scope=row>2</th><td>0.0002359225</td><td>0.000</td><td>0.24230205</td><td>0</td><td>0.1728395</td><td>0.5479977</td><td>0.7826982</td><td>0.3489620</td><td>0.04347826</td><td>0.1049618</td><td>0.5531915</td><td>1.0000000</td><td>0.20447020</td><td>0.3688889</td></tr>\n",
       "\t<tr><th scope=row>8</th><td>0.0015536719</td><td>0.125</td><td>0.27162757</td><td>0</td><td>0.2860082</td><td>0.5002874</td><td>0.9598352</td><td>0.4383872</td><td>0.17391304</td><td>0.2366412</td><td>0.2765957</td><td>1.0000000</td><td>0.48068433</td><td>0.4911111</td></tr>\n",
       "\t<tr><th scope=row>9</th><td>0.0023032514</td><td>0.125</td><td>0.27162757</td><td>0</td><td>0.2860082</td><td>0.3966277</td><td>1.0000000</td><td>0.4503542</td><td>0.17391304</td><td>0.2366412</td><td>0.2765957</td><td>0.9741036</td><td>0.77814570</td><td>0.2555556</td></tr>\n",
       "\t<tr><th scope=row>11</th><td>0.0024566741</td><td>0.125</td><td>0.27162757</td><td>0</td><td>0.2860082</td><td>0.5395670</td><td>0.9412976</td><td>0.4744155</td><td>0.17391304</td><td>0.2366412</td><td>0.2765957</td><td>0.9889556</td><td>0.51655629</td><td>0.2222222</td></tr>\n",
       "\t<tr><th scope=row>12</th><td>0.0012492992</td><td>0.125</td><td>0.27162757</td><td>0</td><td>0.2860082</td><td>0.4690554</td><td>0.8238929</td><td>0.4635034</td><td>0.17391304</td><td>0.2366412</td><td>0.2765957</td><td>1.0000000</td><td>0.31843267</td><td>0.3088889</td></tr>\n",
       "</tbody>\n",
       "</table>\n"
      ],
      "text/latex": [
       "A data.frame: 6 × 14\n",
       "\\begin{tabular}{r|llllllllllllll}\n",
       "  & crim & zn & indus & chas & nox & rm & age & dis & rad & tax & ptratio & black & lstat & medv\\\\\n",
       "  & <dbl> & <dbl> & <dbl> & <dbl> & <dbl> & <dbl> & <dbl> & <dbl> & <dbl> & <dbl> & <dbl> & <dbl> & <dbl> & <dbl>\\\\\n",
       "\\hline\n",
       "\t1 & 0.0000000000 & 0.180 & 0.06781525 & 0 & 0.3148148 & 0.5775053 & 0.6416066 & 0.2692031 & 0.00000000 & 0.2080153 & 0.2872340 & 1.0000000 & 0.08967991 & 0.4222222\\\\\n",
       "\t2 & 0.0002359225 & 0.000 & 0.24230205 & 0 & 0.1728395 & 0.5479977 & 0.7826982 & 0.3489620 & 0.04347826 & 0.1049618 & 0.5531915 & 1.0000000 & 0.20447020 & 0.3688889\\\\\n",
       "\t8 & 0.0015536719 & 0.125 & 0.27162757 & 0 & 0.2860082 & 0.5002874 & 0.9598352 & 0.4383872 & 0.17391304 & 0.2366412 & 0.2765957 & 1.0000000 & 0.48068433 & 0.4911111\\\\\n",
       "\t9 & 0.0023032514 & 0.125 & 0.27162757 & 0 & 0.2860082 & 0.3966277 & 1.0000000 & 0.4503542 & 0.17391304 & 0.2366412 & 0.2765957 & 0.9741036 & 0.77814570 & 0.2555556\\\\\n",
       "\t11 & 0.0024566741 & 0.125 & 0.27162757 & 0 & 0.2860082 & 0.5395670 & 0.9412976 & 0.4744155 & 0.17391304 & 0.2366412 & 0.2765957 & 0.9889556 & 0.51655629 & 0.2222222\\\\\n",
       "\t12 & 0.0012492992 & 0.125 & 0.27162757 & 0 & 0.2860082 & 0.4690554 & 0.8238929 & 0.4635034 & 0.17391304 & 0.2366412 & 0.2765957 & 1.0000000 & 0.31843267 & 0.3088889\\\\\n",
       "\\end{tabular}\n"
      ],
      "text/markdown": [
       "\n",
       "A data.frame: 6 × 14\n",
       "\n",
       "| <!--/--> | crim &lt;dbl&gt; | zn &lt;dbl&gt; | indus &lt;dbl&gt; | chas &lt;dbl&gt; | nox &lt;dbl&gt; | rm &lt;dbl&gt; | age &lt;dbl&gt; | dis &lt;dbl&gt; | rad &lt;dbl&gt; | tax &lt;dbl&gt; | ptratio &lt;dbl&gt; | black &lt;dbl&gt; | lstat &lt;dbl&gt; | medv &lt;dbl&gt; |\n",
       "|---|---|---|---|---|---|---|---|---|---|---|---|---|---|---|\n",
       "| 1 | 0.0000000000 | 0.180 | 0.06781525 | 0 | 0.3148148 | 0.5775053 | 0.6416066 | 0.2692031 | 0.00000000 | 0.2080153 | 0.2872340 | 1.0000000 | 0.08967991 | 0.4222222 |\n",
       "| 2 | 0.0002359225 | 0.000 | 0.24230205 | 0 | 0.1728395 | 0.5479977 | 0.7826982 | 0.3489620 | 0.04347826 | 0.1049618 | 0.5531915 | 1.0000000 | 0.20447020 | 0.3688889 |\n",
       "| 8 | 0.0015536719 | 0.125 | 0.27162757 | 0 | 0.2860082 | 0.5002874 | 0.9598352 | 0.4383872 | 0.17391304 | 0.2366412 | 0.2765957 | 1.0000000 | 0.48068433 | 0.4911111 |\n",
       "| 9 | 0.0023032514 | 0.125 | 0.27162757 | 0 | 0.2860082 | 0.3966277 | 1.0000000 | 0.4503542 | 0.17391304 | 0.2366412 | 0.2765957 | 0.9741036 | 0.77814570 | 0.2555556 |\n",
       "| 11 | 0.0024566741 | 0.125 | 0.27162757 | 0 | 0.2860082 | 0.5395670 | 0.9412976 | 0.4744155 | 0.17391304 | 0.2366412 | 0.2765957 | 0.9889556 | 0.51655629 | 0.2222222 |\n",
       "| 12 | 0.0012492992 | 0.125 | 0.27162757 | 0 | 0.2860082 | 0.4690554 | 0.8238929 | 0.4635034 | 0.17391304 | 0.2366412 | 0.2765957 | 1.0000000 | 0.31843267 | 0.3088889 |\n",
       "\n"
      ],
      "text/plain": [
       "   crim         zn    indus      chas nox       rm        age       dis      \n",
       "1  0.0000000000 0.180 0.06781525 0    0.3148148 0.5775053 0.6416066 0.2692031\n",
       "2  0.0002359225 0.000 0.24230205 0    0.1728395 0.5479977 0.7826982 0.3489620\n",
       "8  0.0015536719 0.125 0.27162757 0    0.2860082 0.5002874 0.9598352 0.4383872\n",
       "9  0.0023032514 0.125 0.27162757 0    0.2860082 0.3966277 1.0000000 0.4503542\n",
       "11 0.0024566741 0.125 0.27162757 0    0.2860082 0.5395670 0.9412976 0.4744155\n",
       "12 0.0012492992 0.125 0.27162757 0    0.2860082 0.4690554 0.8238929 0.4635034\n",
       "   rad        tax       ptratio   black     lstat      medv     \n",
       "1  0.00000000 0.2080153 0.2872340 1.0000000 0.08967991 0.4222222\n",
       "2  0.04347826 0.1049618 0.5531915 1.0000000 0.20447020 0.3688889\n",
       "8  0.17391304 0.2366412 0.2765957 1.0000000 0.48068433 0.4911111\n",
       "9  0.17391304 0.2366412 0.2765957 0.9741036 0.77814570 0.2555556\n",
       "11 0.17391304 0.2366412 0.2765957 0.9889556 0.51655629 0.2222222\n",
       "12 0.17391304 0.2366412 0.2765957 1.0000000 0.31843267 0.3088889"
      ]
     },
     "metadata": {},
     "output_type": "display_data"
    },
    {
     "data": {
      "text/html": [
       "<style>\n",
       ".list-inline {list-style: none; margin:0; padding: 0}\n",
       ".list-inline>li {display: inline-block}\n",
       ".list-inline>li:not(:last-child)::after {content: \"\\00b7\"; padding: 0 .5ex}\n",
       "</style>\n",
       "<ol class=list-inline><li>139</li><li>14</li></ol>\n"
      ],
      "text/latex": [
       "\\begin{enumerate*}\n",
       "\\item 139\n",
       "\\item 14\n",
       "\\end{enumerate*}\n"
      ],
      "text/markdown": [
       "1. 139\n",
       "2. 14\n",
       "\n",
       "\n"
      ],
      "text/plain": [
       "[1] 139  14"
      ]
     },
     "metadata": {},
     "output_type": "display_data"
    }
   ],
   "source": [
    "#Criando dados de testes\n",
    "teste <- subset(dados_normalizados, split == FALSE)\n",
    "head(teste)\n",
    "dim(teste)"
   ]
  },
  {
   "cell_type": "markdown",
   "id": "1cb5b727",
   "metadata": {},
   "source": [
    "### Treinando o modelo"
   ]
  },
  {
   "cell_type": "code",
   "execution_count": 13,
   "id": "b000b2d2",
   "metadata": {},
   "outputs": [],
   "source": [
    "rede_neural <- neuralnet(medv ~ ., data = treino, hidden = c(5,3), linear.output = TRUE)"
   ]
  },
  {
   "cell_type": "markdown",
   "id": "a85ad632",
   "metadata": {},
   "source": [
    "**hidden = c(5,3):** Define a arquitetura da rede neural. Neste caso, temos duas camadas ocultas, com 5 neurônios na primeira camada oculta e 3 neurônios na segunda camada oculta. A escolha do número de neurônios em cada camada oculta é uma decisão de projeto e pode depender da complexidade do problema.  \n",
    "**linear.output = TRUE:** Indica que a saída da rede neural deve ser linear"
   ]
  },
  {
   "cell_type": "code",
   "execution_count": 14,
   "id": "ef6e101c",
   "metadata": {},
   "outputs": [
    {
     "data": {
      "image/png": "[encoded data removed]",
      "text/plain": [
       "plot without title"
      ]
     },
     "metadata": {
      "image/png": {
       "height": 420,
       "width": 420
      }
     },
     "output_type": "display_data"
    }
   ],
   "source": [
    "#O argumento rep é usado para especificar o tipo de gráfico a ser criado.\n",
    "#Neste caso, rep = \"best\" indica que a melhor representação do modelo deve ser utilizada para o gráfico.\n",
    "plot(rede_neural, rep = 'best')"
   ]
  },
  {
   "cell_type": "code",
   "execution_count": 15,
   "id": "02ee6d13",
   "metadata": {},
   "outputs": [],
   "source": [
    "#Fazendo previsão com os dados de testes\n",
    "rede_neural_previsao <- predict(rede_neural, teste [1:13])"
   ]
  },
  {
   "cell_type": "code",
   "execution_count": 16,
   "id": "e00dfb48",
   "metadata": {},
   "outputs": [
    {
     "data": {
      "text/html": [
       "<table class=\"dataframe\">\n",
       "<caption>A matrix: 6 × 1 of type dbl</caption>\n",
       "<tbody>\n",
       "\t<tr><th scope=row>1</th><td>0.5115087</td></tr>\n",
       "\t<tr><th scope=row>2</th><td>0.4106871</td></tr>\n",
       "\t<tr><th scope=row>8</th><td>0.3237070</td></tr>\n",
       "\t<tr><th scope=row>9</th><td>0.2093458</td></tr>\n",
       "\t<tr><th scope=row>11</th><td>0.3335626</td></tr>\n",
       "\t<tr><th scope=row>12</th><td>0.3396184</td></tr>\n",
       "</tbody>\n",
       "</table>\n"
      ],
      "text/latex": [
       "A matrix: 6 × 1 of type dbl\n",
       "\\begin{tabular}{r|l}\n",
       "\t1 & 0.5115087\\\\\n",
       "\t2 & 0.4106871\\\\\n",
       "\t8 & 0.3237070\\\\\n",
       "\t9 & 0.2093458\\\\\n",
       "\t11 & 0.3335626\\\\\n",
       "\t12 & 0.3396184\\\\\n",
       "\\end{tabular}\n"
      ],
      "text/markdown": [
       "\n",
       "A matrix: 6 × 1 of type dbl\n",
       "\n",
       "| 1 | 0.5115087 |\n",
       "| 2 | 0.4106871 |\n",
       "| 8 | 0.3237070 |\n",
       "| 9 | 0.2093458 |\n",
       "| 11 | 0.3335626 |\n",
       "| 12 | 0.3396184 |\n",
       "\n"
      ],
      "text/plain": [
       "   [,1]     \n",
       "1  0.5115087\n",
       "2  0.4106871\n",
       "8  0.3237070\n",
       "9  0.2093458\n",
       "11 0.3335626\n",
       "12 0.3396184"
      ]
     },
     "metadata": {},
     "output_type": "display_data"
    },
    {
     "data": {
      "text/html": [
       "<style>\n",
       ".list-inline {list-style: none; margin:0; padding: 0}\n",
       ".list-inline>li {display: inline-block}\n",
       ".list-inline>li:not(:last-child)::after {content: \"\\00b7\"; padding: 0 .5ex}\n",
       "</style>\n",
       "<ol class=list-inline><li>'matrix'</li><li>'array'</li></ol>\n"
      ],
      "text/latex": [
       "\\begin{enumerate*}\n",
       "\\item 'matrix'\n",
       "\\item 'array'\n",
       "\\end{enumerate*}\n"
      ],
      "text/markdown": [
       "1. 'matrix'\n",
       "2. 'array'\n",
       "\n",
       "\n"
      ],
      "text/plain": [
       "[1] \"matrix\" \"array\" "
      ]
     },
     "metadata": {},
     "output_type": "display_data"
    }
   ],
   "source": [
    "head(rede_neural_previsao)\n",
    "class(rede_neural_previsao)"
   ]
  },
  {
   "cell_type": "code",
   "execution_count": 17,
   "id": "1482155b",
   "metadata": {},
   "outputs": [
    {
     "data": {
      "text/html": [
       "'data.frame'"
      ],
      "text/latex": [
       "'data.frame'"
      ],
      "text/markdown": [
       "'data.frame'"
      ],
      "text/plain": [
       "[1] \"data.frame\""
      ]
     },
     "metadata": {},
     "output_type": "display_data"
    },
    {
     "data": {
      "text/html": [
       "<table class=\"dataframe\">\n",
       "<caption>A data.frame: 6 × 1</caption>\n",
       "<thead>\n",
       "\t<tr><th></th><th scope=col>rede_neural_previsao</th></tr>\n",
       "\t<tr><th></th><th scope=col>&lt;dbl&gt;</th></tr>\n",
       "</thead>\n",
       "<tbody>\n",
       "\t<tr><th scope=row>1</th><td>0.5115087</td></tr>\n",
       "\t<tr><th scope=row>2</th><td>0.4106871</td></tr>\n",
       "\t<tr><th scope=row>8</th><td>0.3237070</td></tr>\n",
       "\t<tr><th scope=row>9</th><td>0.2093458</td></tr>\n",
       "\t<tr><th scope=row>11</th><td>0.3335626</td></tr>\n",
       "\t<tr><th scope=row>12</th><td>0.3396184</td></tr>\n",
       "</tbody>\n",
       "</table>\n"
      ],
      "text/latex": [
       "A data.frame: 6 × 1\n",
       "\\begin{tabular}{r|l}\n",
       "  & rede\\_neural\\_previsao\\\\\n",
       "  & <dbl>\\\\\n",
       "\\hline\n",
       "\t1 & 0.5115087\\\\\n",
       "\t2 & 0.4106871\\\\\n",
       "\t8 & 0.3237070\\\\\n",
       "\t9 & 0.2093458\\\\\n",
       "\t11 & 0.3335626\\\\\n",
       "\t12 & 0.3396184\\\\\n",
       "\\end{tabular}\n"
      ],
      "text/markdown": [
       "\n",
       "A data.frame: 6 × 1\n",
       "\n",
       "| <!--/--> | rede_neural_previsao &lt;dbl&gt; |\n",
       "|---|---|\n",
       "| 1 | 0.5115087 |\n",
       "| 2 | 0.4106871 |\n",
       "| 8 | 0.3237070 |\n",
       "| 9 | 0.2093458 |\n",
       "| 11 | 0.3335626 |\n",
       "| 12 | 0.3396184 |\n",
       "\n"
      ],
      "text/plain": [
       "   rede_neural_previsao\n",
       "1  0.5115087           \n",
       "2  0.4106871           \n",
       "8  0.3237070           \n",
       "9  0.2093458           \n",
       "11 0.3335626           \n",
       "12 0.3396184           "
      ]
     },
     "metadata": {},
     "output_type": "display_data"
    }
   ],
   "source": [
    "rede_neural_previsao <-data.frame(rede_neural_previsao)\n",
    "class(rede_neural_previsao)\n",
    "head(rede_neural_previsao)"
   ]
  },
  {
   "cell_type": "markdown",
   "id": "61398234",
   "metadata": {},
   "source": [
    "### Como os dados foram normalizados anteriormente, agora precisamos retorná-los ao formato original. "
   ]
  },
  {
   "cell_type": "code",
   "execution_count": 18,
   "id": "0867edca",
   "metadata": {},
   "outputs": [
    {
     "data": {
      "text/html": [
       "<table class=\"dataframe\">\n",
       "<caption>A data.frame: 6 × 1</caption>\n",
       "<thead>\n",
       "\t<tr><th></th><th scope=col>previsoes</th></tr>\n",
       "\t<tr><th></th><th scope=col>&lt;dbl&gt;</th></tr>\n",
       "</thead>\n",
       "<tbody>\n",
       "\t<tr><th scope=row>1</th><td>28.01789</td></tr>\n",
       "\t<tr><th scope=row>2</th><td>23.48092</td></tr>\n",
       "\t<tr><th scope=row>3</th><td>19.56681</td></tr>\n",
       "\t<tr><th scope=row>4</th><td>14.42056</td></tr>\n",
       "\t<tr><th scope=row>5</th><td>20.01032</td></tr>\n",
       "\t<tr><th scope=row>6</th><td>20.28283</td></tr>\n",
       "</tbody>\n",
       "</table>\n"
      ],
      "text/latex": [
       "A data.frame: 6 × 1\n",
       "\\begin{tabular}{r|l}\n",
       "  & previsoes\\\\\n",
       "  & <dbl>\\\\\n",
       "\\hline\n",
       "\t1 & 28.01789\\\\\n",
       "\t2 & 23.48092\\\\\n",
       "\t3 & 19.56681\\\\\n",
       "\t4 & 14.42056\\\\\n",
       "\t5 & 20.01032\\\\\n",
       "\t6 & 20.28283\\\\\n",
       "\\end{tabular}\n"
      ],
      "text/markdown": [
       "\n",
       "A data.frame: 6 × 1\n",
       "\n",
       "| <!--/--> | previsoes &lt;dbl&gt; |\n",
       "|---|---|\n",
       "| 1 | 28.01789 |\n",
       "| 2 | 23.48092 |\n",
       "| 3 | 19.56681 |\n",
       "| 4 | 14.42056 |\n",
       "| 5 | 20.01032 |\n",
       "| 6 | 20.28283 |\n",
       "\n"
      ],
      "text/plain": [
       "  previsoes\n",
       "1 28.01789 \n",
       "2 23.48092 \n",
       "3 19.56681 \n",
       "4 14.42056 \n",
       "5 20.01032 \n",
       "6 20.28283 "
      ]
     },
     "metadata": {},
     "output_type": "display_data"
    }
   ],
   "source": [
    "previsoes <- rede_neural_previsao$rede_neural_previsao * (max(dados$medv) - min(dados$medv)) + min(dados$medv)\n",
    "head(data.frame(previsoes))"
   ]
  },
  {
   "cell_type": "code",
   "execution_count": 19,
   "id": "9ca2c7da",
   "metadata": {},
   "outputs": [
    {
     "data": {
      "text/html": [
       "<table class=\"dataframe\">\n",
       "<caption>A data.frame: 6 × 1</caption>\n",
       "<thead>\n",
       "\t<tr><th></th><th scope=col>teste_convert</th></tr>\n",
       "\t<tr><th></th><th scope=col>&lt;dbl&gt;</th></tr>\n",
       "</thead>\n",
       "<tbody>\n",
       "\t<tr><th scope=row>1</th><td>24.0</td></tr>\n",
       "\t<tr><th scope=row>2</th><td>21.6</td></tr>\n",
       "\t<tr><th scope=row>3</th><td>27.1</td></tr>\n",
       "\t<tr><th scope=row>4</th><td>16.5</td></tr>\n",
       "\t<tr><th scope=row>5</th><td>15.0</td></tr>\n",
       "\t<tr><th scope=row>6</th><td>18.9</td></tr>\n",
       "</tbody>\n",
       "</table>\n"
      ],
      "text/latex": [
       "A data.frame: 6 × 1\n",
       "\\begin{tabular}{r|l}\n",
       "  & teste\\_convert\\\\\n",
       "  & <dbl>\\\\\n",
       "\\hline\n",
       "\t1 & 24.0\\\\\n",
       "\t2 & 21.6\\\\\n",
       "\t3 & 27.1\\\\\n",
       "\t4 & 16.5\\\\\n",
       "\t5 & 15.0\\\\\n",
       "\t6 & 18.9\\\\\n",
       "\\end{tabular}\n"
      ],
      "text/markdown": [
       "\n",
       "A data.frame: 6 × 1\n",
       "\n",
       "| <!--/--> | teste_convert &lt;dbl&gt; |\n",
       "|---|---|\n",
       "| 1 | 24.0 |\n",
       "| 2 | 21.6 |\n",
       "| 3 | 27.1 |\n",
       "| 4 | 16.5 |\n",
       "| 5 | 15.0 |\n",
       "| 6 | 18.9 |\n",
       "\n"
      ],
      "text/plain": [
       "  teste_convert\n",
       "1 24.0         \n",
       "2 21.6         \n",
       "3 27.1         \n",
       "4 16.5         \n",
       "5 15.0         \n",
       "6 18.9         "
      ]
     },
     "metadata": {},
     "output_type": "display_data"
    }
   ],
   "source": [
    "teste_convert <- (teste$medv) * (max(dados$medv) - min(dados$medv)) + min(dados$medv)\n",
    "head(data.frame(teste_convert))"
   ]
  },
  {
   "cell_type": "code",
   "execution_count": 20,
   "id": "85a06a90",
   "metadata": {},
   "outputs": [
    {
     "data": {
      "text/html": [
       "15.1655999548339"
      ],
      "text/latex": [
       "15.1655999548339"
      ],
      "text/markdown": [
       "15.1655999548339"
      ],
      "text/plain": [
       "[1] 15.1656"
      ]
     },
     "metadata": {},
     "output_type": "display_data"
    }
   ],
   "source": [
    "# Calculando o Mean Squared Error\n",
    "MSE.nn <- sum((teste_convert - previsoes)^2)/nrow(teste)\n",
    "MSE.nn"
   ]
  },
  {
   "cell_type": "code",
   "execution_count": 21,
   "id": "159717bc",
   "metadata": {},
   "outputs": [
    {
     "data": {
      "text/html": [
       "<table class=\"dataframe\">\n",
       "<caption>A data.frame: 6 × 2</caption>\n",
       "<thead>\n",
       "\t<tr><th></th><th scope=col>teste_convert</th><th scope=col>previsoes</th></tr>\n",
       "\t<tr><th></th><th scope=col>&lt;dbl&gt;</th><th scope=col>&lt;dbl&gt;</th></tr>\n",
       "</thead>\n",
       "<tbody>\n",
       "\t<tr><th scope=row>1</th><td>24.0</td><td>28.01789</td></tr>\n",
       "\t<tr><th scope=row>2</th><td>21.6</td><td>23.48092</td></tr>\n",
       "\t<tr><th scope=row>3</th><td>27.1</td><td>19.56681</td></tr>\n",
       "\t<tr><th scope=row>4</th><td>16.5</td><td>14.42056</td></tr>\n",
       "\t<tr><th scope=row>5</th><td>15.0</td><td>20.01032</td></tr>\n",
       "\t<tr><th scope=row>6</th><td>18.9</td><td>20.28283</td></tr>\n",
       "</tbody>\n",
       "</table>\n"
      ],
      "text/latex": [
       "A data.frame: 6 × 2\n",
       "\\begin{tabular}{r|ll}\n",
       "  & teste\\_convert & previsoes\\\\\n",
       "  & <dbl> & <dbl>\\\\\n",
       "\\hline\n",
       "\t1 & 24.0 & 28.01789\\\\\n",
       "\t2 & 21.6 & 23.48092\\\\\n",
       "\t3 & 27.1 & 19.56681\\\\\n",
       "\t4 & 16.5 & 14.42056\\\\\n",
       "\t5 & 15.0 & 20.01032\\\\\n",
       "\t6 & 18.9 & 20.28283\\\\\n",
       "\\end{tabular}\n"
      ],
      "text/markdown": [
       "\n",
       "A data.frame: 6 × 2\n",
       "\n",
       "| <!--/--> | teste_convert &lt;dbl&gt; | previsoes &lt;dbl&gt; |\n",
       "|---|---|---|\n",
       "| 1 | 24.0 | 28.01789 |\n",
       "| 2 | 21.6 | 23.48092 |\n",
       "| 3 | 27.1 | 19.56681 |\n",
       "| 4 | 16.5 | 14.42056 |\n",
       "| 5 | 15.0 | 20.01032 |\n",
       "| 6 | 18.9 | 20.28283 |\n",
       "\n"
      ],
      "text/plain": [
       "  teste_convert previsoes\n",
       "1 24.0          28.01789 \n",
       "2 21.6          23.48092 \n",
       "3 27.1          19.56681 \n",
       "4 16.5          14.42056 \n",
       "5 15.0          20.01032 \n",
       "6 18.9          20.28283 "
      ]
     },
     "metadata": {},
     "output_type": "display_data"
    }
   ],
   "source": [
    "# Obtendo os erros de previsao\n",
    "error.df <- data.frame(teste_convert, previsoes)\n",
    "head(error.df)"
   ]
  },
  {
   "cell_type": "code",
   "execution_count": 22,
   "id": "a90e81b9",
   "metadata": {},
   "outputs": [
    {
     "name": "stderr",
     "output_type": "stream",
     "text": [
      "Warning message:\n",
      "\"package 'ggplot2' was built under R version 4.2.3\"\n"
     ]
    }
   ],
   "source": [
    "library(ggplot2)"
   ]
  },
  {
   "cell_type": "code",
   "execution_count": 23,
   "id": "ad14386f",
   "metadata": {},
   "outputs": [
    {
     "name": "stderr",
     "output_type": "stream",
     "text": [
      "\u001b[1m\u001b[22m`geom_smooth()` using method = 'loess' and formula = 'y ~ x'\n"
     ]
    },
    {
     "data": {
      "image/png": "[encoded data removed]",
      "text/plain": [
       "plot without title"
      ]
     },
     "metadata": {
      "image/png": {
       "height": 420,
       "width": 420
      }
     },
     "output_type": "display_data"
    }
   ],
   "source": [
    "# Plot dos erros\n",
    "library(ggplot2)\n",
    "ggplot(error.df, aes(x = teste_convert,y = previsoes)) + \n",
    "  geom_point() + stat_smooth()\n"
   ]
  }
 ],
 "metadata": {
  "kernelspec": {
   "display_name": "R",
   "language": "R",
   "name": "ir"
  },
  "language_info": {
   "codemirror_mode": "r",
   "file_extension": ".r",
   "mimetype": "text/x-r-source",
   "name": "R",
   "pygments_lexer": "r",
   "version": "4.2.2"
  }
 },
 "nbformat": 4,
 "nbformat_minor": 5
}
