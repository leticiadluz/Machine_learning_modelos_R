{
 "cells": [
  {
   "cell_type": "markdown",
   "id": "50a29be6",
   "metadata": {},
   "source": [
    "### Definindo o Problema: OCR - Optical Character Recognition\n",
    "### Seu modelo deve prever o caracter a partir do dataset fornecido. Use um modelo SVM"
   ]
  },
  {
   "cell_type": "code",
   "execution_count": 1,
   "id": "8e848df4",
   "metadata": {},
   "outputs": [
    {
     "name": "stderr",
     "output_type": "stream",
     "text": [
      "Warning message:\n",
      "\"package 'readr' was built under R version 4.2.3\"\n"
     ]
    }
   ],
   "source": [
    "library(readr)"
   ]
  },
  {
   "cell_type": "code",
   "execution_count": 2,
   "id": "cebe028d",
   "metadata": {},
   "outputs": [
    {
     "name": "stderr",
     "output_type": "stream",
     "text": [
      "\u001b[1mRows: \u001b[22m\u001b[34m20000\u001b[39m \u001b[1mColumns: \u001b[22m\u001b[34m17\u001b[39m\n",
      "\u001b[36m──\u001b[39m \u001b[1mColumn specification\u001b[22m \u001b[36m────────────────────────────────────────────────────────────────────────────────────────────────\u001b[39m\n",
      "\u001b[1mDelimiter:\u001b[22m \",\"\n",
      "\u001b[31mchr\u001b[39m  (1): letter\n",
      "\u001b[32mdbl\u001b[39m (16): xbox, ybox, width, height, onpix, xbar, ybar, x2bar, y2bar, xybar,...\n",
      "\n",
      "\u001b[36mℹ\u001b[39m Use `spec()` to retrieve the full column specification for this data.\n",
      "\u001b[36mℹ\u001b[39m Specify the column types or set `show_col_types = FALSE` to quiet this message.\n"
     ]
    },
    {
     "data": {
      "text/html": [
       "<table class=\"dataframe\">\n",
       "<caption>A tibble: 6 × 17</caption>\n",
       "<thead>\n",
       "\t<tr><th scope=col>letter</th><th scope=col>xbox</th><th scope=col>ybox</th><th scope=col>width</th><th scope=col>height</th><th scope=col>onpix</th><th scope=col>xbar</th><th scope=col>ybar</th><th scope=col>x2bar</th><th scope=col>y2bar</th><th scope=col>xybar</th><th scope=col>x2ybar</th><th scope=col>xy2bar</th><th scope=col>xedge</th><th scope=col>xedgey</th><th scope=col>yedge</th><th scope=col>yedgex</th></tr>\n",
       "\t<tr><th scope=col>&lt;chr&gt;</th><th scope=col>&lt;dbl&gt;</th><th scope=col>&lt;dbl&gt;</th><th scope=col>&lt;dbl&gt;</th><th scope=col>&lt;dbl&gt;</th><th scope=col>&lt;dbl&gt;</th><th scope=col>&lt;dbl&gt;</th><th scope=col>&lt;dbl&gt;</th><th scope=col>&lt;dbl&gt;</th><th scope=col>&lt;dbl&gt;</th><th scope=col>&lt;dbl&gt;</th><th scope=col>&lt;dbl&gt;</th><th scope=col>&lt;dbl&gt;</th><th scope=col>&lt;dbl&gt;</th><th scope=col>&lt;dbl&gt;</th><th scope=col>&lt;dbl&gt;</th><th scope=col>&lt;dbl&gt;</th></tr>\n",
       "</thead>\n",
       "<tbody>\n",
       "\t<tr><td>T</td><td>2</td><td> 8</td><td>3</td><td>5</td><td>1</td><td> 8</td><td>13</td><td>0</td><td>6</td><td> 6</td><td>10</td><td> 8</td><td>0</td><td> 8</td><td>0</td><td> 8</td></tr>\n",
       "\t<tr><td>I</td><td>5</td><td>12</td><td>3</td><td>7</td><td>2</td><td>10</td><td> 5</td><td>5</td><td>4</td><td>13</td><td> 3</td><td> 9</td><td>2</td><td> 8</td><td>4</td><td>10</td></tr>\n",
       "\t<tr><td>D</td><td>4</td><td>11</td><td>6</td><td>8</td><td>6</td><td>10</td><td> 6</td><td>2</td><td>6</td><td>10</td><td> 3</td><td> 7</td><td>3</td><td> 7</td><td>3</td><td> 9</td></tr>\n",
       "\t<tr><td>N</td><td>7</td><td>11</td><td>6</td><td>6</td><td>3</td><td> 5</td><td> 9</td><td>4</td><td>6</td><td> 4</td><td> 4</td><td>10</td><td>6</td><td>10</td><td>2</td><td> 8</td></tr>\n",
       "\t<tr><td>G</td><td>2</td><td> 1</td><td>3</td><td>1</td><td>1</td><td> 8</td><td> 6</td><td>6</td><td>6</td><td> 6</td><td> 5</td><td> 9</td><td>1</td><td> 7</td><td>5</td><td>10</td></tr>\n",
       "\t<tr><td>S</td><td>4</td><td>11</td><td>5</td><td>8</td><td>3</td><td> 8</td><td> 8</td><td>6</td><td>9</td><td> 5</td><td> 6</td><td> 6</td><td>0</td><td> 8</td><td>9</td><td> 7</td></tr>\n",
       "</tbody>\n",
       "</table>\n"
      ],
      "text/latex": [
       "A tibble: 6 × 17\n",
       "\\begin{tabular}{lllllllllllllllll}\n",
       " letter & xbox & ybox & width & height & onpix & xbar & ybar & x2bar & y2bar & xybar & x2ybar & xy2bar & xedge & xedgey & yedge & yedgex\\\\\n",
       " <chr> & <dbl> & <dbl> & <dbl> & <dbl> & <dbl> & <dbl> & <dbl> & <dbl> & <dbl> & <dbl> & <dbl> & <dbl> & <dbl> & <dbl> & <dbl> & <dbl>\\\\\n",
       "\\hline\n",
       "\t T & 2 &  8 & 3 & 5 & 1 &  8 & 13 & 0 & 6 &  6 & 10 &  8 & 0 &  8 & 0 &  8\\\\\n",
       "\t I & 5 & 12 & 3 & 7 & 2 & 10 &  5 & 5 & 4 & 13 &  3 &  9 & 2 &  8 & 4 & 10\\\\\n",
       "\t D & 4 & 11 & 6 & 8 & 6 & 10 &  6 & 2 & 6 & 10 &  3 &  7 & 3 &  7 & 3 &  9\\\\\n",
       "\t N & 7 & 11 & 6 & 6 & 3 &  5 &  9 & 4 & 6 &  4 &  4 & 10 & 6 & 10 & 2 &  8\\\\\n",
       "\t G & 2 &  1 & 3 & 1 & 1 &  8 &  6 & 6 & 6 &  6 &  5 &  9 & 1 &  7 & 5 & 10\\\\\n",
       "\t S & 4 & 11 & 5 & 8 & 3 &  8 &  8 & 6 & 9 &  5 &  6 &  6 & 0 &  8 & 9 &  7\\\\\n",
       "\\end{tabular}\n"
      ],
      "text/markdown": [
       "\n",
       "A tibble: 6 × 17\n",
       "\n",
       "| letter &lt;chr&gt; | xbox &lt;dbl&gt; | ybox &lt;dbl&gt; | width &lt;dbl&gt; | height &lt;dbl&gt; | onpix &lt;dbl&gt; | xbar &lt;dbl&gt; | ybar &lt;dbl&gt; | x2bar &lt;dbl&gt; | y2bar &lt;dbl&gt; | xybar &lt;dbl&gt; | x2ybar &lt;dbl&gt; | xy2bar &lt;dbl&gt; | xedge &lt;dbl&gt; | xedgey &lt;dbl&gt; | yedge &lt;dbl&gt; | yedgex &lt;dbl&gt; |\n",
       "|---|---|---|---|---|---|---|---|---|---|---|---|---|---|---|---|---|\n",
       "| T | 2 |  8 | 3 | 5 | 1 |  8 | 13 | 0 | 6 |  6 | 10 |  8 | 0 |  8 | 0 |  8 |\n",
       "| I | 5 | 12 | 3 | 7 | 2 | 10 |  5 | 5 | 4 | 13 |  3 |  9 | 2 |  8 | 4 | 10 |\n",
       "| D | 4 | 11 | 6 | 8 | 6 | 10 |  6 | 2 | 6 | 10 |  3 |  7 | 3 |  7 | 3 |  9 |\n",
       "| N | 7 | 11 | 6 | 6 | 3 |  5 |  9 | 4 | 6 |  4 |  4 | 10 | 6 | 10 | 2 |  8 |\n",
       "| G | 2 |  1 | 3 | 1 | 1 |  8 |  6 | 6 | 6 |  6 |  5 |  9 | 1 |  7 | 5 | 10 |\n",
       "| S | 4 | 11 | 5 | 8 | 3 |  8 |  8 | 6 | 9 |  5 |  6 |  6 | 0 |  8 | 9 |  7 |\n",
       "\n"
      ],
      "text/plain": [
       "  letter xbox ybox width height onpix xbar ybar x2bar y2bar xybar x2ybar xy2bar\n",
       "1 T      2     8   3     5      1      8   13   0     6      6    10      8    \n",
       "2 I      5    12   3     7      2     10    5   5     4     13     3      9    \n",
       "3 D      4    11   6     8      6     10    6   2     6     10     3      7    \n",
       "4 N      7    11   6     6      3      5    9   4     6      4     4     10    \n",
       "5 G      2     1   3     1      1      8    6   6     6      6     5      9    \n",
       "6 S      4    11   5     8      3      8    8   6     9      5     6      6    \n",
       "  xedge xedgey yedge yedgex\n",
       "1 0      8     0      8    \n",
       "2 2      8     4     10    \n",
       "3 3      7     3      9    \n",
       "4 6     10     2      8    \n",
       "5 1      7     5     10    \n",
       "6 0      8     9      7    "
      ]
     },
     "metadata": {},
     "output_type": "display_data"
    },
    {
     "data": {
      "text/html": [
       "<style>\n",
       ".list-inline {list-style: none; margin:0; padding: 0}\n",
       ".list-inline>li {display: inline-block}\n",
       ".list-inline>li:not(:last-child)::after {content: \"\\00b7\"; padding: 0 .5ex}\n",
       "</style>\n",
       "<ol class=list-inline><li>20000</li><li>17</li></ol>\n"
      ],
      "text/latex": [
       "\\begin{enumerate*}\n",
       "\\item 20000\n",
       "\\item 17\n",
       "\\end{enumerate*}\n"
      ],
      "text/markdown": [
       "1. 20000\n",
       "2. 17\n",
       "\n",
       "\n"
      ],
      "text/plain": [
       "[1] 20000    17"
      ]
     },
     "metadata": {},
     "output_type": "display_data"
    }
   ],
   "source": [
    "letras <- read_csv('letterdata.csv')\n",
    "head(letras)\n",
    "dim(letras)"
   ]
  },
  {
   "cell_type": "code",
   "execution_count": 3,
   "id": "cc0bf601",
   "metadata": {},
   "outputs": [
    {
     "name": "stdout",
     "output_type": "stream",
     "text": [
      "spc_tbl_ [20,000 × 17] (S3: spec_tbl_df/tbl_df/tbl/data.frame)\n",
      " $ letter: chr [1:20000] \"T\" \"I\" \"D\" \"N\" ...\n",
      " $ xbox  : num [1:20000] 2 5 4 7 2 4 4 1 2 11 ...\n",
      " $ ybox  : num [1:20000] 8 12 11 11 1 11 2 1 2 15 ...\n",
      " $ width : num [1:20000] 3 3 6 6 3 5 5 3 4 13 ...\n",
      " $ height: num [1:20000] 5 7 8 6 1 8 4 2 4 9 ...\n",
      " $ onpix : num [1:20000] 1 2 6 3 1 3 4 1 2 7 ...\n",
      " $ xbar  : num [1:20000] 8 10 10 5 8 8 8 8 10 13 ...\n",
      " $ ybar  : num [1:20000] 13 5 6 9 6 8 7 2 6 2 ...\n",
      " $ x2bar : num [1:20000] 0 5 2 4 6 6 6 2 2 6 ...\n",
      " $ y2bar : num [1:20000] 6 4 6 6 6 9 6 2 6 2 ...\n",
      " $ xybar : num [1:20000] 6 13 10 4 6 5 7 8 12 12 ...\n",
      " $ x2ybar: num [1:20000] 10 3 3 4 5 6 6 2 4 1 ...\n",
      " $ xy2bar: num [1:20000] 8 9 7 10 9 6 6 8 8 9 ...\n",
      " $ xedge : num [1:20000] 0 2 3 6 1 0 2 1 1 8 ...\n",
      " $ xedgey: num [1:20000] 8 8 7 10 7 8 8 6 6 1 ...\n",
      " $ yedge : num [1:20000] 0 4 3 2 5 9 7 2 1 1 ...\n",
      " $ yedgex: num [1:20000] 8 10 9 8 10 7 10 7 7 8 ...\n",
      " - attr(*, \"spec\")=\n",
      "  .. cols(\n",
      "  ..   letter = \u001b[31mcol_character()\u001b[39m,\n",
      "  ..   xbox = \u001b[32mcol_double()\u001b[39m,\n",
      "  ..   ybox = \u001b[32mcol_double()\u001b[39m,\n",
      "  ..   width = \u001b[32mcol_double()\u001b[39m,\n",
      "  ..   height = \u001b[32mcol_double()\u001b[39m,\n",
      "  ..   onpix = \u001b[32mcol_double()\u001b[39m,\n",
      "  ..   xbar = \u001b[32mcol_double()\u001b[39m,\n",
      "  ..   ybar = \u001b[32mcol_double()\u001b[39m,\n",
      "  ..   x2bar = \u001b[32mcol_double()\u001b[39m,\n",
      "  ..   y2bar = \u001b[32mcol_double()\u001b[39m,\n",
      "  ..   xybar = \u001b[32mcol_double()\u001b[39m,\n",
      "  ..   x2ybar = \u001b[32mcol_double()\u001b[39m,\n",
      "  ..   xy2bar = \u001b[32mcol_double()\u001b[39m,\n",
      "  ..   xedge = \u001b[32mcol_double()\u001b[39m,\n",
      "  ..   xedgey = \u001b[32mcol_double()\u001b[39m,\n",
      "  ..   yedge = \u001b[32mcol_double()\u001b[39m,\n",
      "  ..   yedgex = \u001b[32mcol_double()\u001b[39m\n",
      "  .. )\n",
      " - attr(*, \"problems\")=<externalptr> \n"
     ]
    }
   ],
   "source": [
    "str(letras)"
   ]
  },
  {
   "cell_type": "code",
   "execution_count": 4,
   "id": "991153d0",
   "metadata": {},
   "outputs": [
    {
     "data": {
      "text/html": [
       "<style>\n",
       ".list-inline {list-style: none; margin:0; padding: 0}\n",
       ".list-inline>li {display: inline-block}\n",
       ".list-inline>li:not(:last-child)::after {content: \"\\00b7\"; padding: 0 .5ex}\n",
       "</style>\n",
       "<ol class=list-inline><li>16000</li><li>17</li></ol>\n"
      ],
      "text/latex": [
       "\\begin{enumerate*}\n",
       "\\item 16000\n",
       "\\item 17\n",
       "\\end{enumerate*}\n"
      ],
      "text/markdown": [
       "1. 16000\n",
       "2. 17\n",
       "\n",
       "\n"
      ],
      "text/plain": [
       "[1] 16000    17"
      ]
     },
     "metadata": {},
     "output_type": "display_data"
    },
    {
     "data": {
      "text/html": [
       "<style>\n",
       ".list-inline {list-style: none; margin:0; padding: 0}\n",
       ".list-inline>li {display: inline-block}\n",
       ".list-inline>li:not(:last-child)::after {content: \"\\00b7\"; padding: 0 .5ex}\n",
       "</style>\n",
       "<ol class=list-inline><li>4000</li><li>17</li></ol>\n"
      ],
      "text/latex": [
       "\\begin{enumerate*}\n",
       "\\item 4000\n",
       "\\item 17\n",
       "\\end{enumerate*}\n"
      ],
      "text/markdown": [
       "1. 4000\n",
       "2. 17\n",
       "\n",
       "\n"
      ],
      "text/plain": [
       "[1] 4000   17"
      ]
     },
     "metadata": {},
     "output_type": "display_data"
    }
   ],
   "source": [
    "# Criando dados de treino e dados de teste\n",
    "letras_treino <- letras[1:16000, ]\n",
    "letras_teste  <- letras[16001:20000, ]\n",
    "dim(letras_treino)\n",
    "dim(letras_teste)"
   ]
  },
  {
   "cell_type": "code",
   "execution_count": 5,
   "id": "9abb4739",
   "metadata": {},
   "outputs": [],
   "source": [
    "## Treinando o Modelo\n",
    "library(kernlab)"
   ]
  },
  {
   "cell_type": "code",
   "execution_count": 6,
   "id": "2d58d215",
   "metadata": {},
   "outputs": [
    {
     "name": "stdout",
     "output_type": "stream",
     "text": [
      "tibble [16,000 × 17] (S3: tbl_df/tbl/data.frame)\n",
      " $ letter: Factor w/ 26 levels \"A\",\"B\",\"C\",\"D\",..: 20 9 4 14 7 19 2 1 10 13 ...\n",
      " $ xbox  : num [1:16000] 2 5 4 7 2 4 4 1 2 11 ...\n",
      " $ ybox  : num [1:16000] 8 12 11 11 1 11 2 1 2 15 ...\n",
      " $ width : num [1:16000] 3 3 6 6 3 5 5 3 4 13 ...\n",
      " $ height: num [1:16000] 5 7 8 6 1 8 4 2 4 9 ...\n",
      " $ onpix : num [1:16000] 1 2 6 3 1 3 4 1 2 7 ...\n",
      " $ xbar  : num [1:16000] 8 10 10 5 8 8 8 8 10 13 ...\n",
      " $ ybar  : num [1:16000] 13 5 6 9 6 8 7 2 6 2 ...\n",
      " $ x2bar : num [1:16000] 0 5 2 4 6 6 6 2 2 6 ...\n",
      " $ y2bar : num [1:16000] 6 4 6 6 6 9 6 2 6 2 ...\n",
      " $ xybar : num [1:16000] 6 13 10 4 6 5 7 8 12 12 ...\n",
      " $ x2ybar: num [1:16000] 10 3 3 4 5 6 6 2 4 1 ...\n",
      " $ xy2bar: num [1:16000] 8 9 7 10 9 6 6 8 8 9 ...\n",
      " $ xedge : num [1:16000] 0 2 3 6 1 0 2 1 1 8 ...\n",
      " $ xedgey: num [1:16000] 8 8 7 10 7 8 8 6 6 1 ...\n",
      " $ yedge : num [1:16000] 0 4 3 2 5 9 7 2 1 1 ...\n",
      " $ yedgex: num [1:16000] 8 10 9 8 10 7 10 7 7 8 ...\n"
     ]
    }
   ],
   "source": [
    "# Criando o modelo com o kernel vanilladot\n",
    "# Obs: Converta a primeira variável do dataset para o tipo fator:\n",
    "letras_treino$letter <- as.factor(letras_treino$letter)\n",
    "str(letras_treino)"
   ]
  },
  {
   "cell_type": "code",
   "execution_count": 7,
   "id": "5ce7866b",
   "metadata": {},
   "outputs": [
    {
     "name": "stdout",
     "output_type": "stream",
     "text": [
      " Setting default kernel parameters  \n"
     ]
    }
   ],
   "source": [
    "classificacao_letras <- ksvm(letter ~ ., data = letras_treino, kernel = \"vanilladot\")"
   ]
  },
  {
   "cell_type": "code",
   "execution_count": 8,
   "id": "812d55b9",
   "metadata": {},
   "outputs": [
    {
     "data": {
      "text/plain": [
       "Support Vector Machine object of class \"ksvm\" \n",
       "\n",
       "SV type: C-svc  (classification) \n",
       " parameter : cost C = 1 \n",
       "\n",
       "Linear (vanilla) kernel function. \n",
       "\n",
       "Number of Support Vectors : 7037 \n",
       "\n",
       "Objective Function Value : -14.1746 -20.0072 -23.5628 -6.2009 -7.5524 -32.7694 -49.9786 -18.1824 -62.1111 -32.7284 -16.2209 -32.2837 -28.9777 -51.2195 -13.276 -35.6217 -30.8612 -16.5256 -14.6811 -32.7475 -30.3219 -7.7956 -11.8138 -32.3463 -13.1262 -9.2692 -153.1654 -52.9678 -76.7744 -119.2067 -165.4437 -54.6237 -41.9809 -67.2688 -25.1959 -27.6371 -26.4102 -35.5583 -41.2597 -122.164 -187.9178 -222.0856 -21.4765 -10.3752 -56.3684 -12.2277 -49.4899 -9.3372 -19.2092 -11.1776 -100.2186 -29.1397 -238.0516 -77.1985 -8.3339 -4.5308 -139.8534 -80.8854 -20.3642 -13.0245 -82.5151 -14.5032 -26.7509 -18.5713 -23.9511 -27.3034 -53.2731 -11.4773 -5.12 -13.9504 -4.4982 -3.5755 -8.4914 -40.9716 -49.8182 -190.0269 -43.8594 -44.8667 -45.2596 -13.5561 -17.7664 -87.4105 -107.1056 -37.0245 -30.7133 -112.3218 -32.9619 -27.2971 -35.5836 -17.8586 -5.1391 -43.4094 -7.7843 -16.6785 -58.5103 -159.9936 -49.0782 -37.8426 -32.8002 -74.5249 -133.3423 -11.1638 -5.3575 -12.438 -30.9907 -141.6924 -54.2953 -179.0114 -99.8896 -10.288 -15.1553 -3.7815 -67.6123 -7.696 -88.9304 -47.6448 -94.3718 -70.2733 -71.5057 -21.7854 -12.7657 -7.4383 -23.502 -13.1055 -239.9708 -30.4193 -25.2113 -136.2795 -140.9565 -9.8122 -34.4584 -6.3039 -60.8421 -66.5793 -27.2816 -214.3225 -34.7796 -16.7631 -135.7821 -160.6279 -45.2949 -25.1023 -144.9059 -82.2352 -327.7154 -142.0613 -158.8821 -32.2181 -32.8887 -52.9641 -25.4937 -47.9936 -6.8991 -9.7293 -36.436 -70.3907 -187.7611 -46.9371 -89.8103 -143.4213 -624.3645 -119.2204 -145.4435 -327.7748 -33.3255 -64.0607 -145.4831 -116.5903 -36.2977 -66.3762 -44.8248 -7.5088 -217.9246 -12.9699 -30.504 -2.0369 -6.126 -14.4448 -21.6337 -57.3084 -20.6915 -184.3625 -20.1052 -4.1484 -4.5344 -0.828 -121.4411 -7.9486 -58.5604 -21.4878 -13.5476 -5.646 -15.629 -28.9576 -20.5959 -76.7111 -27.0119 -94.7101 -15.1713 -10.0222 -7.6394 -1.5784 -87.6952 -6.2239 -99.3711 -101.0906 -45.6639 -24.0725 -61.7702 -24.1583 -52.2368 -234.3264 -39.9749 -48.8556 -34.1464 -20.9664 -11.4525 -123.0277 -6.4903 -5.1865 -8.8016 -9.4618 -21.7742 -24.2361 -123.3984 -31.4404 -88.3901 -30.0924 -13.8198 -9.2701 -3.0823 -87.9624 -6.3845 -13.968 -65.0702 -105.523 -13.7403 -13.7625 -50.4223 -2.933 -8.4289 -80.3381 -36.4147 -112.7485 -4.1711 -7.8989 -1.2676 -90.8037 -21.4919 -7.2235 -47.9557 -3.383 -20.433 -64.6138 -45.5781 -56.1309 -6.1345 -18.6307 -2.374 -72.2553 -111.1885 -106.7664 -23.1323 -19.3765 -54.9819 -34.2953 -64.4756 -20.4115 -6.689 -4.378 -59.141 -34.2468 -58.1509 -33.8665 -10.6902 -53.1387 -13.7478 -20.1987 -55.0923 -3.8058 -60.0382 -235.4841 -12.6837 -11.7407 -17.3058 -9.7167 -65.8498 -17.1051 -42.8131 -53.1054 -25.0437 -15.302 -44.0749 -16.9582 -62.9773 -5.204 -5.2963 -86.1704 -3.7209 -6.3445 -1.1264 -122.5771 -23.9041 -355.0145 -31.1013 -32.619 -4.9664 -84.1048 -134.5957 -72.8371 -23.9002 -35.3077 -11.7119 -22.2889 -1.8598 -59.2174 -8.8994 -150.742 -1.8533 -1.9711 -9.9676 -0.5207 -26.9229 -30.429 -5.6289 \n",
       "Training error : 0.130062 "
      ]
     },
     "metadata": {},
     "output_type": "display_data"
    }
   ],
   "source": [
    "# Visualizando resultado do modelo\n",
    "classificacao_letras"
   ]
  },
  {
   "cell_type": "code",
   "execution_count": 9,
   "id": "f917868a",
   "metadata": {},
   "outputs": [
    {
     "data": {
      "text/html": [
       "<style>\n",
       ".list-inline {list-style: none; margin:0; padding: 0}\n",
       ".list-inline>li {display: inline-block}\n",
       ".list-inline>li:not(:last-child)::after {content: \"\\00b7\"; padding: 0 .5ex}\n",
       "</style>\n",
       "<ol class=list-inline><li>U</li><li>N</li><li>V</li><li>X</li><li>N</li><li>H</li></ol>\n",
       "\n",
       "<details>\n",
       "\t<summary style=display:list-item;cursor:pointer>\n",
       "\t\t<strong>Levels</strong>:\n",
       "\t</summary>\n",
       "\t<style>\n",
       "\t.list-inline {list-style: none; margin:0; padding: 0}\n",
       "\t.list-inline>li {display: inline-block}\n",
       "\t.list-inline>li:not(:last-child)::after {content: \"\\00b7\"; padding: 0 .5ex}\n",
       "\t</style>\n",
       "\t<ol class=list-inline><li>'A'</li><li>'B'</li><li>'C'</li><li>'D'</li><li>'E'</li><li>'F'</li><li>'G'</li><li>'H'</li><li>'I'</li><li>'J'</li><li>'K'</li><li>'L'</li><li>'M'</li><li>'N'</li><li>'O'</li><li>'P'</li><li>'Q'</li><li>'R'</li><li>'S'</li><li>'T'</li><li>'U'</li><li>'V'</li><li>'W'</li><li>'X'</li><li>'Y'</li><li>'Z'</li></ol>\n",
       "</details>"
      ],
      "text/latex": [
       "\\begin{enumerate*}\n",
       "\\item U\n",
       "\\item N\n",
       "\\item V\n",
       "\\item X\n",
       "\\item N\n",
       "\\item H\n",
       "\\end{enumerate*}\n",
       "\n",
       "\\emph{Levels}: \\begin{enumerate*}\n",
       "\\item 'A'\n",
       "\\item 'B'\n",
       "\\item 'C'\n",
       "\\item 'D'\n",
       "\\item 'E'\n",
       "\\item 'F'\n",
       "\\item 'G'\n",
       "\\item 'H'\n",
       "\\item 'I'\n",
       "\\item 'J'\n",
       "\\item 'K'\n",
       "\\item 'L'\n",
       "\\item 'M'\n",
       "\\item 'N'\n",
       "\\item 'O'\n",
       "\\item 'P'\n",
       "\\item 'Q'\n",
       "\\item 'R'\n",
       "\\item 'S'\n",
       "\\item 'T'\n",
       "\\item 'U'\n",
       "\\item 'V'\n",
       "\\item 'W'\n",
       "\\item 'X'\n",
       "\\item 'Y'\n",
       "\\item 'Z'\n",
       "\\end{enumerate*}\n"
      ],
      "text/markdown": [
       "1. U\n",
       "2. N\n",
       "3. V\n",
       "4. X\n",
       "5. N\n",
       "6. H\n",
       "\n",
       "\n",
       "\n",
       "**Levels**: 1. 'A'\n",
       "2. 'B'\n",
       "3. 'C'\n",
       "4. 'D'\n",
       "5. 'E'\n",
       "6. 'F'\n",
       "7. 'G'\n",
       "8. 'H'\n",
       "9. 'I'\n",
       "10. 'J'\n",
       "11. 'K'\n",
       "12. 'L'\n",
       "13. 'M'\n",
       "14. 'N'\n",
       "15. 'O'\n",
       "16. 'P'\n",
       "17. 'Q'\n",
       "18. 'R'\n",
       "19. 'S'\n",
       "20. 'T'\n",
       "21. 'U'\n",
       "22. 'V'\n",
       "23. 'W'\n",
       "24. 'X'\n",
       "25. 'Y'\n",
       "26. 'Z'\n",
       "\n",
       "\n"
      ],
      "text/plain": [
       "[1] U N V X N H\n",
       "Levels: A B C D E F G H I J K L M N O P Q R S T U V W X Y Z"
      ]
     },
     "metadata": {},
     "output_type": "display_data"
    },
    {
     "data": {
      "text/plain": [
       "         \n",
       "predicoes   A   B   C   D   E   F   G   H   I   J   K   L   M   N   O   P   Q\n",
       "        A 144   0   0   0   0   0   0   0   0   1   0   0   1   2   2   0   5\n",
       "        B   0 121   0   5   2   0   1   2   0   0   1   0   1   0   0   2   2\n",
       "        C   0   0 120   0   4   0  10   2   2   0   1   3   0   0   2   0   0\n",
       "        D   2   2   0 156   0   1   3  10   4   3   4   3   0   5   5   3   1\n",
       "        E   0   0   5   0 127   3   1   1   0   0   3   4   0   0   0   0   2\n",
       "        F   0   0   0   0   0 138   2   2   6   0   0   0   0   0   0  16   0\n",
       "        G   1   1   2   1   9   2 123   2   0   0   1   2   1   0   1   2   8\n",
       "        H   0   0   0   1   0   1   0 102   0   2   3   2   3   4  20   0   2\n",
       "        I   0   1   0   0   0   1   0   0 141   8   0   0   0   0   0   1   0\n",
       "        J   0   1   0   0   0   1   0   2   5 128   0   0   0   0   1   1   3\n",
       "        K   1   1   9   0   0   0   2   5   0   0 118   0   0   2   0   1   0\n",
       "        L   0   0   0   0   2   0   1   1   0   0   0 133   0   0   0   0   1\n",
       "        M   0   0   1   1   0   0   1   1   0   0   0   0 135   4   0   0   0\n",
       "        N   0   0   0   0   0   1   0   1   0   0   0   0   0 145   0   0   0\n",
       "        O   1   0   2   1   0   0   1   2   0   1   0   0   0   1  99   3   3\n",
       "        P   0   0   0   1   0   2   1   0   0   0   0   0   0   0   2 130   0\n",
       "        Q   0   0   0   0   0   0   8   2   0   0   0   3   0   0   3   1 124\n",
       "        R   0   7   0   0   1   0   3   8   0   0  13   0   0   1   1   1   0\n",
       "        S   1   1   0   0   1   0   3   0   1   1   0   1   0   0   0   0  14\n",
       "        T   0   0   0   0   3   2   0   0   0   0   1   0   0   0   0   0   0\n",
       "        U   1   0   3   1   0   0   0   2   0   0   0   0   0   0   1   0   0\n",
       "        V   0   0   0   0   0   1   3   4   0   0   0   0   1   2   1   0   3\n",
       "        W   0   0   0   0   0   0   1   0   0   0   0   0   2   0   0   0   0\n",
       "        X   0   1   0   0   2   0   0   1   3   0   1   6   0   0   1   0   0\n",
       "        Y   3   0   0   0   0   0   0   1   0   0   0   0   0   0   0   7   0\n",
       "        Z   2   0   0   0   1   0   0   0   3   4   0   0   0   0   0   0   0\n",
       "         \n",
       "predicoes   R   S   T   U   V   W   X   Y   Z\n",
       "        A   0   1   1   1   0   1   0   0   1\n",
       "        B   3   5   0   0   2   0   1   0   0\n",
       "        C   0   0   0   0   0   0   0   0   0\n",
       "        D   4   0   0   0   0   0   3   3   1\n",
       "        E   0  10   0   0   0   0   2   0   3\n",
       "        F   0   3   0   0   1   0   1   2   0\n",
       "        G   2   4   3   0   0   0   1   0   0\n",
       "        H   3   0   3   0   2   0   0   1   0\n",
       "        I   0   3   0   0   0   0   5   1   1\n",
       "        J   0   2   0   0   0   0   1   0   6\n",
       "        K   7   0   1   3   0   0   5   0   0\n",
       "        L   0   5   0   0   0   0   0   0   1\n",
       "        M   0   0   0   3   0   8   0   0   0\n",
       "        N   3   0   0   1   0   2   0   0   0\n",
       "        O   0   0   0   3   0   0   0   0   0\n",
       "        P   0   0   0   0   0   0   0   1   0\n",
       "        Q   0   5   0   0   0   0   0   2   0\n",
       "        R 138   0   1   0   1   0   0   0   0\n",
       "        S   0 101   3   0   0   0   2   0  10\n",
       "        T   0   3 133   1   0   0   0   2   2\n",
       "        U   0   0   0 152   0   0   1   1   0\n",
       "        V   1   0   0   0 126   1   0   4   0\n",
       "        W   0   0   0   4   4 127   0   0   0\n",
       "        X   0   1   0   0   0   0 137   1   1\n",
       "        Y   0   0   3   0   0   0   0 127   0\n",
       "        Z   0  18   3   0   0   0   0   0 132"
      ]
     },
     "metadata": {},
     "output_type": "display_data"
    }
   ],
   "source": [
    "# Avaliando a performance do modelo\n",
    "predicoes <- predict(classificacao_letras, letras_teste)\n",
    "head(predicoes)\n",
    "table(predicoes, letras_teste$letter)"
   ]
  },
  {
   "cell_type": "code",
   "execution_count": 10,
   "id": "79f5ec60",
   "metadata": {},
   "outputs": [
    {
     "data": {
      "text/plain": [
       "agreement\n",
       "FALSE  TRUE \n",
       "  643  3357 "
      ]
     },
     "metadata": {},
     "output_type": "display_data"
    },
    {
     "data": {
      "text/plain": [
       "agreement\n",
       "  FALSE    TRUE \n",
       "0.16075 0.83925 "
      ]
     },
     "metadata": {},
     "output_type": "display_data"
    }
   ],
   "source": [
    "# Criando um vetor de TRUE/FALSE indicando previsoes corretas/incorretas\n",
    "agreement <- predicoes == letras_teste$letter\n",
    "table(agreement)\n",
    "prop.table(table(agreement))"
   ]
  },
  {
   "cell_type": "code",
   "execution_count": 11,
   "id": "d5132122",
   "metadata": {},
   "outputs": [],
   "source": [
    "## Otimizando o Modelo\n",
    "set.seed(12345)"
   ]
  },
  {
   "cell_type": "code",
   "execution_count": 12,
   "id": "3484ac5a",
   "metadata": {},
   "outputs": [],
   "source": [
    "# Recriando o modelo com outro tipo de kernel\n",
    "letra_classificacao_rbf <- ksvm(letter ~ ., data = letras_treino, kernel = \"rbfdot\")"
   ]
  },
  {
   "cell_type": "code",
   "execution_count": 13,
   "id": "4bd466fa",
   "metadata": {},
   "outputs": [],
   "source": [
    "# Novas previsoes\n",
    "letra_classificacao_rbf <- predict(letra_classificacao_rbf, letras_teste)"
   ]
  },
  {
   "cell_type": "code",
   "execution_count": 14,
   "id": "7a457f45",
   "metadata": {},
   "outputs": [
    {
     "data": {
      "text/plain": [
       "agreement_rbf\n",
       "FALSE  TRUE \n",
       "  278  3722 "
      ]
     },
     "metadata": {},
     "output_type": "display_data"
    },
    {
     "data": {
      "text/plain": [
       "agreement_rbf\n",
       " FALSE   TRUE \n",
       "0.0695 0.9305 "
      ]
     },
     "metadata": {},
     "output_type": "display_data"
    }
   ],
   "source": [
    "# Compare os resultados com a primeira versao do modelo\n",
    "agreement_rbf <- letra_classificacao_rbf == letras_teste$letter\n",
    "table(agreement_rbf)\n",
    "prop.table(table(agreement_rbf))"
   ]
  }
 ],
 "metadata": {
  "kernelspec": {
   "display_name": "R",
   "language": "R",
   "name": "ir"
  },
  "language_info": {
   "codemirror_mode": "r",
   "file_extension": ".r",
   "mimetype": "text/x-r-source",
   "name": "R",
   "pygments_lexer": "r",
   "version": "4.2.2"
  }
 },
 "nbformat": 4,
 "nbformat_minor": 5
}
