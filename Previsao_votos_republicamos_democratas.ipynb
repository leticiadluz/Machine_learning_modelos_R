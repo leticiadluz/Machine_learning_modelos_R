{
 "cells": [
  {
   "cell_type": "markdown",
   "id": "05e97452",
   "metadata": {},
   "source": [
    "### Para este script, vamos usar o mlbench (Machine Learning Benchmark Problems). Este pacote contém diversos datasets e usaremos um com os dados de votação do congresso americano \n",
    "\n",
    "## Vamos prever os votos republicanos e democratas (variável Class)"
   ]
  },
  {
   "cell_type": "code",
   "execution_count": 1,
   "id": "6bfdd753",
   "metadata": {},
   "outputs": [
    {
     "name": "stderr",
     "output_type": "stream",
     "text": [
      "Warning message:\n",
      "\"package 'mlbench' was built under R version 4.2.3\"\n"
     ]
    }
   ],
   "source": [
    "# Importação\n",
    "library(mlbench)"
   ]
  },
  {
   "cell_type": "code",
   "execution_count": 2,
   "id": "fead194c",
   "metadata": {},
   "outputs": [],
   "source": [
    "#Carregando Dataset\n",
    "data(\"HouseVotes84\")\n",
    "dados <-HouseVotes84"
   ]
  },
  {
   "cell_type": "code",
   "execution_count": 3,
   "id": "9f6468e6",
   "metadata": {},
   "outputs": [
    {
     "data": {
      "text/html": [
       "<table class=\"dataframe\">\n",
       "<caption>A data.frame: 10 × 17</caption>\n",
       "<thead>\n",
       "\t<tr><th></th><th scope=col>Class</th><th scope=col>V1</th><th scope=col>V2</th><th scope=col>V3</th><th scope=col>V4</th><th scope=col>V5</th><th scope=col>V6</th><th scope=col>V7</th><th scope=col>V8</th><th scope=col>V9</th><th scope=col>V10</th><th scope=col>V11</th><th scope=col>V12</th><th scope=col>V13</th><th scope=col>V14</th><th scope=col>V15</th><th scope=col>V16</th></tr>\n",
       "\t<tr><th></th><th scope=col>&lt;fct&gt;</th><th scope=col>&lt;fct&gt;</th><th scope=col>&lt;fct&gt;</th><th scope=col>&lt;fct&gt;</th><th scope=col>&lt;fct&gt;</th><th scope=col>&lt;fct&gt;</th><th scope=col>&lt;fct&gt;</th><th scope=col>&lt;fct&gt;</th><th scope=col>&lt;fct&gt;</th><th scope=col>&lt;fct&gt;</th><th scope=col>&lt;fct&gt;</th><th scope=col>&lt;fct&gt;</th><th scope=col>&lt;fct&gt;</th><th scope=col>&lt;fct&gt;</th><th scope=col>&lt;fct&gt;</th><th scope=col>&lt;fct&gt;</th><th scope=col>&lt;fct&gt;</th></tr>\n",
       "</thead>\n",
       "<tbody>\n",
       "\t<tr><th scope=row>1</th><td>republican</td><td>n </td><td>y</td><td>n</td><td>y </td><td>y </td><td>y</td><td>n</td><td>n</td><td>n</td><td>y</td><td>NA</td><td>y </td><td>y </td><td>y</td><td>n </td><td>y </td></tr>\n",
       "\t<tr><th scope=row>2</th><td>republican</td><td>n </td><td>y</td><td>n</td><td>y </td><td>y </td><td>y</td><td>n</td><td>n</td><td>n</td><td>n</td><td>n </td><td>y </td><td>y </td><td>y</td><td>n </td><td>NA</td></tr>\n",
       "\t<tr><th scope=row>3</th><td>democrat  </td><td>NA</td><td>y</td><td>y</td><td>NA</td><td>y </td><td>y</td><td>n</td><td>n</td><td>n</td><td>n</td><td>y </td><td>n </td><td>y </td><td>y</td><td>n </td><td>n </td></tr>\n",
       "\t<tr><th scope=row>4</th><td>democrat  </td><td>n </td><td>y</td><td>y</td><td>n </td><td>NA</td><td>y</td><td>n</td><td>n</td><td>n</td><td>n</td><td>y </td><td>n </td><td>y </td><td>n</td><td>n </td><td>y </td></tr>\n",
       "\t<tr><th scope=row>5</th><td>democrat  </td><td>y </td><td>y</td><td>y</td><td>n </td><td>y </td><td>y</td><td>n</td><td>n</td><td>n</td><td>n</td><td>y </td><td>NA</td><td>y </td><td>y</td><td>y </td><td>y </td></tr>\n",
       "\t<tr><th scope=row>6</th><td>democrat  </td><td>n </td><td>y</td><td>y</td><td>n </td><td>y </td><td>y</td><td>n</td><td>n</td><td>n</td><td>n</td><td>n </td><td>n </td><td>y </td><td>y</td><td>y </td><td>y </td></tr>\n",
       "\t<tr><th scope=row>7</th><td>democrat  </td><td>n </td><td>y</td><td>n</td><td>y </td><td>y </td><td>y</td><td>n</td><td>n</td><td>n</td><td>n</td><td>n </td><td>n </td><td>NA</td><td>y</td><td>y </td><td>y </td></tr>\n",
       "\t<tr><th scope=row>8</th><td>republican</td><td>n </td><td>y</td><td>n</td><td>y </td><td>y </td><td>y</td><td>n</td><td>n</td><td>n</td><td>n</td><td>n </td><td>n </td><td>y </td><td>y</td><td>NA</td><td>y </td></tr>\n",
       "\t<tr><th scope=row>9</th><td>republican</td><td>n </td><td>y</td><td>n</td><td>y </td><td>y </td><td>y</td><td>n</td><td>n</td><td>n</td><td>n</td><td>n </td><td>y </td><td>y </td><td>y</td><td>n </td><td>y </td></tr>\n",
       "\t<tr><th scope=row>10</th><td>democrat  </td><td>y </td><td>y</td><td>y</td><td>n </td><td>n </td><td>n</td><td>y</td><td>y</td><td>y</td><td>n</td><td>n </td><td>n </td><td>n </td><td>n</td><td>NA</td><td>NA</td></tr>\n",
       "</tbody>\n",
       "</table>\n"
      ],
      "text/latex": [
       "A data.frame: 10 × 17\n",
       "\\begin{tabular}{r|lllllllllllllllll}\n",
       "  & Class & V1 & V2 & V3 & V4 & V5 & V6 & V7 & V8 & V9 & V10 & V11 & V12 & V13 & V14 & V15 & V16\\\\\n",
       "  & <fct> & <fct> & <fct> & <fct> & <fct> & <fct> & <fct> & <fct> & <fct> & <fct> & <fct> & <fct> & <fct> & <fct> & <fct> & <fct> & <fct>\\\\\n",
       "\\hline\n",
       "\t1 & republican & n  & y & n & y  & y  & y & n & n & n & y & NA & y  & y  & y & n  & y \\\\\n",
       "\t2 & republican & n  & y & n & y  & y  & y & n & n & n & n & n  & y  & y  & y & n  & NA\\\\\n",
       "\t3 & democrat   & NA & y & y & NA & y  & y & n & n & n & n & y  & n  & y  & y & n  & n \\\\\n",
       "\t4 & democrat   & n  & y & y & n  & NA & y & n & n & n & n & y  & n  & y  & n & n  & y \\\\\n",
       "\t5 & democrat   & y  & y & y & n  & y  & y & n & n & n & n & y  & NA & y  & y & y  & y \\\\\n",
       "\t6 & democrat   & n  & y & y & n  & y  & y & n & n & n & n & n  & n  & y  & y & y  & y \\\\\n",
       "\t7 & democrat   & n  & y & n & y  & y  & y & n & n & n & n & n  & n  & NA & y & y  & y \\\\\n",
       "\t8 & republican & n  & y & n & y  & y  & y & n & n & n & n & n  & n  & y  & y & NA & y \\\\\n",
       "\t9 & republican & n  & y & n & y  & y  & y & n & n & n & n & n  & y  & y  & y & n  & y \\\\\n",
       "\t10 & democrat   & y  & y & y & n  & n  & n & y & y & y & n & n  & n  & n  & n & NA & NA\\\\\n",
       "\\end{tabular}\n"
      ],
      "text/markdown": [
       "\n",
       "A data.frame: 10 × 17\n",
       "\n",
       "| <!--/--> | Class &lt;fct&gt; | V1 &lt;fct&gt; | V2 &lt;fct&gt; | V3 &lt;fct&gt; | V4 &lt;fct&gt; | V5 &lt;fct&gt; | V6 &lt;fct&gt; | V7 &lt;fct&gt; | V8 &lt;fct&gt; | V9 &lt;fct&gt; | V10 &lt;fct&gt; | V11 &lt;fct&gt; | V12 &lt;fct&gt; | V13 &lt;fct&gt; | V14 &lt;fct&gt; | V15 &lt;fct&gt; | V16 &lt;fct&gt; |\n",
       "|---|---|---|---|---|---|---|---|---|---|---|---|---|---|---|---|---|---|\n",
       "| 1 | republican | n  | y | n | y  | y  | y | n | n | n | y | NA | y  | y  | y | n  | y  |\n",
       "| 2 | republican | n  | y | n | y  | y  | y | n | n | n | n | n  | y  | y  | y | n  | NA |\n",
       "| 3 | democrat   | NA | y | y | NA | y  | y | n | n | n | n | y  | n  | y  | y | n  | n  |\n",
       "| 4 | democrat   | n  | y | y | n  | NA | y | n | n | n | n | y  | n  | y  | n | n  | y  |\n",
       "| 5 | democrat   | y  | y | y | n  | y  | y | n | n | n | n | y  | NA | y  | y | y  | y  |\n",
       "| 6 | democrat   | n  | y | y | n  | y  | y | n | n | n | n | n  | n  | y  | y | y  | y  |\n",
       "| 7 | democrat   | n  | y | n | y  | y  | y | n | n | n | n | n  | n  | NA | y | y  | y  |\n",
       "| 8 | republican | n  | y | n | y  | y  | y | n | n | n | n | n  | n  | y  | y | NA | y  |\n",
       "| 9 | republican | n  | y | n | y  | y  | y | n | n | n | n | n  | y  | y  | y | n  | y  |\n",
       "| 10 | democrat   | y  | y | y | n  | n  | n | y | y | y | n | n  | n  | n  | n | NA | NA |\n",
       "\n"
      ],
      "text/plain": [
       "   Class      V1 V2 V3 V4 V5 V6 V7 V8 V9 V10 V11 V12 V13 V14 V15 V16\n",
       "1  republican n  y  n  y  y  y  n  n  n  y   NA  y   y   y   n   y  \n",
       "2  republican n  y  n  y  y  y  n  n  n  n   n   y   y   y   n   NA \n",
       "3  democrat   NA y  y  NA y  y  n  n  n  n   y   n   y   y   n   n  \n",
       "4  democrat   n  y  y  n  NA y  n  n  n  n   y   n   y   n   n   y  \n",
       "5  democrat   y  y  y  n  y  y  n  n  n  n   y   NA  y   y   y   y  \n",
       "6  democrat   n  y  y  n  y  y  n  n  n  n   n   n   y   y   y   y  \n",
       "7  democrat   n  y  n  y  y  y  n  n  n  n   n   n   NA  y   y   y  \n",
       "8  republican n  y  n  y  y  y  n  n  n  n   n   n   y   y   NA  y  \n",
       "9  republican n  y  n  y  y  y  n  n  n  n   n   y   y   y   n   y  \n",
       "10 democrat   y  y  y  n  n  n  y  y  y  n   n   n   n   n   NA  NA "
      ]
     },
     "metadata": {},
     "output_type": "display_data"
    },
    {
     "data": {
      "text/html": [
       "<style>\n",
       ".list-inline {list-style: none; margin:0; padding: 0}\n",
       ".list-inline>li {display: inline-block}\n",
       ".list-inline>li:not(:last-child)::after {content: \"\\00b7\"; padding: 0 .5ex}\n",
       "</style>\n",
       "<ol class=list-inline><li>435</li><li>17</li></ol>\n"
      ],
      "text/latex": [
       "\\begin{enumerate*}\n",
       "\\item 435\n",
       "\\item 17\n",
       "\\end{enumerate*}\n"
      ],
      "text/markdown": [
       "1. 435\n",
       "2. 17\n",
       "\n",
       "\n"
      ],
      "text/plain": [
       "[1] 435  17"
      ]
     },
     "metadata": {},
     "output_type": "display_data"
    }
   ],
   "source": [
    "head(dados,10)\n",
    "dim(dados)"
   ]
  },
  {
   "cell_type": "markdown",
   "id": "5e810402",
   "metadata": {},
   "source": [
    "### Sobre as variáveis:\n",
    "Cada linha no conjunto de dados representa o registro de um membro do congresso e suas posições em relação a votações específicas. Por exemplo, na primeira linha, o membro é um republicano que votou \"não\" na primeira questão, \"sim\" na segunda, \"não\" na terceira, e assim por diante.\n",
    "\n",
    "- Classe: Nome: 2 (democrata, republicano)\n",
    "- Bebês com Deficiência: 2 (sim, não)\n",
    "- Compartilhamento de Custos do Projeto de Água: 2 (sim, não)\n",
    "- Adoção da Resolução Orçamentária: 2 (sim, não)\n",
    "- Congelamento de Taxas Médicas: 2 (sim, não)\n",
    "- Ajuda a El Salvador: 2 (sim, não)\n",
    "- Grupos Religiosos nas Escolas: 2 (sim, não)\n",
    "- Proibição de Testes Anti-Satélite: 2 (sim, não)\n",
    "- Ajuda aos Contras Nicaraguenses: 2 (sim, não)\n",
    "- Míssil MX: 2 (sim, não)\n",
    "- Imigração: 2 (sim, não)\n",
    "- Redução na Corporação de Combustíveis Sintéticos: 2 (sim, não)\n",
    "- Gastos com Educação: 2 (sim, não)\n",
    "- Direito de Processar o Superfundo: 2 (sim, não)\n",
    "- Crime: 2 (sim, não)\n",
    "- Exportações Livres de Impostos: 2 (sim, não)\n",
    "- Lei de Administração de Exportações para a África do Sul: 2 (sim, não)\""
   ]
  },
  {
   "cell_type": "code",
   "execution_count": 4,
   "id": "961868d7",
   "metadata": {},
   "outputs": [
    {
     "data": {
      "text/html": [
       "<table class=\"dataframe\">\n",
       "<caption>A data.frame: 17 × 1</caption>\n",
       "<thead>\n",
       "\t<tr><th></th><th scope=col>colSums.is.na.dados..</th></tr>\n",
       "\t<tr><th></th><th scope=col>&lt;dbl&gt;</th></tr>\n",
       "</thead>\n",
       "<tbody>\n",
       "\t<tr><th scope=row>Class</th><td>  0</td></tr>\n",
       "\t<tr><th scope=row>V1</th><td> 12</td></tr>\n",
       "\t<tr><th scope=row>V2</th><td> 48</td></tr>\n",
       "\t<tr><th scope=row>V3</th><td> 11</td></tr>\n",
       "\t<tr><th scope=row>V4</th><td> 11</td></tr>\n",
       "\t<tr><th scope=row>V5</th><td> 15</td></tr>\n",
       "\t<tr><th scope=row>V6</th><td> 11</td></tr>\n",
       "\t<tr><th scope=row>V7</th><td> 14</td></tr>\n",
       "\t<tr><th scope=row>V8</th><td> 15</td></tr>\n",
       "\t<tr><th scope=row>V9</th><td> 22</td></tr>\n",
       "\t<tr><th scope=row>V10</th><td>  7</td></tr>\n",
       "\t<tr><th scope=row>V11</th><td> 21</td></tr>\n",
       "\t<tr><th scope=row>V12</th><td> 31</td></tr>\n",
       "\t<tr><th scope=row>V13</th><td> 25</td></tr>\n",
       "\t<tr><th scope=row>V14</th><td> 17</td></tr>\n",
       "\t<tr><th scope=row>V15</th><td> 28</td></tr>\n",
       "\t<tr><th scope=row>V16</th><td>104</td></tr>\n",
       "</tbody>\n",
       "</table>\n"
      ],
      "text/latex": [
       "A data.frame: 17 × 1\n",
       "\\begin{tabular}{r|l}\n",
       "  & colSums.is.na.dados..\\\\\n",
       "  & <dbl>\\\\\n",
       "\\hline\n",
       "\tClass &   0\\\\\n",
       "\tV1 &  12\\\\\n",
       "\tV2 &  48\\\\\n",
       "\tV3 &  11\\\\\n",
       "\tV4 &  11\\\\\n",
       "\tV5 &  15\\\\\n",
       "\tV6 &  11\\\\\n",
       "\tV7 &  14\\\\\n",
       "\tV8 &  15\\\\\n",
       "\tV9 &  22\\\\\n",
       "\tV10 &   7\\\\\n",
       "\tV11 &  21\\\\\n",
       "\tV12 &  31\\\\\n",
       "\tV13 &  25\\\\\n",
       "\tV14 &  17\\\\\n",
       "\tV15 &  28\\\\\n",
       "\tV16 & 104\\\\\n",
       "\\end{tabular}\n"
      ],
      "text/markdown": [
       "\n",
       "A data.frame: 17 × 1\n",
       "\n",
       "| <!--/--> | colSums.is.na.dados.. &lt;dbl&gt; |\n",
       "|---|---|\n",
       "| Class |   0 |\n",
       "| V1 |  12 |\n",
       "| V2 |  48 |\n",
       "| V3 |  11 |\n",
       "| V4 |  11 |\n",
       "| V5 |  15 |\n",
       "| V6 |  11 |\n",
       "| V7 |  14 |\n",
       "| V8 |  15 |\n",
       "| V9 |  22 |\n",
       "| V10 |   7 |\n",
       "| V11 |  21 |\n",
       "| V12 |  31 |\n",
       "| V13 |  25 |\n",
       "| V14 |  17 |\n",
       "| V15 |  28 |\n",
       "| V16 | 104 |\n",
       "\n"
      ],
      "text/plain": [
       "      colSums.is.na.dados..\n",
       "Class   0                  \n",
       "V1     12                  \n",
       "V2     48                  \n",
       "V3     11                  \n",
       "V4     11                  \n",
       "V5     15                  \n",
       "V6     11                  \n",
       "V7     14                  \n",
       "V8     15                  \n",
       "V9     22                  \n",
       "V10     7                  \n",
       "V11    21                  \n",
       "V12    31                  \n",
       "V13    25                  \n",
       "V14    17                  \n",
       "V15    28                  \n",
       "V16   104                  "
      ]
     },
     "metadata": {},
     "output_type": "display_data"
    }
   ],
   "source": [
    "data.frame(colSums(is.na(dados)))"
   ]
  },
  {
   "cell_type": "code",
   "execution_count": 5,
   "id": "bbac8ea4",
   "metadata": {},
   "outputs": [
    {
     "name": "stdout",
     "output_type": "stream",
     "text": [
      "'data.frame':\t435 obs. of  17 variables:\n",
      " $ Class: Factor w/ 2 levels \"democrat\",\"republican\": 2 2 1 1 1 1 1 2 2 1 ...\n",
      " $ V1   : Factor w/ 2 levels \"n\",\"y\": 1 1 NA 1 2 1 1 1 1 2 ...\n",
      " $ V2   : Factor w/ 2 levels \"n\",\"y\": 2 2 2 2 2 2 2 2 2 2 ...\n",
      " $ V3   : Factor w/ 2 levels \"n\",\"y\": 1 1 2 2 2 2 1 1 1 2 ...\n",
      " $ V4   : Factor w/ 2 levels \"n\",\"y\": 2 2 NA 1 1 1 2 2 2 1 ...\n",
      " $ V5   : Factor w/ 2 levels \"n\",\"y\": 2 2 2 NA 2 2 2 2 2 1 ...\n",
      " $ V6   : Factor w/ 2 levels \"n\",\"y\": 2 2 2 2 2 2 2 2 2 1 ...\n",
      " $ V7   : Factor w/ 2 levels \"n\",\"y\": 1 1 1 1 1 1 1 1 1 2 ...\n",
      " $ V8   : Factor w/ 2 levels \"n\",\"y\": 1 1 1 1 1 1 1 1 1 2 ...\n",
      " $ V9   : Factor w/ 2 levels \"n\",\"y\": 1 1 1 1 1 1 1 1 1 2 ...\n",
      " $ V10  : Factor w/ 2 levels \"n\",\"y\": 2 1 1 1 1 1 1 1 1 1 ...\n",
      " $ V11  : Factor w/ 2 levels \"n\",\"y\": NA 1 2 2 2 1 1 1 1 1 ...\n",
      " $ V12  : Factor w/ 2 levels \"n\",\"y\": 2 2 1 1 NA 1 1 1 2 1 ...\n",
      " $ V13  : Factor w/ 2 levels \"n\",\"y\": 2 2 2 2 2 2 NA 2 2 1 ...\n",
      " $ V14  : Factor w/ 2 levels \"n\",\"y\": 2 2 2 1 2 2 2 2 2 1 ...\n",
      " $ V15  : Factor w/ 2 levels \"n\",\"y\": 1 1 1 1 2 2 2 NA 1 NA ...\n",
      " $ V16  : Factor w/ 2 levels \"n\",\"y\": 2 NA 1 2 2 2 2 2 2 NA ...\n"
     ]
    }
   ],
   "source": [
    "str(dados)"
   ]
  },
  {
   "cell_type": "code",
   "execution_count": 6,
   "id": "6e93489b",
   "metadata": {},
   "outputs": [
    {
     "data": {
      "text/html": [
       "<table class=\"dataframe\">\n",
       "<caption>A data.frame: 6 × 17</caption>\n",
       "<thead>\n",
       "\t<tr><th></th><th scope=col>Class</th><th scope=col>V1</th><th scope=col>V2</th><th scope=col>V3</th><th scope=col>V4</th><th scope=col>V5</th><th scope=col>V6</th><th scope=col>V7</th><th scope=col>V8</th><th scope=col>V9</th><th scope=col>V10</th><th scope=col>V11</th><th scope=col>V12</th><th scope=col>V13</th><th scope=col>V14</th><th scope=col>V15</th><th scope=col>V16</th></tr>\n",
       "\t<tr><th></th><th scope=col>&lt;fct&gt;</th><th scope=col>&lt;fct&gt;</th><th scope=col>&lt;fct&gt;</th><th scope=col>&lt;fct&gt;</th><th scope=col>&lt;fct&gt;</th><th scope=col>&lt;fct&gt;</th><th scope=col>&lt;fct&gt;</th><th scope=col>&lt;fct&gt;</th><th scope=col>&lt;fct&gt;</th><th scope=col>&lt;fct&gt;</th><th scope=col>&lt;fct&gt;</th><th scope=col>&lt;fct&gt;</th><th scope=col>&lt;fct&gt;</th><th scope=col>&lt;fct&gt;</th><th scope=col>&lt;fct&gt;</th><th scope=col>&lt;fct&gt;</th><th scope=col>&lt;fct&gt;</th></tr>\n",
       "</thead>\n",
       "<tbody>\n",
       "\t<tr><th scope=row>1</th><td>republican</td><td>n </td><td>y</td><td>n</td><td>y </td><td>y </td><td>y</td><td>n</td><td>n</td><td>n</td><td>y</td><td>NA</td><td>y </td><td>y</td><td>y</td><td>n</td><td>y </td></tr>\n",
       "\t<tr><th scope=row>2</th><td>republican</td><td>n </td><td>y</td><td>n</td><td>y </td><td>y </td><td>y</td><td>n</td><td>n</td><td>n</td><td>n</td><td>n </td><td>y </td><td>y</td><td>y</td><td>n</td><td>NA</td></tr>\n",
       "\t<tr><th scope=row>3</th><td>democrat  </td><td>NA</td><td>y</td><td>y</td><td>NA</td><td>y </td><td>y</td><td>n</td><td>n</td><td>n</td><td>n</td><td>y </td><td>n </td><td>y</td><td>y</td><td>n</td><td>n </td></tr>\n",
       "\t<tr><th scope=row>4</th><td>democrat  </td><td>n </td><td>y</td><td>y</td><td>n </td><td>NA</td><td>y</td><td>n</td><td>n</td><td>n</td><td>n</td><td>y </td><td>n </td><td>y</td><td>n</td><td>n</td><td>y </td></tr>\n",
       "\t<tr><th scope=row>5</th><td>democrat  </td><td>y </td><td>y</td><td>y</td><td>n </td><td>y </td><td>y</td><td>n</td><td>n</td><td>n</td><td>n</td><td>y </td><td>NA</td><td>y</td><td>y</td><td>y</td><td>y </td></tr>\n",
       "\t<tr><th scope=row>6</th><td>democrat  </td><td>n </td><td>y</td><td>y</td><td>n </td><td>y </td><td>y</td><td>n</td><td>n</td><td>n</td><td>n</td><td>n </td><td>n </td><td>y</td><td>y</td><td>y</td><td>y </td></tr>\n",
       "</tbody>\n",
       "</table>\n"
      ],
      "text/latex": [
       "A data.frame: 6 × 17\n",
       "\\begin{tabular}{r|lllllllllllllllll}\n",
       "  & Class & V1 & V2 & V3 & V4 & V5 & V6 & V7 & V8 & V9 & V10 & V11 & V12 & V13 & V14 & V15 & V16\\\\\n",
       "  & <fct> & <fct> & <fct> & <fct> & <fct> & <fct> & <fct> & <fct> & <fct> & <fct> & <fct> & <fct> & <fct> & <fct> & <fct> & <fct> & <fct>\\\\\n",
       "\\hline\n",
       "\t1 & republican & n  & y & n & y  & y  & y & n & n & n & y & NA & y  & y & y & n & y \\\\\n",
       "\t2 & republican & n  & y & n & y  & y  & y & n & n & n & n & n  & y  & y & y & n & NA\\\\\n",
       "\t3 & democrat   & NA & y & y & NA & y  & y & n & n & n & n & y  & n  & y & y & n & n \\\\\n",
       "\t4 & democrat   & n  & y & y & n  & NA & y & n & n & n & n & y  & n  & y & n & n & y \\\\\n",
       "\t5 & democrat   & y  & y & y & n  & y  & y & n & n & n & n & y  & NA & y & y & y & y \\\\\n",
       "\t6 & democrat   & n  & y & y & n  & y  & y & n & n & n & n & n  & n  & y & y & y & y \\\\\n",
       "\\end{tabular}\n"
      ],
      "text/markdown": [
       "\n",
       "A data.frame: 6 × 17\n",
       "\n",
       "| <!--/--> | Class &lt;fct&gt; | V1 &lt;fct&gt; | V2 &lt;fct&gt; | V3 &lt;fct&gt; | V4 &lt;fct&gt; | V5 &lt;fct&gt; | V6 &lt;fct&gt; | V7 &lt;fct&gt; | V8 &lt;fct&gt; | V9 &lt;fct&gt; | V10 &lt;fct&gt; | V11 &lt;fct&gt; | V12 &lt;fct&gt; | V13 &lt;fct&gt; | V14 &lt;fct&gt; | V15 &lt;fct&gt; | V16 &lt;fct&gt; |\n",
       "|---|---|---|---|---|---|---|---|---|---|---|---|---|---|---|---|---|---|\n",
       "| 1 | republican | n  | y | n | y  | y  | y | n | n | n | y | NA | y  | y | y | n | y  |\n",
       "| 2 | republican | n  | y | n | y  | y  | y | n | n | n | n | n  | y  | y | y | n | NA |\n",
       "| 3 | democrat   | NA | y | y | NA | y  | y | n | n | n | n | y  | n  | y | y | n | n  |\n",
       "| 4 | democrat   | n  | y | y | n  | NA | y | n | n | n | n | y  | n  | y | n | n | y  |\n",
       "| 5 | democrat   | y  | y | y | n  | y  | y | n | n | n | n | y  | NA | y | y | y | y  |\n",
       "| 6 | democrat   | n  | y | y | n  | y  | y | n | n | n | n | n  | n  | y | y | y | y  |\n",
       "\n"
      ],
      "text/plain": [
       "  Class      V1 V2 V3 V4 V5 V6 V7 V8 V9 V10 V11 V12 V13 V14 V15 V16\n",
       "1 republican n  y  n  y  y  y  n  n  n  y   NA  y   y   y   n   y  \n",
       "2 republican n  y  n  y  y  y  n  n  n  n   n   y   y   y   n   NA \n",
       "3 democrat   NA y  y  NA y  y  n  n  n  n   y   n   y   y   n   n  \n",
       "4 democrat   n  y  y  n  NA y  n  n  n  n   y   n   y   n   n   y  \n",
       "5 democrat   y  y  y  n  y  y  n  n  n  n   y   NA  y   y   y   y  \n",
       "6 democrat   n  y  y  n  y  y  n  n  n  n   n   n   y   y   y   y  "
      ]
     },
     "metadata": {},
     "output_type": "display_data"
    }
   ],
   "source": [
    "#Fazendo uma copia para realizar alterações\n",
    "dados1 <- dados\n",
    "head(dados1)"
   ]
  },
  {
   "cell_type": "code",
   "execution_count": 7,
   "id": "7561a43d",
   "metadata": {},
   "outputs": [],
   "source": [
    "#Convertendo as colunas para facilitar calculos\n",
    "dados1[, 1:17] <- lapply(dados1[, 1:17], as.character)"
   ]
  },
  {
   "cell_type": "code",
   "execution_count": 8,
   "id": "0357db4a",
   "metadata": {},
   "outputs": [],
   "source": [
    "#Substituindo NA por 'NA caracter' \n",
    "dados1 <- replace(dados1, is.na(dados1), 'NA')"
   ]
  },
  {
   "cell_type": "code",
   "execution_count": 9,
   "id": "b1e7332b",
   "metadata": {},
   "outputs": [
    {
     "data": {
      "text/html": [
       "0"
      ],
      "text/latex": [
       "0"
      ],
      "text/markdown": [
       "0"
      ],
      "text/plain": [
       "[1] 0"
      ]
     },
     "metadata": {},
     "output_type": "display_data"
    }
   ],
   "source": [
    "#Somando valores ausentes\n",
    "sum(is.na(dados1))"
   ]
  },
  {
   "cell_type": "code",
   "execution_count": 10,
   "id": "39a3f0ca",
   "metadata": {},
   "outputs": [
    {
     "data": {
      "text/html": [
       "<table class=\"dataframe\">\n",
       "<caption>A data.frame: 6 × 17</caption>\n",
       "<thead>\n",
       "\t<tr><th></th><th scope=col>Class</th><th scope=col>V1</th><th scope=col>V2</th><th scope=col>V3</th><th scope=col>V4</th><th scope=col>V5</th><th scope=col>V6</th><th scope=col>V7</th><th scope=col>V8</th><th scope=col>V9</th><th scope=col>V10</th><th scope=col>V11</th><th scope=col>V12</th><th scope=col>V13</th><th scope=col>V14</th><th scope=col>V15</th><th scope=col>V16</th></tr>\n",
       "\t<tr><th></th><th scope=col>&lt;chr&gt;</th><th scope=col>&lt;chr&gt;</th><th scope=col>&lt;chr&gt;</th><th scope=col>&lt;chr&gt;</th><th scope=col>&lt;chr&gt;</th><th scope=col>&lt;chr&gt;</th><th scope=col>&lt;chr&gt;</th><th scope=col>&lt;chr&gt;</th><th scope=col>&lt;chr&gt;</th><th scope=col>&lt;chr&gt;</th><th scope=col>&lt;chr&gt;</th><th scope=col>&lt;chr&gt;</th><th scope=col>&lt;chr&gt;</th><th scope=col>&lt;chr&gt;</th><th scope=col>&lt;chr&gt;</th><th scope=col>&lt;chr&gt;</th><th scope=col>&lt;chr&gt;</th></tr>\n",
       "</thead>\n",
       "<tbody>\n",
       "\t<tr><th scope=row>1</th><td>republican</td><td>n </td><td>y</td><td>n</td><td>y </td><td>y </td><td>y</td><td>n</td><td>n</td><td>n</td><td>y</td><td>NA</td><td>y </td><td>y</td><td>y</td><td>n</td><td>y </td></tr>\n",
       "\t<tr><th scope=row>2</th><td>republican</td><td>n </td><td>y</td><td>n</td><td>y </td><td>y </td><td>y</td><td>n</td><td>n</td><td>n</td><td>n</td><td>n </td><td>y </td><td>y</td><td>y</td><td>n</td><td>NA</td></tr>\n",
       "\t<tr><th scope=row>3</th><td>democrat  </td><td>NA</td><td>y</td><td>y</td><td>NA</td><td>y </td><td>y</td><td>n</td><td>n</td><td>n</td><td>n</td><td>y </td><td>n </td><td>y</td><td>y</td><td>n</td><td>n </td></tr>\n",
       "\t<tr><th scope=row>4</th><td>democrat  </td><td>n </td><td>y</td><td>y</td><td>n </td><td>NA</td><td>y</td><td>n</td><td>n</td><td>n</td><td>n</td><td>y </td><td>n </td><td>y</td><td>n</td><td>n</td><td>y </td></tr>\n",
       "\t<tr><th scope=row>5</th><td>democrat  </td><td>y </td><td>y</td><td>y</td><td>n </td><td>y </td><td>y</td><td>n</td><td>n</td><td>n</td><td>n</td><td>y </td><td>NA</td><td>y</td><td>y</td><td>y</td><td>y </td></tr>\n",
       "\t<tr><th scope=row>6</th><td>democrat  </td><td>n </td><td>y</td><td>y</td><td>n </td><td>y </td><td>y</td><td>n</td><td>n</td><td>n</td><td>n</td><td>n </td><td>n </td><td>y</td><td>y</td><td>y</td><td>y </td></tr>\n",
       "</tbody>\n",
       "</table>\n"
      ],
      "text/latex": [
       "A data.frame: 6 × 17\n",
       "\\begin{tabular}{r|lllllllllllllllll}\n",
       "  & Class & V1 & V2 & V3 & V4 & V5 & V6 & V7 & V8 & V9 & V10 & V11 & V12 & V13 & V14 & V15 & V16\\\\\n",
       "  & <chr> & <chr> & <chr> & <chr> & <chr> & <chr> & <chr> & <chr> & <chr> & <chr> & <chr> & <chr> & <chr> & <chr> & <chr> & <chr> & <chr>\\\\\n",
       "\\hline\n",
       "\t1 & republican & n  & y & n & y  & y  & y & n & n & n & y & NA & y  & y & y & n & y \\\\\n",
       "\t2 & republican & n  & y & n & y  & y  & y & n & n & n & n & n  & y  & y & y & n & NA\\\\\n",
       "\t3 & democrat   & NA & y & y & NA & y  & y & n & n & n & n & y  & n  & y & y & n & n \\\\\n",
       "\t4 & democrat   & n  & y & y & n  & NA & y & n & n & n & n & y  & n  & y & n & n & y \\\\\n",
       "\t5 & democrat   & y  & y & y & n  & y  & y & n & n & n & n & y  & NA & y & y & y & y \\\\\n",
       "\t6 & democrat   & n  & y & y & n  & y  & y & n & n & n & n & n  & n  & y & y & y & y \\\\\n",
       "\\end{tabular}\n"
      ],
      "text/markdown": [
       "\n",
       "A data.frame: 6 × 17\n",
       "\n",
       "| <!--/--> | Class &lt;chr&gt; | V1 &lt;chr&gt; | V2 &lt;chr&gt; | V3 &lt;chr&gt; | V4 &lt;chr&gt; | V5 &lt;chr&gt; | V6 &lt;chr&gt; | V7 &lt;chr&gt; | V8 &lt;chr&gt; | V9 &lt;chr&gt; | V10 &lt;chr&gt; | V11 &lt;chr&gt; | V12 &lt;chr&gt; | V13 &lt;chr&gt; | V14 &lt;chr&gt; | V15 &lt;chr&gt; | V16 &lt;chr&gt; |\n",
       "|---|---|---|---|---|---|---|---|---|---|---|---|---|---|---|---|---|---|\n",
       "| 1 | republican | n  | y | n | y  | y  | y | n | n | n | y | NA | y  | y | y | n | y  |\n",
       "| 2 | republican | n  | y | n | y  | y  | y | n | n | n | n | n  | y  | y | y | n | NA |\n",
       "| 3 | democrat   | NA | y | y | NA | y  | y | n | n | n | n | y  | n  | y | y | n | n  |\n",
       "| 4 | democrat   | n  | y | y | n  | NA | y | n | n | n | n | y  | n  | y | n | n | y  |\n",
       "| 5 | democrat   | y  | y | y | n  | y  | y | n | n | n | n | y  | NA | y | y | y | y  |\n",
       "| 6 | democrat   | n  | y | y | n  | y  | y | n | n | n | n | n  | n  | y | y | y | y  |\n",
       "\n"
      ],
      "text/plain": [
       "  Class      V1 V2 V3 V4 V5 V6 V7 V8 V9 V10 V11 V12 V13 V14 V15 V16\n",
       "1 republican n  y  n  y  y  y  n  n  n  y   NA  y   y   y   n   y  \n",
       "2 republican n  y  n  y  y  y  n  n  n  n   n   y   y   y   n   NA \n",
       "3 democrat   NA y  y  NA y  y  n  n  n  n   y   n   y   y   n   n  \n",
       "4 democrat   n  y  y  n  NA y  n  n  n  n   y   n   y   n   n   y  \n",
       "5 democrat   y  y  y  n  y  y  n  n  n  n   y   NA  y   y   y   y  \n",
       "6 democrat   n  y  y  n  y  y  n  n  n  n   n   n   y   y   y   y  "
      ]
     },
     "metadata": {},
     "output_type": "display_data"
    }
   ],
   "source": [
    "head(dados1)"
   ]
  },
  {
   "cell_type": "code",
   "execution_count": 11,
   "id": "dfbb1274",
   "metadata": {},
   "outputs": [
    {
     "data": {
      "text/html": [
       "168"
      ],
      "text/latex": [
       "168"
      ],
      "text/markdown": [
       "168"
      ],
      "text/plain": [
       "[1] 168"
      ]
     },
     "metadata": {},
     "output_type": "display_data"
    }
   ],
   "source": [
    "total_republicanos <- sum(dados1$Class == 'republican')\n",
    "total_republicanos "
   ]
  },
  {
   "cell_type": "code",
   "execution_count": 12,
   "id": "73d38344",
   "metadata": {},
   "outputs": [
    {
     "data": {
      "text/html": [
       "267"
      ],
      "text/latex": [
       "267"
      ],
      "text/markdown": [
       "267"
      ],
      "text/plain": [
       "[1] 267"
      ]
     },
     "metadata": {},
     "output_type": "display_data"
    }
   ],
   "source": [
    "total_democratas <- sum(dados1$Class == 'democrat')\n",
    "total_democratas"
   ]
  },
  {
   "cell_type": "markdown",
   "id": "1b6a7bed",
   "metadata": {},
   "source": [
    "### Dado que os democratas constituem a maioria, criei  uma função para analisar as votações proporcionais dentro de cada partido com base no número total de votos."
   ]
  },
  {
   "cell_type": "code",
   "execution_count": 13,
   "id": "2edb2742",
   "metadata": {},
   "outputs": [],
   "source": [
    "porcentagem_democratas <- function(x) {\n",
    "  sim <- sum(dados1$Class == 'democrat' & x == 'y')\n",
    "  porcentagem_sim_d <- (sim / total_democratas) * 100\n",
    "  \n",
    "  nao <- sum(dados1$Class == 'democrat' & x == 'n')\n",
    "  porcentagem_nao_d <- (nao / total_democratas) * 100\n",
    "  \n",
    "  Na <- sum(dados1$Class == 'democrat' & x == 'NA')\n",
    "  porcentagem_NA_d <- (Na / total_democratas) * 100\n",
    "    \n",
    "     # Armazenar em variáveis globais\n",
    "  assign('porcentagem_sim_Dem', porcentagem_sim_d, envir = .GlobalEnv)\n",
    "  assign('porcentagem_nao_Dem', porcentagem_nao_d, envir = .GlobalEnv)\n",
    "  assign('porcentagem_NA_Dem', porcentagem_NA_d, envir = .GlobalEnv)\n",
    "  \n",
    "  return(list(porcentagem_sim_Dem = porcentagem_sim_d, porcentagem_nao_Dem = porcentagem_nao_d, \n",
    "              porcentagem_NA_Dem = porcentagem_NA_d))\n",
    "}"
   ]
  },
  {
   "cell_type": "code",
   "execution_count": 14,
   "id": "e4cc4c60",
   "metadata": {},
   "outputs": [
    {
     "data": {
      "text/html": [
       "<dl>\n",
       "\t<dt>$porcentagem_sim_Dem</dt>\n",
       "\t\t<dd>58.4269662921348</dd>\n",
       "\t<dt>$porcentagem_nao_Dem</dt>\n",
       "\t\t<dd>38.2022471910112</dd>\n",
       "\t<dt>$porcentagem_NA_Dem</dt>\n",
       "\t\t<dd>3.37078651685393</dd>\n",
       "</dl>\n"
      ],
      "text/latex": [
       "\\begin{description}\n",
       "\\item[\\$porcentagem\\_sim\\_Dem] 58.4269662921348\n",
       "\\item[\\$porcentagem\\_nao\\_Dem] 38.2022471910112\n",
       "\\item[\\$porcentagem\\_NA\\_Dem] 3.37078651685393\n",
       "\\end{description}\n"
      ],
      "text/markdown": [
       "$porcentagem_sim_Dem\n",
       ":   58.4269662921348\n",
       "$porcentagem_nao_Dem\n",
       ":   38.2022471910112\n",
       "$porcentagem_NA_Dem\n",
       ":   3.37078651685393\n",
       "\n",
       "\n"
      ],
      "text/plain": [
       "$porcentagem_sim_Dem\n",
       "[1] 58.42697\n",
       "\n",
       "$porcentagem_nao_Dem\n",
       "[1] 38.20225\n",
       "\n",
       "$porcentagem_NA_Dem\n",
       "[1] 3.370787\n"
      ]
     },
     "metadata": {},
     "output_type": "display_data"
    }
   ],
   "source": [
    "porcentagem_democratas(dados1$V1)"
   ]
  },
  {
   "cell_type": "code",
   "execution_count": 15,
   "id": "8c8aaa94",
   "metadata": {},
   "outputs": [],
   "source": [
    "porcentagem_republicanos <- function(x) {\n",
    "  sim <- sum(dados1$Class == 'republican' & x == 'y')\n",
    "  porcentagem_sim_r <- (sim / total_republicanos) * 100\n",
    "  \n",
    "  nao <- sum(dados1$Class == 'republican' & x == 'n')\n",
    "  porcentagem_nao_r <- (nao / total_republicanos) * 100\n",
    "  \n",
    "  Na <- sum(dados1$Class == 'republican' & x == 'NA')\n",
    "  porcentagem_NA_r <- (Na / total_republicanos) * 100\n",
    "    \n",
    "     # Armazenar em variáveis globais\n",
    "  assign('porcentagem_sim_Rep', porcentagem_sim_r, envir = .GlobalEnv)\n",
    "  assign('porcentagem_nao_Rep', porcentagem_nao_r, envir = .GlobalEnv)\n",
    "  assign('porcentagem_NA_Rep', porcentagem_NA_r, envir = .GlobalEnv)\n",
    "  \n",
    "  return(list(porcentagem_sim_Rep = porcentagem_sim_r, porcentagem_nao_Rep = porcentagem_nao_r, \n",
    "              porcentagem_NA_Rep = porcentagem_NA_r))\n",
    "}"
   ]
  },
  {
   "cell_type": "code",
   "execution_count": 16,
   "id": "31fe1ab8",
   "metadata": {},
   "outputs": [
    {
     "data": {
      "text/html": [
       "<dl>\n",
       "\t<dt>$porcentagem_sim_Rep</dt>\n",
       "\t\t<dd>18.452380952381</dd>\n",
       "\t<dt>$porcentagem_nao_Rep</dt>\n",
       "\t\t<dd>79.7619047619048</dd>\n",
       "\t<dt>$porcentagem_NA_Rep</dt>\n",
       "\t\t<dd>1.78571428571429</dd>\n",
       "</dl>\n"
      ],
      "text/latex": [
       "\\begin{description}\n",
       "\\item[\\$porcentagem\\_sim\\_Rep] 18.452380952381\n",
       "\\item[\\$porcentagem\\_nao\\_Rep] 79.7619047619048\n",
       "\\item[\\$porcentagem\\_NA\\_Rep] 1.78571428571429\n",
       "\\end{description}\n"
      ],
      "text/markdown": [
       "$porcentagem_sim_Rep\n",
       ":   18.452380952381\n",
       "$porcentagem_nao_Rep\n",
       ":   79.7619047619048\n",
       "$porcentagem_NA_Rep\n",
       ":   1.78571428571429\n",
       "\n",
       "\n"
      ],
      "text/plain": [
       "$porcentagem_sim_Rep\n",
       "[1] 18.45238\n",
       "\n",
       "$porcentagem_nao_Rep\n",
       "[1] 79.7619\n",
       "\n",
       "$porcentagem_NA_Rep\n",
       "[1] 1.785714\n"
      ]
     },
     "metadata": {},
     "output_type": "display_data"
    }
   ],
   "source": [
    "porcentagem_republicanos(dados1$V1)"
   ]
  },
  {
   "cell_type": "markdown",
   "id": "91d15214",
   "metadata": {},
   "source": [
    "### Agora podemos fazer os calculos para cada coluna"
   ]
  },
  {
   "cell_type": "code",
   "execution_count": 17,
   "id": "8dd5170e",
   "metadata": {},
   "outputs": [
    {
     "name": "stderr",
     "output_type": "stream",
     "text": [
      "Warning message:\n",
      "\"package 'ggplot2' was built under R version 4.2.3\"\n"
     ]
    }
   ],
   "source": [
    "# Carregue a biblioteca ggplot2\n",
    "library(ggplot2)"
   ]
  },
  {
   "cell_type": "code",
   "execution_count": 18,
   "id": "28a5c64f",
   "metadata": {},
   "outputs": [
    {
     "data": {
      "text/html": [
       "<table class=\"dataframe\">\n",
       "<caption>A data.frame: 3 × 3</caption>\n",
       "<thead>\n",
       "\t<tr><th scope=col>Categoria</th><th scope=col>Porcentagem_Democratas</th><th scope=col>Porcentagem_Republicanos</th></tr>\n",
       "\t<tr><th scope=col>&lt;chr&gt;</th><th scope=col>&lt;dbl&gt;</th><th scope=col>&lt;dbl&gt;</th></tr>\n",
       "</thead>\n",
       "<tbody>\n",
       "\t<tr><td>Sim           </td><td>58.426966</td><td>18.452381</td></tr>\n",
       "\t<tr><td>Não           </td><td>38.202247</td><td>79.761905</td></tr>\n",
       "\t<tr><td>Não Disponível</td><td> 3.370787</td><td> 1.785714</td></tr>\n",
       "</tbody>\n",
       "</table>\n"
      ],
      "text/latex": [
       "A data.frame: 3 × 3\n",
       "\\begin{tabular}{lll}\n",
       " Categoria & Porcentagem\\_Democratas & Porcentagem\\_Republicanos\\\\\n",
       " <chr> & <dbl> & <dbl>\\\\\n",
       "\\hline\n",
       "\t Sim            & 58.426966 & 18.452381\\\\\n",
       "\t Não            & 38.202247 & 79.761905\\\\\n",
       "\t Não Disponível &  3.370787 &  1.785714\\\\\n",
       "\\end{tabular}\n"
      ],
      "text/markdown": [
       "\n",
       "A data.frame: 3 × 3\n",
       "\n",
       "| Categoria &lt;chr&gt; | Porcentagem_Democratas &lt;dbl&gt; | Porcentagem_Republicanos &lt;dbl&gt; |\n",
       "|---|---|---|\n",
       "| Sim            | 58.426966 | 18.452381 |\n",
       "| Não            | 38.202247 | 79.761905 |\n",
       "| Não Disponível |  3.370787 |  1.785714 |\n",
       "\n"
      ],
      "text/plain": [
       "  Categoria      Porcentagem_Democratas Porcentagem_Republicanos\n",
       "1 Sim            58.426966              18.452381               \n",
       "2 Não            38.202247              79.761905               \n",
       "3 Não Disponível  3.370787               1.785714               "
      ]
     },
     "metadata": {},
     "output_type": "display_data"
    }
   ],
   "source": [
    "# Crie um dataframe com os dados\n",
    "dados_voto <- data.frame(\n",
    "  Categoria = c('Sim', 'Não', 'Não Disponível'),\n",
    "  Porcentagem_Democratas = c(porcentagem_sim_Dem, porcentagem_nao_Dem, porcentagem_NA_Dem),\n",
    "    Porcentagem_Republicanos = c(porcentagem_sim_Rep, porcentagem_nao_Rep, porcentagem_NA_Rep)\n",
    ")\n",
    "dados_voto"
   ]
  },
  {
   "cell_type": "code",
   "execution_count": 19,
   "id": "1289daf6",
   "metadata": {},
   "outputs": [
    {
     "name": "stderr",
     "output_type": "stream",
     "text": [
      "Warning message:\n",
      "\"package 'reshape2' was built under R version 4.2.3\"\n"
     ]
    },
    {
     "data": {
      "text/html": [
       "<table class=\"dataframe\">\n",
       "<caption>A data.frame: 6 × 3</caption>\n",
       "<thead>\n",
       "\t<tr><th scope=col>Categoria</th><th scope=col>variable</th><th scope=col>value</th></tr>\n",
       "\t<tr><th scope=col>&lt;chr&gt;</th><th scope=col>&lt;fct&gt;</th><th scope=col>&lt;dbl&gt;</th></tr>\n",
       "</thead>\n",
       "<tbody>\n",
       "\t<tr><td>Sim           </td><td>Porcentagem_Democratas  </td><td>58.426966</td></tr>\n",
       "\t<tr><td>Não           </td><td>Porcentagem_Democratas  </td><td>38.202247</td></tr>\n",
       "\t<tr><td>Não Disponível</td><td>Porcentagem_Democratas  </td><td> 3.370787</td></tr>\n",
       "\t<tr><td>Sim           </td><td>Porcentagem_Republicanos</td><td>18.452381</td></tr>\n",
       "\t<tr><td>Não           </td><td>Porcentagem_Republicanos</td><td>79.761905</td></tr>\n",
       "\t<tr><td>Não Disponível</td><td>Porcentagem_Republicanos</td><td> 1.785714</td></tr>\n",
       "</tbody>\n",
       "</table>\n"
      ],
      "text/latex": [
       "A data.frame: 6 × 3\n",
       "\\begin{tabular}{lll}\n",
       " Categoria & variable & value\\\\\n",
       " <chr> & <fct> & <dbl>\\\\\n",
       "\\hline\n",
       "\t Sim            & Porcentagem\\_Democratas   & 58.426966\\\\\n",
       "\t Não            & Porcentagem\\_Democratas   & 38.202247\\\\\n",
       "\t Não Disponível & Porcentagem\\_Democratas   &  3.370787\\\\\n",
       "\t Sim            & Porcentagem\\_Republicanos & 18.452381\\\\\n",
       "\t Não            & Porcentagem\\_Republicanos & 79.761905\\\\\n",
       "\t Não Disponível & Porcentagem\\_Republicanos &  1.785714\\\\\n",
       "\\end{tabular}\n"
      ],
      "text/markdown": [
       "\n",
       "A data.frame: 6 × 3\n",
       "\n",
       "| Categoria &lt;chr&gt; | variable &lt;fct&gt; | value &lt;dbl&gt; |\n",
       "|---|---|---|\n",
       "| Sim            | Porcentagem_Democratas   | 58.426966 |\n",
       "| Não            | Porcentagem_Democratas   | 38.202247 |\n",
       "| Não Disponível | Porcentagem_Democratas   |  3.370787 |\n",
       "| Sim            | Porcentagem_Republicanos | 18.452381 |\n",
       "| Não            | Porcentagem_Republicanos | 79.761905 |\n",
       "| Não Disponível | Porcentagem_Republicanos |  1.785714 |\n",
       "\n"
      ],
      "text/plain": [
       "  Categoria      variable                 value    \n",
       "1 Sim            Porcentagem_Democratas   58.426966\n",
       "2 Não            Porcentagem_Democratas   38.202247\n",
       "3 Não Disponível Porcentagem_Democratas    3.370787\n",
       "4 Sim            Porcentagem_Republicanos 18.452381\n",
       "5 Não            Porcentagem_Republicanos 79.761905\n",
       "6 Não Disponível Porcentagem_Republicanos  1.785714"
      ]
     },
     "metadata": {},
     "output_type": "display_data"
    }
   ],
   "source": [
    "# 'Melt' os dados para torná-los mais adequados para ggplot2\n",
    "library(reshape2)\n",
    "# O conjunto de dados está sendo transformado de um formato mais largo para um formato mais longo\n",
    "dados_voto_melted <- melt(dados_voto, id.vars = 'Categoria')\n",
    "dados_voto_melted"
   ]
  },
  {
   "cell_type": "code",
   "execution_count": 20,
   "id": "3ae56602",
   "metadata": {},
   "outputs": [],
   "source": [
    "colnames(dados_voto_melted)[2] <- 'Partido'"
   ]
  },
  {
   "cell_type": "code",
   "execution_count": 21,
   "id": "caa28d31",
   "metadata": {},
   "outputs": [
    {
     "data": {
      "text/html": [
       "<table class=\"dataframe\">\n",
       "<caption>A data.frame: 6 × 3</caption>\n",
       "<thead>\n",
       "\t<tr><th scope=col>Categoria</th><th scope=col>Partido</th><th scope=col>value</th></tr>\n",
       "\t<tr><th scope=col>&lt;chr&gt;</th><th scope=col>&lt;fct&gt;</th><th scope=col>&lt;dbl&gt;</th></tr>\n",
       "</thead>\n",
       "<tbody>\n",
       "\t<tr><td>Sim           </td><td>Porcentagem_Democratas  </td><td>58.426966</td></tr>\n",
       "\t<tr><td>Não           </td><td>Porcentagem_Democratas  </td><td>38.202247</td></tr>\n",
       "\t<tr><td>Não Disponível</td><td>Porcentagem_Democratas  </td><td> 3.370787</td></tr>\n",
       "\t<tr><td>Sim           </td><td>Porcentagem_Republicanos</td><td>18.452381</td></tr>\n",
       "\t<tr><td>Não           </td><td>Porcentagem_Republicanos</td><td>79.761905</td></tr>\n",
       "\t<tr><td>Não Disponível</td><td>Porcentagem_Republicanos</td><td> 1.785714</td></tr>\n",
       "</tbody>\n",
       "</table>\n"
      ],
      "text/latex": [
       "A data.frame: 6 × 3\n",
       "\\begin{tabular}{lll}\n",
       " Categoria & Partido & value\\\\\n",
       " <chr> & <fct> & <dbl>\\\\\n",
       "\\hline\n",
       "\t Sim            & Porcentagem\\_Democratas   & 58.426966\\\\\n",
       "\t Não            & Porcentagem\\_Democratas   & 38.202247\\\\\n",
       "\t Não Disponível & Porcentagem\\_Democratas   &  3.370787\\\\\n",
       "\t Sim            & Porcentagem\\_Republicanos & 18.452381\\\\\n",
       "\t Não            & Porcentagem\\_Republicanos & 79.761905\\\\\n",
       "\t Não Disponível & Porcentagem\\_Republicanos &  1.785714\\\\\n",
       "\\end{tabular}\n"
      ],
      "text/markdown": [
       "\n",
       "A data.frame: 6 × 3\n",
       "\n",
       "| Categoria &lt;chr&gt; | Partido &lt;fct&gt; | value &lt;dbl&gt; |\n",
       "|---|---|---|\n",
       "| Sim            | Porcentagem_Democratas   | 58.426966 |\n",
       "| Não            | Porcentagem_Democratas   | 38.202247 |\n",
       "| Não Disponível | Porcentagem_Democratas   |  3.370787 |\n",
       "| Sim            | Porcentagem_Republicanos | 18.452381 |\n",
       "| Não            | Porcentagem_Republicanos | 79.761905 |\n",
       "| Não Disponível | Porcentagem_Republicanos |  1.785714 |\n",
       "\n"
      ],
      "text/plain": [
       "  Categoria      Partido                  value    \n",
       "1 Sim            Porcentagem_Democratas   58.426966\n",
       "2 Não            Porcentagem_Democratas   38.202247\n",
       "3 Não Disponível Porcentagem_Democratas    3.370787\n",
       "4 Sim            Porcentagem_Republicanos 18.452381\n",
       "5 Não            Porcentagem_Republicanos 79.761905\n",
       "6 Não Disponível Porcentagem_Republicanos  1.785714"
      ]
     },
     "metadata": {},
     "output_type": "display_data"
    }
   ],
   "source": [
    "dados_voto_melted"
   ]
  },
  {
   "cell_type": "code",
   "execution_count": 22,
   "id": "b07cabf0",
   "metadata": {},
   "outputs": [
    {
     "data": {
      "image/png": "[encoded data removed]",
      "text/plain": [
       "plot without title"
      ]
     },
     "metadata": {
      "image/png": {
       "height": 420,
       "width": 420
      }
     },
     "output_type": "display_data"
    }
   ],
   "source": [
    "# Criar o histograma\n",
    "ggplot(dados_voto_melted, aes(x = Categoria, y = value, fill = Partido)) +\n",
    "  geom_bar(stat = 'identity', position = 'dodge') +\n",
    "  ggtitle('Distribuição de Votos:Bebês com Deficiência') +\n",
    "  xlab('Categoria') +\n",
    "  ylab('Porcentagem') +\n",
    "  theme_minimal() +\n",
    "  scale_fill_manual(values = c('Porcentagem_Democratas' = 'palegreen3', 'Porcentagem_Republicanos' = 'cadetblue4')) +\n",
    "  theme(legend.text = element_text(size = 14, color = 'black'))"
   ]
  },
  {
   "cell_type": "markdown",
   "id": "88bda5f4",
   "metadata": {},
   "source": [
    "**A opção stat = identity** significa que as alturas das barras são representadas diretamente pelos valores no conjunto de dados.   \n",
    "**A opção position = dodge** organiza as barras lado a lado para cada categoria."
   ]
  },
  {
   "cell_type": "markdown",
   "id": "5ae06a7c",
   "metadata": {},
   "source": [
    "### Histogramas com os dados brutos"
   ]
  },
  {
   "cell_type": "code",
   "execution_count": 23,
   "id": "1d310792",
   "metadata": {},
   "outputs": [
    {
     "data": {
      "text/html": [
       "<table class=\"dataframe\">\n",
       "<caption>A data.frame: 6 × 17</caption>\n",
       "<thead>\n",
       "\t<tr><th></th><th scope=col>Class</th><th scope=col>V1</th><th scope=col>V2</th><th scope=col>V3</th><th scope=col>V4</th><th scope=col>V5</th><th scope=col>V6</th><th scope=col>V7</th><th scope=col>V8</th><th scope=col>V9</th><th scope=col>V10</th><th scope=col>V11</th><th scope=col>V12</th><th scope=col>V13</th><th scope=col>V14</th><th scope=col>V15</th><th scope=col>V16</th></tr>\n",
       "\t<tr><th></th><th scope=col>&lt;chr&gt;</th><th scope=col>&lt;fct&gt;</th><th scope=col>&lt;fct&gt;</th><th scope=col>&lt;fct&gt;</th><th scope=col>&lt;fct&gt;</th><th scope=col>&lt;fct&gt;</th><th scope=col>&lt;fct&gt;</th><th scope=col>&lt;fct&gt;</th><th scope=col>&lt;fct&gt;</th><th scope=col>&lt;fct&gt;</th><th scope=col>&lt;fct&gt;</th><th scope=col>&lt;fct&gt;</th><th scope=col>&lt;fct&gt;</th><th scope=col>&lt;fct&gt;</th><th scope=col>&lt;fct&gt;</th><th scope=col>&lt;fct&gt;</th><th scope=col>&lt;fct&gt;</th></tr>\n",
       "</thead>\n",
       "<tbody>\n",
       "\t<tr><th scope=row>1</th><td>republican</td><td>n </td><td>y</td><td>n</td><td>y </td><td>y </td><td>y</td><td>n</td><td>n</td><td>n</td><td>y</td><td>NA</td><td>y </td><td>y</td><td>y</td><td>n</td><td>y </td></tr>\n",
       "\t<tr><th scope=row>2</th><td>republican</td><td>n </td><td>y</td><td>n</td><td>y </td><td>y </td><td>y</td><td>n</td><td>n</td><td>n</td><td>n</td><td>n </td><td>y </td><td>y</td><td>y</td><td>n</td><td>NA</td></tr>\n",
       "\t<tr><th scope=row>3</th><td>democrat  </td><td>NA</td><td>y</td><td>y</td><td>NA</td><td>y </td><td>y</td><td>n</td><td>n</td><td>n</td><td>n</td><td>y </td><td>n </td><td>y</td><td>y</td><td>n</td><td>n </td></tr>\n",
       "\t<tr><th scope=row>4</th><td>democrat  </td><td>n </td><td>y</td><td>y</td><td>n </td><td>NA</td><td>y</td><td>n</td><td>n</td><td>n</td><td>n</td><td>y </td><td>n </td><td>y</td><td>n</td><td>n</td><td>y </td></tr>\n",
       "\t<tr><th scope=row>5</th><td>democrat  </td><td>y </td><td>y</td><td>y</td><td>n </td><td>y </td><td>y</td><td>n</td><td>n</td><td>n</td><td>n</td><td>y </td><td>NA</td><td>y</td><td>y</td><td>y</td><td>y </td></tr>\n",
       "\t<tr><th scope=row>6</th><td>democrat  </td><td>n </td><td>y</td><td>y</td><td>n </td><td>y </td><td>y</td><td>n</td><td>n</td><td>n</td><td>n</td><td>n </td><td>n </td><td>y</td><td>y</td><td>y</td><td>y </td></tr>\n",
       "</tbody>\n",
       "</table>\n"
      ],
      "text/latex": [
       "A data.frame: 6 × 17\n",
       "\\begin{tabular}{r|lllllllllllllllll}\n",
       "  & Class & V1 & V2 & V3 & V4 & V5 & V6 & V7 & V8 & V9 & V10 & V11 & V12 & V13 & V14 & V15 & V16\\\\\n",
       "  & <chr> & <fct> & <fct> & <fct> & <fct> & <fct> & <fct> & <fct> & <fct> & <fct> & <fct> & <fct> & <fct> & <fct> & <fct> & <fct> & <fct>\\\\\n",
       "\\hline\n",
       "\t1 & republican & n  & y & n & y  & y  & y & n & n & n & y & NA & y  & y & y & n & y \\\\\n",
       "\t2 & republican & n  & y & n & y  & y  & y & n & n & n & n & n  & y  & y & y & n & NA\\\\\n",
       "\t3 & democrat   & NA & y & y & NA & y  & y & n & n & n & n & y  & n  & y & y & n & n \\\\\n",
       "\t4 & democrat   & n  & y & y & n  & NA & y & n & n & n & n & y  & n  & y & n & n & y \\\\\n",
       "\t5 & democrat   & y  & y & y & n  & y  & y & n & n & n & n & y  & NA & y & y & y & y \\\\\n",
       "\t6 & democrat   & n  & y & y & n  & y  & y & n & n & n & n & n  & n  & y & y & y & y \\\\\n",
       "\\end{tabular}\n"
      ],
      "text/markdown": [
       "\n",
       "A data.frame: 6 × 17\n",
       "\n",
       "| <!--/--> | Class &lt;chr&gt; | V1 &lt;fct&gt; | V2 &lt;fct&gt; | V3 &lt;fct&gt; | V4 &lt;fct&gt; | V5 &lt;fct&gt; | V6 &lt;fct&gt; | V7 &lt;fct&gt; | V8 &lt;fct&gt; | V9 &lt;fct&gt; | V10 &lt;fct&gt; | V11 &lt;fct&gt; | V12 &lt;fct&gt; | V13 &lt;fct&gt; | V14 &lt;fct&gt; | V15 &lt;fct&gt; | V16 &lt;fct&gt; |\n",
       "|---|---|---|---|---|---|---|---|---|---|---|---|---|---|---|---|---|---|\n",
       "| 1 | republican | n  | y | n | y  | y  | y | n | n | n | y | NA | y  | y | y | n | y  |\n",
       "| 2 | republican | n  | y | n | y  | y  | y | n | n | n | n | n  | y  | y | y | n | NA |\n",
       "| 3 | democrat   | NA | y | y | NA | y  | y | n | n | n | n | y  | n  | y | y | n | n  |\n",
       "| 4 | democrat   | n  | y | y | n  | NA | y | n | n | n | n | y  | n  | y | n | n | y  |\n",
       "| 5 | democrat   | y  | y | y | n  | y  | y | n | n | n | n | y  | NA | y | y | y | y  |\n",
       "| 6 | democrat   | n  | y | y | n  | y  | y | n | n | n | n | n  | n  | y | y | y | y  |\n",
       "\n"
      ],
      "text/plain": [
       "  Class      V1 V2 V3 V4 V5 V6 V7 V8 V9 V10 V11 V12 V13 V14 V15 V16\n",
       "1 republican n  y  n  y  y  y  n  n  n  y   NA  y   y   y   n   y  \n",
       "2 republican n  y  n  y  y  y  n  n  n  n   n   y   y   y   n   NA \n",
       "3 democrat   NA y  y  NA y  y  n  n  n  n   y   n   y   y   n   n  \n",
       "4 democrat   n  y  y  n  NA y  n  n  n  n   y   n   y   n   n   y  \n",
       "5 democrat   y  y  y  n  y  y  n  n  n  n   y   NA  y   y   y   y  \n",
       "6 democrat   n  y  y  n  y  y  n  n  n  n   n   n   y   y   y   y  "
      ]
     },
     "metadata": {},
     "output_type": "display_data"
    }
   ],
   "source": [
    "#Convertendo de volta para fator\n",
    "dados1[, 2:17] <- lapply(dados1[, 2:17], as.factor)\n",
    "head(dados1)"
   ]
  },
  {
   "cell_type": "code",
   "execution_count": 24,
   "id": "8b8c7339",
   "metadata": {},
   "outputs": [],
   "source": [
    "#Lista com as votações específicas\n",
    "lista <- list(\n",
    "\"Bebês com Deficiência\",\n",
    "  \"Compartilhamento de Custos do Projeto de Água\",\n",
    "  \"Adoção da Resolução Orçamentária\",\n",
    "  \"Congelamento de Taxas Médicas\",\n",
    "  \"Ajuda a El Salvador\",\n",
    "  \"Grupos Religiosos nas Escolas\",\n",
    "  \"Proibição de Testes Anti-Satélite\",\n",
    "  \"Ajuda aos Contras Nicaraguenses\",\n",
    "  \"Míssil MX\",\n",
    "  \"Imigração\",\n",
    "  \"Redução na Corporação de Combustíveis Sintéticos\",\n",
    "  \"Gastos com Educação\",\n",
    "  \"Direito de Processar o Superfundo\",\n",
    "  \"Crime\",\n",
    "  \"Exportações Livres de Impostos\",\n",
    "  \"Lei de Administração de Exportações para a África do Sul\"\n",
    ")"
   ]
  },
  {
   "cell_type": "code",
   "execution_count": 25,
   "id": "26420d3a",
   "metadata": {},
   "outputs": [
    {
     "data": {
      "text/html": [
       "<table class=\"dataframe\">\n",
       "<caption>A data.frame: 6 × 17</caption>\n",
       "<thead>\n",
       "\t<tr><th></th><th scope=col>Class</th><th scope=col>Bebês com Deficiência</th><th scope=col>Compartilhamento de Custos do Projeto de Água</th><th scope=col>Adoção da Resolução Orçamentária</th><th scope=col>Congelamento de Taxas Médicas</th><th scope=col>Ajuda a El Salvador</th><th scope=col>Grupos Religiosos nas Escolas</th><th scope=col>Proibição de Testes Anti-Satélite</th><th scope=col>Ajuda aos Contras Nicaraguenses</th><th scope=col>Míssil MX</th><th scope=col>Imigração</th><th scope=col>Redução na Corporação de Combustíveis Sintéticos</th><th scope=col>Gastos com Educação</th><th scope=col>Direito de Processar o Superfundo</th><th scope=col>Crime</th><th scope=col>Exportações Livres de Impostos</th><th scope=col>Lei de Administração de Exportações para a África do Sul</th></tr>\n",
       "\t<tr><th></th><th scope=col>&lt;chr&gt;</th><th scope=col>&lt;fct&gt;</th><th scope=col>&lt;fct&gt;</th><th scope=col>&lt;fct&gt;</th><th scope=col>&lt;fct&gt;</th><th scope=col>&lt;fct&gt;</th><th scope=col>&lt;fct&gt;</th><th scope=col>&lt;fct&gt;</th><th scope=col>&lt;fct&gt;</th><th scope=col>&lt;fct&gt;</th><th scope=col>&lt;fct&gt;</th><th scope=col>&lt;fct&gt;</th><th scope=col>&lt;fct&gt;</th><th scope=col>&lt;fct&gt;</th><th scope=col>&lt;fct&gt;</th><th scope=col>&lt;fct&gt;</th><th scope=col>&lt;fct&gt;</th></tr>\n",
       "</thead>\n",
       "<tbody>\n",
       "\t<tr><th scope=row>1</th><td>republican</td><td>n </td><td>y</td><td>n</td><td>y </td><td>y </td><td>y</td><td>n</td><td>n</td><td>n</td><td>y</td><td>NA</td><td>y </td><td>y</td><td>y</td><td>n</td><td>y </td></tr>\n",
       "\t<tr><th scope=row>2</th><td>republican</td><td>n </td><td>y</td><td>n</td><td>y </td><td>y </td><td>y</td><td>n</td><td>n</td><td>n</td><td>n</td><td>n </td><td>y </td><td>y</td><td>y</td><td>n</td><td>NA</td></tr>\n",
       "\t<tr><th scope=row>3</th><td>democrat  </td><td>NA</td><td>y</td><td>y</td><td>NA</td><td>y </td><td>y</td><td>n</td><td>n</td><td>n</td><td>n</td><td>y </td><td>n </td><td>y</td><td>y</td><td>n</td><td>n </td></tr>\n",
       "\t<tr><th scope=row>4</th><td>democrat  </td><td>n </td><td>y</td><td>y</td><td>n </td><td>NA</td><td>y</td><td>n</td><td>n</td><td>n</td><td>n</td><td>y </td><td>n </td><td>y</td><td>n</td><td>n</td><td>y </td></tr>\n",
       "\t<tr><th scope=row>5</th><td>democrat  </td><td>y </td><td>y</td><td>y</td><td>n </td><td>y </td><td>y</td><td>n</td><td>n</td><td>n</td><td>n</td><td>y </td><td>NA</td><td>y</td><td>y</td><td>y</td><td>y </td></tr>\n",
       "\t<tr><th scope=row>6</th><td>democrat  </td><td>n </td><td>y</td><td>y</td><td>n </td><td>y </td><td>y</td><td>n</td><td>n</td><td>n</td><td>n</td><td>n </td><td>n </td><td>y</td><td>y</td><td>y</td><td>y </td></tr>\n",
       "</tbody>\n",
       "</table>\n"
      ],
      "text/latex": [
       "A data.frame: 6 × 17\n",
       "\\begin{tabular}{r|lllllllllllllllll}\n",
       "  & Class & Bebês com Deficiência & Compartilhamento de Custos do Projeto de Água & Adoção da Resolução Orçamentária & Congelamento de Taxas Médicas & Ajuda a El Salvador & Grupos Religiosos nas Escolas & Proibição de Testes Anti-Satélite & Ajuda aos Contras Nicaraguenses & Míssil MX & Imigração & Redução na Corporação de Combustíveis Sintéticos & Gastos com Educação & Direito de Processar o Superfundo & Crime & Exportações Livres de Impostos & Lei de Administração de Exportações para a África do Sul\\\\\n",
       "  & <chr> & <fct> & <fct> & <fct> & <fct> & <fct> & <fct> & <fct> & <fct> & <fct> & <fct> & <fct> & <fct> & <fct> & <fct> & <fct> & <fct>\\\\\n",
       "\\hline\n",
       "\t1 & republican & n  & y & n & y  & y  & y & n & n & n & y & NA & y  & y & y & n & y \\\\\n",
       "\t2 & republican & n  & y & n & y  & y  & y & n & n & n & n & n  & y  & y & y & n & NA\\\\\n",
       "\t3 & democrat   & NA & y & y & NA & y  & y & n & n & n & n & y  & n  & y & y & n & n \\\\\n",
       "\t4 & democrat   & n  & y & y & n  & NA & y & n & n & n & n & y  & n  & y & n & n & y \\\\\n",
       "\t5 & democrat   & y  & y & y & n  & y  & y & n & n & n & n & y  & NA & y & y & y & y \\\\\n",
       "\t6 & democrat   & n  & y & y & n  & y  & y & n & n & n & n & n  & n  & y & y & y & y \\\\\n",
       "\\end{tabular}\n"
      ],
      "text/markdown": [
       "\n",
       "A data.frame: 6 × 17\n",
       "\n",
       "| <!--/--> | Class &lt;chr&gt; | Bebês com Deficiência &lt;fct&gt; | Compartilhamento de Custos do Projeto de Água &lt;fct&gt; | Adoção da Resolução Orçamentária &lt;fct&gt; | Congelamento de Taxas Médicas &lt;fct&gt; | Ajuda a El Salvador &lt;fct&gt; | Grupos Religiosos nas Escolas &lt;fct&gt; | Proibição de Testes Anti-Satélite &lt;fct&gt; | Ajuda aos Contras Nicaraguenses &lt;fct&gt; | Míssil MX &lt;fct&gt; | Imigração &lt;fct&gt; | Redução na Corporação de Combustíveis Sintéticos &lt;fct&gt; | Gastos com Educação &lt;fct&gt; | Direito de Processar o Superfundo &lt;fct&gt; | Crime &lt;fct&gt; | Exportações Livres de Impostos &lt;fct&gt; | Lei de Administração de Exportações para a África do Sul &lt;fct&gt; |\n",
       "|---|---|---|---|---|---|---|---|---|---|---|---|---|---|---|---|---|---|\n",
       "| 1 | republican | n  | y | n | y  | y  | y | n | n | n | y | NA | y  | y | y | n | y  |\n",
       "| 2 | republican | n  | y | n | y  | y  | y | n | n | n | n | n  | y  | y | y | n | NA |\n",
       "| 3 | democrat   | NA | y | y | NA | y  | y | n | n | n | n | y  | n  | y | y | n | n  |\n",
       "| 4 | democrat   | n  | y | y | n  | NA | y | n | n | n | n | y  | n  | y | n | n | y  |\n",
       "| 5 | democrat   | y  | y | y | n  | y  | y | n | n | n | n | y  | NA | y | y | y | y  |\n",
       "| 6 | democrat   | n  | y | y | n  | y  | y | n | n | n | n | n  | n  | y | y | y | y  |\n",
       "\n"
      ],
      "text/plain": [
       "  Class      Bebês com Deficiência\n",
       "1 republican n                    \n",
       "2 republican n                    \n",
       "3 democrat   NA                   \n",
       "4 democrat   n                    \n",
       "5 democrat   y                    \n",
       "6 democrat   n                    \n",
       "  Compartilhamento de Custos do Projeto de Água\n",
       "1 y                                            \n",
       "2 y                                            \n",
       "3 y                                            \n",
       "4 y                                            \n",
       "5 y                                            \n",
       "6 y                                            \n",
       "  Adoção da Resolução Orçamentária Congelamento de Taxas Médicas\n",
       "1 n                                y                            \n",
       "2 n                                y                            \n",
       "3 y                                NA                           \n",
       "4 y                                n                            \n",
       "5 y                                n                            \n",
       "6 y                                n                            \n",
       "  Ajuda a El Salvador Grupos Religiosos nas Escolas\n",
       "1 y                   y                            \n",
       "2 y                   y                            \n",
       "3 y                   y                            \n",
       "4 NA                  y                            \n",
       "5 y                   y                            \n",
       "6 y                   y                            \n",
       "  Proibição de Testes Anti-Satélite Ajuda aos Contras Nicaraguenses Míssil MX\n",
       "1 n                                 n                               n        \n",
       "2 n                                 n                               n        \n",
       "3 n                                 n                               n        \n",
       "4 n                                 n                               n        \n",
       "5 n                                 n                               n        \n",
       "6 n                                 n                               n        \n",
       "  Imigração Redução na Corporação de Combustíveis Sintéticos\n",
       "1 y         NA                                              \n",
       "2 n         n                                               \n",
       "3 n         y                                               \n",
       "4 n         y                                               \n",
       "5 n         y                                               \n",
       "6 n         n                                               \n",
       "  Gastos com Educação Direito de Processar o Superfundo Crime\n",
       "1 y                   y                                 y    \n",
       "2 y                   y                                 y    \n",
       "3 n                   y                                 y    \n",
       "4 n                   y                                 n    \n",
       "5 NA                  y                                 y    \n",
       "6 n                   y                                 y    \n",
       "  Exportações Livres de Impostos\n",
       "1 n                             \n",
       "2 n                             \n",
       "3 n                             \n",
       "4 n                             \n",
       "5 y                             \n",
       "6 y                             \n",
       "  Lei de Administração de Exportações para a África do Sul\n",
       "1 y                                                       \n",
       "2 NA                                                      \n",
       "3 n                                                       \n",
       "4 y                                                       \n",
       "5 y                                                       \n",
       "6 y                                                       "
      ]
     },
     "metadata": {},
     "output_type": "display_data"
    }
   ],
   "source": [
    "#Alterando o nome das colunas\n",
    "colnames(dados1)[2:17] <- lista\n",
    "head(dados1)"
   ]
  },
  {
   "cell_type": "code",
   "execution_count": 26,
   "id": "a8b9a3e0",
   "metadata": {},
   "outputs": [],
   "source": [
    "library(ggplot2)"
   ]
  },
  {
   "cell_type": "code",
   "execution_count": 27,
   "id": "5924c095",
   "metadata": {},
   "outputs": [
    {
     "data": {
      "image/png": "[encoded data removed]",
      "text/plain": [
       "plot without title"
      ]
     },
     "metadata": {
      "image/png": {
       "height": 420,
       "width": 420
      }
     },
     "output_type": "display_data"
    },
    {
     "data": {
      "image/png": "[encoded data removed]",
      "text/plain": [
       "plot without title"
      ]
     },
     "metadata": {
      "image/png": {
       "height": 420,
       "width": 420
      }
     },
     "output_type": "display_data"
    },
    {
     "data": {
      "image/png": "[encoded data removed]",
      "text/plain": [
       "plot without title"
      ]
     },
     "metadata": {
      "image/png": {
       "height": 420,
       "width": 420
      }
     },
     "output_type": "display_data"
    },
    {
     "data": {
      "image/png": "[encoded data removed]",
      "text/plain": [
       "plot without title"
      ]
     },
     "metadata": {
      "image/png": {
       "height": 420,
       "width": 420
      }
     },
     "output_type": "display_data"
    },
    {
     "data": {
      "image/png": "[encoded data removed]",
      "text/plain": [
       "plot without title"
      ]
     },
     "metadata": {
      "image/png": {
       "height": 420,
       "width": 420
      }
     },
     "output_type": "display_data"
    },
    {
     "data": {
      "image/png": "[encoded data removed]",
      "text/plain": [
       "plot without title"
      ]
     },
     "metadata": {
      "image/png": {
       "height": 420,
       "width": 420
      }
     },
     "output_type": "display_data"
    },
    {
     "data": {
      "image/png": "[encoded data removed]",
      "text/plain": [
       "plot without title"
      ]
     },
     "metadata": {
      "image/png": {
       "height": 420,
       "width": 420
      }
     },
     "output_type": "display_data"
    },
    {
     "data": {
      "image/png": "[encoded data removed]",
      "text/plain": [
       "plot without title"
      ]
     },
     "metadata": {
      "image/png": {
       "height": 420,
       "width": 420
      }
     },
     "output_type": "display_data"
    },
    {
     "data": {
      "image/png": "[encoded data removed]",
      "text/plain": [
       "plot without title"
      ]
     },
     "metadata": {
      "image/png": {
       "height": 420,
       "width": 420
      }
     },
     "output_type": "display_data"
    },
    {
     "data": {
      "image/png": "[encoded data removed]",
      "text/plain": [
       "plot without title"
      ]
     },
     "metadata": {
      "image/png": {
       "height": 420,
       "width": 420
      }
     },
     "output_type": "display_data"
    },
    {
     "data": {
      "image/png": "[encoded data removed]",
      "text/plain": [
       "plot without title"
      ]
     },
     "metadata": {
      "image/png": {
       "height": 420,
       "width": 420
      }
     },
     "output_type": "display_data"
    },
    {
     "data": {
      "image/png": "[encoded data removed]",
      "text/plain": [
       "plot without title"
      ]
     },
     "metadata": {
      "image/png": {
       "height": 420,
       "width": 420
      }
     },
     "output_type": "display_data"
    },
    {
     "data": {
      "image/png": "[encoded data removed]",
      "text/plain": [
       "plot without title"
      ]
     },
     "metadata": {
      "image/png": {
       "height": 420,
       "width": 420
      }
     },
     "output_type": "display_data"
    },
    {
     "data": {
      "image/png": "[encoded data removed]",
      "text/plain": [
       "plot without title"
      ]
     },
     "metadata": {
      "image/png": {
       "height": 420,
       "width": 420
      }
     },
     "output_type": "display_data"
    },
    {
     "data": {
      "image/png": "[encoded data removed]",
      "text/plain": [
       "plot without title"
      ]
     },
     "metadata": {
      "image/png": {
       "height": 420,
       "width": 420
      }
     },
     "output_type": "display_data"
    },
    {
     "data": {
      "image/png": "[encoded data removed]",
      "text/plain": [
       "plot without title"
      ]
     },
     "metadata": {
      "image/png": {
       "height": 420,
       "width": 420
      }
     },
     "output_type": "display_data"
    }
   ],
   "source": [
    "for (coluna in colnames(dados1)[2:17]) {\n",
    "  print(\n",
    "    ggplot(dados1, aes(x = Class, fill = dados1[[coluna]])) +  \n",
    "      geom_bar(position = 'dodge', stat = 'count') +\n",
    "      labs(title = sprintf('Histograma para %s', coluna),\n",
    "           x = 'Afiliação Partidária',\n",
    "           y = 'Contagem') +\n",
    "      scale_x_discrete(labels = c('democrat' = 'Democrata', 'republican' = 'Republicano')) +\n",
    "      scale_fill_manual(values = c('y' = 'palegreen3', 'n' = 'red3', 'NA' = 'gray19'), name = 'Voto',\n",
    "                        labels = c('y' = 'Sim', 'n' = 'Não', 'NA' = 'Não disponível')) +\n",
    "      theme_minimal() +\n",
    "      theme(axis.text.x = element_text(size = 14),\n",
    "            legend.text = element_text(size = 14))\n",
    "  )\n",
    "}"
   ]
  },
  {
   "cell_type": "markdown",
   "id": "7edcbfd7",
   "metadata": {},
   "source": [
    "**position = 'dodge':** Isso define a posição das barras. A opção 'dodge' significa que as barras de diferentes categorias (no eixo x, que é Class neste caso) serão posicionadas lado a lado, não sobrepostas. Isso é útil quando você tem mais de uma categoria e deseja comparar as contagens entre elas.\n",
    "**stat = 'count':** Isso especifica que o tipo de estatística usado para calcular a altura das barras é a contagem de observações em cada categoria. Em outras palavras, a altura das barras representará o número de vezes que cada categoria aparece nos dados."
   ]
  },
  {
   "cell_type": "code",
   "execution_count": 28,
   "id": "700ebf31",
   "metadata": {},
   "outputs": [
    {
     "data": {
      "text/html": [
       "<style>\n",
       ".list-inline {list-style: none; margin:0; padding: 0}\n",
       ".list-inline>li {display: inline-block}\n",
       ".list-inline>li:not(:last-child)::after {content: \"\\00b7\"; padding: 0 .5ex}\n",
       "</style>\n",
       "<ol class=list-inline><li>'Bebês com Deficiência'</li><li>'Compartilhamento de Custos do Projeto de Água'</li><li>'Adoção da Resolução Orçamentária'</li><li>'Congelamento de Taxas Médicas'</li><li>'Ajuda a El Salvador'</li><li>'Grupos Religiosos nas Escolas'</li><li>'Proibição de Testes Anti-Satélite'</li><li>'Ajuda aos Contras Nicaraguenses'</li><li>'Míssil MX'</li><li>'Imigração'</li><li>'Redução na Corporação de Combustíveis Sintéticos'</li><li>'Gastos com Educação'</li><li>'Direito de Processar o Superfundo'</li><li>'Crime'</li><li>'Exportações Livres de Impostos'</li><li>'Lei de Administração de Exportações para a África do Sul'</li></ol>\n"
      ],
      "text/latex": [
       "\\begin{enumerate*}\n",
       "\\item 'Bebês com Deficiência'\n",
       "\\item 'Compartilhamento de Custos do Projeto de Água'\n",
       "\\item 'Adoção da Resolução Orçamentária'\n",
       "\\item 'Congelamento de Taxas Médicas'\n",
       "\\item 'Ajuda a El Salvador'\n",
       "\\item 'Grupos Religiosos nas Escolas'\n",
       "\\item 'Proibição de Testes Anti-Satélite'\n",
       "\\item 'Ajuda aos Contras Nicaraguenses'\n",
       "\\item 'Míssil MX'\n",
       "\\item 'Imigração'\n",
       "\\item 'Redução na Corporação de Combustíveis Sintéticos'\n",
       "\\item 'Gastos com Educação'\n",
       "\\item 'Direito de Processar o Superfundo'\n",
       "\\item 'Crime'\n",
       "\\item 'Exportações Livres de Impostos'\n",
       "\\item 'Lei de Administração de Exportações para a África do Sul'\n",
       "\\end{enumerate*}\n"
      ],
      "text/markdown": [
       "1. 'Bebês com Deficiência'\n",
       "2. 'Compartilhamento de Custos do Projeto de Água'\n",
       "3. 'Adoção da Resolução Orçamentária'\n",
       "4. 'Congelamento de Taxas Médicas'\n",
       "5. 'Ajuda a El Salvador'\n",
       "6. 'Grupos Religiosos nas Escolas'\n",
       "7. 'Proibição de Testes Anti-Satélite'\n",
       "8. 'Ajuda aos Contras Nicaraguenses'\n",
       "9. 'Míssil MX'\n",
       "10. 'Imigração'\n",
       "11. 'Redução na Corporação de Combustíveis Sintéticos'\n",
       "12. 'Gastos com Educação'\n",
       "13. 'Direito de Processar o Superfundo'\n",
       "14. 'Crime'\n",
       "15. 'Exportações Livres de Impostos'\n",
       "16. 'Lei de Administração de Exportações para a África do Sul'\n",
       "\n",
       "\n"
      ],
      "text/plain": [
       " [1] \"Bebês com Deficiência\"                                   \n",
       " [2] \"Compartilhamento de Custos do Projeto de Água\"           \n",
       " [3] \"Adoção da Resolução Orçamentária\"                        \n",
       " [4] \"Congelamento de Taxas Médicas\"                           \n",
       " [5] \"Ajuda a El Salvador\"                                     \n",
       " [6] \"Grupos Religiosos nas Escolas\"                           \n",
       " [7] \"Proibição de Testes Anti-Satélite\"                       \n",
       " [8] \"Ajuda aos Contras Nicaraguenses\"                         \n",
       " [9] \"Míssil MX\"                                               \n",
       "[10] \"Imigração\"                                               \n",
       "[11] \"Redução na Corporação de Combustíveis Sintéticos\"        \n",
       "[12] \"Gastos com Educação\"                                     \n",
       "[13] \"Direito de Processar o Superfundo\"                       \n",
       "[14] \"Crime\"                                                   \n",
       "[15] \"Exportações Livres de Impostos\"                          \n",
       "[16] \"Lei de Administração de Exportações para a África do Sul\""
      ]
     },
     "metadata": {},
     "output_type": "display_data"
    }
   ],
   "source": [
    "#Cria-se um vetor com o nome das colunas\n",
    "colnames(dados1)[2:17]\n",
    "#for (coluna in ...): Isso inicia um loop for para realizar iteração por coluna"
   ]
  },
  {
   "cell_type": "code",
   "execution_count": 29,
   "id": "c9422263",
   "metadata": {},
   "outputs": [
    {
     "data": {
      "text/html": [
       "<style>\n",
       ".list-inline {list-style: none; margin:0; padding: 0}\n",
       ".list-inline>li {display: inline-block}\n",
       ".list-inline>li:not(:last-child)::after {content: \"\\00b7\"; padding: 0 .5ex}\n",
       "</style>\n",
       "<ol class=list-inline><li>n</li><li>n</li><li>NA</li><li>n</li><li>y</li><li>n</li><li>n</li><li>n</li><li>n</li><li>y</li><li>n</li><li>n</li><li>n</li><li>y</li><li>n</li><li>n</li><li>y</li><li>y</li><li>n</li><li>y</li><li>y</li><li>y</li><li>y</li><li>y</li><li>y</li><li>y</li><li>y</li><li>y</li><li>y</li><li>y</li><li>n</li><li>y</li><li>y</li><li>n</li><li>y</li><li>n</li><li>y</li><li>y</li><li>n</li><li>y</li><li>y</li><li>y</li><li>y</li><li>y</li><li>y</li><li>y</li><li>y</li><li>y</li><li>y</li><li>n</li><li>y</li><li>n</li><li>y</li><li>y</li><li>y</li><li>n</li><li>n</li><li>n</li><li>n</li><li>n</li><li>y</li><li>n</li><li>y</li><li>y</li><li>y</li><li>y</li><li>n</li><li>n</li><li>y</li><li>y</li><li>y</li><li>y</li><li>y</li><li>y</li><li>y</li><li>n</li><li>n</li><li>n</li><li>y</li><li>n</li><li>y</li><li>y</li><li>n</li><li>n</li><li>n</li><li>n</li><li>n</li><li>n</li><li>n</li><li>n</li><li>y</li><li>y</li><li>y</li><li>y</li><li>y</li><li>y</li><li>n</li><li>y</li><li>y</li><li>n</li><li>y</li><li>y</li><li>y</li><li>y</li><li>NA</li><li>y</li><li>n</li><li>n</li><li>y</li><li>y</li><li>n</li><li>n</li><li>n</li><li>n</li><li>y</li><li>n</li><li>y</li><li>y</li><li>n</li><li>n</li><li>n</li><li>n</li><li>n</li><li>y</li><li>n</li><li>n</li><li>n</li><li>n</li><li>n</li><li>NA</li><li>y</li><li>n</li><li>n</li><li>n</li><li>n</li><li>n</li><li>n</li><li>n</li><li>n</li><li>y</li><li>n</li><li>n</li><li>n</li><li>NA</li><li>n</li><li>n</li><li>n</li><li>n</li><li>n</li><li>n</li><li>y</li><li>y</li><li>n</li><li>n</li><li>n</li><li>y</li><li>y</li><li>n</li><li>n</li><li>n</li><li>n</li><li>n</li><li>n</li><li>n</li><li>y</li><li>n</li><li>y</li><li>y</li><li>n</li><li>y</li><li>y</li><li>n</li><li>n</li><li>n</li><li>y</li><li>n</li><li>n</li><li>n</li><li>NA</li><li>y</li><li>NA</li><li>n</li><li>y</li><li>NA</li><li>n</li><li>y</li><li>n</li><li>y</li><li>y</li><li>y</li><li>n</li><li>n</li><li>n</li><li>n</li><li>n</li><li>n</li><li>n</li><li>n</li><li>n</li><li>y</li><li>⋯</li><li>n</li><li>n</li><li>y</li><li>y</li><li>n</li><li>n</li><li>y</li><li>n</li><li>n</li><li>y</li><li>y</li><li>n</li><li>n</li><li>NA</li><li>y</li><li>n</li><li>n</li><li>y</li><li>n</li><li>y</li><li>y</li><li>n</li><li>n</li><li>n</li><li>y</li><li>y</li><li>y</li><li>y</li><li>y</li><li>y</li><li>y</li><li>n</li><li>y</li><li>y</li><li>y</li><li>y</li><li>n</li><li>y</li><li>n</li><li>y</li><li>n</li><li>n</li><li>n</li><li>n</li><li>n</li><li>n</li><li>y</li><li>y</li><li>n</li><li>n</li><li>n</li><li>n</li><li>y</li><li>y</li><li>y</li><li>y</li><li>y</li><li>y</li><li>y</li><li>n</li><li>n</li><li>n</li><li>y</li><li>n</li><li>n</li><li>n</li><li>n</li><li>n</li><li>n</li><li>n</li><li>n</li><li>n</li><li>y</li><li>n</li><li>y</li><li>n</li><li>n</li><li>y</li><li>n</li><li>n</li><li>n</li><li>n</li><li>y</li><li>n</li><li>y</li><li>n</li><li>y</li><li>y</li><li>y</li><li>n</li><li>n</li><li>y</li><li>n</li><li>y</li><li>y</li><li>n</li><li>y</li><li>y</li><li>n</li><li>n</li><li>n</li><li>n</li><li>y</li><li>y</li><li>y</li><li>n</li><li>n</li><li>n</li><li>n</li><li>n</li><li>n</li><li>n</li><li>y</li><li>y</li><li>n</li><li>n</li><li>n</li><li>n</li><li>n</li><li>n</li><li>y</li><li>n</li><li>n</li><li>y</li><li>n</li><li>y</li><li>y</li><li>y</li><li>y</li><li>y</li><li>n</li><li>y</li><li>y</li><li>n</li><li>n</li><li>y</li><li>y</li><li>n</li><li>n</li><li>n</li><li>n</li><li>y</li><li>n</li><li>n</li><li>n</li><li>y</li><li>y</li><li>y</li><li>y</li><li>y</li><li>y</li><li>n</li><li>y</li><li>n</li><li>y</li><li>NA</li><li>y</li><li>y</li><li>NA</li><li>y</li><li>y</li><li>y</li><li>y</li><li>n</li><li>n</li><li>n</li><li>n</li><li>NA</li><li>n</li><li>y</li><li>n</li><li>y</li><li>n</li><li>y</li><li>n</li><li>n</li><li>y</li><li>n</li><li>y</li><li>y</li><li>n</li><li>y</li><li>y</li><li>y</li><li>y</li><li>y</li><li>n</li><li>n</li><li>n</li><li>n</li><li>n</li><li>y</li><li>n</li><li>NA</li><li>y</li><li>n</li><li>n</li><li>n</li><li>n</li><li>n</li></ol>\n",
       "\n",
       "<details>\n",
       "\t<summary style=display:list-item;cursor:pointer>\n",
       "\t\t<strong>Levels</strong>:\n",
       "\t</summary>\n",
       "\t<style>\n",
       "\t.list-inline {list-style: none; margin:0; padding: 0}\n",
       "\t.list-inline>li {display: inline-block}\n",
       "\t.list-inline>li:not(:last-child)::after {content: \"\\00b7\"; padding: 0 .5ex}\n",
       "\t</style>\n",
       "\t<ol class=list-inline><li>'n'</li><li>'NA'</li><li>'y'</li></ol>\n",
       "</details>"
      ],
      "text/latex": [
       "\\begin{enumerate*}\n",
       "\\item n\n",
       "\\item n\n",
       "\\item NA\n",
       "\\item n\n",
       "\\item y\n",
       "\\item n\n",
       "\\item n\n",
       "\\item n\n",
       "\\item n\n",
       "\\item y\n",
       "\\item n\n",
       "\\item n\n",
       "\\item n\n",
       "\\item y\n",
       "\\item n\n",
       "\\item n\n",
       "\\item y\n",
       "\\item y\n",
       "\\item n\n",
       "\\item y\n",
       "\\item y\n",
       "\\item y\n",
       "\\item y\n",
       "\\item y\n",
       "\\item y\n",
       "\\item y\n",
       "\\item y\n",
       "\\item y\n",
       "\\item y\n",
       "\\item y\n",
       "\\item n\n",
       "\\item y\n",
       "\\item y\n",
       "\\item n\n",
       "\\item y\n",
       "\\item n\n",
       "\\item y\n",
       "\\item y\n",
       "\\item n\n",
       "\\item y\n",
       "\\item y\n",
       "\\item y\n",
       "\\item y\n",
       "\\item y\n",
       "\\item y\n",
       "\\item y\n",
       "\\item y\n",
       "\\item y\n",
       "\\item y\n",
       "\\item n\n",
       "\\item y\n",
       "\\item n\n",
       "\\item y\n",
       "\\item y\n",
       "\\item y\n",
       "\\item n\n",
       "\\item n\n",
       "\\item n\n",
       "\\item n\n",
       "\\item n\n",
       "\\item y\n",
       "\\item n\n",
       "\\item y\n",
       "\\item y\n",
       "\\item y\n",
       "\\item y\n",
       "\\item n\n",
       "\\item n\n",
       "\\item y\n",
       "\\item y\n",
       "\\item y\n",
       "\\item y\n",
       "\\item y\n",
       "\\item y\n",
       "\\item y\n",
       "\\item n\n",
       "\\item n\n",
       "\\item n\n",
       "\\item y\n",
       "\\item n\n",
       "\\item y\n",
       "\\item y\n",
       "\\item n\n",
       "\\item n\n",
       "\\item n\n",
       "\\item n\n",
       "\\item n\n",
       "\\item n\n",
       "\\item n\n",
       "\\item n\n",
       "\\item y\n",
       "\\item y\n",
       "\\item y\n",
       "\\item y\n",
       "\\item y\n",
       "\\item y\n",
       "\\item n\n",
       "\\item y\n",
       "\\item y\n",
       "\\item n\n",
       "\\item y\n",
       "\\item y\n",
       "\\item y\n",
       "\\item y\n",
       "\\item NA\n",
       "\\item y\n",
       "\\item n\n",
       "\\item n\n",
       "\\item y\n",
       "\\item y\n",
       "\\item n\n",
       "\\item n\n",
       "\\item n\n",
       "\\item n\n",
       "\\item y\n",
       "\\item n\n",
       "\\item y\n",
       "\\item y\n",
       "\\item n\n",
       "\\item n\n",
       "\\item n\n",
       "\\item n\n",
       "\\item n\n",
       "\\item y\n",
       "\\item n\n",
       "\\item n\n",
       "\\item n\n",
       "\\item n\n",
       "\\item n\n",
       "\\item NA\n",
       "\\item y\n",
       "\\item n\n",
       "\\item n\n",
       "\\item n\n",
       "\\item n\n",
       "\\item n\n",
       "\\item n\n",
       "\\item n\n",
       "\\item n\n",
       "\\item y\n",
       "\\item n\n",
       "\\item n\n",
       "\\item n\n",
       "\\item NA\n",
       "\\item n\n",
       "\\item n\n",
       "\\item n\n",
       "\\item n\n",
       "\\item n\n",
       "\\item n\n",
       "\\item y\n",
       "\\item y\n",
       "\\item n\n",
       "\\item n\n",
       "\\item n\n",
       "\\item y\n",
       "\\item y\n",
       "\\item n\n",
       "\\item n\n",
       "\\item n\n",
       "\\item n\n",
       "\\item n\n",
       "\\item n\n",
       "\\item n\n",
       "\\item y\n",
       "\\item n\n",
       "\\item y\n",
       "\\item y\n",
       "\\item n\n",
       "\\item y\n",
       "\\item y\n",
       "\\item n\n",
       "\\item n\n",
       "\\item n\n",
       "\\item y\n",
       "\\item n\n",
       "\\item n\n",
       "\\item n\n",
       "\\item NA\n",
       "\\item y\n",
       "\\item NA\n",
       "\\item n\n",
       "\\item y\n",
       "\\item NA\n",
       "\\item n\n",
       "\\item y\n",
       "\\item n\n",
       "\\item y\n",
       "\\item y\n",
       "\\item y\n",
       "\\item n\n",
       "\\item n\n",
       "\\item n\n",
       "\\item n\n",
       "\\item n\n",
       "\\item n\n",
       "\\item n\n",
       "\\item n\n",
       "\\item n\n",
       "\\item y\n",
       "\\item ⋯\n",
       "\\item n\n",
       "\\item n\n",
       "\\item y\n",
       "\\item y\n",
       "\\item n\n",
       "\\item n\n",
       "\\item y\n",
       "\\item n\n",
       "\\item n\n",
       "\\item y\n",
       "\\item y\n",
       "\\item n\n",
       "\\item n\n",
       "\\item NA\n",
       "\\item y\n",
       "\\item n\n",
       "\\item n\n",
       "\\item y\n",
       "\\item n\n",
       "\\item y\n",
       "\\item y\n",
       "\\item n\n",
       "\\item n\n",
       "\\item n\n",
       "\\item y\n",
       "\\item y\n",
       "\\item y\n",
       "\\item y\n",
       "\\item y\n",
       "\\item y\n",
       "\\item y\n",
       "\\item n\n",
       "\\item y\n",
       "\\item y\n",
       "\\item y\n",
       "\\item y\n",
       "\\item n\n",
       "\\item y\n",
       "\\item n\n",
       "\\item y\n",
       "\\item n\n",
       "\\item n\n",
       "\\item n\n",
       "\\item n\n",
       "\\item n\n",
       "\\item n\n",
       "\\item y\n",
       "\\item y\n",
       "\\item n\n",
       "\\item n\n",
       "\\item n\n",
       "\\item n\n",
       "\\item y\n",
       "\\item y\n",
       "\\item y\n",
       "\\item y\n",
       "\\item y\n",
       "\\item y\n",
       "\\item y\n",
       "\\item n\n",
       "\\item n\n",
       "\\item n\n",
       "\\item y\n",
       "\\item n\n",
       "\\item n\n",
       "\\item n\n",
       "\\item n\n",
       "\\item n\n",
       "\\item n\n",
       "\\item n\n",
       "\\item n\n",
       "\\item n\n",
       "\\item y\n",
       "\\item n\n",
       "\\item y\n",
       "\\item n\n",
       "\\item n\n",
       "\\item y\n",
       "\\item n\n",
       "\\item n\n",
       "\\item n\n",
       "\\item n\n",
       "\\item y\n",
       "\\item n\n",
       "\\item y\n",
       "\\item n\n",
       "\\item y\n",
       "\\item y\n",
       "\\item y\n",
       "\\item n\n",
       "\\item n\n",
       "\\item y\n",
       "\\item n\n",
       "\\item y\n",
       "\\item y\n",
       "\\item n\n",
       "\\item y\n",
       "\\item y\n",
       "\\item n\n",
       "\\item n\n",
       "\\item n\n",
       "\\item n\n",
       "\\item y\n",
       "\\item y\n",
       "\\item y\n",
       "\\item n\n",
       "\\item n\n",
       "\\item n\n",
       "\\item n\n",
       "\\item n\n",
       "\\item n\n",
       "\\item n\n",
       "\\item y\n",
       "\\item y\n",
       "\\item n\n",
       "\\item n\n",
       "\\item n\n",
       "\\item n\n",
       "\\item n\n",
       "\\item n\n",
       "\\item y\n",
       "\\item n\n",
       "\\item n\n",
       "\\item y\n",
       "\\item n\n",
       "\\item y\n",
       "\\item y\n",
       "\\item y\n",
       "\\item y\n",
       "\\item y\n",
       "\\item n\n",
       "\\item y\n",
       "\\item y\n",
       "\\item n\n",
       "\\item n\n",
       "\\item y\n",
       "\\item y\n",
       "\\item n\n",
       "\\item n\n",
       "\\item n\n",
       "\\item n\n",
       "\\item y\n",
       "\\item n\n",
       "\\item n\n",
       "\\item n\n",
       "\\item y\n",
       "\\item y\n",
       "\\item y\n",
       "\\item y\n",
       "\\item y\n",
       "\\item y\n",
       "\\item n\n",
       "\\item y\n",
       "\\item n\n",
       "\\item y\n",
       "\\item NA\n",
       "\\item y\n",
       "\\item y\n",
       "\\item NA\n",
       "\\item y\n",
       "\\item y\n",
       "\\item y\n",
       "\\item y\n",
       "\\item n\n",
       "\\item n\n",
       "\\item n\n",
       "\\item n\n",
       "\\item NA\n",
       "\\item n\n",
       "\\item y\n",
       "\\item n\n",
       "\\item y\n",
       "\\item n\n",
       "\\item y\n",
       "\\item n\n",
       "\\item n\n",
       "\\item y\n",
       "\\item n\n",
       "\\item y\n",
       "\\item y\n",
       "\\item n\n",
       "\\item y\n",
       "\\item y\n",
       "\\item y\n",
       "\\item y\n",
       "\\item y\n",
       "\\item n\n",
       "\\item n\n",
       "\\item n\n",
       "\\item n\n",
       "\\item n\n",
       "\\item y\n",
       "\\item n\n",
       "\\item NA\n",
       "\\item y\n",
       "\\item n\n",
       "\\item n\n",
       "\\item n\n",
       "\\item n\n",
       "\\item n\n",
       "\\end{enumerate*}\n",
       "\n",
       "\\emph{Levels}: \\begin{enumerate*}\n",
       "\\item 'n'\n",
       "\\item 'NA'\n",
       "\\item 'y'\n",
       "\\end{enumerate*}\n"
      ],
      "text/markdown": [
       "1. n\n",
       "2. n\n",
       "3. NA\n",
       "4. n\n",
       "5. y\n",
       "6. n\n",
       "7. n\n",
       "8. n\n",
       "9. n\n",
       "10. y\n",
       "11. n\n",
       "12. n\n",
       "13. n\n",
       "14. y\n",
       "15. n\n",
       "16. n\n",
       "17. y\n",
       "18. y\n",
       "19. n\n",
       "20. y\n",
       "21. y\n",
       "22. y\n",
       "23. y\n",
       "24. y\n",
       "25. y\n",
       "26. y\n",
       "27. y\n",
       "28. y\n",
       "29. y\n",
       "30. y\n",
       "31. n\n",
       "32. y\n",
       "33. y\n",
       "34. n\n",
       "35. y\n",
       "36. n\n",
       "37. y\n",
       "38. y\n",
       "39. n\n",
       "40. y\n",
       "41. y\n",
       "42. y\n",
       "43. y\n",
       "44. y\n",
       "45. y\n",
       "46. y\n",
       "47. y\n",
       "48. y\n",
       "49. y\n",
       "50. n\n",
       "51. y\n",
       "52. n\n",
       "53. y\n",
       "54. y\n",
       "55. y\n",
       "56. n\n",
       "57. n\n",
       "58. n\n",
       "59. n\n",
       "60. n\n",
       "61. y\n",
       "62. n\n",
       "63. y\n",
       "64. y\n",
       "65. y\n",
       "66. y\n",
       "67. n\n",
       "68. n\n",
       "69. y\n",
       "70. y\n",
       "71. y\n",
       "72. y\n",
       "73. y\n",
       "74. y\n",
       "75. y\n",
       "76. n\n",
       "77. n\n",
       "78. n\n",
       "79. y\n",
       "80. n\n",
       "81. y\n",
       "82. y\n",
       "83. n\n",
       "84. n\n",
       "85. n\n",
       "86. n\n",
       "87. n\n",
       "88. n\n",
       "89. n\n",
       "90. n\n",
       "91. y\n",
       "92. y\n",
       "93. y\n",
       "94. y\n",
       "95. y\n",
       "96. y\n",
       "97. n\n",
       "98. y\n",
       "99. y\n",
       "100. n\n",
       "101. y\n",
       "102. y\n",
       "103. y\n",
       "104. y\n",
       "105. NA\n",
       "106. y\n",
       "107. n\n",
       "108. n\n",
       "109. y\n",
       "110. y\n",
       "111. n\n",
       "112. n\n",
       "113. n\n",
       "114. n\n",
       "115. y\n",
       "116. n\n",
       "117. y\n",
       "118. y\n",
       "119. n\n",
       "120. n\n",
       "121. n\n",
       "122. n\n",
       "123. n\n",
       "124. y\n",
       "125. n\n",
       "126. n\n",
       "127. n\n",
       "128. n\n",
       "129. n\n",
       "130. NA\n",
       "131. y\n",
       "132. n\n",
       "133. n\n",
       "134. n\n",
       "135. n\n",
       "136. n\n",
       "137. n\n",
       "138. n\n",
       "139. n\n",
       "140. y\n",
       "141. n\n",
       "142. n\n",
       "143. n\n",
       "144. NA\n",
       "145. n\n",
       "146. n\n",
       "147. n\n",
       "148. n\n",
       "149. n\n",
       "150. n\n",
       "151. y\n",
       "152. y\n",
       "153. n\n",
       "154. n\n",
       "155. n\n",
       "156. y\n",
       "157. y\n",
       "158. n\n",
       "159. n\n",
       "160. n\n",
       "161. n\n",
       "162. n\n",
       "163. n\n",
       "164. n\n",
       "165. y\n",
       "166. n\n",
       "167. y\n",
       "168. y\n",
       "169. n\n",
       "170. y\n",
       "171. y\n",
       "172. n\n",
       "173. n\n",
       "174. n\n",
       "175. y\n",
       "176. n\n",
       "177. n\n",
       "178. n\n",
       "179. NA\n",
       "180. y\n",
       "181. NA\n",
       "182. n\n",
       "183. y\n",
       "184. NA\n",
       "185. n\n",
       "186. y\n",
       "187. n\n",
       "188. y\n",
       "189. y\n",
       "190. y\n",
       "191. n\n",
       "192. n\n",
       "193. n\n",
       "194. n\n",
       "195. n\n",
       "196. n\n",
       "197. n\n",
       "198. n\n",
       "199. n\n",
       "200. y\n",
       "201. ⋯\n",
       "202. n\n",
       "203. n\n",
       "204. y\n",
       "205. y\n",
       "206. n\n",
       "207. n\n",
       "208. y\n",
       "209. n\n",
       "210. n\n",
       "211. y\n",
       "212. y\n",
       "213. n\n",
       "214. n\n",
       "215. NA\n",
       "216. y\n",
       "217. n\n",
       "218. n\n",
       "219. y\n",
       "220. n\n",
       "221. y\n",
       "222. y\n",
       "223. n\n",
       "224. n\n",
       "225. n\n",
       "226. y\n",
       "227. y\n",
       "228. y\n",
       "229. y\n",
       "230. y\n",
       "231. y\n",
       "232. y\n",
       "233. n\n",
       "234. y\n",
       "235. y\n",
       "236. y\n",
       "237. y\n",
       "238. n\n",
       "239. y\n",
       "240. n\n",
       "241. y\n",
       "242. n\n",
       "243. n\n",
       "244. n\n",
       "245. n\n",
       "246. n\n",
       "247. n\n",
       "248. y\n",
       "249. y\n",
       "250. n\n",
       "251. n\n",
       "252. n\n",
       "253. n\n",
       "254. y\n",
       "255. y\n",
       "256. y\n",
       "257. y\n",
       "258. y\n",
       "259. y\n",
       "260. y\n",
       "261. n\n",
       "262. n\n",
       "263. n\n",
       "264. y\n",
       "265. n\n",
       "266. n\n",
       "267. n\n",
       "268. n\n",
       "269. n\n",
       "270. n\n",
       "271. n\n",
       "272. n\n",
       "273. n\n",
       "274. y\n",
       "275. n\n",
       "276. y\n",
       "277. n\n",
       "278. n\n",
       "279. y\n",
       "280. n\n",
       "281. n\n",
       "282. n\n",
       "283. n\n",
       "284. y\n",
       "285. n\n",
       "286. y\n",
       "287. n\n",
       "288. y\n",
       "289. y\n",
       "290. y\n",
       "291. n\n",
       "292. n\n",
       "293. y\n",
       "294. n\n",
       "295. y\n",
       "296. y\n",
       "297. n\n",
       "298. y\n",
       "299. y\n",
       "300. n\n",
       "301. n\n",
       "302. n\n",
       "303. n\n",
       "304. y\n",
       "305. y\n",
       "306. y\n",
       "307. n\n",
       "308. n\n",
       "309. n\n",
       "310. n\n",
       "311. n\n",
       "312. n\n",
       "313. n\n",
       "314. y\n",
       "315. y\n",
       "316. n\n",
       "317. n\n",
       "318. n\n",
       "319. n\n",
       "320. n\n",
       "321. n\n",
       "322. y\n",
       "323. n\n",
       "324. n\n",
       "325. y\n",
       "326. n\n",
       "327. y\n",
       "328. y\n",
       "329. y\n",
       "330. y\n",
       "331. y\n",
       "332. n\n",
       "333. y\n",
       "334. y\n",
       "335. n\n",
       "336. n\n",
       "337. y\n",
       "338. y\n",
       "339. n\n",
       "340. n\n",
       "341. n\n",
       "342. n\n",
       "343. y\n",
       "344. n\n",
       "345. n\n",
       "346. n\n",
       "347. y\n",
       "348. y\n",
       "349. y\n",
       "350. y\n",
       "351. y\n",
       "352. y\n",
       "353. n\n",
       "354. y\n",
       "355. n\n",
       "356. y\n",
       "357. NA\n",
       "358. y\n",
       "359. y\n",
       "360. NA\n",
       "361. y\n",
       "362. y\n",
       "363. y\n",
       "364. y\n",
       "365. n\n",
       "366. n\n",
       "367. n\n",
       "368. n\n",
       "369. NA\n",
       "370. n\n",
       "371. y\n",
       "372. n\n",
       "373. y\n",
       "374. n\n",
       "375. y\n",
       "376. n\n",
       "377. n\n",
       "378. y\n",
       "379. n\n",
       "380. y\n",
       "381. y\n",
       "382. n\n",
       "383. y\n",
       "384. y\n",
       "385. y\n",
       "386. y\n",
       "387. y\n",
       "388. n\n",
       "389. n\n",
       "390. n\n",
       "391. n\n",
       "392. n\n",
       "393. y\n",
       "394. n\n",
       "395. NA\n",
       "396. y\n",
       "397. n\n",
       "398. n\n",
       "399. n\n",
       "400. n\n",
       "401. n\n",
       "\n",
       "\n",
       "\n",
       "**Levels**: 1. 'n'\n",
       "2. 'NA'\n",
       "3. 'y'\n",
       "\n",
       "\n"
      ],
      "text/plain": [
       "  [1] n  n  NA n  y  n  n  n  n  y  n  n  n  y  n  n  y  y  n  y  y  y  y  y  y \n",
       " [26] y  y  y  y  y  n  y  y  n  y  n  y  y  n  y  y  y  y  y  y  y  y  y  y  n \n",
       " [51] y  n  y  y  y  n  n  n  n  n  y  n  y  y  y  y  n  n  y  y  y  y  y  y  y \n",
       " [76] n  n  n  y  n  y  y  n  n  n  n  n  n  n  n  y  y  y  y  y  y  n  y  y  n \n",
       "[101] y  y  y  y  NA y  n  n  y  y  n  n  n  n  y  n  y  y  n  n  n  n  n  y  n \n",
       "[126] n  n  n  n  NA y  n  n  n  n  n  n  n  n  y  n  n  n  NA n  n  n  n  n  n \n",
       "[151] y  y  n  n  n  y  y  n  n  n  n  n  n  n  y  n  y  y  n  y  y  n  n  n  y \n",
       "[176] n  n  n  NA y  NA n  y  NA n  y  n  y  y  y  n  n  n  n  n  n  n  n  n  y \n",
       "[201] n  y  y  y  n  n  n  y  n  y  n  n  n  n  y  n  y  n  y  n  n  n  y  n  n \n",
       "[226] n  n  y  n  n  n  n  n  n  n  n  n  y  y  n  n  y  n  n  y  y  n  n  NA y \n",
       "[251] n  n  y  n  y  y  n  n  n  y  y  y  y  y  y  y  n  y  y  y  y  n  y  n  y \n",
       "[276] n  n  n  n  n  n  y  y  n  n  n  n  y  y  y  y  y  y  y  n  n  n  y  n  n \n",
       "[301] n  n  n  n  n  n  n  y  n  y  n  n  y  n  n  n  n  y  n  y  n  y  y  y  n \n",
       "[326] n  y  n  y  y  n  y  y  n  n  n  n  y  y  y  n  n  n  n  n  n  n  y  y  n \n",
       "[351] n  n  n  n  n  y  n  n  y  n  y  y  y  y  y  n  y  y  n  n  y  y  n  n  n \n",
       "[376] n  y  n  n  n  y  y  y  y  y  y  n  y  n  y  NA y  y  NA y  y  y  y  n  n \n",
       "[401] n  n  NA n  y  n  y  n  y  n  n  y  n  y  y  n  y  y  y  y  y  n  n  n  n \n",
       "[426] n  y  n  NA y  n  n  n  n  n \n",
       "Levels: n NA y"
      ]
     },
     "metadata": {},
     "output_type": "display_data"
    }
   ],
   "source": [
    "#dados1[[coluna]] retorna o vetor específico associado à coluna chamada\n",
    "dados1[['Bebês com Deficiência']]"
   ]
  },
  {
   "cell_type": "markdown",
   "id": "19ef7571",
   "metadata": {},
   "source": [
    "### Modelos"
   ]
  },
  {
   "cell_type": "code",
   "execution_count": 30,
   "id": "832d7dda",
   "metadata": {},
   "outputs": [],
   "source": [
    "#Removendo valores ausentes\n",
    "dados2 <- na.omit(dados)"
   ]
  },
  {
   "cell_type": "code",
   "execution_count": 31,
   "id": "b1c160bd",
   "metadata": {},
   "outputs": [
    {
     "data": {
      "text/html": [
       "0"
      ],
      "text/latex": [
       "0"
      ],
      "text/markdown": [
       "0"
      ],
      "text/plain": [
       "[1] 0"
      ]
     },
     "metadata": {},
     "output_type": "display_data"
    },
    {
     "data": {
      "text/html": [
       "<style>\n",
       ".list-inline {list-style: none; margin:0; padding: 0}\n",
       ".list-inline>li {display: inline-block}\n",
       ".list-inline>li:not(:last-child)::after {content: \"\\00b7\"; padding: 0 .5ex}\n",
       "</style>\n",
       "<ol class=list-inline><li>232</li><li>17</li></ol>\n"
      ],
      "text/latex": [
       "\\begin{enumerate*}\n",
       "\\item 232\n",
       "\\item 17\n",
       "\\end{enumerate*}\n"
      ],
      "text/markdown": [
       "1. 232\n",
       "2. 17\n",
       "\n",
       "\n"
      ],
      "text/plain": [
       "[1] 232  17"
      ]
     },
     "metadata": {},
     "output_type": "display_data"
    }
   ],
   "source": [
    "#Somando valores ausentes\n",
    "sum(is.na(dados2))\n",
    "dim(dados2)"
   ]
  },
  {
   "cell_type": "code",
   "execution_count": 32,
   "id": "755e8388",
   "metadata": {},
   "outputs": [
    {
     "name": "stderr",
     "output_type": "stream",
     "text": [
      "Warning message:\n",
      "\"package 'caTools' was built under R version 4.2.3\"\n"
     ]
    }
   ],
   "source": [
    "library(caTools)"
   ]
  },
  {
   "cell_type": "code",
   "execution_count": 33,
   "id": "a076c902",
   "metadata": {},
   "outputs": [],
   "source": [
    "# Dividindo os dados em treino e teste com base na variável class\n",
    "##80% dos dados salvo em amostra\n",
    "amostra <- sample.split(dados2$Class, SplitRatio = 0.80)"
   ]
  },
  {
   "cell_type": "code",
   "execution_count": 34,
   "id": "09b4efda",
   "metadata": {},
   "outputs": [
    {
     "data": {
      "text/html": [
       "<style>\n",
       ".list-inline {list-style: none; margin:0; padding: 0}\n",
       ".list-inline>li {display: inline-block}\n",
       ".list-inline>li:not(:last-child)::after {content: \"\\00b7\"; padding: 0 .5ex}\n",
       "</style>\n",
       "<ol class=list-inline><li>185</li><li>17</li></ol>\n"
      ],
      "text/latex": [
       "\\begin{enumerate*}\n",
       "\\item 185\n",
       "\\item 17\n",
       "\\end{enumerate*}\n"
      ],
      "text/markdown": [
       "1. 185\n",
       "2. 17\n",
       "\n",
       "\n"
      ],
      "text/plain": [
       "[1] 185  17"
      ]
     },
     "metadata": {},
     "output_type": "display_data"
    }
   ],
   "source": [
    "treino <- subset(dados2, amostra ==TRUE)\n",
    "dim(treino)"
   ]
  },
  {
   "cell_type": "code",
   "execution_count": 35,
   "id": "dfc848e3",
   "metadata": {},
   "outputs": [
    {
     "data": {
      "text/html": [
       "<style>\n",
       ".list-inline {list-style: none; margin:0; padding: 0}\n",
       ".list-inline>li {display: inline-block}\n",
       ".list-inline>li:not(:last-child)::after {content: \"\\00b7\"; padding: 0 .5ex}\n",
       "</style>\n",
       "<ol class=list-inline><li>47</li><li>17</li></ol>\n"
      ],
      "text/latex": [
       "\\begin{enumerate*}\n",
       "\\item 47\n",
       "\\item 17\n",
       "\\end{enumerate*}\n"
      ],
      "text/markdown": [
       "1. 47\n",
       "2. 17\n",
       "\n",
       "\n"
      ],
      "text/plain": [
       "[1] 47 17"
      ]
     },
     "metadata": {},
     "output_type": "display_data"
    }
   ],
   "source": [
    "teste <- subset(dados2, amostra ==FALSE)\n",
    "dim(teste)"
   ]
  },
  {
   "cell_type": "code",
   "execution_count": 36,
   "id": "e04a7b5a",
   "metadata": {},
   "outputs": [
    {
     "name": "stderr",
     "output_type": "stream",
     "text": [
      "Warning message:\n",
      "\"package 'e1071' was built under R version 4.2.3\"\n"
     ]
    }
   ],
   "source": [
    "# Invocando o método NaiveBayes\n",
    "library(e1071)"
   ]
  },
  {
   "cell_type": "code",
   "execution_count": 37,
   "id": "f0bd87a5",
   "metadata": {},
   "outputs": [
    {
     "data": {
      "text/plain": [
       "          Length Class  Mode     \n",
       "apriori    2     table  numeric  \n",
       "tables    16     -none- list     \n",
       "levels     2     -none- character\n",
       "isnumeric 16     -none- logical  \n",
       "call       4     -none- call     "
      ]
     },
     "metadata": {},
     "output_type": "display_data"
    }
   ],
   "source": [
    "# Treine o modelo\n",
    "nb_model <- naiveBayes(Class ~ ., data = treino)\n",
    "summary(nb_model)"
   ]
  },
  {
   "cell_type": "code",
   "execution_count": 38,
   "id": "5256fcdc",
   "metadata": {},
   "outputs": [
    {
     "data": {
      "text/plain": [
       "\n",
       "Naive Bayes Classifier for Discrete Predictors\n",
       "\n",
       "Call:\n",
       "naiveBayes.default(x = X, y = Y, laplace = laplace)\n",
       "\n",
       "A-priori probabilities:\n",
       "Y\n",
       "  democrat republican \n",
       " 0.5351351  0.4648649 \n",
       "\n",
       "Conditional probabilities:\n",
       "            V1\n",
       "Y                    n         y\n",
       "  democrat   0.4242424 0.5757576\n",
       "  republican 0.7790698 0.2209302\n",
       "\n",
       "            V2\n",
       "Y                    n         y\n",
       "  democrat   0.5454545 0.4545455\n",
       "  republican 0.5232558 0.4767442\n",
       "\n",
       "            V3\n",
       "Y                    n         y\n",
       "  democrat   0.1515152 0.8484848\n",
       "  republican 0.8604651 0.1395349\n",
       "\n",
       "            V4\n",
       "Y                     n          y\n",
       "  democrat   0.95959596 0.04040404\n",
       "  republican 0.01162791 0.98837209\n",
       "\n",
       "            V5\n",
       "Y                     n          y\n",
       "  democrat   0.81818182 0.18181818\n",
       "  republican 0.04651163 0.95348837\n",
       "\n",
       "            V6\n",
       "Y                    n         y\n",
       "  democrat   0.5959596 0.4040404\n",
       "  republican 0.1279070 0.8720930\n",
       "\n",
       "            V7\n",
       "Y                    n         y\n",
       "  democrat   0.2121212 0.7878788\n",
       "  republican 0.7093023 0.2906977\n",
       "\n",
       "            V8\n",
       "Y                    n         y\n",
       "  democrat   0.1616162 0.8383838\n",
       "  republican 0.8488372 0.1511628\n",
       "\n",
       "            V9\n",
       "Y                    n         y\n",
       "  democrat   0.1818182 0.8181818\n",
       "  republican 0.8488372 0.1511628\n",
       "\n",
       "            V10\n",
       "Y                    n         y\n",
       "  democrat   0.4444444 0.5555556\n",
       "  republican 0.4651163 0.5348837\n",
       "\n",
       "            V11\n",
       "Y                    n         y\n",
       "  democrat   0.5252525 0.4747475\n",
       "  republican 0.8604651 0.1395349\n",
       "\n",
       "            V12\n",
       "Y                    n         y\n",
       "  democrat   0.8888889 0.1111111\n",
       "  republican 0.1279070 0.8720930\n",
       "\n",
       "            V13\n",
       "Y                    n         y\n",
       "  democrat   0.7272727 0.2727273\n",
       "  republican 0.1279070 0.8720930\n",
       "\n",
       "            V14\n",
       "Y                     n          y\n",
       "  democrat   0.65656566 0.34343434\n",
       "  republican 0.02325581 0.97674419\n",
       "\n",
       "            V15\n",
       "Y                    n         y\n",
       "  democrat   0.3939394 0.6060606\n",
       "  republican 0.8953488 0.1046512\n",
       "\n",
       "            V16\n",
       "Y                     n          y\n",
       "  democrat   0.06060606 0.93939394\n",
       "  republican 0.33720930 0.66279070\n"
      ]
     },
     "metadata": {},
     "output_type": "display_data"
    }
   ],
   "source": [
    "nb_model"
   ]
  },
  {
   "cell_type": "code",
   "execution_count": 39,
   "id": "ddece56f",
   "metadata": {},
   "outputs": [],
   "source": [
    "# Faça as Previsões\n",
    "previsao <- predict(nb_model, teste[,-1])"
   ]
  },
  {
   "cell_type": "code",
   "execution_count": 40,
   "id": "a4983e57",
   "metadata": {},
   "outputs": [
    {
     "data": {
      "text/plain": [
       "            true\n",
       "pred         democrat republican\n",
       "  democrat         21          1\n",
       "  republican        4         21"
      ]
     },
     "metadata": {},
     "output_type": "display_data"
    }
   ],
   "source": [
    "# Crie a Confusion matrix\n",
    "table(pred = previsao, true = teste$Class)"
   ]
  },
  {
   "cell_type": "code",
   "execution_count": 41,
   "id": "06d7b705",
   "metadata": {},
   "outputs": [
    {
     "data": {
      "text/html": [
       "0.893617021276596"
      ],
      "text/latex": [
       "0.893617021276596"
      ],
      "text/markdown": [
       "0.893617021276596"
      ],
      "text/plain": [
       "[1] 0.893617"
      ]
     },
     "metadata": {},
     "output_type": "display_data"
    }
   ],
   "source": [
    "# Média\n",
    "mean(previsao == teste$Class)"
   ]
  }
 ],
 "metadata": {
  "kernelspec": {
   "display_name": "R",
   "language": "R",
   "name": "ir"
  },
  "language_info": {
   "codemirror_mode": "r",
   "file_extension": ".r",
   "mimetype": "text/x-r-source",
   "name": "R",
   "pygments_lexer": "r",
   "version": "4.2.2"
  }
 },
 "nbformat": 4,
 "nbformat_minor": 5
}
